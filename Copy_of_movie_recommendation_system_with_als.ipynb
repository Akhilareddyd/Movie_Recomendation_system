{
  "cells": [
    {
      "cell_type": "code",
      "execution_count": null,
      "metadata": {
        "colab": {
          "base_uri": "https://localhost:8080/"
        },
        "id": "9DpHy4nSb7sH",
        "outputId": "34183d4b-8530-43d4-f3ec-01a56667869c"
      },
      "outputs": [
        {
          "output_type": "stream",
          "name": "stdout",
          "text": [
            "Looking in indexes: https://pypi.org/simple, https://us-python.pkg.dev/colab-wheels/public/simple/\n",
            "Collecting ujson\n",
            "  Downloading ujson-5.7.0-cp310-cp310-manylinux_2_17_x86_64.manylinux2014_x86_64.whl (52 kB)\n",
            "\u001b[2K     \u001b[90m━━━━━━━━━━━━━━━━━━━━━━━━━━━━━━━━━━━━━━━━\u001b[0m \u001b[32m52.8/52.8 kB\u001b[0m \u001b[31m2.7 MB/s\u001b[0m eta \u001b[36m0:00:00\u001b[0m\n",
            "\u001b[?25hInstalling collected packages: ujson\n",
            "Successfully installed ujson-5.7.0\n"
          ]
        }
      ],
      "source": [
        "!pip install ujson"
      ]
    },
    {
      "cell_type": "code",
      "execution_count": null,
      "metadata": {
        "colab": {
          "base_uri": "https://localhost:8080/"
        },
        "id": "Yx71DMF4b7sH",
        "outputId": "c15b2242-5fbf-41c3-b75a-4b780f180068"
      },
      "outputs": [
        {
          "output_type": "stream",
          "name": "stdout",
          "text": [
            "env: JOBLIB_TEMP_FOLDER=/tmp\n",
            "Looking in indexes: https://pypi.org/simple, https://us-python.pkg.dev/colab-wheels/public/simple/\n",
            "Collecting pyspark\n",
            "  Downloading pyspark-3.4.0.tar.gz (310.8 MB)\n",
            "\u001b[2K     \u001b[90m━━━━━━━━━━━━━━━━━━━━━━━━━━━━━━━━━━━━━━━\u001b[0m \u001b[32m310.8/310.8 MB\u001b[0m \u001b[31m3.0 MB/s\u001b[0m eta \u001b[36m0:00:00\u001b[0m\n",
            "\u001b[?25h  Preparing metadata (setup.py) ... \u001b[?25l\u001b[?25hdone\n",
            "Requirement already satisfied: py4j==0.10.9.7 in /usr/local/lib/python3.10/dist-packages (from pyspark) (0.10.9.7)\n",
            "Building wheels for collected packages: pyspark\n",
            "  Building wheel for pyspark (setup.py) ... \u001b[?25l\u001b[?25hdone\n",
            "  Created wheel for pyspark: filename=pyspark-3.4.0-py2.py3-none-any.whl size=311317145 sha256=d30251e86b053fa4b28b319cb3d87ca9164c132d8bd4b5d37f1f0fc7b4b86403\n",
            "  Stored in directory: /root/.cache/pip/wheels/7b/1b/4b/3363a1d04368e7ff0d408e57ff57966fcdf00583774e761327\n",
            "Successfully built pyspark\n",
            "Installing collected packages: pyspark\n",
            "Successfully installed pyspark-3.4.0\n"
          ]
        }
      ],
      "source": [
        "%env JOBLIB_TEMP_FOLDER=/tmp\n",
        "!pip install pyspark"
      ]
    },
    {
      "cell_type": "markdown",
      "source": [
        "# Installing All the necessary Dependency"
      ],
      "metadata": {
        "id": "M_j0HKG94eVX"
      }
    },
    {
      "cell_type": "code",
      "source": [
        "!pip install pyspark"
      ],
      "metadata": {
        "colab": {
          "base_uri": "https://localhost:8080/"
        },
        "id": "NCynGDry8sYR",
        "outputId": "6e43e3d6-a972-4f5b-b055-cce5e167d7eb"
      },
      "execution_count": null,
      "outputs": [
        {
          "output_type": "stream",
          "name": "stdout",
          "text": [
            "Looking in indexes: https://pypi.org/simple, https://us-python.pkg.dev/colab-wheels/public/simple/\n",
            "Requirement already satisfied: pyspark in /usr/local/lib/python3.10/dist-packages (3.4.0)\n",
            "Requirement already satisfied: py4j==0.10.9.7 in /usr/local/lib/python3.10/dist-packages (from pyspark) (0.10.9.7)\n"
          ]
        }
      ]
    },
    {
      "cell_type": "code",
      "execution_count": null,
      "metadata": {
        "colab": {
          "base_uri": "https://localhost:8080/",
          "height": 86
        },
        "id": "-ddbxRXvb7sI",
        "outputId": "d9d8c085-c0ee-4893-b7cf-57c846e51982"
      },
      "outputs": [
        {
          "output_type": "display_data",
          "data": {
            "text/html": [
              "        <script type=\"text/javascript\">\n",
              "        window.PlotlyConfig = {MathJaxConfig: 'local'};\n",
              "        if (window.MathJax && window.MathJax.Hub && window.MathJax.Hub.Config) {window.MathJax.Hub.Config({SVG: {font: \"STIX-Web\"}});}\n",
              "        if (typeof require !== 'undefined') {\n",
              "        require.undef(\"plotly\");\n",
              "        requirejs.config({\n",
              "            paths: {\n",
              "                'plotly': ['https://cdn.plot.ly/plotly-2.18.2.min']\n",
              "            }\n",
              "        });\n",
              "        require(['plotly'], function(Plotly) {\n",
              "            window._Plotly = Plotly;\n",
              "        });\n",
              "        }\n",
              "        </script>\n",
              "        "
            ]
          },
          "metadata": {}
        },
        {
          "output_type": "stream",
          "name": "stderr",
          "text": [
            "/usr/local/lib/python3.10/dist-packages/altair/vega/v5/__init__.py:18: AltairDeprecationWarning:\n",
            "\n",
            "The module altair.vega.v5 is deprecated and will be removed in Altair 5.\n",
            "\n"
          ]
        }
      ],
      "source": [
        "import numpy as np\n",
        "import pandas as pd\n",
        "pd.set_option('display.max_columns', 8)\n",
        "import os\n",
        "import gc\n",
        "#import ujson as json\n",
        "import matplotlib.pyplot as plt\n",
        "%matplotlib inline\n",
        "import matplotlib.patches as patches\n",
        "import seaborn as sns\n",
        "\n",
        "import plotly as py\n",
        "import plotly.express as px\n",
        "import plotly.graph_objs as go\n",
        "from plotly.subplots import make_subplots\n",
        "from plotly.offline import download_plotlyjs\n",
        "from plotly.offline import init_notebook_mode\n",
        "from plotly.offline import plot,iplot\n",
        "\n",
        "init_notebook_mode(connected=True)\n",
        "\n",
        "import altair as alt\n",
        "from altair.vega import v5\n",
        "from IPython.display import HTML\n",
        "#alt.renderers.enable('notebook')\n",
        "\n",
        "from IPython.display import HTML\n",
        "from IPython.display import Image\n",
        "from IPython.display import display\n",
        "from IPython.core.display import display\n",
        "from IPython.core.display import HTML\n",
        "from IPython.core.interactiveshell import InteractiveShell\n",
        "InteractiveShell.ast_node_interactivity = \"all\"\n",
        "\n",
        "import warnings\n",
        "warnings.filterwarnings('ignore')\n",
        "\n",
        "plt.style.use('seaborn')\n",
        "color_pal = [x['color'] for x in plt.rcParams['axes.prop_cycle']]\n",
        "%config InlineBackend.figure_format = 'svg'\n",
        "th_props = [('font-size', '13px'), ('background-color', 'white'), ('color', '#666666')]\n",
        "td_props = [('font-size', '15px'), ('background-color', 'white')]\n",
        "styles = [dict(selector=\"td\", props=td_props), dict(selector=\"th\", props=th_props)]\n",
        "\n",
        "SMALL_SIZE = 8\n",
        "MEDIUM_SIZE = 10\n",
        "BIGGER_SIZE = 12\n",
        "plt.rc('font', size=SMALL_SIZE)          # controls default text sizes\n",
        "plt.rc('axes', titlesize=SMALL_SIZE)     # fontsize of the axes title\n",
        "plt.rc('axes', labelsize=MEDIUM_SIZE)    # fontsize of the x and y labels\n",
        "plt.rc('xtick', labelsize=SMALL_SIZE)    # fontsize of the tick labels\n",
        "plt.rc('ytick', labelsize=SMALL_SIZE)    # fontsize of the tick labels\n",
        "plt.rc('legend', fontsize=SMALL_SIZE)    # legend fontsize\n",
        "plt.rc('figure', titlesize=BIGGER_SIZE)  # fontsize of the figure title"
      ]
    },
    {
      "cell_type": "code",
      "source": [
        "# using ideas from this kernel: https://www.kaggle.com/notslush/altair-visualization-2018-stackoverflow-survey\n",
        "def prepare_altair():\n",
        "    \"\"\"\n",
        "    Helper function to prepare altair for working.\n",
        "    \"\"\"\n",
        "\n",
        "    vega_url = 'https://cdn.jsdelivr.net/npm/vega@' + v5.SCHEMA_VERSION\n",
        "    vega_lib_url = 'https://cdn.jsdelivr.net/npm/vega-lib'\n",
        "    vega_lite_url = 'https://cdn.jsdelivr.net/npm/vega-lite@' + alt.SCHEMA_VERSION\n",
        "    vega_embed_url = 'https://cdn.jsdelivr.net/npm/vega-embed@3'\n",
        "    noext = \"?noext\"\n",
        "\n",
        "    paths = {\n",
        "        'vega': vega_url + noext,\n",
        "        'vega-lib': vega_lib_url + noext,\n",
        "        'vega-lite': vega_lite_url + noext,\n",
        "        'vega-embed': vega_embed_url + noext\n",
        "    }\n",
        "\n",
        "    workaround = f\"\"\"    requirejs.config({{\n",
        "        baseUrl: 'https://cdn.jsdelivr.net/npm/',\n",
        "        paths: {paths}\n",
        "    }});\n",
        "    \"\"\"\n",
        "\n",
        "    return workaround\n",
        "\n",
        "def add_autoincrement(render_func):\n",
        "    # Keep track of unique <div/> IDs\n",
        "    cache = {}\n",
        "    def wrapped(chart, id=\"vega-chart\", autoincrement=True):\n",
        "        if autoincrement:\n",
        "            if id in cache:\n",
        "                counter = 1 + cache[id]\n",
        "                cache[id] = counter\n",
        "            else:\n",
        "                cache[id] = 0\n",
        "            actual_id = id if cache[id] == 0 else id + '-' + str(cache[id])\n",
        "        else:\n",
        "            if id not in cache:\n",
        "                cache[id] = 0\n",
        "            actual_id = id\n",
        "        return render_func(chart, id=actual_id)\n",
        "    # Cache will stay outside and\n",
        "    return wrapped\n",
        "\n",
        "@add_autoincrement\n",
        "def render(chart, id=\"vega-chart\"):\n",
        "    \"\"\"\n",
        "    Helper function to plot altair visualizations.\n",
        "    \"\"\"\n",
        "    chart_str = \"\"\"\n",
        "    <div id=\"{id}\"></div><script>\n",
        "    require([\"vega-embed\"], function(vg_embed) {{\n",
        "        const spec = {chart};\n",
        "        vg_embed(\"#{id}\", spec, {{defaultStyle: true}}).catch(console.warn);\n",
        "        console.log(\"anything?\");\n",
        "    }});\n",
        "    console.log(\"really...anything?\");\n",
        "    </script>\n",
        "    \"\"\"\n",
        "    return HTML(\n",
        "        chart_str.format(\n",
        "            id=id,\n",
        "            chart=json.dumps(chart) if isinstance(chart, dict) else chart.to_json(indent=None)\n",
        "        )\n",
        "    )\n",
        "\n",
        "# setting up altair\n",
        "workaround = prepare_altair()\n",
        "HTML(\"\".join((\n",
        "    \"<script>\",\n",
        "    workaround,\n",
        "    \"</script>\",\n",
        ")))"
      ],
      "metadata": {
        "colab": {
          "base_uri": "https://localhost:8080/",
          "height": 17
        },
        "id": "1valsnDeUNBQ",
        "outputId": "880e9f8c-a716-4af7-e4e8-aca933da960e"
      },
      "execution_count": null,
      "outputs": [
        {
          "output_type": "execute_result",
          "data": {
            "text/plain": [
              "<IPython.core.display.HTML object>"
            ],
            "text/html": [
              "<script>    requirejs.config({\n",
              "        baseUrl: 'https://cdn.jsdelivr.net/npm/',\n",
              "        paths: {'vega': 'https://cdn.jsdelivr.net/npm/vega@v5.10.0?noext', 'vega-lib': 'https://cdn.jsdelivr.net/npm/vega-lib?noext', 'vega-lite': 'https://cdn.jsdelivr.net/npm/vega-lite@v4.17.0?noext', 'vega-embed': 'https://cdn.jsdelivr.net/npm/vega-embed@3?noext'}\n",
              "    });\n",
              "    </script>"
            ]
          },
          "metadata": {},
          "execution_count": 7
        }
      ]
    },
    {
      "cell_type": "code",
      "source": [],
      "metadata": {
        "id": "zi4iwq6g6SYI"
      },
      "execution_count": null,
      "outputs": []
    },
    {
      "cell_type": "markdown",
      "metadata": {
        "id": "fCjiz8R5b7sJ"
      },
      "source": [
        "It's time to take a look in all files provided by the dataset."
      ]
    },
    {
      "cell_type": "markdown",
      "source": [
        "# Loading Data Into Collab"
      ],
      "metadata": {
        "id": "soQ8xohB6MC_"
      }
    },
    {
      "cell_type": "code",
      "execution_count": null,
      "metadata": {
        "colab": {
          "base_uri": "https://localhost:8080/"
        },
        "id": "LLcq_RobdVuK",
        "outputId": "66930e14-e6a9-4b7c-9417-a07a4220a0f8"
      },
      "outputs": [
        {
          "output_type": "stream",
          "name": "stdout",
          "text": [
            "Mounted at /gdrive\n",
            "/gdrive/MyDrive/COMPSCI 532/Project\n"
          ]
        }
      ],
      "source": [
        "from google.colab import drive\n",
        "drive.mount('/gdrive')\n",
        "%cd /gdrive/MyDrive/'COMPSCI 532'/Project/"
      ]
    },
    {
      "cell_type": "code",
      "source": [
        "%ls"
      ],
      "metadata": {
        "colab": {
          "base_uri": "https://localhost:8080/"
        },
        "id": "l2BUoViwI1iX",
        "outputId": "710bd3e4-3835-4d0d-da1c-54acf113d603"
      },
      "execution_count": null,
      "outputs": [
        {
          "output_type": "stream",
          "name": "stdout",
          "text": [
            "'archive (1).zip'           'Missing Values count.jpeg'\n",
            " \u001b[0m\u001b[01;34mdata\u001b[0m/                      'Missing values.jpeg'\n",
            " histogram.png              'pie chat.jpeg'\n",
            " hs_err_pid1064.log         'relase stats .png'\n",
            " links_missing.csv          'releasegraph .png'\n",
            "'links missing values.png'  'user_stats .png'\n",
            " metadata_missing.csv       'user word cloud .jpeg'\n",
            "'metadata missng.png'       'word cluld .jpeg'\n"
          ]
        }
      ]
    },
    {
      "cell_type": "code",
      "execution_count": null,
      "metadata": {
        "id": "tNkJ3aPNd_Iu"
      },
      "outputs": [],
      "source": [
        "DATA_PATH = './data/'"
      ]
    },
    {
      "cell_type": "code",
      "execution_count": null,
      "metadata": {
        "colab": {
          "base_uri": "https://localhost:8080/"
        },
        "id": "OM6k7DwJb7sJ",
        "outputId": "469ad32d-3b0a-4be1-93ba-bae8b346d9e0"
      },
      "outputs": [
        {
          "output_type": "stream",
          "name": "stdout",
          "text": [
            "Data Files in Directory\n",
            "['credits.csv', 'movies_metadata.csv', 'links_small.csv', 'keywords.csv', 'links.csv', 'ratings.csv', 'ratings_small.csv']\n"
          ]
        }
      ],
      "source": [
        "print('Data Files in Directory')\n",
        "print(os.listdir(DATA_PATH))"
      ]
    },
    {
      "cell_type": "markdown",
      "metadata": {
        "id": "Wz1gaTnEdNXx"
      },
      "source": [
        "# Data Pre-Processing"
      ]
    },
    {
      "cell_type": "code",
      "source": [
        "\n",
        "import pyspark\n",
        "import pyspark.sql.functions as sql_func\n",
        "from pyspark.sql.types import *\n",
        "from pyspark.ml.recommendation import ALS, ALSModel\n",
        "from pyspark.context import SparkContext\n",
        "from pyspark.sql.session import SparkSession\n",
        "from pyspark.mllib.evaluation import RegressionMetrics, RankingMetrics\n",
        "from pyspark.ml.evaluation import RegressionEvaluator\n",
        "\n",
        "sc = SparkContext('local')\n",
        "spark = SparkSession(sc)"
      ],
      "metadata": {
        "id": "3mEtXTs16YhH"
      },
      "execution_count": null,
      "outputs": []
    },
    {
      "cell_type": "code",
      "execution_count": null,
      "metadata": {
        "id": "Omo2JEvLb7sK"
      },
      "outputs": [],
      "source": [
        "ratings = pd.read_csv(DATA_PATH+'ratings.csv')\n",
        "links = pd.read_csv(DATA_PATH+'links.csv')\n",
        "metadata = pd.read_csv(DATA_PATH+'movies_metadata.csv')"
      ]
    },
    {
      "cell_type": "code",
      "source": [
        "credits = pd.read_csv(DATA_PATH+'credits.csv')\n",
        "keywords = pd.read_csv(DATA_PATH+'keywords.csv')"
      ],
      "metadata": {
        "id": "vYH4CTySb6rO"
      },
      "execution_count": null,
      "outputs": []
    },
    {
      "cell_type": "code",
      "execution_count": null,
      "metadata": {
        "id": "2IxaUkX2b7sK"
      },
      "outputs": [],
      "source": [
        "# Function that I wrote to print all relevant infos in dataset\n",
        "import io\n",
        "\n",
        "def get_df_info(df, name='ratings'):\n",
        "    display(df.head(3))\n",
        "    buf = io.StringIO()\n",
        "    df.info(buf=buf)\n",
        "    info = buf.getvalue().split('\\n')[-2]\n",
        "    display(f'Number of Rows: {df.shape[0]}, Number of Columns: {df.shape[1]}')\n",
        "    display('Data Types')\n",
        "    df_types = df.dtypes\n",
        "    df_types = pd.DataFrame({'Column':df_types.index, 'Type':df_types.values})\n",
        "    display(df_types)\n",
        "    display(info)\n",
        "    missing = df.isnull().sum().sort_values(ascending=False)\n",
        "    display('Missing Values')\n",
        "    if missing.values.sum() == 0:\n",
        "        display('No Missing Values')\n",
        "    else:\n",
        "        missing = missing[missing > 0]\n",
        "        missing = pd.DataFrame({'Column' : missing.index, 'Missing Values' : missing.values})\n",
        "        missing.to_csv(f'{name}_missing.csv', sep='\\t')\n",
        "        display(missing)"
      ]
    },
    {
      "cell_type": "markdown",
      "metadata": {
        "id": "L3obXVJwb7sK"
      },
      "source": [
        "<a id='bkground'></a>\n",
        "<div class=\"h3\"><center>Ratings Content</center></div>"
      ]
    },
    {
      "cell_type": "code",
      "source": [],
      "metadata": {
        "id": "Q4tPsP1GYNDn"
      },
      "execution_count": null,
      "outputs": []
    },
    {
      "cell_type": "code",
      "source": [
        "data_schema = StructType([\n",
        "    StructField('movieId', IntegerType(), False),\n",
        "    StructField('imdbId', IntegerType(), False),\n",
        "    StructField('tmdbId', IntegerType(), False)\n",
        "])\n",
        "\n",
        "final_stat = spark.read.csv(\n",
        "    DATA_PATH + 'links.csv', header=True, schema=data_schema\n",
        ")\n",
        "\n",
        "links1 = (final_stat.select(\n",
        "    'movieId',\n",
        "    'imdbId',\n",
        "    'tmdbId'\n",
        "))"
      ],
      "metadata": {
        "id": "k47eNdQmX1JG"
      },
      "execution_count": null,
      "outputs": []
    },
    {
      "cell_type": "code",
      "source": [
        "from pyspark.sql.functions import col"
      ],
      "metadata": {
        "id": "-iIOCny8YSuO"
      },
      "execution_count": null,
      "outputs": []
    },
    {
      "cell_type": "code",
      "source": [
        "links1.filter(\"tmdbId is null\").show()"
      ],
      "metadata": {
        "id": "DyRN2VlSaMAd",
        "colab": {
          "base_uri": "https://localhost:8080/"
        },
        "outputId": "3ce4076c-38e0-4c5b-aab3-9c18f7b65b08"
      },
      "execution_count": null,
      "outputs": [
        {
          "output_type": "stream",
          "name": "stdout",
          "text": [
            "+-------+------+------+\n",
            "|movieId|imdbId|tmdbId|\n",
            "+-------+------+------+\n",
            "|    142| 94878|  null|\n",
            "|    604|115978|  null|\n",
            "|    720|118114|  null|\n",
            "|    721|114103|  null|\n",
            "|    730|125877|  null|\n",
            "|    769|116992|  null|\n",
            "|    770| 38426|  null|\n",
            "|    791|113610|  null|\n",
            "|    821|112746|  null|\n",
            "|    859|116536|  null|\n",
            "|   1107|102336|  null|\n",
            "|   1122|114147|  null|\n",
            "|   1133|111357|  null|\n",
            "|   1141|113328|  null|\n",
            "|   1142|116403|  null|\n",
            "|   1155| 92281|  null|\n",
            "|   1166|113031|  null|\n",
            "|   1316|115548|  null|\n",
            "|   1421|113212|  null|\n",
            "|   1434|123281|  null|\n",
            "+-------+------+------+\n",
            "only showing top 20 rows\n",
            "\n"
          ]
        }
      ]
    },
    {
      "cell_type": "code",
      "source": [
        "links1.filter(\"tmdbId is null\").count()"
      ],
      "metadata": {
        "id": "UdGryFQ2YdW9",
        "colab": {
          "base_uri": "https://localhost:8080/"
        },
        "outputId": "84b55b14-3e40-442f-d23a-4c4e6e4f7153"
      },
      "execution_count": null,
      "outputs": [
        {
          "output_type": "execute_result",
          "data": {
            "text/plain": [
              "219"
            ]
          },
          "metadata": {},
          "execution_count": 19
        }
      ]
    },
    {
      "cell_type": "code",
      "execution_count": null,
      "metadata": {
        "id": "xXBVlHYeb7sK",
        "colab": {
          "base_uri": "https://localhost:8080/",
          "height": 393
        },
        "outputId": "71ab3ec9-e2c7-4d1a-ef5e-1b751f0a579e"
      },
      "outputs": [
        {
          "output_type": "display_data",
          "data": {
            "text/plain": [
              "   userId  movieId  rating   timestamp\n",
              "0       1      110     1.0  1425941529\n",
              "1       1      147     4.5  1425942435\n",
              "2       1      858     5.0  1425941523"
            ],
            "text/html": [
              "\n",
              "  <div id=\"df-c94c1e0b-994e-407c-9ece-9e80e7470afc\">\n",
              "    <div class=\"colab-df-container\">\n",
              "      <div>\n",
              "<style scoped>\n",
              "    .dataframe tbody tr th:only-of-type {\n",
              "        vertical-align: middle;\n",
              "    }\n",
              "\n",
              "    .dataframe tbody tr th {\n",
              "        vertical-align: top;\n",
              "    }\n",
              "\n",
              "    .dataframe thead th {\n",
              "        text-align: right;\n",
              "    }\n",
              "</style>\n",
              "<table border=\"1\" class=\"dataframe\">\n",
              "  <thead>\n",
              "    <tr style=\"text-align: right;\">\n",
              "      <th></th>\n",
              "      <th>userId</th>\n",
              "      <th>movieId</th>\n",
              "      <th>rating</th>\n",
              "      <th>timestamp</th>\n",
              "    </tr>\n",
              "  </thead>\n",
              "  <tbody>\n",
              "    <tr>\n",
              "      <th>0</th>\n",
              "      <td>1</td>\n",
              "      <td>110</td>\n",
              "      <td>1.0</td>\n",
              "      <td>1425941529</td>\n",
              "    </tr>\n",
              "    <tr>\n",
              "      <th>1</th>\n",
              "      <td>1</td>\n",
              "      <td>147</td>\n",
              "      <td>4.5</td>\n",
              "      <td>1425942435</td>\n",
              "    </tr>\n",
              "    <tr>\n",
              "      <th>2</th>\n",
              "      <td>1</td>\n",
              "      <td>858</td>\n",
              "      <td>5.0</td>\n",
              "      <td>1425941523</td>\n",
              "    </tr>\n",
              "  </tbody>\n",
              "</table>\n",
              "</div>\n",
              "      <button class=\"colab-df-convert\" onclick=\"convertToInteractive('df-c94c1e0b-994e-407c-9ece-9e80e7470afc')\"\n",
              "              title=\"Convert this dataframe to an interactive table.\"\n",
              "              style=\"display:none;\">\n",
              "        \n",
              "  <svg xmlns=\"http://www.w3.org/2000/svg\" height=\"24px\"viewBox=\"0 0 24 24\"\n",
              "       width=\"24px\">\n",
              "    <path d=\"M0 0h24v24H0V0z\" fill=\"none\"/>\n",
              "    <path d=\"M18.56 5.44l.94 2.06.94-2.06 2.06-.94-2.06-.94-.94-2.06-.94 2.06-2.06.94zm-11 1L8.5 8.5l.94-2.06 2.06-.94-2.06-.94L8.5 2.5l-.94 2.06-2.06.94zm10 10l.94 2.06.94-2.06 2.06-.94-2.06-.94-.94-2.06-.94 2.06-2.06.94z\"/><path d=\"M17.41 7.96l-1.37-1.37c-.4-.4-.92-.59-1.43-.59-.52 0-1.04.2-1.43.59L10.3 9.45l-7.72 7.72c-.78.78-.78 2.05 0 2.83L4 21.41c.39.39.9.59 1.41.59.51 0 1.02-.2 1.41-.59l7.78-7.78 2.81-2.81c.8-.78.8-2.07 0-2.86zM5.41 20L4 18.59l7.72-7.72 1.47 1.35L5.41 20z\"/>\n",
              "  </svg>\n",
              "      </button>\n",
              "      \n",
              "  <style>\n",
              "    .colab-df-container {\n",
              "      display:flex;\n",
              "      flex-wrap:wrap;\n",
              "      gap: 12px;\n",
              "    }\n",
              "\n",
              "    .colab-df-convert {\n",
              "      background-color: #E8F0FE;\n",
              "      border: none;\n",
              "      border-radius: 50%;\n",
              "      cursor: pointer;\n",
              "      display: none;\n",
              "      fill: #1967D2;\n",
              "      height: 32px;\n",
              "      padding: 0 0 0 0;\n",
              "      width: 32px;\n",
              "    }\n",
              "\n",
              "    .colab-df-convert:hover {\n",
              "      background-color: #E2EBFA;\n",
              "      box-shadow: 0px 1px 2px rgba(60, 64, 67, 0.3), 0px 1px 3px 1px rgba(60, 64, 67, 0.15);\n",
              "      fill: #174EA6;\n",
              "    }\n",
              "\n",
              "    [theme=dark] .colab-df-convert {\n",
              "      background-color: #3B4455;\n",
              "      fill: #D2E3FC;\n",
              "    }\n",
              "\n",
              "    [theme=dark] .colab-df-convert:hover {\n",
              "      background-color: #434B5C;\n",
              "      box-shadow: 0px 1px 3px 1px rgba(0, 0, 0, 0.15);\n",
              "      filter: drop-shadow(0px 1px 2px rgba(0, 0, 0, 0.3));\n",
              "      fill: #FFFFFF;\n",
              "    }\n",
              "  </style>\n",
              "\n",
              "      <script>\n",
              "        const buttonEl =\n",
              "          document.querySelector('#df-c94c1e0b-994e-407c-9ece-9e80e7470afc button.colab-df-convert');\n",
              "        buttonEl.style.display =\n",
              "          google.colab.kernel.accessAllowed ? 'block' : 'none';\n",
              "\n",
              "        async function convertToInteractive(key) {\n",
              "          const element = document.querySelector('#df-c94c1e0b-994e-407c-9ece-9e80e7470afc');\n",
              "          const dataTable =\n",
              "            await google.colab.kernel.invokeFunction('convertToInteractive',\n",
              "                                                     [key], {});\n",
              "          if (!dataTable) return;\n",
              "\n",
              "          const docLinkHtml = 'Like what you see? Visit the ' +\n",
              "            '<a target=\"_blank\" href=https://colab.research.google.com/notebooks/data_table.ipynb>data table notebook</a>'\n",
              "            + ' to learn more about interactive tables.';\n",
              "          element.innerHTML = '';\n",
              "          dataTable['output_type'] = 'display_data';\n",
              "          await google.colab.output.renderOutput(dataTable, element);\n",
              "          const docLink = document.createElement('div');\n",
              "          docLink.innerHTML = docLinkHtml;\n",
              "          element.appendChild(docLink);\n",
              "        }\n",
              "      </script>\n",
              "    </div>\n",
              "  </div>\n",
              "  "
            ]
          },
          "metadata": {}
        },
        {
          "output_type": "display_data",
          "data": {
            "text/plain": [
              "'Number of Rows: 26024289, Number of Columns: 4'"
            ],
            "application/vnd.google.colaboratory.intrinsic+json": {
              "type": "string"
            }
          },
          "metadata": {}
        },
        {
          "output_type": "display_data",
          "data": {
            "text/plain": [
              "'Data Types'"
            ],
            "application/vnd.google.colaboratory.intrinsic+json": {
              "type": "string"
            }
          },
          "metadata": {}
        },
        {
          "output_type": "display_data",
          "data": {
            "text/plain": [
              "      Column     Type\n",
              "0     userId    int64\n",
              "1    movieId    int64\n",
              "2     rating  float64\n",
              "3  timestamp    int64"
            ],
            "text/html": [
              "\n",
              "  <div id=\"df-10f77c66-4fe2-44dc-a805-8073e2055014\">\n",
              "    <div class=\"colab-df-container\">\n",
              "      <div>\n",
              "<style scoped>\n",
              "    .dataframe tbody tr th:only-of-type {\n",
              "        vertical-align: middle;\n",
              "    }\n",
              "\n",
              "    .dataframe tbody tr th {\n",
              "        vertical-align: top;\n",
              "    }\n",
              "\n",
              "    .dataframe thead th {\n",
              "        text-align: right;\n",
              "    }\n",
              "</style>\n",
              "<table border=\"1\" class=\"dataframe\">\n",
              "  <thead>\n",
              "    <tr style=\"text-align: right;\">\n",
              "      <th></th>\n",
              "      <th>Column</th>\n",
              "      <th>Type</th>\n",
              "    </tr>\n",
              "  </thead>\n",
              "  <tbody>\n",
              "    <tr>\n",
              "      <th>0</th>\n",
              "      <td>userId</td>\n",
              "      <td>int64</td>\n",
              "    </tr>\n",
              "    <tr>\n",
              "      <th>1</th>\n",
              "      <td>movieId</td>\n",
              "      <td>int64</td>\n",
              "    </tr>\n",
              "    <tr>\n",
              "      <th>2</th>\n",
              "      <td>rating</td>\n",
              "      <td>float64</td>\n",
              "    </tr>\n",
              "    <tr>\n",
              "      <th>3</th>\n",
              "      <td>timestamp</td>\n",
              "      <td>int64</td>\n",
              "    </tr>\n",
              "  </tbody>\n",
              "</table>\n",
              "</div>\n",
              "      <button class=\"colab-df-convert\" onclick=\"convertToInteractive('df-10f77c66-4fe2-44dc-a805-8073e2055014')\"\n",
              "              title=\"Convert this dataframe to an interactive table.\"\n",
              "              style=\"display:none;\">\n",
              "        \n",
              "  <svg xmlns=\"http://www.w3.org/2000/svg\" height=\"24px\"viewBox=\"0 0 24 24\"\n",
              "       width=\"24px\">\n",
              "    <path d=\"M0 0h24v24H0V0z\" fill=\"none\"/>\n",
              "    <path d=\"M18.56 5.44l.94 2.06.94-2.06 2.06-.94-2.06-.94-.94-2.06-.94 2.06-2.06.94zm-11 1L8.5 8.5l.94-2.06 2.06-.94-2.06-.94L8.5 2.5l-.94 2.06-2.06.94zm10 10l.94 2.06.94-2.06 2.06-.94-2.06-.94-.94-2.06-.94 2.06-2.06.94z\"/><path d=\"M17.41 7.96l-1.37-1.37c-.4-.4-.92-.59-1.43-.59-.52 0-1.04.2-1.43.59L10.3 9.45l-7.72 7.72c-.78.78-.78 2.05 0 2.83L4 21.41c.39.39.9.59 1.41.59.51 0 1.02-.2 1.41-.59l7.78-7.78 2.81-2.81c.8-.78.8-2.07 0-2.86zM5.41 20L4 18.59l7.72-7.72 1.47 1.35L5.41 20z\"/>\n",
              "  </svg>\n",
              "      </button>\n",
              "      \n",
              "  <style>\n",
              "    .colab-df-container {\n",
              "      display:flex;\n",
              "      flex-wrap:wrap;\n",
              "      gap: 12px;\n",
              "    }\n",
              "\n",
              "    .colab-df-convert {\n",
              "      background-color: #E8F0FE;\n",
              "      border: none;\n",
              "      border-radius: 50%;\n",
              "      cursor: pointer;\n",
              "      display: none;\n",
              "      fill: #1967D2;\n",
              "      height: 32px;\n",
              "      padding: 0 0 0 0;\n",
              "      width: 32px;\n",
              "    }\n",
              "\n",
              "    .colab-df-convert:hover {\n",
              "      background-color: #E2EBFA;\n",
              "      box-shadow: 0px 1px 2px rgba(60, 64, 67, 0.3), 0px 1px 3px 1px rgba(60, 64, 67, 0.15);\n",
              "      fill: #174EA6;\n",
              "    }\n",
              "\n",
              "    [theme=dark] .colab-df-convert {\n",
              "      background-color: #3B4455;\n",
              "      fill: #D2E3FC;\n",
              "    }\n",
              "\n",
              "    [theme=dark] .colab-df-convert:hover {\n",
              "      background-color: #434B5C;\n",
              "      box-shadow: 0px 1px 3px 1px rgba(0, 0, 0, 0.15);\n",
              "      filter: drop-shadow(0px 1px 2px rgba(0, 0, 0, 0.3));\n",
              "      fill: #FFFFFF;\n",
              "    }\n",
              "  </style>\n",
              "\n",
              "      <script>\n",
              "        const buttonEl =\n",
              "          document.querySelector('#df-10f77c66-4fe2-44dc-a805-8073e2055014 button.colab-df-convert');\n",
              "        buttonEl.style.display =\n",
              "          google.colab.kernel.accessAllowed ? 'block' : 'none';\n",
              "\n",
              "        async function convertToInteractive(key) {\n",
              "          const element = document.querySelector('#df-10f77c66-4fe2-44dc-a805-8073e2055014');\n",
              "          const dataTable =\n",
              "            await google.colab.kernel.invokeFunction('convertToInteractive',\n",
              "                                                     [key], {});\n",
              "          if (!dataTable) return;\n",
              "\n",
              "          const docLinkHtml = 'Like what you see? Visit the ' +\n",
              "            '<a target=\"_blank\" href=https://colab.research.google.com/notebooks/data_table.ipynb>data table notebook</a>'\n",
              "            + ' to learn more about interactive tables.';\n",
              "          element.innerHTML = '';\n",
              "          dataTable['output_type'] = 'display_data';\n",
              "          await google.colab.output.renderOutput(dataTable, element);\n",
              "          const docLink = document.createElement('div');\n",
              "          docLink.innerHTML = docLinkHtml;\n",
              "          element.appendChild(docLink);\n",
              "        }\n",
              "      </script>\n",
              "    </div>\n",
              "  </div>\n",
              "  "
            ]
          },
          "metadata": {}
        },
        {
          "output_type": "display_data",
          "data": {
            "text/plain": [
              "'memory usage: 794.2 MB'"
            ],
            "application/vnd.google.colaboratory.intrinsic+json": {
              "type": "string"
            }
          },
          "metadata": {}
        },
        {
          "output_type": "display_data",
          "data": {
            "text/plain": [
              "'Missing Values'"
            ],
            "application/vnd.google.colaboratory.intrinsic+json": {
              "type": "string"
            }
          },
          "metadata": {}
        },
        {
          "output_type": "display_data",
          "data": {
            "text/plain": [
              "'No Missing Values'"
            ],
            "application/vnd.google.colaboratory.intrinsic+json": {
              "type": "string"
            }
          },
          "metadata": {}
        }
      ],
      "source": [
        "get_df_info(ratings, name='ratings')"
      ]
    },
    {
      "cell_type": "markdown",
      "metadata": {
        "id": "Fy_a9jnsb7sK"
      },
      "source": [
        "<a id='bkground'></a>\n",
        "<div class=\"h3\"><center>Links Content</center></div>"
      ]
    },
    {
      "cell_type": "code",
      "execution_count": null,
      "metadata": {
        "id": "GpSc4X0Lb7sL",
        "colab": {
          "base_uri": "https://localhost:8080/",
          "height": 407
        },
        "outputId": "bc8b58f9-db06-473d-a646-2b351fe1521c"
      },
      "outputs": [
        {
          "output_type": "display_data",
          "data": {
            "text/plain": [
              "   movieId  imdbId   tmdbId\n",
              "0        1  114709    862.0\n",
              "1        2  113497   8844.0\n",
              "2        3  113228  15602.0"
            ],
            "text/html": [
              "\n",
              "  <div id=\"df-c0384478-f40a-4eca-a06c-fa0da1fb727e\">\n",
              "    <div class=\"colab-df-container\">\n",
              "      <div>\n",
              "<style scoped>\n",
              "    .dataframe tbody tr th:only-of-type {\n",
              "        vertical-align: middle;\n",
              "    }\n",
              "\n",
              "    .dataframe tbody tr th {\n",
              "        vertical-align: top;\n",
              "    }\n",
              "\n",
              "    .dataframe thead th {\n",
              "        text-align: right;\n",
              "    }\n",
              "</style>\n",
              "<table border=\"1\" class=\"dataframe\">\n",
              "  <thead>\n",
              "    <tr style=\"text-align: right;\">\n",
              "      <th></th>\n",
              "      <th>movieId</th>\n",
              "      <th>imdbId</th>\n",
              "      <th>tmdbId</th>\n",
              "    </tr>\n",
              "  </thead>\n",
              "  <tbody>\n",
              "    <tr>\n",
              "      <th>0</th>\n",
              "      <td>1</td>\n",
              "      <td>114709</td>\n",
              "      <td>862.0</td>\n",
              "    </tr>\n",
              "    <tr>\n",
              "      <th>1</th>\n",
              "      <td>2</td>\n",
              "      <td>113497</td>\n",
              "      <td>8844.0</td>\n",
              "    </tr>\n",
              "    <tr>\n",
              "      <th>2</th>\n",
              "      <td>3</td>\n",
              "      <td>113228</td>\n",
              "      <td>15602.0</td>\n",
              "    </tr>\n",
              "  </tbody>\n",
              "</table>\n",
              "</div>\n",
              "      <button class=\"colab-df-convert\" onclick=\"convertToInteractive('df-c0384478-f40a-4eca-a06c-fa0da1fb727e')\"\n",
              "              title=\"Convert this dataframe to an interactive table.\"\n",
              "              style=\"display:none;\">\n",
              "        \n",
              "  <svg xmlns=\"http://www.w3.org/2000/svg\" height=\"24px\"viewBox=\"0 0 24 24\"\n",
              "       width=\"24px\">\n",
              "    <path d=\"M0 0h24v24H0V0z\" fill=\"none\"/>\n",
              "    <path d=\"M18.56 5.44l.94 2.06.94-2.06 2.06-.94-2.06-.94-.94-2.06-.94 2.06-2.06.94zm-11 1L8.5 8.5l.94-2.06 2.06-.94-2.06-.94L8.5 2.5l-.94 2.06-2.06.94zm10 10l.94 2.06.94-2.06 2.06-.94-2.06-.94-.94-2.06-.94 2.06-2.06.94z\"/><path d=\"M17.41 7.96l-1.37-1.37c-.4-.4-.92-.59-1.43-.59-.52 0-1.04.2-1.43.59L10.3 9.45l-7.72 7.72c-.78.78-.78 2.05 0 2.83L4 21.41c.39.39.9.59 1.41.59.51 0 1.02-.2 1.41-.59l7.78-7.78 2.81-2.81c.8-.78.8-2.07 0-2.86zM5.41 20L4 18.59l7.72-7.72 1.47 1.35L5.41 20z\"/>\n",
              "  </svg>\n",
              "      </button>\n",
              "      \n",
              "  <style>\n",
              "    .colab-df-container {\n",
              "      display:flex;\n",
              "      flex-wrap:wrap;\n",
              "      gap: 12px;\n",
              "    }\n",
              "\n",
              "    .colab-df-convert {\n",
              "      background-color: #E8F0FE;\n",
              "      border: none;\n",
              "      border-radius: 50%;\n",
              "      cursor: pointer;\n",
              "      display: none;\n",
              "      fill: #1967D2;\n",
              "      height: 32px;\n",
              "      padding: 0 0 0 0;\n",
              "      width: 32px;\n",
              "    }\n",
              "\n",
              "    .colab-df-convert:hover {\n",
              "      background-color: #E2EBFA;\n",
              "      box-shadow: 0px 1px 2px rgba(60, 64, 67, 0.3), 0px 1px 3px 1px rgba(60, 64, 67, 0.15);\n",
              "      fill: #174EA6;\n",
              "    }\n",
              "\n",
              "    [theme=dark] .colab-df-convert {\n",
              "      background-color: #3B4455;\n",
              "      fill: #D2E3FC;\n",
              "    }\n",
              "\n",
              "    [theme=dark] .colab-df-convert:hover {\n",
              "      background-color: #434B5C;\n",
              "      box-shadow: 0px 1px 3px 1px rgba(0, 0, 0, 0.15);\n",
              "      filter: drop-shadow(0px 1px 2px rgba(0, 0, 0, 0.3));\n",
              "      fill: #FFFFFF;\n",
              "    }\n",
              "  </style>\n",
              "\n",
              "      <script>\n",
              "        const buttonEl =\n",
              "          document.querySelector('#df-c0384478-f40a-4eca-a06c-fa0da1fb727e button.colab-df-convert');\n",
              "        buttonEl.style.display =\n",
              "          google.colab.kernel.accessAllowed ? 'block' : 'none';\n",
              "\n",
              "        async function convertToInteractive(key) {\n",
              "          const element = document.querySelector('#df-c0384478-f40a-4eca-a06c-fa0da1fb727e');\n",
              "          const dataTable =\n",
              "            await google.colab.kernel.invokeFunction('convertToInteractive',\n",
              "                                                     [key], {});\n",
              "          if (!dataTable) return;\n",
              "\n",
              "          const docLinkHtml = 'Like what you see? Visit the ' +\n",
              "            '<a target=\"_blank\" href=https://colab.research.google.com/notebooks/data_table.ipynb>data table notebook</a>'\n",
              "            + ' to learn more about interactive tables.';\n",
              "          element.innerHTML = '';\n",
              "          dataTable['output_type'] = 'display_data';\n",
              "          await google.colab.output.renderOutput(dataTable, element);\n",
              "          const docLink = document.createElement('div');\n",
              "          docLink.innerHTML = docLinkHtml;\n",
              "          element.appendChild(docLink);\n",
              "        }\n",
              "      </script>\n",
              "    </div>\n",
              "  </div>\n",
              "  "
            ]
          },
          "metadata": {}
        },
        {
          "output_type": "display_data",
          "data": {
            "text/plain": [
              "'Number of Rows: 45843, Number of Columns: 3'"
            ],
            "application/vnd.google.colaboratory.intrinsic+json": {
              "type": "string"
            }
          },
          "metadata": {}
        },
        {
          "output_type": "display_data",
          "data": {
            "text/plain": [
              "'Data Types'"
            ],
            "application/vnd.google.colaboratory.intrinsic+json": {
              "type": "string"
            }
          },
          "metadata": {}
        },
        {
          "output_type": "display_data",
          "data": {
            "text/plain": [
              "    Column     Type\n",
              "0  movieId    int64\n",
              "1   imdbId    int64\n",
              "2   tmdbId  float64"
            ],
            "text/html": [
              "\n",
              "  <div id=\"df-e569da62-9940-4978-ad2f-3ff9403755b9\">\n",
              "    <div class=\"colab-df-container\">\n",
              "      <div>\n",
              "<style scoped>\n",
              "    .dataframe tbody tr th:only-of-type {\n",
              "        vertical-align: middle;\n",
              "    }\n",
              "\n",
              "    .dataframe tbody tr th {\n",
              "        vertical-align: top;\n",
              "    }\n",
              "\n",
              "    .dataframe thead th {\n",
              "        text-align: right;\n",
              "    }\n",
              "</style>\n",
              "<table border=\"1\" class=\"dataframe\">\n",
              "  <thead>\n",
              "    <tr style=\"text-align: right;\">\n",
              "      <th></th>\n",
              "      <th>Column</th>\n",
              "      <th>Type</th>\n",
              "    </tr>\n",
              "  </thead>\n",
              "  <tbody>\n",
              "    <tr>\n",
              "      <th>0</th>\n",
              "      <td>movieId</td>\n",
              "      <td>int64</td>\n",
              "    </tr>\n",
              "    <tr>\n",
              "      <th>1</th>\n",
              "      <td>imdbId</td>\n",
              "      <td>int64</td>\n",
              "    </tr>\n",
              "    <tr>\n",
              "      <th>2</th>\n",
              "      <td>tmdbId</td>\n",
              "      <td>float64</td>\n",
              "    </tr>\n",
              "  </tbody>\n",
              "</table>\n",
              "</div>\n",
              "      <button class=\"colab-df-convert\" onclick=\"convertToInteractive('df-e569da62-9940-4978-ad2f-3ff9403755b9')\"\n",
              "              title=\"Convert this dataframe to an interactive table.\"\n",
              "              style=\"display:none;\">\n",
              "        \n",
              "  <svg xmlns=\"http://www.w3.org/2000/svg\" height=\"24px\"viewBox=\"0 0 24 24\"\n",
              "       width=\"24px\">\n",
              "    <path d=\"M0 0h24v24H0V0z\" fill=\"none\"/>\n",
              "    <path d=\"M18.56 5.44l.94 2.06.94-2.06 2.06-.94-2.06-.94-.94-2.06-.94 2.06-2.06.94zm-11 1L8.5 8.5l.94-2.06 2.06-.94-2.06-.94L8.5 2.5l-.94 2.06-2.06.94zm10 10l.94 2.06.94-2.06 2.06-.94-2.06-.94-.94-2.06-.94 2.06-2.06.94z\"/><path d=\"M17.41 7.96l-1.37-1.37c-.4-.4-.92-.59-1.43-.59-.52 0-1.04.2-1.43.59L10.3 9.45l-7.72 7.72c-.78.78-.78 2.05 0 2.83L4 21.41c.39.39.9.59 1.41.59.51 0 1.02-.2 1.41-.59l7.78-7.78 2.81-2.81c.8-.78.8-2.07 0-2.86zM5.41 20L4 18.59l7.72-7.72 1.47 1.35L5.41 20z\"/>\n",
              "  </svg>\n",
              "      </button>\n",
              "      \n",
              "  <style>\n",
              "    .colab-df-container {\n",
              "      display:flex;\n",
              "      flex-wrap:wrap;\n",
              "      gap: 12px;\n",
              "    }\n",
              "\n",
              "    .colab-df-convert {\n",
              "      background-color: #E8F0FE;\n",
              "      border: none;\n",
              "      border-radius: 50%;\n",
              "      cursor: pointer;\n",
              "      display: none;\n",
              "      fill: #1967D2;\n",
              "      height: 32px;\n",
              "      padding: 0 0 0 0;\n",
              "      width: 32px;\n",
              "    }\n",
              "\n",
              "    .colab-df-convert:hover {\n",
              "      background-color: #E2EBFA;\n",
              "      box-shadow: 0px 1px 2px rgba(60, 64, 67, 0.3), 0px 1px 3px 1px rgba(60, 64, 67, 0.15);\n",
              "      fill: #174EA6;\n",
              "    }\n",
              "\n",
              "    [theme=dark] .colab-df-convert {\n",
              "      background-color: #3B4455;\n",
              "      fill: #D2E3FC;\n",
              "    }\n",
              "\n",
              "    [theme=dark] .colab-df-convert:hover {\n",
              "      background-color: #434B5C;\n",
              "      box-shadow: 0px 1px 3px 1px rgba(0, 0, 0, 0.15);\n",
              "      filter: drop-shadow(0px 1px 2px rgba(0, 0, 0, 0.3));\n",
              "      fill: #FFFFFF;\n",
              "    }\n",
              "  </style>\n",
              "\n",
              "      <script>\n",
              "        const buttonEl =\n",
              "          document.querySelector('#df-e569da62-9940-4978-ad2f-3ff9403755b9 button.colab-df-convert');\n",
              "        buttonEl.style.display =\n",
              "          google.colab.kernel.accessAllowed ? 'block' : 'none';\n",
              "\n",
              "        async function convertToInteractive(key) {\n",
              "          const element = document.querySelector('#df-e569da62-9940-4978-ad2f-3ff9403755b9');\n",
              "          const dataTable =\n",
              "            await google.colab.kernel.invokeFunction('convertToInteractive',\n",
              "                                                     [key], {});\n",
              "          if (!dataTable) return;\n",
              "\n",
              "          const docLinkHtml = 'Like what you see? Visit the ' +\n",
              "            '<a target=\"_blank\" href=https://colab.research.google.com/notebooks/data_table.ipynb>data table notebook</a>'\n",
              "            + ' to learn more about interactive tables.';\n",
              "          element.innerHTML = '';\n",
              "          dataTable['output_type'] = 'display_data';\n",
              "          await google.colab.output.renderOutput(dataTable, element);\n",
              "          const docLink = document.createElement('div');\n",
              "          docLink.innerHTML = docLinkHtml;\n",
              "          element.appendChild(docLink);\n",
              "        }\n",
              "      </script>\n",
              "    </div>\n",
              "  </div>\n",
              "  "
            ]
          },
          "metadata": {}
        },
        {
          "output_type": "display_data",
          "data": {
            "text/plain": [
              "'memory usage: 1.0 MB'"
            ],
            "application/vnd.google.colaboratory.intrinsic+json": {
              "type": "string"
            }
          },
          "metadata": {}
        },
        {
          "output_type": "display_data",
          "data": {
            "text/plain": [
              "'Missing Values'"
            ],
            "application/vnd.google.colaboratory.intrinsic+json": {
              "type": "string"
            }
          },
          "metadata": {}
        },
        {
          "output_type": "display_data",
          "data": {
            "text/plain": [
              "   Column  Missing Values\n",
              "0  tmdbId             219"
            ],
            "text/html": [
              "\n",
              "  <div id=\"df-e5f436b1-72d9-4e5b-b227-0414b60d161d\">\n",
              "    <div class=\"colab-df-container\">\n",
              "      <div>\n",
              "<style scoped>\n",
              "    .dataframe tbody tr th:only-of-type {\n",
              "        vertical-align: middle;\n",
              "    }\n",
              "\n",
              "    .dataframe tbody tr th {\n",
              "        vertical-align: top;\n",
              "    }\n",
              "\n",
              "    .dataframe thead th {\n",
              "        text-align: right;\n",
              "    }\n",
              "</style>\n",
              "<table border=\"1\" class=\"dataframe\">\n",
              "  <thead>\n",
              "    <tr style=\"text-align: right;\">\n",
              "      <th></th>\n",
              "      <th>Column</th>\n",
              "      <th>Missing Values</th>\n",
              "    </tr>\n",
              "  </thead>\n",
              "  <tbody>\n",
              "    <tr>\n",
              "      <th>0</th>\n",
              "      <td>tmdbId</td>\n",
              "      <td>219</td>\n",
              "    </tr>\n",
              "  </tbody>\n",
              "</table>\n",
              "</div>\n",
              "      <button class=\"colab-df-convert\" onclick=\"convertToInteractive('df-e5f436b1-72d9-4e5b-b227-0414b60d161d')\"\n",
              "              title=\"Convert this dataframe to an interactive table.\"\n",
              "              style=\"display:none;\">\n",
              "        \n",
              "  <svg xmlns=\"http://www.w3.org/2000/svg\" height=\"24px\"viewBox=\"0 0 24 24\"\n",
              "       width=\"24px\">\n",
              "    <path d=\"M0 0h24v24H0V0z\" fill=\"none\"/>\n",
              "    <path d=\"M18.56 5.44l.94 2.06.94-2.06 2.06-.94-2.06-.94-.94-2.06-.94 2.06-2.06.94zm-11 1L8.5 8.5l.94-2.06 2.06-.94-2.06-.94L8.5 2.5l-.94 2.06-2.06.94zm10 10l.94 2.06.94-2.06 2.06-.94-2.06-.94-.94-2.06-.94 2.06-2.06.94z\"/><path d=\"M17.41 7.96l-1.37-1.37c-.4-.4-.92-.59-1.43-.59-.52 0-1.04.2-1.43.59L10.3 9.45l-7.72 7.72c-.78.78-.78 2.05 0 2.83L4 21.41c.39.39.9.59 1.41.59.51 0 1.02-.2 1.41-.59l7.78-7.78 2.81-2.81c.8-.78.8-2.07 0-2.86zM5.41 20L4 18.59l7.72-7.72 1.47 1.35L5.41 20z\"/>\n",
              "  </svg>\n",
              "      </button>\n",
              "      \n",
              "  <style>\n",
              "    .colab-df-container {\n",
              "      display:flex;\n",
              "      flex-wrap:wrap;\n",
              "      gap: 12px;\n",
              "    }\n",
              "\n",
              "    .colab-df-convert {\n",
              "      background-color: #E8F0FE;\n",
              "      border: none;\n",
              "      border-radius: 50%;\n",
              "      cursor: pointer;\n",
              "      display: none;\n",
              "      fill: #1967D2;\n",
              "      height: 32px;\n",
              "      padding: 0 0 0 0;\n",
              "      width: 32px;\n",
              "    }\n",
              "\n",
              "    .colab-df-convert:hover {\n",
              "      background-color: #E2EBFA;\n",
              "      box-shadow: 0px 1px 2px rgba(60, 64, 67, 0.3), 0px 1px 3px 1px rgba(60, 64, 67, 0.15);\n",
              "      fill: #174EA6;\n",
              "    }\n",
              "\n",
              "    [theme=dark] .colab-df-convert {\n",
              "      background-color: #3B4455;\n",
              "      fill: #D2E3FC;\n",
              "    }\n",
              "\n",
              "    [theme=dark] .colab-df-convert:hover {\n",
              "      background-color: #434B5C;\n",
              "      box-shadow: 0px 1px 3px 1px rgba(0, 0, 0, 0.15);\n",
              "      filter: drop-shadow(0px 1px 2px rgba(0, 0, 0, 0.3));\n",
              "      fill: #FFFFFF;\n",
              "    }\n",
              "  </style>\n",
              "\n",
              "      <script>\n",
              "        const buttonEl =\n",
              "          document.querySelector('#df-e5f436b1-72d9-4e5b-b227-0414b60d161d button.colab-df-convert');\n",
              "        buttonEl.style.display =\n",
              "          google.colab.kernel.accessAllowed ? 'block' : 'none';\n",
              "\n",
              "        async function convertToInteractive(key) {\n",
              "          const element = document.querySelector('#df-e5f436b1-72d9-4e5b-b227-0414b60d161d');\n",
              "          const dataTable =\n",
              "            await google.colab.kernel.invokeFunction('convertToInteractive',\n",
              "                                                     [key], {});\n",
              "          if (!dataTable) return;\n",
              "\n",
              "          const docLinkHtml = 'Like what you see? Visit the ' +\n",
              "            '<a target=\"_blank\" href=https://colab.research.google.com/notebooks/data_table.ipynb>data table notebook</a>'\n",
              "            + ' to learn more about interactive tables.';\n",
              "          element.innerHTML = '';\n",
              "          dataTable['output_type'] = 'display_data';\n",
              "          await google.colab.output.renderOutput(dataTable, element);\n",
              "          const docLink = document.createElement('div');\n",
              "          docLink.innerHTML = docLinkHtml;\n",
              "          element.appendChild(docLink);\n",
              "        }\n",
              "      </script>\n",
              "    </div>\n",
              "  </div>\n",
              "  "
            ]
          },
          "metadata": {}
        }
      ],
      "source": [
        "get_df_info(links, 'links')"
      ]
    },
    {
      "cell_type": "markdown",
      "metadata": {
        "id": "0awqEjG3b7sL"
      },
      "source": [
        "<a id='bkground'></a>\n",
        "<div class=\"h3\"><center>Metadata Content</center></div>"
      ]
    },
    {
      "cell_type": "code",
      "execution_count": null,
      "metadata": {
        "id": "tYoa9XAlb7sL",
        "colab": {
          "base_uri": "https://localhost:8080/",
          "height": 1000
        },
        "outputId": "32bd11c5-4c61-44ab-c05e-4dc82f63d67e"
      },
      "outputs": [
        {
          "output_type": "display_data",
          "data": {
            "text/plain": [
              "   adult                              belongs_to_collection    budget  \\\n",
              "0  False  {'id': 10194, 'name': 'Toy Story Collection', ...  30000000   \n",
              "1  False                                                NaN  65000000   \n",
              "2  False  {'id': 119050, 'name': 'Grumpy Old Men Collect...         0   \n",
              "\n",
              "                                              genres  ...             title  \\\n",
              "0  [{'id': 16, 'name': 'Animation'}, {'id': 35, '...  ...         Toy Story   \n",
              "1  [{'id': 12, 'name': 'Adventure'}, {'id': 14, '...  ...           Jumanji   \n",
              "2  [{'id': 10749, 'name': 'Romance'}, {'id': 35, ...  ...  Grumpier Old Men   \n",
              "\n",
              "   video vote_average vote_count  \n",
              "0  False          7.7     5415.0  \n",
              "1  False          6.9     2413.0  \n",
              "2  False          6.5       92.0  \n",
              "\n",
              "[3 rows x 24 columns]"
            ],
            "text/html": [
              "\n",
              "  <div id=\"df-95a3e0b1-bb5c-4859-aac0-f3de39ad5dc6\">\n",
              "    <div class=\"colab-df-container\">\n",
              "      <div>\n",
              "<style scoped>\n",
              "    .dataframe tbody tr th:only-of-type {\n",
              "        vertical-align: middle;\n",
              "    }\n",
              "\n",
              "    .dataframe tbody tr th {\n",
              "        vertical-align: top;\n",
              "    }\n",
              "\n",
              "    .dataframe thead th {\n",
              "        text-align: right;\n",
              "    }\n",
              "</style>\n",
              "<table border=\"1\" class=\"dataframe\">\n",
              "  <thead>\n",
              "    <tr style=\"text-align: right;\">\n",
              "      <th></th>\n",
              "      <th>adult</th>\n",
              "      <th>belongs_to_collection</th>\n",
              "      <th>budget</th>\n",
              "      <th>genres</th>\n",
              "      <th>...</th>\n",
              "      <th>title</th>\n",
              "      <th>video</th>\n",
              "      <th>vote_average</th>\n",
              "      <th>vote_count</th>\n",
              "    </tr>\n",
              "  </thead>\n",
              "  <tbody>\n",
              "    <tr>\n",
              "      <th>0</th>\n",
              "      <td>False</td>\n",
              "      <td>{'id': 10194, 'name': 'Toy Story Collection', ...</td>\n",
              "      <td>30000000</td>\n",
              "      <td>[{'id': 16, 'name': 'Animation'}, {'id': 35, '...</td>\n",
              "      <td>...</td>\n",
              "      <td>Toy Story</td>\n",
              "      <td>False</td>\n",
              "      <td>7.7</td>\n",
              "      <td>5415.0</td>\n",
              "    </tr>\n",
              "    <tr>\n",
              "      <th>1</th>\n",
              "      <td>False</td>\n",
              "      <td>NaN</td>\n",
              "      <td>65000000</td>\n",
              "      <td>[{'id': 12, 'name': 'Adventure'}, {'id': 14, '...</td>\n",
              "      <td>...</td>\n",
              "      <td>Jumanji</td>\n",
              "      <td>False</td>\n",
              "      <td>6.9</td>\n",
              "      <td>2413.0</td>\n",
              "    </tr>\n",
              "    <tr>\n",
              "      <th>2</th>\n",
              "      <td>False</td>\n",
              "      <td>{'id': 119050, 'name': 'Grumpy Old Men Collect...</td>\n",
              "      <td>0</td>\n",
              "      <td>[{'id': 10749, 'name': 'Romance'}, {'id': 35, ...</td>\n",
              "      <td>...</td>\n",
              "      <td>Grumpier Old Men</td>\n",
              "      <td>False</td>\n",
              "      <td>6.5</td>\n",
              "      <td>92.0</td>\n",
              "    </tr>\n",
              "  </tbody>\n",
              "</table>\n",
              "<p>3 rows × 24 columns</p>\n",
              "</div>\n",
              "      <button class=\"colab-df-convert\" onclick=\"convertToInteractive('df-95a3e0b1-bb5c-4859-aac0-f3de39ad5dc6')\"\n",
              "              title=\"Convert this dataframe to an interactive table.\"\n",
              "              style=\"display:none;\">\n",
              "        \n",
              "  <svg xmlns=\"http://www.w3.org/2000/svg\" height=\"24px\"viewBox=\"0 0 24 24\"\n",
              "       width=\"24px\">\n",
              "    <path d=\"M0 0h24v24H0V0z\" fill=\"none\"/>\n",
              "    <path d=\"M18.56 5.44l.94 2.06.94-2.06 2.06-.94-2.06-.94-.94-2.06-.94 2.06-2.06.94zm-11 1L8.5 8.5l.94-2.06 2.06-.94-2.06-.94L8.5 2.5l-.94 2.06-2.06.94zm10 10l.94 2.06.94-2.06 2.06-.94-2.06-.94-.94-2.06-.94 2.06-2.06.94z\"/><path d=\"M17.41 7.96l-1.37-1.37c-.4-.4-.92-.59-1.43-.59-.52 0-1.04.2-1.43.59L10.3 9.45l-7.72 7.72c-.78.78-.78 2.05 0 2.83L4 21.41c.39.39.9.59 1.41.59.51 0 1.02-.2 1.41-.59l7.78-7.78 2.81-2.81c.8-.78.8-2.07 0-2.86zM5.41 20L4 18.59l7.72-7.72 1.47 1.35L5.41 20z\"/>\n",
              "  </svg>\n",
              "      </button>\n",
              "      \n",
              "  <style>\n",
              "    .colab-df-container {\n",
              "      display:flex;\n",
              "      flex-wrap:wrap;\n",
              "      gap: 12px;\n",
              "    }\n",
              "\n",
              "    .colab-df-convert {\n",
              "      background-color: #E8F0FE;\n",
              "      border: none;\n",
              "      border-radius: 50%;\n",
              "      cursor: pointer;\n",
              "      display: none;\n",
              "      fill: #1967D2;\n",
              "      height: 32px;\n",
              "      padding: 0 0 0 0;\n",
              "      width: 32px;\n",
              "    }\n",
              "\n",
              "    .colab-df-convert:hover {\n",
              "      background-color: #E2EBFA;\n",
              "      box-shadow: 0px 1px 2px rgba(60, 64, 67, 0.3), 0px 1px 3px 1px rgba(60, 64, 67, 0.15);\n",
              "      fill: #174EA6;\n",
              "    }\n",
              "\n",
              "    [theme=dark] .colab-df-convert {\n",
              "      background-color: #3B4455;\n",
              "      fill: #D2E3FC;\n",
              "    }\n",
              "\n",
              "    [theme=dark] .colab-df-convert:hover {\n",
              "      background-color: #434B5C;\n",
              "      box-shadow: 0px 1px 3px 1px rgba(0, 0, 0, 0.15);\n",
              "      filter: drop-shadow(0px 1px 2px rgba(0, 0, 0, 0.3));\n",
              "      fill: #FFFFFF;\n",
              "    }\n",
              "  </style>\n",
              "\n",
              "      <script>\n",
              "        const buttonEl =\n",
              "          document.querySelector('#df-95a3e0b1-bb5c-4859-aac0-f3de39ad5dc6 button.colab-df-convert');\n",
              "        buttonEl.style.display =\n",
              "          google.colab.kernel.accessAllowed ? 'block' : 'none';\n",
              "\n",
              "        async function convertToInteractive(key) {\n",
              "          const element = document.querySelector('#df-95a3e0b1-bb5c-4859-aac0-f3de39ad5dc6');\n",
              "          const dataTable =\n",
              "            await google.colab.kernel.invokeFunction('convertToInteractive',\n",
              "                                                     [key], {});\n",
              "          if (!dataTable) return;\n",
              "\n",
              "          const docLinkHtml = 'Like what you see? Visit the ' +\n",
              "            '<a target=\"_blank\" href=https://colab.research.google.com/notebooks/data_table.ipynb>data table notebook</a>'\n",
              "            + ' to learn more about interactive tables.';\n",
              "          element.innerHTML = '';\n",
              "          dataTable['output_type'] = 'display_data';\n",
              "          await google.colab.output.renderOutput(dataTable, element);\n",
              "          const docLink = document.createElement('div');\n",
              "          docLink.innerHTML = docLinkHtml;\n",
              "          element.appendChild(docLink);\n",
              "        }\n",
              "      </script>\n",
              "    </div>\n",
              "  </div>\n",
              "  "
            ]
          },
          "metadata": {}
        },
        {
          "output_type": "display_data",
          "data": {
            "text/plain": [
              "'Number of Rows: 45466, Number of Columns: 24'"
            ],
            "application/vnd.google.colaboratory.intrinsic+json": {
              "type": "string"
            }
          },
          "metadata": {}
        },
        {
          "output_type": "display_data",
          "data": {
            "text/plain": [
              "'Data Types'"
            ],
            "application/vnd.google.colaboratory.intrinsic+json": {
              "type": "string"
            }
          },
          "metadata": {}
        },
        {
          "output_type": "display_data",
          "data": {
            "text/plain": [
              "                   Column     Type\n",
              "0                   adult   object\n",
              "1   belongs_to_collection   object\n",
              "2                  budget   object\n",
              "3                  genres   object\n",
              "4                homepage   object\n",
              "5                      id   object\n",
              "6                 imdb_id   object\n",
              "7       original_language   object\n",
              "8          original_title   object\n",
              "9                overview   object\n",
              "10             popularity   object\n",
              "11            poster_path   object\n",
              "12   production_companies   object\n",
              "13   production_countries   object\n",
              "14           release_date   object\n",
              "15                revenue  float64\n",
              "16                runtime  float64\n",
              "17       spoken_languages   object\n",
              "18                 status   object\n",
              "19                tagline   object\n",
              "20                  title   object\n",
              "21                  video   object\n",
              "22           vote_average  float64\n",
              "23             vote_count  float64"
            ],
            "text/html": [
              "\n",
              "  <div id=\"df-1f02738f-b839-485b-919d-c7e8a299c091\">\n",
              "    <div class=\"colab-df-container\">\n",
              "      <div>\n",
              "<style scoped>\n",
              "    .dataframe tbody tr th:only-of-type {\n",
              "        vertical-align: middle;\n",
              "    }\n",
              "\n",
              "    .dataframe tbody tr th {\n",
              "        vertical-align: top;\n",
              "    }\n",
              "\n",
              "    .dataframe thead th {\n",
              "        text-align: right;\n",
              "    }\n",
              "</style>\n",
              "<table border=\"1\" class=\"dataframe\">\n",
              "  <thead>\n",
              "    <tr style=\"text-align: right;\">\n",
              "      <th></th>\n",
              "      <th>Column</th>\n",
              "      <th>Type</th>\n",
              "    </tr>\n",
              "  </thead>\n",
              "  <tbody>\n",
              "    <tr>\n",
              "      <th>0</th>\n",
              "      <td>adult</td>\n",
              "      <td>object</td>\n",
              "    </tr>\n",
              "    <tr>\n",
              "      <th>1</th>\n",
              "      <td>belongs_to_collection</td>\n",
              "      <td>object</td>\n",
              "    </tr>\n",
              "    <tr>\n",
              "      <th>2</th>\n",
              "      <td>budget</td>\n",
              "      <td>object</td>\n",
              "    </tr>\n",
              "    <tr>\n",
              "      <th>3</th>\n",
              "      <td>genres</td>\n",
              "      <td>object</td>\n",
              "    </tr>\n",
              "    <tr>\n",
              "      <th>4</th>\n",
              "      <td>homepage</td>\n",
              "      <td>object</td>\n",
              "    </tr>\n",
              "    <tr>\n",
              "      <th>5</th>\n",
              "      <td>id</td>\n",
              "      <td>object</td>\n",
              "    </tr>\n",
              "    <tr>\n",
              "      <th>6</th>\n",
              "      <td>imdb_id</td>\n",
              "      <td>object</td>\n",
              "    </tr>\n",
              "    <tr>\n",
              "      <th>7</th>\n",
              "      <td>original_language</td>\n",
              "      <td>object</td>\n",
              "    </tr>\n",
              "    <tr>\n",
              "      <th>8</th>\n",
              "      <td>original_title</td>\n",
              "      <td>object</td>\n",
              "    </tr>\n",
              "    <tr>\n",
              "      <th>9</th>\n",
              "      <td>overview</td>\n",
              "      <td>object</td>\n",
              "    </tr>\n",
              "    <tr>\n",
              "      <th>10</th>\n",
              "      <td>popularity</td>\n",
              "      <td>object</td>\n",
              "    </tr>\n",
              "    <tr>\n",
              "      <th>11</th>\n",
              "      <td>poster_path</td>\n",
              "      <td>object</td>\n",
              "    </tr>\n",
              "    <tr>\n",
              "      <th>12</th>\n",
              "      <td>production_companies</td>\n",
              "      <td>object</td>\n",
              "    </tr>\n",
              "    <tr>\n",
              "      <th>13</th>\n",
              "      <td>production_countries</td>\n",
              "      <td>object</td>\n",
              "    </tr>\n",
              "    <tr>\n",
              "      <th>14</th>\n",
              "      <td>release_date</td>\n",
              "      <td>object</td>\n",
              "    </tr>\n",
              "    <tr>\n",
              "      <th>15</th>\n",
              "      <td>revenue</td>\n",
              "      <td>float64</td>\n",
              "    </tr>\n",
              "    <tr>\n",
              "      <th>16</th>\n",
              "      <td>runtime</td>\n",
              "      <td>float64</td>\n",
              "    </tr>\n",
              "    <tr>\n",
              "      <th>17</th>\n",
              "      <td>spoken_languages</td>\n",
              "      <td>object</td>\n",
              "    </tr>\n",
              "    <tr>\n",
              "      <th>18</th>\n",
              "      <td>status</td>\n",
              "      <td>object</td>\n",
              "    </tr>\n",
              "    <tr>\n",
              "      <th>19</th>\n",
              "      <td>tagline</td>\n",
              "      <td>object</td>\n",
              "    </tr>\n",
              "    <tr>\n",
              "      <th>20</th>\n",
              "      <td>title</td>\n",
              "      <td>object</td>\n",
              "    </tr>\n",
              "    <tr>\n",
              "      <th>21</th>\n",
              "      <td>video</td>\n",
              "      <td>object</td>\n",
              "    </tr>\n",
              "    <tr>\n",
              "      <th>22</th>\n",
              "      <td>vote_average</td>\n",
              "      <td>float64</td>\n",
              "    </tr>\n",
              "    <tr>\n",
              "      <th>23</th>\n",
              "      <td>vote_count</td>\n",
              "      <td>float64</td>\n",
              "    </tr>\n",
              "  </tbody>\n",
              "</table>\n",
              "</div>\n",
              "      <button class=\"colab-df-convert\" onclick=\"convertToInteractive('df-1f02738f-b839-485b-919d-c7e8a299c091')\"\n",
              "              title=\"Convert this dataframe to an interactive table.\"\n",
              "              style=\"display:none;\">\n",
              "        \n",
              "  <svg xmlns=\"http://www.w3.org/2000/svg\" height=\"24px\"viewBox=\"0 0 24 24\"\n",
              "       width=\"24px\">\n",
              "    <path d=\"M0 0h24v24H0V0z\" fill=\"none\"/>\n",
              "    <path d=\"M18.56 5.44l.94 2.06.94-2.06 2.06-.94-2.06-.94-.94-2.06-.94 2.06-2.06.94zm-11 1L8.5 8.5l.94-2.06 2.06-.94-2.06-.94L8.5 2.5l-.94 2.06-2.06.94zm10 10l.94 2.06.94-2.06 2.06-.94-2.06-.94-.94-2.06-.94 2.06-2.06.94z\"/><path d=\"M17.41 7.96l-1.37-1.37c-.4-.4-.92-.59-1.43-.59-.52 0-1.04.2-1.43.59L10.3 9.45l-7.72 7.72c-.78.78-.78 2.05 0 2.83L4 21.41c.39.39.9.59 1.41.59.51 0 1.02-.2 1.41-.59l7.78-7.78 2.81-2.81c.8-.78.8-2.07 0-2.86zM5.41 20L4 18.59l7.72-7.72 1.47 1.35L5.41 20z\"/>\n",
              "  </svg>\n",
              "      </button>\n",
              "      \n",
              "  <style>\n",
              "    .colab-df-container {\n",
              "      display:flex;\n",
              "      flex-wrap:wrap;\n",
              "      gap: 12px;\n",
              "    }\n",
              "\n",
              "    .colab-df-convert {\n",
              "      background-color: #E8F0FE;\n",
              "      border: none;\n",
              "      border-radius: 50%;\n",
              "      cursor: pointer;\n",
              "      display: none;\n",
              "      fill: #1967D2;\n",
              "      height: 32px;\n",
              "      padding: 0 0 0 0;\n",
              "      width: 32px;\n",
              "    }\n",
              "\n",
              "    .colab-df-convert:hover {\n",
              "      background-color: #E2EBFA;\n",
              "      box-shadow: 0px 1px 2px rgba(60, 64, 67, 0.3), 0px 1px 3px 1px rgba(60, 64, 67, 0.15);\n",
              "      fill: #174EA6;\n",
              "    }\n",
              "\n",
              "    [theme=dark] .colab-df-convert {\n",
              "      background-color: #3B4455;\n",
              "      fill: #D2E3FC;\n",
              "    }\n",
              "\n",
              "    [theme=dark] .colab-df-convert:hover {\n",
              "      background-color: #434B5C;\n",
              "      box-shadow: 0px 1px 3px 1px rgba(0, 0, 0, 0.15);\n",
              "      filter: drop-shadow(0px 1px 2px rgba(0, 0, 0, 0.3));\n",
              "      fill: #FFFFFF;\n",
              "    }\n",
              "  </style>\n",
              "\n",
              "      <script>\n",
              "        const buttonEl =\n",
              "          document.querySelector('#df-1f02738f-b839-485b-919d-c7e8a299c091 button.colab-df-convert');\n",
              "        buttonEl.style.display =\n",
              "          google.colab.kernel.accessAllowed ? 'block' : 'none';\n",
              "\n",
              "        async function convertToInteractive(key) {\n",
              "          const element = document.querySelector('#df-1f02738f-b839-485b-919d-c7e8a299c091');\n",
              "          const dataTable =\n",
              "            await google.colab.kernel.invokeFunction('convertToInteractive',\n",
              "                                                     [key], {});\n",
              "          if (!dataTable) return;\n",
              "\n",
              "          const docLinkHtml = 'Like what you see? Visit the ' +\n",
              "            '<a target=\"_blank\" href=https://colab.research.google.com/notebooks/data_table.ipynb>data table notebook</a>'\n",
              "            + ' to learn more about interactive tables.';\n",
              "          element.innerHTML = '';\n",
              "          dataTable['output_type'] = 'display_data';\n",
              "          await google.colab.output.renderOutput(dataTable, element);\n",
              "          const docLink = document.createElement('div');\n",
              "          docLink.innerHTML = docLinkHtml;\n",
              "          element.appendChild(docLink);\n",
              "        }\n",
              "      </script>\n",
              "    </div>\n",
              "  </div>\n",
              "  "
            ]
          },
          "metadata": {}
        },
        {
          "output_type": "display_data",
          "data": {
            "text/plain": [
              "'memory usage: 8.3+ MB'"
            ],
            "application/vnd.google.colaboratory.intrinsic+json": {
              "type": "string"
            }
          },
          "metadata": {}
        },
        {
          "output_type": "display_data",
          "data": {
            "text/plain": [
              "'Missing Values'"
            ],
            "application/vnd.google.colaboratory.intrinsic+json": {
              "type": "string"
            }
          },
          "metadata": {}
        },
        {
          "output_type": "display_data",
          "data": {
            "text/plain": [
              "                   Column  Missing Values\n",
              "0   belongs_to_collection           40972\n",
              "1                homepage           37684\n",
              "2                 tagline           25054\n",
              "3                overview             954\n",
              "4             poster_path             386\n",
              "5                 runtime             263\n",
              "6                  status              87\n",
              "7            release_date              87\n",
              "8                 imdb_id              17\n",
              "9       original_language              11\n",
              "10       spoken_languages               6\n",
              "11                  title               6\n",
              "12                  video               6\n",
              "13           vote_average               6\n",
              "14                revenue               6\n",
              "15             vote_count               6\n",
              "16             popularity               5\n",
              "17   production_companies               3\n",
              "18   production_countries               3"
            ],
            "text/html": [
              "\n",
              "  <div id=\"df-232a0ab9-4702-483b-b701-576ce6a90415\">\n",
              "    <div class=\"colab-df-container\">\n",
              "      <div>\n",
              "<style scoped>\n",
              "    .dataframe tbody tr th:only-of-type {\n",
              "        vertical-align: middle;\n",
              "    }\n",
              "\n",
              "    .dataframe tbody tr th {\n",
              "        vertical-align: top;\n",
              "    }\n",
              "\n",
              "    .dataframe thead th {\n",
              "        text-align: right;\n",
              "    }\n",
              "</style>\n",
              "<table border=\"1\" class=\"dataframe\">\n",
              "  <thead>\n",
              "    <tr style=\"text-align: right;\">\n",
              "      <th></th>\n",
              "      <th>Column</th>\n",
              "      <th>Missing Values</th>\n",
              "    </tr>\n",
              "  </thead>\n",
              "  <tbody>\n",
              "    <tr>\n",
              "      <th>0</th>\n",
              "      <td>belongs_to_collection</td>\n",
              "      <td>40972</td>\n",
              "    </tr>\n",
              "    <tr>\n",
              "      <th>1</th>\n",
              "      <td>homepage</td>\n",
              "      <td>37684</td>\n",
              "    </tr>\n",
              "    <tr>\n",
              "      <th>2</th>\n",
              "      <td>tagline</td>\n",
              "      <td>25054</td>\n",
              "    </tr>\n",
              "    <tr>\n",
              "      <th>3</th>\n",
              "      <td>overview</td>\n",
              "      <td>954</td>\n",
              "    </tr>\n",
              "    <tr>\n",
              "      <th>4</th>\n",
              "      <td>poster_path</td>\n",
              "      <td>386</td>\n",
              "    </tr>\n",
              "    <tr>\n",
              "      <th>5</th>\n",
              "      <td>runtime</td>\n",
              "      <td>263</td>\n",
              "    </tr>\n",
              "    <tr>\n",
              "      <th>6</th>\n",
              "      <td>status</td>\n",
              "      <td>87</td>\n",
              "    </tr>\n",
              "    <tr>\n",
              "      <th>7</th>\n",
              "      <td>release_date</td>\n",
              "      <td>87</td>\n",
              "    </tr>\n",
              "    <tr>\n",
              "      <th>8</th>\n",
              "      <td>imdb_id</td>\n",
              "      <td>17</td>\n",
              "    </tr>\n",
              "    <tr>\n",
              "      <th>9</th>\n",
              "      <td>original_language</td>\n",
              "      <td>11</td>\n",
              "    </tr>\n",
              "    <tr>\n",
              "      <th>10</th>\n",
              "      <td>spoken_languages</td>\n",
              "      <td>6</td>\n",
              "    </tr>\n",
              "    <tr>\n",
              "      <th>11</th>\n",
              "      <td>title</td>\n",
              "      <td>6</td>\n",
              "    </tr>\n",
              "    <tr>\n",
              "      <th>12</th>\n",
              "      <td>video</td>\n",
              "      <td>6</td>\n",
              "    </tr>\n",
              "    <tr>\n",
              "      <th>13</th>\n",
              "      <td>vote_average</td>\n",
              "      <td>6</td>\n",
              "    </tr>\n",
              "    <tr>\n",
              "      <th>14</th>\n",
              "      <td>revenue</td>\n",
              "      <td>6</td>\n",
              "    </tr>\n",
              "    <tr>\n",
              "      <th>15</th>\n",
              "      <td>vote_count</td>\n",
              "      <td>6</td>\n",
              "    </tr>\n",
              "    <tr>\n",
              "      <th>16</th>\n",
              "      <td>popularity</td>\n",
              "      <td>5</td>\n",
              "    </tr>\n",
              "    <tr>\n",
              "      <th>17</th>\n",
              "      <td>production_companies</td>\n",
              "      <td>3</td>\n",
              "    </tr>\n",
              "    <tr>\n",
              "      <th>18</th>\n",
              "      <td>production_countries</td>\n",
              "      <td>3</td>\n",
              "    </tr>\n",
              "  </tbody>\n",
              "</table>\n",
              "</div>\n",
              "      <button class=\"colab-df-convert\" onclick=\"convertToInteractive('df-232a0ab9-4702-483b-b701-576ce6a90415')\"\n",
              "              title=\"Convert this dataframe to an interactive table.\"\n",
              "              style=\"display:none;\">\n",
              "        \n",
              "  <svg xmlns=\"http://www.w3.org/2000/svg\" height=\"24px\"viewBox=\"0 0 24 24\"\n",
              "       width=\"24px\">\n",
              "    <path d=\"M0 0h24v24H0V0z\" fill=\"none\"/>\n",
              "    <path d=\"M18.56 5.44l.94 2.06.94-2.06 2.06-.94-2.06-.94-.94-2.06-.94 2.06-2.06.94zm-11 1L8.5 8.5l.94-2.06 2.06-.94-2.06-.94L8.5 2.5l-.94 2.06-2.06.94zm10 10l.94 2.06.94-2.06 2.06-.94-2.06-.94-.94-2.06-.94 2.06-2.06.94z\"/><path d=\"M17.41 7.96l-1.37-1.37c-.4-.4-.92-.59-1.43-.59-.52 0-1.04.2-1.43.59L10.3 9.45l-7.72 7.72c-.78.78-.78 2.05 0 2.83L4 21.41c.39.39.9.59 1.41.59.51 0 1.02-.2 1.41-.59l7.78-7.78 2.81-2.81c.8-.78.8-2.07 0-2.86zM5.41 20L4 18.59l7.72-7.72 1.47 1.35L5.41 20z\"/>\n",
              "  </svg>\n",
              "      </button>\n",
              "      \n",
              "  <style>\n",
              "    .colab-df-container {\n",
              "      display:flex;\n",
              "      flex-wrap:wrap;\n",
              "      gap: 12px;\n",
              "    }\n",
              "\n",
              "    .colab-df-convert {\n",
              "      background-color: #E8F0FE;\n",
              "      border: none;\n",
              "      border-radius: 50%;\n",
              "      cursor: pointer;\n",
              "      display: none;\n",
              "      fill: #1967D2;\n",
              "      height: 32px;\n",
              "      padding: 0 0 0 0;\n",
              "      width: 32px;\n",
              "    }\n",
              "\n",
              "    .colab-df-convert:hover {\n",
              "      background-color: #E2EBFA;\n",
              "      box-shadow: 0px 1px 2px rgba(60, 64, 67, 0.3), 0px 1px 3px 1px rgba(60, 64, 67, 0.15);\n",
              "      fill: #174EA6;\n",
              "    }\n",
              "\n",
              "    [theme=dark] .colab-df-convert {\n",
              "      background-color: #3B4455;\n",
              "      fill: #D2E3FC;\n",
              "    }\n",
              "\n",
              "    [theme=dark] .colab-df-convert:hover {\n",
              "      background-color: #434B5C;\n",
              "      box-shadow: 0px 1px 3px 1px rgba(0, 0, 0, 0.15);\n",
              "      filter: drop-shadow(0px 1px 2px rgba(0, 0, 0, 0.3));\n",
              "      fill: #FFFFFF;\n",
              "    }\n",
              "  </style>\n",
              "\n",
              "      <script>\n",
              "        const buttonEl =\n",
              "          document.querySelector('#df-232a0ab9-4702-483b-b701-576ce6a90415 button.colab-df-convert');\n",
              "        buttonEl.style.display =\n",
              "          google.colab.kernel.accessAllowed ? 'block' : 'none';\n",
              "\n",
              "        async function convertToInteractive(key) {\n",
              "          const element = document.querySelector('#df-232a0ab9-4702-483b-b701-576ce6a90415');\n",
              "          const dataTable =\n",
              "            await google.colab.kernel.invokeFunction('convertToInteractive',\n",
              "                                                     [key], {});\n",
              "          if (!dataTable) return;\n",
              "\n",
              "          const docLinkHtml = 'Like what you see? Visit the ' +\n",
              "            '<a target=\"_blank\" href=https://colab.research.google.com/notebooks/data_table.ipynb>data table notebook</a>'\n",
              "            + ' to learn more about interactive tables.';\n",
              "          element.innerHTML = '';\n",
              "          dataTable['output_type'] = 'display_data';\n",
              "          await google.colab.output.renderOutput(dataTable, element);\n",
              "          const docLink = document.createElement('div');\n",
              "          docLink.innerHTML = docLinkHtml;\n",
              "          element.appendChild(docLink);\n",
              "        }\n",
              "      </script>\n",
              "    </div>\n",
              "  </div>\n",
              "  "
            ]
          },
          "metadata": {}
        }
      ],
      "source": [
        "get_df_info(metadata, 'metadata')"
      ]
    },
    {
      "cell_type": "code",
      "source": [
        "get_df_info(credits, 'credits')"
      ],
      "metadata": {
        "id": "QmuM5WaWb_Lk",
        "colab": {
          "base_uri": "https://localhost:8080/",
          "height": 362
        },
        "outputId": "4c8789e0-70db-4cc2-a3fe-2f6e11fac670"
      },
      "execution_count": null,
      "outputs": [
        {
          "output_type": "display_data",
          "data": {
            "text/plain": [
              "                                                cast  \\\n",
              "0  [{'cast_id': 14, 'character': 'Woody (voice)',...   \n",
              "1  [{'cast_id': 1, 'character': 'Alan Parrish', '...   \n",
              "2  [{'cast_id': 2, 'character': 'Max Goldman', 'c...   \n",
              "\n",
              "                                                crew     id  \n",
              "0  [{'credit_id': '52fe4284c3a36847f8024f49', 'de...    862  \n",
              "1  [{'credit_id': '52fe44bfc3a36847f80a7cd1', 'de...   8844  \n",
              "2  [{'credit_id': '52fe466a9251416c75077a89', 'de...  15602  "
            ],
            "text/html": [
              "\n",
              "  <div id=\"df-3bd78c17-ee02-4676-98d6-9d918050226c\">\n",
              "    <div class=\"colab-df-container\">\n",
              "      <div>\n",
              "<style scoped>\n",
              "    .dataframe tbody tr th:only-of-type {\n",
              "        vertical-align: middle;\n",
              "    }\n",
              "\n",
              "    .dataframe tbody tr th {\n",
              "        vertical-align: top;\n",
              "    }\n",
              "\n",
              "    .dataframe thead th {\n",
              "        text-align: right;\n",
              "    }\n",
              "</style>\n",
              "<table border=\"1\" class=\"dataframe\">\n",
              "  <thead>\n",
              "    <tr style=\"text-align: right;\">\n",
              "      <th></th>\n",
              "      <th>cast</th>\n",
              "      <th>crew</th>\n",
              "      <th>id</th>\n",
              "    </tr>\n",
              "  </thead>\n",
              "  <tbody>\n",
              "    <tr>\n",
              "      <th>0</th>\n",
              "      <td>[{'cast_id': 14, 'character': 'Woody (voice)',...</td>\n",
              "      <td>[{'credit_id': '52fe4284c3a36847f8024f49', 'de...</td>\n",
              "      <td>862</td>\n",
              "    </tr>\n",
              "    <tr>\n",
              "      <th>1</th>\n",
              "      <td>[{'cast_id': 1, 'character': 'Alan Parrish', '...</td>\n",
              "      <td>[{'credit_id': '52fe44bfc3a36847f80a7cd1', 'de...</td>\n",
              "      <td>8844</td>\n",
              "    </tr>\n",
              "    <tr>\n",
              "      <th>2</th>\n",
              "      <td>[{'cast_id': 2, 'character': 'Max Goldman', 'c...</td>\n",
              "      <td>[{'credit_id': '52fe466a9251416c75077a89', 'de...</td>\n",
              "      <td>15602</td>\n",
              "    </tr>\n",
              "  </tbody>\n",
              "</table>\n",
              "</div>\n",
              "      <button class=\"colab-df-convert\" onclick=\"convertToInteractive('df-3bd78c17-ee02-4676-98d6-9d918050226c')\"\n",
              "              title=\"Convert this dataframe to an interactive table.\"\n",
              "              style=\"display:none;\">\n",
              "        \n",
              "  <svg xmlns=\"http://www.w3.org/2000/svg\" height=\"24px\"viewBox=\"0 0 24 24\"\n",
              "       width=\"24px\">\n",
              "    <path d=\"M0 0h24v24H0V0z\" fill=\"none\"/>\n",
              "    <path d=\"M18.56 5.44l.94 2.06.94-2.06 2.06-.94-2.06-.94-.94-2.06-.94 2.06-2.06.94zm-11 1L8.5 8.5l.94-2.06 2.06-.94-2.06-.94L8.5 2.5l-.94 2.06-2.06.94zm10 10l.94 2.06.94-2.06 2.06-.94-2.06-.94-.94-2.06-.94 2.06-2.06.94z\"/><path d=\"M17.41 7.96l-1.37-1.37c-.4-.4-.92-.59-1.43-.59-.52 0-1.04.2-1.43.59L10.3 9.45l-7.72 7.72c-.78.78-.78 2.05 0 2.83L4 21.41c.39.39.9.59 1.41.59.51 0 1.02-.2 1.41-.59l7.78-7.78 2.81-2.81c.8-.78.8-2.07 0-2.86zM5.41 20L4 18.59l7.72-7.72 1.47 1.35L5.41 20z\"/>\n",
              "  </svg>\n",
              "      </button>\n",
              "      \n",
              "  <style>\n",
              "    .colab-df-container {\n",
              "      display:flex;\n",
              "      flex-wrap:wrap;\n",
              "      gap: 12px;\n",
              "    }\n",
              "\n",
              "    .colab-df-convert {\n",
              "      background-color: #E8F0FE;\n",
              "      border: none;\n",
              "      border-radius: 50%;\n",
              "      cursor: pointer;\n",
              "      display: none;\n",
              "      fill: #1967D2;\n",
              "      height: 32px;\n",
              "      padding: 0 0 0 0;\n",
              "      width: 32px;\n",
              "    }\n",
              "\n",
              "    .colab-df-convert:hover {\n",
              "      background-color: #E2EBFA;\n",
              "      box-shadow: 0px 1px 2px rgba(60, 64, 67, 0.3), 0px 1px 3px 1px rgba(60, 64, 67, 0.15);\n",
              "      fill: #174EA6;\n",
              "    }\n",
              "\n",
              "    [theme=dark] .colab-df-convert {\n",
              "      background-color: #3B4455;\n",
              "      fill: #D2E3FC;\n",
              "    }\n",
              "\n",
              "    [theme=dark] .colab-df-convert:hover {\n",
              "      background-color: #434B5C;\n",
              "      box-shadow: 0px 1px 3px 1px rgba(0, 0, 0, 0.15);\n",
              "      filter: drop-shadow(0px 1px 2px rgba(0, 0, 0, 0.3));\n",
              "      fill: #FFFFFF;\n",
              "    }\n",
              "  </style>\n",
              "\n",
              "      <script>\n",
              "        const buttonEl =\n",
              "          document.querySelector('#df-3bd78c17-ee02-4676-98d6-9d918050226c button.colab-df-convert');\n",
              "        buttonEl.style.display =\n",
              "          google.colab.kernel.accessAllowed ? 'block' : 'none';\n",
              "\n",
              "        async function convertToInteractive(key) {\n",
              "          const element = document.querySelector('#df-3bd78c17-ee02-4676-98d6-9d918050226c');\n",
              "          const dataTable =\n",
              "            await google.colab.kernel.invokeFunction('convertToInteractive',\n",
              "                                                     [key], {});\n",
              "          if (!dataTable) return;\n",
              "\n",
              "          const docLinkHtml = 'Like what you see? Visit the ' +\n",
              "            '<a target=\"_blank\" href=https://colab.research.google.com/notebooks/data_table.ipynb>data table notebook</a>'\n",
              "            + ' to learn more about interactive tables.';\n",
              "          element.innerHTML = '';\n",
              "          dataTable['output_type'] = 'display_data';\n",
              "          await google.colab.output.renderOutput(dataTable, element);\n",
              "          const docLink = document.createElement('div');\n",
              "          docLink.innerHTML = docLinkHtml;\n",
              "          element.appendChild(docLink);\n",
              "        }\n",
              "      </script>\n",
              "    </div>\n",
              "  </div>\n",
              "  "
            ]
          },
          "metadata": {}
        },
        {
          "output_type": "display_data",
          "data": {
            "text/plain": [
              "'Number of Rows: 45476, Number of Columns: 3'"
            ],
            "application/vnd.google.colaboratory.intrinsic+json": {
              "type": "string"
            }
          },
          "metadata": {}
        },
        {
          "output_type": "display_data",
          "data": {
            "text/plain": [
              "'Data Types'"
            ],
            "application/vnd.google.colaboratory.intrinsic+json": {
              "type": "string"
            }
          },
          "metadata": {}
        },
        {
          "output_type": "display_data",
          "data": {
            "text/plain": [
              "  Column    Type\n",
              "0   cast  object\n",
              "1   crew  object\n",
              "2     id   int64"
            ],
            "text/html": [
              "\n",
              "  <div id=\"df-1b0cb5ba-785e-40f4-928f-39ac42f87159\">\n",
              "    <div class=\"colab-df-container\">\n",
              "      <div>\n",
              "<style scoped>\n",
              "    .dataframe tbody tr th:only-of-type {\n",
              "        vertical-align: middle;\n",
              "    }\n",
              "\n",
              "    .dataframe tbody tr th {\n",
              "        vertical-align: top;\n",
              "    }\n",
              "\n",
              "    .dataframe thead th {\n",
              "        text-align: right;\n",
              "    }\n",
              "</style>\n",
              "<table border=\"1\" class=\"dataframe\">\n",
              "  <thead>\n",
              "    <tr style=\"text-align: right;\">\n",
              "      <th></th>\n",
              "      <th>Column</th>\n",
              "      <th>Type</th>\n",
              "    </tr>\n",
              "  </thead>\n",
              "  <tbody>\n",
              "    <tr>\n",
              "      <th>0</th>\n",
              "      <td>cast</td>\n",
              "      <td>object</td>\n",
              "    </tr>\n",
              "    <tr>\n",
              "      <th>1</th>\n",
              "      <td>crew</td>\n",
              "      <td>object</td>\n",
              "    </tr>\n",
              "    <tr>\n",
              "      <th>2</th>\n",
              "      <td>id</td>\n",
              "      <td>int64</td>\n",
              "    </tr>\n",
              "  </tbody>\n",
              "</table>\n",
              "</div>\n",
              "      <button class=\"colab-df-convert\" onclick=\"convertToInteractive('df-1b0cb5ba-785e-40f4-928f-39ac42f87159')\"\n",
              "              title=\"Convert this dataframe to an interactive table.\"\n",
              "              style=\"display:none;\">\n",
              "        \n",
              "  <svg xmlns=\"http://www.w3.org/2000/svg\" height=\"24px\"viewBox=\"0 0 24 24\"\n",
              "       width=\"24px\">\n",
              "    <path d=\"M0 0h24v24H0V0z\" fill=\"none\"/>\n",
              "    <path d=\"M18.56 5.44l.94 2.06.94-2.06 2.06-.94-2.06-.94-.94-2.06-.94 2.06-2.06.94zm-11 1L8.5 8.5l.94-2.06 2.06-.94-2.06-.94L8.5 2.5l-.94 2.06-2.06.94zm10 10l.94 2.06.94-2.06 2.06-.94-2.06-.94-.94-2.06-.94 2.06-2.06.94z\"/><path d=\"M17.41 7.96l-1.37-1.37c-.4-.4-.92-.59-1.43-.59-.52 0-1.04.2-1.43.59L10.3 9.45l-7.72 7.72c-.78.78-.78 2.05 0 2.83L4 21.41c.39.39.9.59 1.41.59.51 0 1.02-.2 1.41-.59l7.78-7.78 2.81-2.81c.8-.78.8-2.07 0-2.86zM5.41 20L4 18.59l7.72-7.72 1.47 1.35L5.41 20z\"/>\n",
              "  </svg>\n",
              "      </button>\n",
              "      \n",
              "  <style>\n",
              "    .colab-df-container {\n",
              "      display:flex;\n",
              "      flex-wrap:wrap;\n",
              "      gap: 12px;\n",
              "    }\n",
              "\n",
              "    .colab-df-convert {\n",
              "      background-color: #E8F0FE;\n",
              "      border: none;\n",
              "      border-radius: 50%;\n",
              "      cursor: pointer;\n",
              "      display: none;\n",
              "      fill: #1967D2;\n",
              "      height: 32px;\n",
              "      padding: 0 0 0 0;\n",
              "      width: 32px;\n",
              "    }\n",
              "\n",
              "    .colab-df-convert:hover {\n",
              "      background-color: #E2EBFA;\n",
              "      box-shadow: 0px 1px 2px rgba(60, 64, 67, 0.3), 0px 1px 3px 1px rgba(60, 64, 67, 0.15);\n",
              "      fill: #174EA6;\n",
              "    }\n",
              "\n",
              "    [theme=dark] .colab-df-convert {\n",
              "      background-color: #3B4455;\n",
              "      fill: #D2E3FC;\n",
              "    }\n",
              "\n",
              "    [theme=dark] .colab-df-convert:hover {\n",
              "      background-color: #434B5C;\n",
              "      box-shadow: 0px 1px 3px 1px rgba(0, 0, 0, 0.15);\n",
              "      filter: drop-shadow(0px 1px 2px rgba(0, 0, 0, 0.3));\n",
              "      fill: #FFFFFF;\n",
              "    }\n",
              "  </style>\n",
              "\n",
              "      <script>\n",
              "        const buttonEl =\n",
              "          document.querySelector('#df-1b0cb5ba-785e-40f4-928f-39ac42f87159 button.colab-df-convert');\n",
              "        buttonEl.style.display =\n",
              "          google.colab.kernel.accessAllowed ? 'block' : 'none';\n",
              "\n",
              "        async function convertToInteractive(key) {\n",
              "          const element = document.querySelector('#df-1b0cb5ba-785e-40f4-928f-39ac42f87159');\n",
              "          const dataTable =\n",
              "            await google.colab.kernel.invokeFunction('convertToInteractive',\n",
              "                                                     [key], {});\n",
              "          if (!dataTable) return;\n",
              "\n",
              "          const docLinkHtml = 'Like what you see? Visit the ' +\n",
              "            '<a target=\"_blank\" href=https://colab.research.google.com/notebooks/data_table.ipynb>data table notebook</a>'\n",
              "            + ' to learn more about interactive tables.';\n",
              "          element.innerHTML = '';\n",
              "          dataTable['output_type'] = 'display_data';\n",
              "          await google.colab.output.renderOutput(dataTable, element);\n",
              "          const docLink = document.createElement('div');\n",
              "          docLink.innerHTML = docLinkHtml;\n",
              "          element.appendChild(docLink);\n",
              "        }\n",
              "      </script>\n",
              "    </div>\n",
              "  </div>\n",
              "  "
            ]
          },
          "metadata": {}
        },
        {
          "output_type": "display_data",
          "data": {
            "text/plain": [
              "'memory usage: 1.0+ MB'"
            ],
            "application/vnd.google.colaboratory.intrinsic+json": {
              "type": "string"
            }
          },
          "metadata": {}
        },
        {
          "output_type": "display_data",
          "data": {
            "text/plain": [
              "'Missing Values'"
            ],
            "application/vnd.google.colaboratory.intrinsic+json": {
              "type": "string"
            }
          },
          "metadata": {}
        },
        {
          "output_type": "display_data",
          "data": {
            "text/plain": [
              "'No Missing Values'"
            ],
            "application/vnd.google.colaboratory.intrinsic+json": {
              "type": "string"
            }
          },
          "metadata": {}
        }
      ]
    },
    {
      "cell_type": "code",
      "source": [
        "get_df_info(keywords, 'keywords')"
      ],
      "metadata": {
        "id": "W68obDTQcA9E",
        "colab": {
          "base_uri": "https://localhost:8080/",
          "height": 330
        },
        "outputId": "b6216ce7-1d62-4761-8eda-a67a0070d844"
      },
      "execution_count": null,
      "outputs": [
        {
          "output_type": "display_data",
          "data": {
            "text/plain": [
              "      id                                           keywords\n",
              "0    862  [{'id': 931, 'name': 'jealousy'}, {'id': 4290,...\n",
              "1   8844  [{'id': 10090, 'name': 'board game'}, {'id': 1...\n",
              "2  15602  [{'id': 1495, 'name': 'fishing'}, {'id': 12392..."
            ],
            "text/html": [
              "\n",
              "  <div id=\"df-4ef9154f-1712-42c3-bed1-c93047f18edd\">\n",
              "    <div class=\"colab-df-container\">\n",
              "      <div>\n",
              "<style scoped>\n",
              "    .dataframe tbody tr th:only-of-type {\n",
              "        vertical-align: middle;\n",
              "    }\n",
              "\n",
              "    .dataframe tbody tr th {\n",
              "        vertical-align: top;\n",
              "    }\n",
              "\n",
              "    .dataframe thead th {\n",
              "        text-align: right;\n",
              "    }\n",
              "</style>\n",
              "<table border=\"1\" class=\"dataframe\">\n",
              "  <thead>\n",
              "    <tr style=\"text-align: right;\">\n",
              "      <th></th>\n",
              "      <th>id</th>\n",
              "      <th>keywords</th>\n",
              "    </tr>\n",
              "  </thead>\n",
              "  <tbody>\n",
              "    <tr>\n",
              "      <th>0</th>\n",
              "      <td>862</td>\n",
              "      <td>[{'id': 931, 'name': 'jealousy'}, {'id': 4290,...</td>\n",
              "    </tr>\n",
              "    <tr>\n",
              "      <th>1</th>\n",
              "      <td>8844</td>\n",
              "      <td>[{'id': 10090, 'name': 'board game'}, {'id': 1...</td>\n",
              "    </tr>\n",
              "    <tr>\n",
              "      <th>2</th>\n",
              "      <td>15602</td>\n",
              "      <td>[{'id': 1495, 'name': 'fishing'}, {'id': 12392...</td>\n",
              "    </tr>\n",
              "  </tbody>\n",
              "</table>\n",
              "</div>\n",
              "      <button class=\"colab-df-convert\" onclick=\"convertToInteractive('df-4ef9154f-1712-42c3-bed1-c93047f18edd')\"\n",
              "              title=\"Convert this dataframe to an interactive table.\"\n",
              "              style=\"display:none;\">\n",
              "        \n",
              "  <svg xmlns=\"http://www.w3.org/2000/svg\" height=\"24px\"viewBox=\"0 0 24 24\"\n",
              "       width=\"24px\">\n",
              "    <path d=\"M0 0h24v24H0V0z\" fill=\"none\"/>\n",
              "    <path d=\"M18.56 5.44l.94 2.06.94-2.06 2.06-.94-2.06-.94-.94-2.06-.94 2.06-2.06.94zm-11 1L8.5 8.5l.94-2.06 2.06-.94-2.06-.94L8.5 2.5l-.94 2.06-2.06.94zm10 10l.94 2.06.94-2.06 2.06-.94-2.06-.94-.94-2.06-.94 2.06-2.06.94z\"/><path d=\"M17.41 7.96l-1.37-1.37c-.4-.4-.92-.59-1.43-.59-.52 0-1.04.2-1.43.59L10.3 9.45l-7.72 7.72c-.78.78-.78 2.05 0 2.83L4 21.41c.39.39.9.59 1.41.59.51 0 1.02-.2 1.41-.59l7.78-7.78 2.81-2.81c.8-.78.8-2.07 0-2.86zM5.41 20L4 18.59l7.72-7.72 1.47 1.35L5.41 20z\"/>\n",
              "  </svg>\n",
              "      </button>\n",
              "      \n",
              "  <style>\n",
              "    .colab-df-container {\n",
              "      display:flex;\n",
              "      flex-wrap:wrap;\n",
              "      gap: 12px;\n",
              "    }\n",
              "\n",
              "    .colab-df-convert {\n",
              "      background-color: #E8F0FE;\n",
              "      border: none;\n",
              "      border-radius: 50%;\n",
              "      cursor: pointer;\n",
              "      display: none;\n",
              "      fill: #1967D2;\n",
              "      height: 32px;\n",
              "      padding: 0 0 0 0;\n",
              "      width: 32px;\n",
              "    }\n",
              "\n",
              "    .colab-df-convert:hover {\n",
              "      background-color: #E2EBFA;\n",
              "      box-shadow: 0px 1px 2px rgba(60, 64, 67, 0.3), 0px 1px 3px 1px rgba(60, 64, 67, 0.15);\n",
              "      fill: #174EA6;\n",
              "    }\n",
              "\n",
              "    [theme=dark] .colab-df-convert {\n",
              "      background-color: #3B4455;\n",
              "      fill: #D2E3FC;\n",
              "    }\n",
              "\n",
              "    [theme=dark] .colab-df-convert:hover {\n",
              "      background-color: #434B5C;\n",
              "      box-shadow: 0px 1px 3px 1px rgba(0, 0, 0, 0.15);\n",
              "      filter: drop-shadow(0px 1px 2px rgba(0, 0, 0, 0.3));\n",
              "      fill: #FFFFFF;\n",
              "    }\n",
              "  </style>\n",
              "\n",
              "      <script>\n",
              "        const buttonEl =\n",
              "          document.querySelector('#df-4ef9154f-1712-42c3-bed1-c93047f18edd button.colab-df-convert');\n",
              "        buttonEl.style.display =\n",
              "          google.colab.kernel.accessAllowed ? 'block' : 'none';\n",
              "\n",
              "        async function convertToInteractive(key) {\n",
              "          const element = document.querySelector('#df-4ef9154f-1712-42c3-bed1-c93047f18edd');\n",
              "          const dataTable =\n",
              "            await google.colab.kernel.invokeFunction('convertToInteractive',\n",
              "                                                     [key], {});\n",
              "          if (!dataTable) return;\n",
              "\n",
              "          const docLinkHtml = 'Like what you see? Visit the ' +\n",
              "            '<a target=\"_blank\" href=https://colab.research.google.com/notebooks/data_table.ipynb>data table notebook</a>'\n",
              "            + ' to learn more about interactive tables.';\n",
              "          element.innerHTML = '';\n",
              "          dataTable['output_type'] = 'display_data';\n",
              "          await google.colab.output.renderOutput(dataTable, element);\n",
              "          const docLink = document.createElement('div');\n",
              "          docLink.innerHTML = docLinkHtml;\n",
              "          element.appendChild(docLink);\n",
              "        }\n",
              "      </script>\n",
              "    </div>\n",
              "  </div>\n",
              "  "
            ]
          },
          "metadata": {}
        },
        {
          "output_type": "display_data",
          "data": {
            "text/plain": [
              "'Number of Rows: 46419, Number of Columns: 2'"
            ],
            "application/vnd.google.colaboratory.intrinsic+json": {
              "type": "string"
            }
          },
          "metadata": {}
        },
        {
          "output_type": "display_data",
          "data": {
            "text/plain": [
              "'Data Types'"
            ],
            "application/vnd.google.colaboratory.intrinsic+json": {
              "type": "string"
            }
          },
          "metadata": {}
        },
        {
          "output_type": "display_data",
          "data": {
            "text/plain": [
              "     Column    Type\n",
              "0        id   int64\n",
              "1  keywords  object"
            ],
            "text/html": [
              "\n",
              "  <div id=\"df-661f3c13-4a7f-489a-a407-ab0fc39eec47\">\n",
              "    <div class=\"colab-df-container\">\n",
              "      <div>\n",
              "<style scoped>\n",
              "    .dataframe tbody tr th:only-of-type {\n",
              "        vertical-align: middle;\n",
              "    }\n",
              "\n",
              "    .dataframe tbody tr th {\n",
              "        vertical-align: top;\n",
              "    }\n",
              "\n",
              "    .dataframe thead th {\n",
              "        text-align: right;\n",
              "    }\n",
              "</style>\n",
              "<table border=\"1\" class=\"dataframe\">\n",
              "  <thead>\n",
              "    <tr style=\"text-align: right;\">\n",
              "      <th></th>\n",
              "      <th>Column</th>\n",
              "      <th>Type</th>\n",
              "    </tr>\n",
              "  </thead>\n",
              "  <tbody>\n",
              "    <tr>\n",
              "      <th>0</th>\n",
              "      <td>id</td>\n",
              "      <td>int64</td>\n",
              "    </tr>\n",
              "    <tr>\n",
              "      <th>1</th>\n",
              "      <td>keywords</td>\n",
              "      <td>object</td>\n",
              "    </tr>\n",
              "  </tbody>\n",
              "</table>\n",
              "</div>\n",
              "      <button class=\"colab-df-convert\" onclick=\"convertToInteractive('df-661f3c13-4a7f-489a-a407-ab0fc39eec47')\"\n",
              "              title=\"Convert this dataframe to an interactive table.\"\n",
              "              style=\"display:none;\">\n",
              "        \n",
              "  <svg xmlns=\"http://www.w3.org/2000/svg\" height=\"24px\"viewBox=\"0 0 24 24\"\n",
              "       width=\"24px\">\n",
              "    <path d=\"M0 0h24v24H0V0z\" fill=\"none\"/>\n",
              "    <path d=\"M18.56 5.44l.94 2.06.94-2.06 2.06-.94-2.06-.94-.94-2.06-.94 2.06-2.06.94zm-11 1L8.5 8.5l.94-2.06 2.06-.94-2.06-.94L8.5 2.5l-.94 2.06-2.06.94zm10 10l.94 2.06.94-2.06 2.06-.94-2.06-.94-.94-2.06-.94 2.06-2.06.94z\"/><path d=\"M17.41 7.96l-1.37-1.37c-.4-.4-.92-.59-1.43-.59-.52 0-1.04.2-1.43.59L10.3 9.45l-7.72 7.72c-.78.78-.78 2.05 0 2.83L4 21.41c.39.39.9.59 1.41.59.51 0 1.02-.2 1.41-.59l7.78-7.78 2.81-2.81c.8-.78.8-2.07 0-2.86zM5.41 20L4 18.59l7.72-7.72 1.47 1.35L5.41 20z\"/>\n",
              "  </svg>\n",
              "      </button>\n",
              "      \n",
              "  <style>\n",
              "    .colab-df-container {\n",
              "      display:flex;\n",
              "      flex-wrap:wrap;\n",
              "      gap: 12px;\n",
              "    }\n",
              "\n",
              "    .colab-df-convert {\n",
              "      background-color: #E8F0FE;\n",
              "      border: none;\n",
              "      border-radius: 50%;\n",
              "      cursor: pointer;\n",
              "      display: none;\n",
              "      fill: #1967D2;\n",
              "      height: 32px;\n",
              "      padding: 0 0 0 0;\n",
              "      width: 32px;\n",
              "    }\n",
              "\n",
              "    .colab-df-convert:hover {\n",
              "      background-color: #E2EBFA;\n",
              "      box-shadow: 0px 1px 2px rgba(60, 64, 67, 0.3), 0px 1px 3px 1px rgba(60, 64, 67, 0.15);\n",
              "      fill: #174EA6;\n",
              "    }\n",
              "\n",
              "    [theme=dark] .colab-df-convert {\n",
              "      background-color: #3B4455;\n",
              "      fill: #D2E3FC;\n",
              "    }\n",
              "\n",
              "    [theme=dark] .colab-df-convert:hover {\n",
              "      background-color: #434B5C;\n",
              "      box-shadow: 0px 1px 3px 1px rgba(0, 0, 0, 0.15);\n",
              "      filter: drop-shadow(0px 1px 2px rgba(0, 0, 0, 0.3));\n",
              "      fill: #FFFFFF;\n",
              "    }\n",
              "  </style>\n",
              "\n",
              "      <script>\n",
              "        const buttonEl =\n",
              "          document.querySelector('#df-661f3c13-4a7f-489a-a407-ab0fc39eec47 button.colab-df-convert');\n",
              "        buttonEl.style.display =\n",
              "          google.colab.kernel.accessAllowed ? 'block' : 'none';\n",
              "\n",
              "        async function convertToInteractive(key) {\n",
              "          const element = document.querySelector('#df-661f3c13-4a7f-489a-a407-ab0fc39eec47');\n",
              "          const dataTable =\n",
              "            await google.colab.kernel.invokeFunction('convertToInteractive',\n",
              "                                                     [key], {});\n",
              "          if (!dataTable) return;\n",
              "\n",
              "          const docLinkHtml = 'Like what you see? Visit the ' +\n",
              "            '<a target=\"_blank\" href=https://colab.research.google.com/notebooks/data_table.ipynb>data table notebook</a>'\n",
              "            + ' to learn more about interactive tables.';\n",
              "          element.innerHTML = '';\n",
              "          dataTable['output_type'] = 'display_data';\n",
              "          await google.colab.output.renderOutput(dataTable, element);\n",
              "          const docLink = document.createElement('div');\n",
              "          docLink.innerHTML = docLinkHtml;\n",
              "          element.appendChild(docLink);\n",
              "        }\n",
              "      </script>\n",
              "    </div>\n",
              "  </div>\n",
              "  "
            ]
          },
          "metadata": {}
        },
        {
          "output_type": "display_data",
          "data": {
            "text/plain": [
              "'memory usage: 725.4+ KB'"
            ],
            "application/vnd.google.colaboratory.intrinsic+json": {
              "type": "string"
            }
          },
          "metadata": {}
        },
        {
          "output_type": "display_data",
          "data": {
            "text/plain": [
              "'Missing Values'"
            ],
            "application/vnd.google.colaboratory.intrinsic+json": {
              "type": "string"
            }
          },
          "metadata": {}
        },
        {
          "output_type": "display_data",
          "data": {
            "text/plain": [
              "'No Missing Values'"
            ],
            "application/vnd.google.colaboratory.intrinsic+json": {
              "type": "string"
            }
          },
          "metadata": {}
        }
      ]
    },
    {
      "cell_type": "markdown",
      "metadata": {
        "id": "fvoT07gOb7sL"
      },
      "source": [
        "In all the data info displayed, we can see that only ratings have a large memory usage, and I will use this dataset to make the recommendation system based on user ratings, the dataset have the relevant data like userId, movieId and ratings.<br>\n",
        "It's important to say that the ratings dataset doesn't have any missing value, therefore, will not needed any treatment like data imputation or drop NA rows.<br>\n",
        "The other datasets will be used for Exploratory Data Analysis.\n"
      ]
    },
    {
      "cell_type": "markdown",
      "metadata": {
        "id": "UBvwJZj1b7sL"
      },
      "source": [
        "<br>\n",
        "<a id='bkground'></a>\n",
        "<div class=\"h2\"><center>Exploratory Data Analysis</center></div>\n",
        "<br>"
      ]
    },
    {
      "cell_type": "markdown",
      "metadata": {
        "id": "B-wggXcUb7sM"
      },
      "source": [
        "<div class=\"h3\">Let's start with the following approaches</div><br>\n",
        "* Rating Frequency.\n",
        "* Analysis of most rated movies.\n",
        "* World cloud with most common words.\n",
        "\n",
        "Let's start plotting an Histogram to see the rating distribution."
      ]
    },
    {
      "cell_type": "code",
      "source": [
        "np.arange(0.5, 5.5, 0.5)"
      ],
      "metadata": {
        "id": "2dEizt60NKxb",
        "colab": {
          "base_uri": "https://localhost:8080/"
        },
        "outputId": "55b62b59-4bb2-49bb-93bc-784da61f6530"
      },
      "execution_count": null,
      "outputs": [
        {
          "output_type": "execute_result",
          "data": {
            "text/plain": [
              "array([0.5, 1. , 1.5, 2. , 2.5, 3. , 3.5, 4. , 4.5, 5. ])"
            ]
          },
          "metadata": {},
          "execution_count": 25
        }
      ]
    },
    {
      "cell_type": "code",
      "source": [
        "ratings['rating'][:10]"
      ],
      "metadata": {
        "id": "h5j5P9jZN_7T",
        "colab": {
          "base_uri": "https://localhost:8080/"
        },
        "outputId": "6eb2b22c-71a8-4472-c3b6-260bef8fc7d8"
      },
      "execution_count": null,
      "outputs": [
        {
          "output_type": "execute_result",
          "data": {
            "text/plain": [
              "0    1.0\n",
              "1    4.5\n",
              "2    5.0\n",
              "3    5.0\n",
              "4    5.0\n",
              "5    4.0\n",
              "6    4.5\n",
              "7    5.0\n",
              "8    4.0\n",
              "9    4.0\n",
              "Name: rating, dtype: float64"
            ]
          },
          "metadata": {},
          "execution_count": 26
        }
      ]
    },
    {
      "cell_type": "code",
      "execution_count": null,
      "metadata": {
        "id": "lEwWVr3cb7sM",
        "colab": {
          "base_uri": "https://localhost:8080/",
          "height": 539
        },
        "outputId": "d64aada0-26b9-4665-ebf1-05e9f4bcb2c3"
      },
      "outputs": [
        {
          "output_type": "display_data",
          "data": {
            "text/plain": [
              "<Figure size 700x600 with 1 Axes>"
            ],
            "image/svg+xml": "<?xml version=\"1.0\" encoding=\"utf-8\" standalone=\"no\"?>\n<!DOCTYPE svg PUBLIC \"-//W3C//DTD SVG 1.1//EN\"\n  \"http://www.w3.org/Graphics/SVG/1.1/DTD/svg11.dtd\">\n<svg xmlns:xlink=\"http://www.w3.org/1999/xlink\" width=\"429.770625pt\" height=\"388.06625pt\" viewBox=\"0 0 429.770625 388.06625\" xmlns=\"http://www.w3.org/2000/svg\" version=\"1.1\">\n <metadata>\n  <rdf:RDF xmlns:dc=\"http://purl.org/dc/elements/1.1/\" xmlns:cc=\"http://creativecommons.org/ns#\" xmlns:rdf=\"http://www.w3.org/1999/02/22-rdf-syntax-ns#\">\n   <cc:Work>\n    <dc:type rdf:resource=\"http://purl.org/dc/dcmitype/StillImage\"/>\n    <dc:date>2023-05-05T19:23:22.013073</dc:date>\n    <dc:format>image/svg+xml</dc:format>\n    <dc:creator>\n     <cc:Agent>\n      <dc:title>Matplotlib v3.7.1, https://matplotlib.org/</dc:title>\n     </cc:Agent>\n    </dc:creator>\n   </cc:Work>\n  </rdf:RDF>\n </metadata>\n <defs>\n  <style type=\"text/css\">*{stroke-linejoin: round; stroke-linecap: butt}</style>\n </defs>\n <g id=\"figure_1\">\n  <g id=\"patch_1\">\n   <path d=\"M 0 388.06625 \nL 429.770625 388.06625 \nL 429.770625 0 \nL 0 0 \nz\n\" style=\"fill: #ffffff\"/>\n  </g>\n  <g id=\"axes_1\">\n   <g id=\"patch_2\">\n    <path d=\"M 31.970625 353.086875 \nL 422.570625 353.086875 \nL 422.570625 20.446875 \nL 31.970625 20.446875 \nz\n\" style=\"fill: #eaeaf2\"/>\n   </g>\n   <g id=\"matplotlib.axis_1\">\n    <g id=\"xtick_1\">\n     <g id=\"line2d_1\">\n      <path d=\"M 86.361534 353.086875 \nL 86.361534 20.446875 \n\" clip-path=\"url(#p9df094767a)\" style=\"fill: none; stroke: #ffffff; stroke-linecap: round\"/>\n     </g>\n     <g id=\"line2d_2\"/>\n     <g id=\"text_1\">\n      <!-- 1 -->\n      <g style=\"fill: #262626\" transform=\"translate(84.137159 365.884375) scale(0.08 -0.08)\">\n       <defs>\n        <path id=\"LiberationSans-31\" d=\"M 488 0 \nL 488 478 \nL 1609 478 \nL 1609 3866 \nL 616 3156 \nL 616 3688 \nL 1656 4403 \nL 2175 4403 \nL 2175 478 \nL 3247 478 \nL 3247 0 \nL 488 0 \nz\n\" transform=\"scale(0.015625)\"/>\n       </defs>\n       <use xlink:href=\"#LiberationSans-31\"/>\n      </g>\n     </g>\n    </g>\n    <g id=\"xtick_2\">\n     <g id=\"line2d_3\">\n      <path d=\"M 166.881015 353.086875 \nL 166.881015 20.446875 \n\" clip-path=\"url(#p9df094767a)\" style=\"fill: none; stroke: #ffffff; stroke-linecap: round\"/>\n     </g>\n     <g id=\"line2d_4\"/>\n     <g id=\"text_2\">\n      <!-- 2 -->\n      <g style=\"fill: #262626\" transform=\"translate(164.65664 365.884375) scale(0.08 -0.08)\">\n       <defs>\n        <path id=\"LiberationSans-32\" d=\"M 322 0 \nL 322 397 \nQ 481 763 711 1042 \nQ 941 1322 1194 1548 \nQ 1447 1775 1695 1969 \nQ 1944 2163 2144 2356 \nQ 2344 2550 2467 2762 \nQ 2591 2975 2591 3244 \nQ 2591 3431 2534 3573 \nQ 2478 3716 2372 3812 \nQ 2266 3909 2117 3957 \nQ 1969 4006 1788 4006 \nQ 1619 4006 1470 3959 \nQ 1322 3913 1206 3819 \nQ 1091 3725 1017 3586 \nQ 944 3447 922 3263 \nL 347 3316 \nQ 375 3553 478 3762 \nQ 581 3972 762 4130 \nQ 944 4288 1198 4378 \nQ 1453 4469 1788 4469 \nQ 2116 4469 2372 4391 \nQ 2628 4313 2804 4159 \nQ 2981 4006 3075 3781 \nQ 3169 3556 3169 3263 \nQ 3169 3041 3089 2841 \nQ 3009 2641 2876 2459 \nQ 2744 2278 2569 2109 \nQ 2394 1941 2203 1780 \nQ 2013 1619 1819 1461 \nQ 1625 1303 1454 1143 \nQ 1284 984 1150 820 \nQ 1016 656 941 478 \nL 3238 478 \nL 3238 0 \nL 322 0 \nz\n\" transform=\"scale(0.015625)\"/>\n       </defs>\n       <use xlink:href=\"#LiberationSans-32\"/>\n      </g>\n     </g>\n    </g>\n    <g id=\"xtick_3\">\n     <g id=\"line2d_5\">\n      <path d=\"M 247.400495 353.086875 \nL 247.400495 20.446875 \n\" clip-path=\"url(#p9df094767a)\" style=\"fill: none; stroke: #ffffff; stroke-linecap: round\"/>\n     </g>\n     <g id=\"line2d_6\"/>\n     <g id=\"text_3\">\n      <!-- 3 -->\n      <g style=\"fill: #262626\" transform=\"translate(245.17612 365.884375) scale(0.08 -0.08)\">\n       <defs>\n        <path id=\"LiberationSans-33\" d=\"M 3278 1216 \nQ 3278 913 3179 675 \nQ 3081 438 2892 273 \nQ 2703 109 2423 23 \nQ 2144 -63 1784 -63 \nQ 1375 -63 1095 39 \nQ 816 141 634 308 \nQ 453 475 362 689 \nQ 272 903 244 1131 \nL 825 1184 \nQ 850 1009 917 865 \nQ 984 722 1100 619 \nQ 1216 516 1384 459 \nQ 1553 403 1784 403 \nQ 2209 403 2451 612 \nQ 2694 822 2694 1234 \nQ 2694 1478 2586 1626 \nQ 2478 1775 2317 1858 \nQ 2156 1941 1967 1969 \nQ 1778 1997 1619 1997 \nL 1300 1997 \nL 1300 2484 \nL 1606 2484 \nQ 1766 2484 1937 2517 \nQ 2109 2550 2251 2636 \nQ 2394 2722 2486 2869 \nQ 2578 3016 2578 3244 \nQ 2578 3597 2370 3801 \nQ 2163 4006 1753 4006 \nQ 1381 4006 1151 3815 \nQ 922 3625 884 3278 \nL 319 3322 \nQ 353 3613 478 3828 \nQ 603 4044 795 4186 \nQ 988 4328 1234 4398 \nQ 1481 4469 1759 4469 \nQ 2128 4469 2393 4376 \nQ 2659 4284 2828 4126 \nQ 2997 3969 3076 3756 \nQ 3156 3544 3156 3303 \nQ 3156 3109 3103 2940 \nQ 3050 2772 2937 2637 \nQ 2825 2503 2651 2406 \nQ 2478 2309 2234 2259 \nL 2234 2247 \nQ 2500 2219 2697 2126 \nQ 2894 2034 3022 1896 \nQ 3150 1759 3214 1584 \nQ 3278 1409 3278 1216 \nz\n\" transform=\"scale(0.015625)\"/>\n       </defs>\n       <use xlink:href=\"#LiberationSans-33\"/>\n      </g>\n     </g>\n    </g>\n    <g id=\"xtick_4\">\n     <g id=\"line2d_7\">\n      <path d=\"M 327.919976 353.086875 \nL 327.919976 20.446875 \n\" clip-path=\"url(#p9df094767a)\" style=\"fill: none; stroke: #ffffff; stroke-linecap: round\"/>\n     </g>\n     <g id=\"line2d_8\"/>\n     <g id=\"text_4\">\n      <!-- 4 -->\n      <g style=\"fill: #262626\" transform=\"translate(325.695601 365.884375) scale(0.08 -0.08)\">\n       <defs>\n        <path id=\"LiberationSans-34\" d=\"M 2753 997 \nL 2753 0 \nL 2222 0 \nL 2222 997 \nL 147 997 \nL 147 1434 \nL 2163 4403 \nL 2753 4403 \nL 2753 1441 \nL 3372 1441 \nL 3372 997 \nL 2753 997 \nz\nM 2222 3769 \nQ 2216 3753 2191 3708 \nQ 2166 3663 2134 3606 \nQ 2103 3550 2070 3492 \nQ 2038 3434 2013 3397 \nL 884 1734 \nQ 869 1709 839 1668 \nQ 809 1628 778 1586 \nQ 747 1544 715 1503 \nQ 684 1463 666 1441 \nL 2222 1441 \nL 2222 3769 \nz\n\" transform=\"scale(0.015625)\"/>\n       </defs>\n       <use xlink:href=\"#LiberationSans-34\"/>\n      </g>\n     </g>\n    </g>\n    <g id=\"xtick_5\">\n     <g id=\"line2d_9\">\n      <path d=\"M 408.439456 353.086875 \nL 408.439456 20.446875 \n\" clip-path=\"url(#p9df094767a)\" style=\"fill: none; stroke: #ffffff; stroke-linecap: round\"/>\n     </g>\n     <g id=\"line2d_10\"/>\n     <g id=\"text_5\">\n      <!-- 5 -->\n      <g style=\"fill: #262626\" transform=\"translate(406.215081 365.884375) scale(0.08 -0.08)\">\n       <defs>\n        <path id=\"LiberationSans-35\" d=\"M 3291 1434 \nQ 3291 1103 3191 828 \nQ 3091 553 2894 354 \nQ 2697 156 2405 46 \nQ 2113 -63 1728 -63 \nQ 1381 -63 1123 18 \nQ 866 100 687 242 \nQ 509 384 404 575 \nQ 300 766 256 984 \nL 825 1050 \nQ 859 925 921 808 \nQ 984 691 1092 598 \nQ 1200 506 1358 451 \nQ 1516 397 1741 397 \nQ 1959 397 2137 464 \nQ 2316 531 2442 662 \nQ 2569 794 2637 984 \nQ 2706 1175 2706 1422 \nQ 2706 1625 2640 1795 \nQ 2575 1966 2453 2089 \nQ 2331 2213 2154 2281 \nQ 1978 2350 1753 2350 \nQ 1613 2350 1494 2325 \nQ 1375 2300 1273 2256 \nQ 1172 2213 1089 2155 \nQ 1006 2097 934 2034 \nL 384 2034 \nL 531 4403 \nL 3034 4403 \nL 3034 3925 \nL 1044 3925 \nL 959 2528 \nQ 1109 2644 1334 2726 \nQ 1559 2809 1869 2809 \nQ 2197 2809 2459 2709 \nQ 2722 2609 2906 2426 \nQ 3091 2244 3191 1991 \nQ 3291 1738 3291 1434 \nz\n\" transform=\"scale(0.015625)\"/>\n       </defs>\n       <use xlink:href=\"#LiberationSans-35\"/>\n      </g>\n     </g>\n    </g>\n    <g id=\"text_6\">\n     <!-- Rating -->\n     <g style=\"fill: #262626\" transform=\"translate(212.818281 378.79125) scale(0.1 -0.1)\">\n      <defs>\n       <path id=\"LiberationSans-52\" d=\"M 3638 0 \nL 2494 1828 \nL 1122 1828 \nL 1122 0 \nL 525 0 \nL 525 4403 \nL 2597 4403 \nQ 2972 4403 3261 4317 \nQ 3550 4231 3747 4068 \nQ 3944 3906 4047 3672 \nQ 4150 3438 4150 3144 \nQ 4150 2934 4089 2731 \nQ 4028 2528 3897 2359 \nQ 3766 2191 3562 2069 \nQ 3359 1947 3075 1897 \nL 4325 0 \nL 3638 0 \nz\nM 3550 3138 \nQ 3550 3338 3481 3484 \nQ 3413 3631 3281 3729 \nQ 3150 3828 2962 3876 \nQ 2775 3925 2538 3925 \nL 1122 3925 \nL 1122 2300 \nL 2563 2300 \nQ 2819 2300 3006 2364 \nQ 3194 2428 3314 2540 \nQ 3434 2653 3492 2806 \nQ 3550 2959 3550 3138 \nz\n\" transform=\"scale(0.015625)\"/>\n       <path id=\"LiberationSans-61\" d=\"M 1294 -63 \nQ 784 -63 528 206 \nQ 272 475 272 944 \nQ 272 1278 398 1492 \nQ 525 1706 729 1828 \nQ 934 1950 1196 1997 \nQ 1459 2044 1731 2050 \nL 2491 2063 \nL 2491 2247 \nQ 2491 2456 2447 2603 \nQ 2403 2750 2312 2840 \nQ 2222 2931 2086 2973 \nQ 1950 3016 1766 3016 \nQ 1603 3016 1472 2992 \nQ 1341 2969 1244 2908 \nQ 1147 2847 1087 2742 \nQ 1028 2638 1009 2478 \nL 422 2531 \nQ 453 2731 540 2898 \nQ 628 3066 789 3187 \nQ 950 3309 1192 3376 \nQ 1434 3444 1778 3444 \nQ 2416 3444 2737 3151 \nQ 3059 2859 3059 2306 \nL 3059 850 \nQ 3059 600 3125 473 \nQ 3191 347 3375 347 \nQ 3422 347 3469 353 \nQ 3516 359 3559 369 \nL 3559 19 \nQ 3453 -6 3348 -18 \nQ 3244 -31 3125 -31 \nQ 2966 -31 2852 11 \nQ 2738 53 2666 139 \nQ 2594 225 2556 351 \nQ 2519 478 2509 647 \nL 2491 647 \nQ 2400 484 2292 353 \nQ 2184 222 2040 130 \nQ 1897 38 1714 -12 \nQ 1531 -63 1294 -63 \nz\nM 1422 359 \nQ 1691 359 1892 457 \nQ 2094 556 2226 709 \nQ 2359 863 2425 1044 \nQ 2491 1225 2491 1391 \nL 2491 1669 \nL 1875 1656 \nQ 1669 1653 1483 1626 \nQ 1297 1600 1156 1522 \nQ 1016 1444 933 1303 \nQ 850 1163 850 934 \nQ 850 659 998 509 \nQ 1147 359 1422 359 \nz\n\" transform=\"scale(0.015625)\"/>\n       <path id=\"LiberationSans-74\" d=\"M 1731 25 \nQ 1603 -9 1470 -29 \nQ 1338 -50 1163 -50 \nQ 488 -50 488 716 \nL 488 2972 \nL 97 2972 \nL 97 3381 \nL 509 3381 \nL 675 4138 \nL 1050 4138 \nL 1050 3381 \nL 1675 3381 \nL 1675 2972 \nL 1050 2972 \nL 1050 838 \nQ 1050 594 1129 495 \nQ 1209 397 1406 397 \nQ 1488 397 1564 409 \nQ 1641 422 1731 441 \nL 1731 25 \nz\n\" transform=\"scale(0.015625)\"/>\n       <path id=\"LiberationSans-69\" d=\"M 428 4100 \nL 428 4638 \nL 991 4638 \nL 991 4100 \nL 428 4100 \nz\nM 428 0 \nL 428 3381 \nL 991 3381 \nL 991 0 \nL 428 0 \nz\n\" transform=\"scale(0.015625)\"/>\n       <path id=\"LiberationSans-6e\" d=\"M 2578 0 \nL 2578 2144 \nQ 2578 2391 2542 2556 \nQ 2506 2722 2425 2823 \nQ 2344 2925 2211 2967 \nQ 2078 3009 1881 3009 \nQ 1681 3009 1520 2939 \nQ 1359 2869 1245 2736 \nQ 1131 2603 1068 2408 \nQ 1006 2213 1006 1959 \nL 1006 0 \nL 444 0 \nL 444 2659 \nQ 444 2766 442 2883 \nQ 441 3000 437 3104 \nQ 434 3209 431 3284 \nQ 428 3359 425 3381 \nL 956 3381 \nQ 959 3366 962 3297 \nQ 966 3228 970 3139 \nQ 975 3050 978 2958 \nQ 981 2866 981 2803 \nL 991 2803 \nQ 1072 2950 1169 3069 \nQ 1266 3188 1394 3270 \nQ 1522 3353 1687 3398 \nQ 1853 3444 2072 3444 \nQ 2353 3444 2556 3375 \nQ 2759 3306 2890 3162 \nQ 3022 3019 3083 2792 \nQ 3144 2566 3144 2253 \nL 3144 0 \nL 2578 0 \nz\n\" transform=\"scale(0.015625)\"/>\n       <path id=\"LiberationSans-67\" d=\"M 1713 -1328 \nQ 1422 -1328 1197 -1268 \nQ 972 -1209 812 -1098 \nQ 653 -988 553 -834 \nQ 453 -681 409 -494 \nL 975 -413 \nQ 1031 -647 1223 -773 \nQ 1416 -900 1728 -900 \nQ 1919 -900 2075 -847 \nQ 2231 -794 2340 -676 \nQ 2450 -559 2509 -371 \nQ 2569 -184 2569 84 \nL 2569 628 \nL 2563 628 \nQ 2500 500 2408 383 \nQ 2316 266 2183 175 \nQ 2050 84 1875 29 \nQ 1700 -25 1475 -25 \nQ 1153 -25 923 83 \nQ 694 191 548 406 \nQ 403 622 336 942 \nQ 269 1263 269 1684 \nQ 269 2091 336 2416 \nQ 403 2741 554 2967 \nQ 706 3194 948 3314 \nQ 1191 3434 1538 3434 \nQ 1897 3434 2161 3270 \nQ 2425 3106 2569 2803 \nL 2575 2803 \nQ 2575 2881 2579 2978 \nQ 2584 3075 2589 3161 \nQ 2594 3247 2600 3309 \nQ 2606 3372 2613 3381 \nL 3147 3381 \nQ 3144 3353 3141 3286 \nQ 3138 3219 3134 3125 \nQ 3131 3031 3129 2917 \nQ 3128 2803 3128 2681 \nL 3128 97 \nQ 3128 -613 2779 -970 \nQ 2431 -1328 1713 -1328 \nz\nM 2569 1691 \nQ 2569 2044 2492 2295 \nQ 2416 2547 2291 2706 \nQ 2166 2866 2005 2941 \nQ 1844 3016 1675 3016 \nQ 1459 3016 1304 2941 \nQ 1150 2866 1048 2705 \nQ 947 2544 898 2292 \nQ 850 2041 850 1691 \nQ 850 1325 898 1076 \nQ 947 828 1047 675 \nQ 1147 522 1300 456 \nQ 1453 391 1666 391 \nQ 1834 391 1995 462 \nQ 2156 534 2284 690 \nQ 2413 847 2491 1094 \nQ 2569 1341 2569 1691 \nz\n\" transform=\"scale(0.015625)\"/>\n      </defs>\n      <use xlink:href=\"#LiberationSans-52\"/>\n      <use xlink:href=\"#LiberationSans-61\" x=\"72.216797\"/>\n      <use xlink:href=\"#LiberationSans-74\" x=\"127.832031\"/>\n      <use xlink:href=\"#LiberationSans-69\" x=\"155.615234\"/>\n      <use xlink:href=\"#LiberationSans-6e\" x=\"177.832031\"/>\n      <use xlink:href=\"#LiberationSans-67\" x=\"233.447266\"/>\n     </g>\n    </g>\n   </g>\n   <g id=\"matplotlib.axis_2\">\n    <g id=\"ytick_1\">\n     <g id=\"line2d_11\">\n      <path d=\"M 31.970625 353.086875 \nL 422.570625 353.086875 \n\" clip-path=\"url(#p9df094767a)\" style=\"fill: none; stroke: #ffffff; stroke-linecap: round\"/>\n     </g>\n     <g id=\"line2d_12\"/>\n     <g id=\"text_7\">\n      <!-- 0 -->\n      <g style=\"fill: #262626\" transform=\"translate(20.521875 355.985625) scale(0.08 -0.08)\">\n       <defs>\n        <path id=\"LiberationSans-30\" d=\"M 3309 2203 \nQ 3309 1569 3189 1136 \nQ 3069 703 2861 436 \nQ 2653 169 2372 53 \nQ 2091 -63 1772 -63 \nQ 1450 -63 1172 53 \nQ 894 169 689 434 \nQ 484 700 367 1133 \nQ 250 1566 250 2203 \nQ 250 2869 367 3305 \nQ 484 3741 690 4000 \nQ 897 4259 1178 4364 \nQ 1459 4469 1791 4469 \nQ 2106 4469 2382 4364 \nQ 2659 4259 2865 4000 \nQ 3072 3741 3190 3305 \nQ 3309 2869 3309 2203 \nz\nM 2738 2203 \nQ 2738 2728 2675 3076 \nQ 2613 3425 2491 3633 \nQ 2369 3841 2192 3927 \nQ 2016 4013 1791 4013 \nQ 1553 4013 1372 3925 \nQ 1191 3838 1067 3630 \nQ 944 3422 881 3073 \nQ 819 2725 819 2203 \nQ 819 1697 883 1350 \nQ 947 1003 1070 792 \nQ 1194 581 1372 489 \nQ 1550 397 1778 397 \nQ 2000 397 2178 489 \nQ 2356 581 2479 792 \nQ 2603 1003 2670 1350 \nQ 2738 1697 2738 2203 \nz\n\" transform=\"scale(0.015625)\"/>\n       </defs>\n       <use xlink:href=\"#LiberationSans-30\"/>\n      </g>\n     </g>\n    </g>\n    <g id=\"ytick_2\">\n     <g id=\"line2d_13\">\n      <path d=\"M 31.970625 307.821985 \nL 422.570625 307.821985 \n\" clip-path=\"url(#p9df094767a)\" style=\"fill: none; stroke: #ffffff; stroke-linecap: round\"/>\n     </g>\n     <g id=\"line2d_14\"/>\n     <g id=\"text_8\">\n      <!-- 1 -->\n      <g style=\"fill: #262626\" transform=\"translate(20.521875 310.720735) scale(0.08 -0.08)\">\n       <use xlink:href=\"#LiberationSans-31\"/>\n      </g>\n     </g>\n    </g>\n    <g id=\"ytick_3\">\n     <g id=\"line2d_15\">\n      <path d=\"M 31.970625 262.557096 \nL 422.570625 262.557096 \n\" clip-path=\"url(#p9df094767a)\" style=\"fill: none; stroke: #ffffff; stroke-linecap: round\"/>\n     </g>\n     <g id=\"line2d_16\"/>\n     <g id=\"text_9\">\n      <!-- 2 -->\n      <g style=\"fill: #262626\" transform=\"translate(20.521875 265.455846) scale(0.08 -0.08)\">\n       <use xlink:href=\"#LiberationSans-32\"/>\n      </g>\n     </g>\n    </g>\n    <g id=\"ytick_4\">\n     <g id=\"line2d_17\">\n      <path d=\"M 31.970625 217.292206 \nL 422.570625 217.292206 \n\" clip-path=\"url(#p9df094767a)\" style=\"fill: none; stroke: #ffffff; stroke-linecap: round\"/>\n     </g>\n     <g id=\"line2d_18\"/>\n     <g id=\"text_10\">\n      <!-- 3 -->\n      <g style=\"fill: #262626\" transform=\"translate(20.521875 220.190956) scale(0.08 -0.08)\">\n       <use xlink:href=\"#LiberationSans-33\"/>\n      </g>\n     </g>\n    </g>\n    <g id=\"ytick_5\">\n     <g id=\"line2d_19\">\n      <path d=\"M 31.970625 172.027317 \nL 422.570625 172.027317 \n\" clip-path=\"url(#p9df094767a)\" style=\"fill: none; stroke: #ffffff; stroke-linecap: round\"/>\n     </g>\n     <g id=\"line2d_20\"/>\n     <g id=\"text_11\">\n      <!-- 4 -->\n      <g style=\"fill: #262626\" transform=\"translate(20.521875 174.926067) scale(0.08 -0.08)\">\n       <use xlink:href=\"#LiberationSans-34\"/>\n      </g>\n     </g>\n    </g>\n    <g id=\"ytick_6\">\n     <g id=\"line2d_21\">\n      <path d=\"M 31.970625 126.762427 \nL 422.570625 126.762427 \n\" clip-path=\"url(#p9df094767a)\" style=\"fill: none; stroke: #ffffff; stroke-linecap: round\"/>\n     </g>\n     <g id=\"line2d_22\"/>\n     <g id=\"text_12\">\n      <!-- 5 -->\n      <g style=\"fill: #262626\" transform=\"translate(20.521875 129.661177) scale(0.08 -0.08)\">\n       <use xlink:href=\"#LiberationSans-35\"/>\n      </g>\n     </g>\n    </g>\n    <g id=\"ytick_7\">\n     <g id=\"line2d_23\">\n      <path d=\"M 31.970625 81.497537 \nL 422.570625 81.497537 \n\" clip-path=\"url(#p9df094767a)\" style=\"fill: none; stroke: #ffffff; stroke-linecap: round\"/>\n     </g>\n     <g id=\"line2d_24\"/>\n     <g id=\"text_13\">\n      <!-- 6 -->\n      <g style=\"fill: #262626\" transform=\"translate(20.521875 84.396287) scale(0.08 -0.08)\">\n       <defs>\n        <path id=\"LiberationSans-36\" d=\"M 3278 1441 \nQ 3278 1109 3186 832 \nQ 3094 556 2914 357 \nQ 2734 159 2468 48 \nQ 2203 -63 1856 -63 \nQ 1472 -63 1184 84 \nQ 897 231 706 507 \nQ 516 784 420 1186 \nQ 325 1588 325 2100 \nQ 325 2688 433 3131 \nQ 541 3575 744 3872 \nQ 947 4169 1239 4319 \nQ 1531 4469 1900 4469 \nQ 2125 4469 2322 4422 \nQ 2519 4375 2680 4270 \nQ 2841 4166 2962 3994 \nQ 3084 3822 3156 3572 \nL 2619 3475 \nQ 2531 3759 2339 3886 \nQ 2147 4013 1894 4013 \nQ 1663 4013 1475 3903 \nQ 1288 3794 1156 3576 \nQ 1025 3359 954 3031 \nQ 884 2703 884 2266 \nQ 1038 2550 1316 2698 \nQ 1594 2847 1953 2847 \nQ 2253 2847 2497 2750 \nQ 2741 2653 2914 2470 \nQ 3088 2288 3183 2027 \nQ 3278 1766 3278 1441 \nz\nM 2706 1416 \nQ 2706 1644 2650 1828 \nQ 2594 2013 2481 2142 \nQ 2369 2272 2203 2342 \nQ 2038 2413 1819 2413 \nQ 1666 2413 1509 2367 \nQ 1353 2322 1226 2220 \nQ 1100 2119 1020 1953 \nQ 941 1788 941 1550 \nQ 941 1306 1003 1095 \nQ 1066 884 1183 728 \nQ 1300 572 1465 481 \nQ 1631 391 1838 391 \nQ 2041 391 2202 461 \nQ 2363 531 2475 664 \nQ 2588 797 2647 987 \nQ 2706 1178 2706 1416 \nz\n\" transform=\"scale(0.015625)\"/>\n       </defs>\n       <use xlink:href=\"#LiberationSans-36\"/>\n      </g>\n     </g>\n    </g>\n    <g id=\"ytick_8\">\n     <g id=\"line2d_25\">\n      <path d=\"M 31.970625 36.232648 \nL 422.570625 36.232648 \n\" clip-path=\"url(#p9df094767a)\" style=\"fill: none; stroke: #ffffff; stroke-linecap: round\"/>\n     </g>\n     <g id=\"line2d_26\"/>\n     <g id=\"text_14\">\n      <!-- 7 -->\n      <g style=\"fill: #262626\" transform=\"translate(20.521875 39.131398) scale(0.08 -0.08)\">\n       <defs>\n        <path id=\"LiberationSans-37\" d=\"M 3238 3947 \nQ 2906 3441 2628 2973 \nQ 2350 2506 2150 2032 \nQ 1950 1559 1839 1061 \nQ 1728 563 1728 0 \nL 1141 0 \nQ 1141 528 1266 1036 \nQ 1391 1544 1603 2033 \nQ 1816 2522 2097 2994 \nQ 2378 3466 2694 3925 \nL 328 3925 \nL 328 4403 \nL 3238 4403 \nL 3238 3947 \nz\n\" transform=\"scale(0.015625)\"/>\n       </defs>\n       <use xlink:href=\"#LiberationSans-37\"/>\n      </g>\n     </g>\n    </g>\n    <g id=\"text_15\">\n     <!-- Frequency -->\n     <g style=\"fill: #262626\" transform=\"translate(14.446875 210.387969) rotate(-90) scale(0.1 -0.1)\">\n      <defs>\n       <path id=\"LiberationSans-46\" d=\"M 1122 3916 \nL 1122 2278 \nL 3578 2278 \nL 3578 1784 \nL 1122 1784 \nL 1122 0 \nL 525 0 \nL 525 4403 \nL 3653 4403 \nL 3653 3916 \nL 1122 3916 \nz\n\" transform=\"scale(0.015625)\"/>\n       <path id=\"LiberationSans-72\" d=\"M 444 0 \nL 444 2594 \nQ 444 2700 442 2811 \nQ 441 2922 437 3025 \nQ 434 3128 431 3218 \nQ 428 3309 425 3381 \nL 956 3381 \nQ 959 3309 964 3217 \nQ 969 3125 973 3028 \nQ 978 2931 979 2842 \nQ 981 2753 981 2691 \nL 994 2691 \nQ 1053 2884 1120 3026 \nQ 1188 3169 1278 3261 \nQ 1369 3353 1494 3398 \nQ 1619 3444 1797 3444 \nQ 1866 3444 1928 3433 \nQ 1991 3422 2025 3413 \nL 2025 2897 \nQ 1969 2913 1894 2920 \nQ 1819 2928 1725 2928 \nQ 1531 2928 1395 2840 \nQ 1259 2753 1173 2598 \nQ 1088 2444 1047 2230 \nQ 1006 2016 1006 1763 \nL 1006 0 \nL 444 0 \nz\n\" transform=\"scale(0.015625)\"/>\n       <path id=\"LiberationSans-65\" d=\"M 863 1572 \nQ 863 1306 917 1082 \nQ 972 859 1086 698 \nQ 1200 538 1378 448 \nQ 1556 359 1806 359 \nQ 2172 359 2392 506 \nQ 2613 653 2691 878 \nL 3184 738 \nQ 3131 597 3036 455 \nQ 2941 313 2781 198 \nQ 2622 84 2383 10 \nQ 2144 -63 1806 -63 \nQ 1056 -63 664 384 \nQ 272 831 272 1713 \nQ 272 2188 390 2517 \nQ 509 2847 715 3053 \nQ 922 3259 1197 3351 \nQ 1472 3444 1784 3444 \nQ 2209 3444 2495 3306 \nQ 2781 3169 2954 2926 \nQ 3128 2684 3201 2356 \nQ 3275 2028 3275 1647 \nL 3275 1572 \nL 863 1572 \nz\nM 2694 2003 \nQ 2647 2538 2422 2783 \nQ 2197 3028 1775 3028 \nQ 1634 3028 1479 2983 \nQ 1325 2938 1194 2822 \nQ 1063 2706 972 2507 \nQ 881 2309 869 2003 \nL 2694 2003 \nz\n\" transform=\"scale(0.015625)\"/>\n       <path id=\"LiberationSans-71\" d=\"M 1513 -63 \nQ 869 -63 569 371 \nQ 269 806 269 1675 \nQ 269 2556 576 3000 \nQ 884 3444 1513 3444 \nQ 1722 3444 1883 3406 \nQ 2044 3369 2170 3295 \nQ 2297 3222 2392 3112 \nQ 2488 3003 2566 2856 \nL 2572 2856 \nQ 2572 2934 2576 3029 \nQ 2581 3125 2586 3209 \nQ 2591 3294 2597 3355 \nQ 2603 3416 2609 3425 \nL 3150 3425 \nQ 3144 3372 3136 3147 \nQ 3128 2922 3128 2503 \nL 3128 -1328 \nL 2566 -1328 \nL 2566 44 \nQ 2566 125 2567 212 \nQ 2569 300 2572 378 \nQ 2575 466 2578 556 \nL 2572 556 \nQ 2491 397 2392 280 \nQ 2294 163 2166 86 \nQ 2038 9 1877 -27 \nQ 1716 -63 1513 -63 \nz\nM 2566 1731 \nQ 2566 2100 2502 2350 \nQ 2438 2600 2320 2750 \nQ 2203 2900 2036 2964 \nQ 1869 3028 1663 3028 \nQ 1447 3028 1294 2948 \nQ 1141 2869 1045 2705 \nQ 950 2541 904 2289 \nQ 859 2038 859 1694 \nQ 859 1356 901 1106 \nQ 944 856 1039 693 \nQ 1134 531 1286 451 \nQ 1438 372 1656 372 \nQ 1844 372 2009 430 \nQ 2175 488 2298 639 \nQ 2422 791 2494 1055 \nQ 2566 1319 2566 1731 \nz\n\" transform=\"scale(0.015625)\"/>\n       <path id=\"LiberationSans-75\" d=\"M 981 3381 \nL 981 1238 \nQ 981 991 1017 825 \nQ 1053 659 1134 557 \nQ 1216 456 1348 414 \nQ 1481 372 1678 372 \nQ 1878 372 2039 442 \nQ 2200 513 2314 645 \nQ 2428 778 2490 973 \nQ 2553 1169 2553 1422 \nL 2553 3381 \nL 3116 3381 \nL 3116 722 \nQ 3116 616 3117 498 \nQ 3119 381 3122 276 \nQ 3125 172 3128 97 \nQ 3131 22 3134 0 \nL 2603 0 \nQ 2600 16 2597 84 \nQ 2594 153 2589 242 \nQ 2584 331 2581 423 \nQ 2578 516 2578 578 \nL 2569 578 \nQ 2488 431 2391 312 \nQ 2294 194 2166 111 \nQ 2038 28 1872 -17 \nQ 1706 -63 1488 -63 \nQ 1206 -63 1003 6 \nQ 800 75 669 219 \nQ 538 363 477 588 \nQ 416 813 416 1128 \nL 416 3381 \nL 981 3381 \nz\n\" transform=\"scale(0.015625)\"/>\n       <path id=\"LiberationSans-63\" d=\"M 859 1706 \nQ 859 1416 901 1172 \nQ 944 928 1044 751 \nQ 1144 575 1308 478 \nQ 1472 381 1713 381 \nQ 2013 381 2214 543 \nQ 2416 706 2463 1044 \nL 3031 1006 \nQ 3003 797 2909 603 \nQ 2816 409 2655 262 \nQ 2494 116 2262 26 \nQ 2031 -63 1728 -63 \nQ 1331 -63 1053 71 \nQ 775 206 601 442 \nQ 428 678 350 998 \nQ 272 1319 272 1694 \nQ 272 2034 328 2295 \nQ 384 2556 486 2751 \nQ 588 2947 725 3080 \nQ 863 3213 1023 3292 \nQ 1184 3372 1362 3408 \nQ 1541 3444 1722 3444 \nQ 2006 3444 2228 3366 \nQ 2450 3288 2611 3152 \nQ 2772 3016 2872 2831 \nQ 2972 2647 3013 2434 \nL 2434 2391 \nQ 2391 2672 2212 2837 \nQ 2034 3003 1706 3003 \nQ 1466 3003 1305 2923 \nQ 1144 2844 1044 2683 \nQ 944 2522 901 2278 \nQ 859 2034 859 1706 \nz\n\" transform=\"scale(0.015625)\"/>\n       <path id=\"LiberationSans-79\" d=\"M 1888 0 \nQ 1769 -306 1645 -551 \nQ 1522 -797 1369 -970 \nQ 1216 -1144 1028 -1236 \nQ 841 -1328 597 -1328 \nQ 491 -1328 400 -1322 \nQ 309 -1316 209 -1294 \nL 209 -872 \nQ 269 -881 344 -886 \nQ 419 -891 472 -891 \nQ 719 -891 931 -706 \nQ 1144 -522 1303 -119 \nL 1356 16 \nL 16 3381 \nL 616 3381 \nL 1328 1513 \nQ 1359 1428 1407 1287 \nQ 1456 1147 1504 1006 \nQ 1553 866 1590 753 \nQ 1628 641 1634 613 \nQ 1644 647 1680 748 \nQ 1716 850 1761 975 \nQ 1806 1100 1853 1228 \nQ 1900 1356 1931 1450 \nL 2594 3381 \nL 3188 3381 \nL 1888 0 \nz\n\" transform=\"scale(0.015625)\"/>\n      </defs>\n      <use xlink:href=\"#LiberationSans-46\"/>\n      <use xlink:href=\"#LiberationSans-72\" x=\"61.083984\"/>\n      <use xlink:href=\"#LiberationSans-65\" x=\"94.384766\"/>\n      <use xlink:href=\"#LiberationSans-71\" x=\"150\"/>\n      <use xlink:href=\"#LiberationSans-75\" x=\"205.615234\"/>\n      <use xlink:href=\"#LiberationSans-65\" x=\"261.230469\"/>\n      <use xlink:href=\"#LiberationSans-6e\" x=\"316.845703\"/>\n      <use xlink:href=\"#LiberationSans-63\" x=\"372.460938\"/>\n      <use xlink:href=\"#LiberationSans-79\" x=\"422.460938\"/>\n     </g>\n    </g>\n    <g id=\"text_16\">\n     <!-- 1e6 -->\n     <g style=\"fill: #262626\" transform=\"translate(31.970625 17.446875) scale(0.08 -0.08)\">\n      <use xlink:href=\"#LiberationSans-31\"/>\n      <use xlink:href=\"#LiberationSans-65\" x=\"55.615234\"/>\n      <use xlink:href=\"#LiberationSans-36\" x=\"111.230469\"/>\n     </g>\n    </g>\n   </g>\n   <g id=\"patch_3\">\n    <path d=\"M 49.72517 353.086875 \nL 78.712183 353.086875 \nL 78.712183 334.759257 \nL 49.72517 334.759257 \nz\n\" clip-path=\"url(#p9df094767a)\" style=\"fill: #4c72b0\"/>\n   </g>\n   <g id=\"patch_4\">\n    <path d=\"M 85.958937 353.086875 \nL 114.94595 353.086875 \nL 114.94595 314.914541 \nL 85.958937 314.914541 \nz\n\" clip-path=\"url(#p9df094767a)\" style=\"fill: #4c72b0\"/>\n   </g>\n   <g id=\"patch_5\">\n    <path d=\"M 122.192703 353.086875 \nL 151.179716 353.086875 \nL 151.179716 334.817649 \nL 122.192703 334.817649 \nz\n\" clip-path=\"url(#p9df094767a)\" style=\"fill: #4c72b0\"/>\n   </g>\n   <g id=\"patch_6\">\n    <path d=\"M 158.426469 353.086875 \nL 187.413482 353.086875 \nL 187.413482 273.310223 \nL 158.426469 273.310223 \nz\n\" clip-path=\"url(#p9df094767a)\" style=\"fill: #4c72b0\"/>\n   </g>\n   <g id=\"patch_7\">\n    <path d=\"M 194.660235 353.086875 \nL 223.647248 353.086875 \nL 223.647248 296.263234 \nL 194.660235 296.263234 \nz\n\" clip-path=\"url(#p9df094767a)\" style=\"fill: #4c72b0\"/>\n   </g>\n   <g id=\"patch_8\">\n    <path d=\"M 230.894002 353.086875 \nL 259.881015 353.086875 \nL 259.881015 115.141934 \nL 230.894002 115.141934 \nz\n\" clip-path=\"url(#p9df094767a)\" style=\"fill: #4c72b0\"/>\n   </g>\n   <g id=\"patch_9\">\n    <path d=\"M 267.127768 353.086875 \nL 296.114781 353.086875 \nL 296.114781 212.031838 \nL 267.127768 212.031838 \nz\n\" clip-path=\"url(#p9df094767a)\" style=\"fill: #4c72b0\"/>\n   </g>\n   <g id=\"patch_10\">\n    <path d=\"M 303.361534 353.086875 \nL 332.348547 353.086875 \nL 332.348547 36.286875 \nL 303.361534 36.286875 \nz\n\" clip-path=\"url(#p9df094767a)\" style=\"fill: #4c72b0\"/>\n   </g>\n   <g id=\"patch_11\">\n    <path d=\"M 339.5953 353.086875 \nL 368.582313 353.086875 \nL 368.582313 254.842103 \nL 339.5953 254.842103 \nz\n\" clip-path=\"url(#p9df094767a)\" style=\"fill: #4c72b0\"/>\n   </g>\n   <g id=\"patch_12\">\n    <path d=\"M 375.829067 353.086875 \nL 404.81608 353.086875 \nL 404.81608 180.514529 \nL 375.829067 180.514529 \nz\n\" clip-path=\"url(#p9df094767a)\" style=\"fill: #4c72b0\"/>\n   </g>\n   <g id=\"patch_13\">\n    <path d=\"M 31.970625 353.086875 \nL 31.970625 20.446875 \n\" style=\"fill: none\"/>\n   </g>\n   <g id=\"patch_14\">\n    <path d=\"M 422.570625 353.086875 \nL 422.570625 20.446875 \n\" style=\"fill: none\"/>\n   </g>\n   <g id=\"patch_15\">\n    <path d=\"M 31.970625 353.086875 \nL 422.570625 353.086875 \n\" style=\"fill: none\"/>\n   </g>\n   <g id=\"patch_16\">\n    <path d=\"M 31.970625 20.446875 \nL 422.570625 20.446875 \n\" style=\"fill: none\"/>\n   </g>\n   <g id=\"text_17\">\n    <!-- Ratings Count -->\n    <g style=\"fill: #262626\" transform=\"translate(195.587813 14.446875) scale(0.1 -0.1)\">\n     <defs>\n      <path id=\"LiberationSans-73\" d=\"M 2969 934 \nQ 2969 697 2876 511 \nQ 2784 325 2609 198 \nQ 2434 72 2179 4 \nQ 1925 -63 1597 -63 \nQ 1303 -63 1067 -17 \nQ 831 28 653 128 \nQ 475 228 354 392 \nQ 234 556 178 794 \nL 675 891 \nQ 747 619 972 492 \nQ 1197 366 1597 366 \nQ 1778 366 1929 391 \nQ 2081 416 2190 477 \nQ 2300 538 2361 639 \nQ 2422 741 2422 891 \nQ 2422 1044 2350 1142 \nQ 2278 1241 2150 1306 \nQ 2022 1372 1839 1420 \nQ 1656 1469 1438 1528 \nQ 1234 1581 1034 1647 \nQ 834 1713 673 1820 \nQ 513 1928 413 2087 \nQ 313 2247 313 2488 \nQ 313 2950 642 3192 \nQ 972 3434 1603 3434 \nQ 2163 3434 2492 3237 \nQ 2822 3041 2909 2606 \nL 2403 2544 \nQ 2375 2675 2300 2764 \nQ 2225 2853 2119 2908 \nQ 2013 2963 1880 2986 \nQ 1747 3009 1603 3009 \nQ 1222 3009 1040 2893 \nQ 859 2778 859 2544 \nQ 859 2406 926 2317 \nQ 994 2228 1114 2167 \nQ 1234 2106 1403 2061 \nQ 1572 2016 1775 1966 \nQ 1909 1931 2050 1892 \nQ 2191 1853 2323 1798 \nQ 2456 1744 2573 1670 \nQ 2691 1597 2778 1494 \nQ 2866 1391 2917 1253 \nQ 2969 1116 2969 934 \nz\n\" transform=\"scale(0.015625)\"/>\n      <path id=\"LiberationSans-20\" transform=\"scale(0.015625)\"/>\n      <path id=\"LiberationSans-43\" d=\"M 2475 3981 \nQ 2100 3981 1811 3856 \nQ 1522 3731 1326 3500 \nQ 1131 3269 1031 2944 \nQ 931 2619 931 2222 \nQ 931 1825 1039 1495 \nQ 1147 1166 1348 928 \nQ 1550 691 1842 559 \nQ 2134 428 2500 428 \nQ 2756 428 2967 495 \nQ 3178 563 3348 684 \nQ 3519 806 3653 973 \nQ 3788 1141 3891 1344 \nL 4378 1100 \nQ 4259 853 4084 640 \nQ 3909 428 3673 272 \nQ 3438 116 3139 26 \nQ 2841 -63 2472 -63 \nQ 1938 -63 1536 107 \nQ 1134 278 864 583 \nQ 594 888 459 1306 \nQ 325 1725 325 2222 \nQ 325 2738 467 3153 \nQ 609 3569 882 3861 \nQ 1156 4153 1556 4311 \nQ 1956 4469 2469 4469 \nQ 3172 4469 3644 4194 \nQ 4116 3919 4338 3378 \nL 3772 3191 \nQ 3709 3347 3603 3489 \nQ 3497 3631 3337 3740 \nQ 3178 3850 2964 3915 \nQ 2750 3981 2475 3981 \nz\n\" transform=\"scale(0.015625)\"/>\n      <path id=\"LiberationSans-6f\" d=\"M 3291 1694 \nQ 3291 806 2900 371 \nQ 2509 -63 1766 -63 \nQ 1413 -63 1134 43 \nQ 856 150 664 369 \nQ 472 588 370 917 \nQ 269 1247 269 1694 \nQ 269 3444 1784 3444 \nQ 2178 3444 2464 3334 \nQ 2750 3225 2933 3006 \nQ 3116 2788 3203 2459 \nQ 3291 2131 3291 1694 \nz\nM 2700 1694 \nQ 2700 2088 2639 2344 \nQ 2578 2600 2461 2753 \nQ 2344 2906 2175 2967 \nQ 2006 3028 1794 3028 \nQ 1578 3028 1404 2964 \nQ 1231 2900 1109 2745 \nQ 988 2591 923 2334 \nQ 859 2078 859 1694 \nQ 859 1300 928 1042 \nQ 997 784 1117 631 \nQ 1238 478 1402 415 \nQ 1566 353 1759 353 \nQ 1975 353 2150 414 \nQ 2325 475 2447 628 \nQ 2569 781 2634 1040 \nQ 2700 1300 2700 1694 \nz\n\" transform=\"scale(0.015625)\"/>\n     </defs>\n     <use xlink:href=\"#LiberationSans-52\"/>\n     <use xlink:href=\"#LiberationSans-61\" x=\"72.216797\"/>\n     <use xlink:href=\"#LiberationSans-74\" x=\"127.832031\"/>\n     <use xlink:href=\"#LiberationSans-69\" x=\"155.615234\"/>\n     <use xlink:href=\"#LiberationSans-6e\" x=\"177.832031\"/>\n     <use xlink:href=\"#LiberationSans-67\" x=\"233.447266\"/>\n     <use xlink:href=\"#LiberationSans-73\" x=\"289.0625\"/>\n     <use xlink:href=\"#LiberationSans-20\" x=\"339.0625\"/>\n     <use xlink:href=\"#LiberationSans-43\" x=\"366.845703\"/>\n     <use xlink:href=\"#LiberationSans-6f\" x=\"439.0625\"/>\n     <use xlink:href=\"#LiberationSans-75\" x=\"494.677734\"/>\n     <use xlink:href=\"#LiberationSans-6e\" x=\"550.292969\"/>\n     <use xlink:href=\"#LiberationSans-74\" x=\"605.908203\"/>\n    </g>\n   </g>\n  </g>\n </g>\n <defs>\n  <clipPath id=\"p9df094767a\">\n   <rect x=\"31.970625\" y=\"20.446875\" width=\"390.6\" height=\"332.64\"/>\n  </clipPath>\n </defs>\n</svg>\n"
          },
          "metadata": {}
        }
      ],
      "source": [
        "plt.rcParams['figure.figsize'] = (7, 6)\n",
        "plt.hist(ratings['rating'], bins=10, rwidth=0.8)\n",
        "plt.title('Ratings Count', size=10)\n",
        "# plt.xticks(ticks=np.arange(0.75, 5.75, 0.5), labels=np.arange(0.5, 5.5, 0.5))\n",
        "plt.xlabel('Rating')\n",
        "plt.ylabel('Frequency')\n",
        "plt.show();"
      ]
    },
    {
      "cell_type": "code",
      "source": [
        "from collections import Counter"
      ],
      "metadata": {
        "id": "rxrMccIuOywb"
      },
      "execution_count": null,
      "outputs": []
    },
    {
      "cell_type": "code",
      "source": [
        "rating_freq = Counter(ratings['rating'])"
      ],
      "metadata": {
        "id": "wTdQQWTdOsNi"
      },
      "execution_count": null,
      "outputs": []
    },
    {
      "cell_type": "code",
      "source": [
        "a = sorted(rating_freq.items(), key=lambda x: x[0])"
      ],
      "metadata": {
        "id": "0ZnrEoYNO2i7"
      },
      "execution_count": null,
      "outputs": []
    },
    {
      "cell_type": "code",
      "source": [
        "a"
      ],
      "metadata": {
        "id": "YwVyD3n3O6Na",
        "colab": {
          "base_uri": "https://localhost:8080/"
        },
        "outputId": "aa25c0ca-1378-4232-8892-f3a923135dc5"
      },
      "execution_count": null,
      "outputs": [
        {
          "output_type": "execute_result",
          "data": {
            "text/plain": [
              "[(0.5, 404897),\n",
              " (1.0, 843310),\n",
              " (1.5, 403607),\n",
              " (2.0, 1762440),\n",
              " (2.5, 1255358),\n",
              " (3.0, 5256722),\n",
              " (3.5, 3116213),\n",
              " (4.0, 6998802),\n",
              " (4.5, 2170441),\n",
              " (5.0, 3812499)]"
            ]
          },
          "metadata": {},
          "execution_count": 31
        }
      ]
    },
    {
      "cell_type": "code",
      "source": [
        "plt.rcParams['figure.figsize'] = (7, 6)\n",
        "plt.title('Ratings Count', size=10)\n",
        "plt.bar([i[0] for i in a], [i[1] for i in a], width=0.4)\n",
        "plt.xticks(ticks=np.arange(0.5, 5.5, 0.5), labels=np.arange(0.5, 5.5, 0.5))\n",
        "plt.xlabel('Rating')\n",
        "plt.ylabel('Frequency')\n",
        "plt.show()"
      ],
      "metadata": {
        "id": "YONOGIMbPKFD",
        "colab": {
          "base_uri": "https://localhost:8080/",
          "height": 886
        },
        "outputId": "9b06e4a2-ec1e-4d2e-a9c7-6d238485d15b"
      },
      "execution_count": null,
      "outputs": [
        {
          "output_type": "execute_result",
          "data": {
            "text/plain": [
              "Text(0.5, 1.0, 'Ratings Count')"
            ]
          },
          "metadata": {},
          "execution_count": 32
        },
        {
          "output_type": "execute_result",
          "data": {
            "text/plain": [
              "<BarContainer object of 10 artists>"
            ]
          },
          "metadata": {},
          "execution_count": 32
        },
        {
          "output_type": "execute_result",
          "data": {
            "text/plain": [
              "([<matplotlib.axis.XTick at 0x7fbea166f7c0>,\n",
              "  <matplotlib.axis.XTick at 0x7fbea166f790>,\n",
              "  <matplotlib.axis.XTick at 0x7fbea166f3a0>,\n",
              "  <matplotlib.axis.XTick at 0x7fbea06ec9d0>,\n",
              "  <matplotlib.axis.XTick at 0x7fbea06ed480>,\n",
              "  <matplotlib.axis.XTick at 0x7fbea16a64a0>,\n",
              "  <matplotlib.axis.XTick at 0x7fbea06ee200>,\n",
              "  <matplotlib.axis.XTick at 0x7fbea06eecb0>,\n",
              "  <matplotlib.axis.XTick at 0x7fbea06ef760>,\n",
              "  <matplotlib.axis.XTick at 0x7fbea0708250>],\n",
              " [Text(0.5, 0, '0.5'),\n",
              "  Text(1.0, 0, '1.0'),\n",
              "  Text(1.5, 0, '1.5'),\n",
              "  Text(2.0, 0, '2.0'),\n",
              "  Text(2.5, 0, '2.5'),\n",
              "  Text(3.0, 0, '3.0'),\n",
              "  Text(3.5, 0, '3.5'),\n",
              "  Text(4.0, 0, '4.0'),\n",
              "  Text(4.5, 0, '4.5'),\n",
              "  Text(5.0, 0, '5.0')])"
            ]
          },
          "metadata": {},
          "execution_count": 32
        },
        {
          "output_type": "execute_result",
          "data": {
            "text/plain": [
              "Text(0.5, 0, 'Rating')"
            ]
          },
          "metadata": {},
          "execution_count": 32
        },
        {
          "output_type": "execute_result",
          "data": {
            "text/plain": [
              "Text(0, 0.5, 'Frequency')"
            ]
          },
          "metadata": {},
          "execution_count": 32
        },
        {
          "output_type": "display_data",
          "data": {
            "text/plain": [
              "<Figure size 700x600 with 1 Axes>"
            ],
            "image/svg+xml": "<?xml version=\"1.0\" encoding=\"utf-8\" standalone=\"no\"?>\n<!DOCTYPE svg PUBLIC \"-//W3C//DTD SVG 1.1//EN\"\n  \"http://www.w3.org/Graphics/SVG/1.1/DTD/svg11.dtd\">\n<svg xmlns:xlink=\"http://www.w3.org/1999/xlink\" width=\"429.770625pt\" height=\"388.06625pt\" viewBox=\"0 0 429.770625 388.06625\" xmlns=\"http://www.w3.org/2000/svg\" version=\"1.1\">\n <metadata>\n  <rdf:RDF xmlns:dc=\"http://purl.org/dc/elements/1.1/\" xmlns:cc=\"http://creativecommons.org/ns#\" xmlns:rdf=\"http://www.w3.org/1999/02/22-rdf-syntax-ns#\">\n   <cc:Work>\n    <dc:type rdf:resource=\"http://purl.org/dc/dcmitype/StillImage\"/>\n    <dc:date>2023-05-05T19:23:27.237033</dc:date>\n    <dc:format>image/svg+xml</dc:format>\n    <dc:creator>\n     <cc:Agent>\n      <dc:title>Matplotlib v3.7.1, https://matplotlib.org/</dc:title>\n     </cc:Agent>\n    </dc:creator>\n   </cc:Work>\n  </rdf:RDF>\n </metadata>\n <defs>\n  <style type=\"text/css\">*{stroke-linejoin: round; stroke-linecap: butt}</style>\n </defs>\n <g id=\"figure_1\">\n  <g id=\"patch_1\">\n   <path d=\"M 0 388.06625 \nL 429.770625 388.06625 \nL 429.770625 0 \nL 0 0 \nz\n\" style=\"fill: #ffffff\"/>\n  </g>\n  <g id=\"axes_1\">\n   <g id=\"patch_2\">\n    <path d=\"M 31.970625 353.086875 \nL 422.570625 353.086875 \nL 422.570625 20.446875 \nL 31.970625 20.446875 \nz\n\" style=\"fill: #eaeaf2\"/>\n   </g>\n   <g id=\"matplotlib.axis_1\">\n    <g id=\"xtick_1\">\n     <g id=\"line2d_1\">\n      <path d=\"M 64.218677 353.086875 \nL 64.218677 20.446875 \n\" clip-path=\"url(#p8f8c8e8a50)\" style=\"fill: none; stroke: #ffffff; stroke-linecap: round\"/>\n     </g>\n     <g id=\"line2d_2\"/>\n     <g id=\"text_1\">\n      <!-- 0.5 -->\n      <g style=\"fill: #262626\" transform=\"translate(58.658677 365.884375) scale(0.08 -0.08)\">\n       <defs>\n        <path id=\"LiberationSans-30\" d=\"M 3309 2203 \nQ 3309 1569 3189 1136 \nQ 3069 703 2861 436 \nQ 2653 169 2372 53 \nQ 2091 -63 1772 -63 \nQ 1450 -63 1172 53 \nQ 894 169 689 434 \nQ 484 700 367 1133 \nQ 250 1566 250 2203 \nQ 250 2869 367 3305 \nQ 484 3741 690 4000 \nQ 897 4259 1178 4364 \nQ 1459 4469 1791 4469 \nQ 2106 4469 2382 4364 \nQ 2659 4259 2865 4000 \nQ 3072 3741 3190 3305 \nQ 3309 2869 3309 2203 \nz\nM 2738 2203 \nQ 2738 2728 2675 3076 \nQ 2613 3425 2491 3633 \nQ 2369 3841 2192 3927 \nQ 2016 4013 1791 4013 \nQ 1553 4013 1372 3925 \nQ 1191 3838 1067 3630 \nQ 944 3422 881 3073 \nQ 819 2725 819 2203 \nQ 819 1697 883 1350 \nQ 947 1003 1070 792 \nQ 1194 581 1372 489 \nQ 1550 397 1778 397 \nQ 2000 397 2178 489 \nQ 2356 581 2479 792 \nQ 2603 1003 2670 1350 \nQ 2738 1697 2738 2203 \nz\n\" transform=\"scale(0.015625)\"/>\n        <path id=\"LiberationSans-2e\" d=\"M 584 0 \nL 584 684 \nL 1194 684 \nL 1194 0 \nL 584 0 \nz\n\" transform=\"scale(0.015625)\"/>\n        <path id=\"LiberationSans-35\" d=\"M 3291 1434 \nQ 3291 1103 3191 828 \nQ 3091 553 2894 354 \nQ 2697 156 2405 46 \nQ 2113 -63 1728 -63 \nQ 1381 -63 1123 18 \nQ 866 100 687 242 \nQ 509 384 404 575 \nQ 300 766 256 984 \nL 825 1050 \nQ 859 925 921 808 \nQ 984 691 1092 598 \nQ 1200 506 1358 451 \nQ 1516 397 1741 397 \nQ 1959 397 2137 464 \nQ 2316 531 2442 662 \nQ 2569 794 2637 984 \nQ 2706 1175 2706 1422 \nQ 2706 1625 2640 1795 \nQ 2575 1966 2453 2089 \nQ 2331 2213 2154 2281 \nQ 1978 2350 1753 2350 \nQ 1613 2350 1494 2325 \nQ 1375 2300 1273 2256 \nQ 1172 2213 1089 2155 \nQ 1006 2097 934 2034 \nL 384 2034 \nL 531 4403 \nL 3034 4403 \nL 3034 3925 \nL 1044 3925 \nL 959 2528 \nQ 1109 2644 1334 2726 \nQ 1559 2809 1869 2809 \nQ 2197 2809 2459 2709 \nQ 2722 2609 2906 2426 \nQ 3091 2244 3191 1991 \nQ 3291 1738 3291 1434 \nz\n\" transform=\"scale(0.015625)\"/>\n       </defs>\n       <use xlink:href=\"#LiberationSans-30\"/>\n       <use xlink:href=\"#LiberationSans-2e\" x=\"55.615234\"/>\n       <use xlink:href=\"#LiberationSans-35\" x=\"83.398438\"/>\n      </g>\n     </g>\n    </g>\n    <g id=\"xtick_2\">\n     <g id=\"line2d_3\">\n      <path d=\"M 100.452443 353.086875 \nL 100.452443 20.446875 \n\" clip-path=\"url(#p8f8c8e8a50)\" style=\"fill: none; stroke: #ffffff; stroke-linecap: round\"/>\n     </g>\n     <g id=\"line2d_4\"/>\n     <g id=\"text_2\">\n      <!-- 1.0 -->\n      <g style=\"fill: #262626\" transform=\"translate(94.892443 365.884375) scale(0.08 -0.08)\">\n       <defs>\n        <path id=\"LiberationSans-31\" d=\"M 488 0 \nL 488 478 \nL 1609 478 \nL 1609 3866 \nL 616 3156 \nL 616 3688 \nL 1656 4403 \nL 2175 4403 \nL 2175 478 \nL 3247 478 \nL 3247 0 \nL 488 0 \nz\n\" transform=\"scale(0.015625)\"/>\n       </defs>\n       <use xlink:href=\"#LiberationSans-31\"/>\n       <use xlink:href=\"#LiberationSans-2e\" x=\"55.615234\"/>\n       <use xlink:href=\"#LiberationSans-30\" x=\"83.398438\"/>\n      </g>\n     </g>\n    </g>\n    <g id=\"xtick_3\">\n     <g id=\"line2d_5\">\n      <path d=\"M 136.686209 353.086875 \nL 136.686209 20.446875 \n\" clip-path=\"url(#p8f8c8e8a50)\" style=\"fill: none; stroke: #ffffff; stroke-linecap: round\"/>\n     </g>\n     <g id=\"line2d_6\"/>\n     <g id=\"text_3\">\n      <!-- 1.5 -->\n      <g style=\"fill: #262626\" transform=\"translate(131.126209 365.884375) scale(0.08 -0.08)\">\n       <use xlink:href=\"#LiberationSans-31\"/>\n       <use xlink:href=\"#LiberationSans-2e\" x=\"55.615234\"/>\n       <use xlink:href=\"#LiberationSans-35\" x=\"83.398438\"/>\n      </g>\n     </g>\n    </g>\n    <g id=\"xtick_4\">\n     <g id=\"line2d_7\">\n      <path d=\"M 172.919976 353.086875 \nL 172.919976 20.446875 \n\" clip-path=\"url(#p8f8c8e8a50)\" style=\"fill: none; stroke: #ffffff; stroke-linecap: round\"/>\n     </g>\n     <g id=\"line2d_8\"/>\n     <g id=\"text_4\">\n      <!-- 2.0 -->\n      <g style=\"fill: #262626\" transform=\"translate(167.359976 365.884375) scale(0.08 -0.08)\">\n       <defs>\n        <path id=\"LiberationSans-32\" d=\"M 322 0 \nL 322 397 \nQ 481 763 711 1042 \nQ 941 1322 1194 1548 \nQ 1447 1775 1695 1969 \nQ 1944 2163 2144 2356 \nQ 2344 2550 2467 2762 \nQ 2591 2975 2591 3244 \nQ 2591 3431 2534 3573 \nQ 2478 3716 2372 3812 \nQ 2266 3909 2117 3957 \nQ 1969 4006 1788 4006 \nQ 1619 4006 1470 3959 \nQ 1322 3913 1206 3819 \nQ 1091 3725 1017 3586 \nQ 944 3447 922 3263 \nL 347 3316 \nQ 375 3553 478 3762 \nQ 581 3972 762 4130 \nQ 944 4288 1198 4378 \nQ 1453 4469 1788 4469 \nQ 2116 4469 2372 4391 \nQ 2628 4313 2804 4159 \nQ 2981 4006 3075 3781 \nQ 3169 3556 3169 3263 \nQ 3169 3041 3089 2841 \nQ 3009 2641 2876 2459 \nQ 2744 2278 2569 2109 \nQ 2394 1941 2203 1780 \nQ 2013 1619 1819 1461 \nQ 1625 1303 1454 1143 \nQ 1284 984 1150 820 \nQ 1016 656 941 478 \nL 3238 478 \nL 3238 0 \nL 322 0 \nz\n\" transform=\"scale(0.015625)\"/>\n       </defs>\n       <use xlink:href=\"#LiberationSans-32\"/>\n       <use xlink:href=\"#LiberationSans-2e\" x=\"55.615234\"/>\n       <use xlink:href=\"#LiberationSans-30\" x=\"83.398438\"/>\n      </g>\n     </g>\n    </g>\n    <g id=\"xtick_5\">\n     <g id=\"line2d_9\">\n      <path d=\"M 209.153742 353.086875 \nL 209.153742 20.446875 \n\" clip-path=\"url(#p8f8c8e8a50)\" style=\"fill: none; stroke: #ffffff; stroke-linecap: round\"/>\n     </g>\n     <g id=\"line2d_10\"/>\n     <g id=\"text_5\">\n      <!-- 2.5 -->\n      <g style=\"fill: #262626\" transform=\"translate(203.593742 365.884375) scale(0.08 -0.08)\">\n       <use xlink:href=\"#LiberationSans-32\"/>\n       <use xlink:href=\"#LiberationSans-2e\" x=\"55.615234\"/>\n       <use xlink:href=\"#LiberationSans-35\" x=\"83.398438\"/>\n      </g>\n     </g>\n    </g>\n    <g id=\"xtick_6\">\n     <g id=\"line2d_11\">\n      <path d=\"M 245.387508 353.086875 \nL 245.387508 20.446875 \n\" clip-path=\"url(#p8f8c8e8a50)\" style=\"fill: none; stroke: #ffffff; stroke-linecap: round\"/>\n     </g>\n     <g id=\"line2d_12\"/>\n     <g id=\"text_6\">\n      <!-- 3.0 -->\n      <g style=\"fill: #262626\" transform=\"translate(239.827508 365.884375) scale(0.08 -0.08)\">\n       <defs>\n        <path id=\"LiberationSans-33\" d=\"M 3278 1216 \nQ 3278 913 3179 675 \nQ 3081 438 2892 273 \nQ 2703 109 2423 23 \nQ 2144 -63 1784 -63 \nQ 1375 -63 1095 39 \nQ 816 141 634 308 \nQ 453 475 362 689 \nQ 272 903 244 1131 \nL 825 1184 \nQ 850 1009 917 865 \nQ 984 722 1100 619 \nQ 1216 516 1384 459 \nQ 1553 403 1784 403 \nQ 2209 403 2451 612 \nQ 2694 822 2694 1234 \nQ 2694 1478 2586 1626 \nQ 2478 1775 2317 1858 \nQ 2156 1941 1967 1969 \nQ 1778 1997 1619 1997 \nL 1300 1997 \nL 1300 2484 \nL 1606 2484 \nQ 1766 2484 1937 2517 \nQ 2109 2550 2251 2636 \nQ 2394 2722 2486 2869 \nQ 2578 3016 2578 3244 \nQ 2578 3597 2370 3801 \nQ 2163 4006 1753 4006 \nQ 1381 4006 1151 3815 \nQ 922 3625 884 3278 \nL 319 3322 \nQ 353 3613 478 3828 \nQ 603 4044 795 4186 \nQ 988 4328 1234 4398 \nQ 1481 4469 1759 4469 \nQ 2128 4469 2393 4376 \nQ 2659 4284 2828 4126 \nQ 2997 3969 3076 3756 \nQ 3156 3544 3156 3303 \nQ 3156 3109 3103 2940 \nQ 3050 2772 2937 2637 \nQ 2825 2503 2651 2406 \nQ 2478 2309 2234 2259 \nL 2234 2247 \nQ 2500 2219 2697 2126 \nQ 2894 2034 3022 1896 \nQ 3150 1759 3214 1584 \nQ 3278 1409 3278 1216 \nz\n\" transform=\"scale(0.015625)\"/>\n       </defs>\n       <use xlink:href=\"#LiberationSans-33\"/>\n       <use xlink:href=\"#LiberationSans-2e\" x=\"55.615234\"/>\n       <use xlink:href=\"#LiberationSans-30\" x=\"83.398438\"/>\n      </g>\n     </g>\n    </g>\n    <g id=\"xtick_7\">\n     <g id=\"line2d_13\">\n      <path d=\"M 281.621274 353.086875 \nL 281.621274 20.446875 \n\" clip-path=\"url(#p8f8c8e8a50)\" style=\"fill: none; stroke: #ffffff; stroke-linecap: round\"/>\n     </g>\n     <g id=\"line2d_14\"/>\n     <g id=\"text_7\">\n      <!-- 3.5 -->\n      <g style=\"fill: #262626\" transform=\"translate(276.061274 365.884375) scale(0.08 -0.08)\">\n       <use xlink:href=\"#LiberationSans-33\"/>\n       <use xlink:href=\"#LiberationSans-2e\" x=\"55.615234\"/>\n       <use xlink:href=\"#LiberationSans-35\" x=\"83.398438\"/>\n      </g>\n     </g>\n    </g>\n    <g id=\"xtick_8\">\n     <g id=\"line2d_15\">\n      <path d=\"M 317.855041 353.086875 \nL 317.855041 20.446875 \n\" clip-path=\"url(#p8f8c8e8a50)\" style=\"fill: none; stroke: #ffffff; stroke-linecap: round\"/>\n     </g>\n     <g id=\"line2d_16\"/>\n     <g id=\"text_8\">\n      <!-- 4.0 -->\n      <g style=\"fill: #262626\" transform=\"translate(312.295041 365.884375) scale(0.08 -0.08)\">\n       <defs>\n        <path id=\"LiberationSans-34\" d=\"M 2753 997 \nL 2753 0 \nL 2222 0 \nL 2222 997 \nL 147 997 \nL 147 1434 \nL 2163 4403 \nL 2753 4403 \nL 2753 1441 \nL 3372 1441 \nL 3372 997 \nL 2753 997 \nz\nM 2222 3769 \nQ 2216 3753 2191 3708 \nQ 2166 3663 2134 3606 \nQ 2103 3550 2070 3492 \nQ 2038 3434 2013 3397 \nL 884 1734 \nQ 869 1709 839 1668 \nQ 809 1628 778 1586 \nQ 747 1544 715 1503 \nQ 684 1463 666 1441 \nL 2222 1441 \nL 2222 3769 \nz\n\" transform=\"scale(0.015625)\"/>\n       </defs>\n       <use xlink:href=\"#LiberationSans-34\"/>\n       <use xlink:href=\"#LiberationSans-2e\" x=\"55.615234\"/>\n       <use xlink:href=\"#LiberationSans-30\" x=\"83.398438\"/>\n      </g>\n     </g>\n    </g>\n    <g id=\"xtick_9\">\n     <g id=\"line2d_17\">\n      <path d=\"M 354.088807 353.086875 \nL 354.088807 20.446875 \n\" clip-path=\"url(#p8f8c8e8a50)\" style=\"fill: none; stroke: #ffffff; stroke-linecap: round\"/>\n     </g>\n     <g id=\"line2d_18\"/>\n     <g id=\"text_9\">\n      <!-- 4.5 -->\n      <g style=\"fill: #262626\" transform=\"translate(348.528807 365.884375) scale(0.08 -0.08)\">\n       <use xlink:href=\"#LiberationSans-34\"/>\n       <use xlink:href=\"#LiberationSans-2e\" x=\"55.615234\"/>\n       <use xlink:href=\"#LiberationSans-35\" x=\"83.398438\"/>\n      </g>\n     </g>\n    </g>\n    <g id=\"xtick_10\">\n     <g id=\"line2d_19\">\n      <path d=\"M 390.322573 353.086875 \nL 390.322573 20.446875 \n\" clip-path=\"url(#p8f8c8e8a50)\" style=\"fill: none; stroke: #ffffff; stroke-linecap: round\"/>\n     </g>\n     <g id=\"line2d_20\"/>\n     <g id=\"text_10\">\n      <!-- 5.0 -->\n      <g style=\"fill: #262626\" transform=\"translate(384.762573 365.884375) scale(0.08 -0.08)\">\n       <use xlink:href=\"#LiberationSans-35\"/>\n       <use xlink:href=\"#LiberationSans-2e\" x=\"55.615234\"/>\n       <use xlink:href=\"#LiberationSans-30\" x=\"83.398438\"/>\n      </g>\n     </g>\n    </g>\n    <g id=\"text_11\">\n     <!-- Rating -->\n     <g style=\"fill: #262626\" transform=\"translate(212.818281 378.79125) scale(0.1 -0.1)\">\n      <defs>\n       <path id=\"LiberationSans-52\" d=\"M 3638 0 \nL 2494 1828 \nL 1122 1828 \nL 1122 0 \nL 525 0 \nL 525 4403 \nL 2597 4403 \nQ 2972 4403 3261 4317 \nQ 3550 4231 3747 4068 \nQ 3944 3906 4047 3672 \nQ 4150 3438 4150 3144 \nQ 4150 2934 4089 2731 \nQ 4028 2528 3897 2359 \nQ 3766 2191 3562 2069 \nQ 3359 1947 3075 1897 \nL 4325 0 \nL 3638 0 \nz\nM 3550 3138 \nQ 3550 3338 3481 3484 \nQ 3413 3631 3281 3729 \nQ 3150 3828 2962 3876 \nQ 2775 3925 2538 3925 \nL 1122 3925 \nL 1122 2300 \nL 2563 2300 \nQ 2819 2300 3006 2364 \nQ 3194 2428 3314 2540 \nQ 3434 2653 3492 2806 \nQ 3550 2959 3550 3138 \nz\n\" transform=\"scale(0.015625)\"/>\n       <path id=\"LiberationSans-61\" d=\"M 1294 -63 \nQ 784 -63 528 206 \nQ 272 475 272 944 \nQ 272 1278 398 1492 \nQ 525 1706 729 1828 \nQ 934 1950 1196 1997 \nQ 1459 2044 1731 2050 \nL 2491 2063 \nL 2491 2247 \nQ 2491 2456 2447 2603 \nQ 2403 2750 2312 2840 \nQ 2222 2931 2086 2973 \nQ 1950 3016 1766 3016 \nQ 1603 3016 1472 2992 \nQ 1341 2969 1244 2908 \nQ 1147 2847 1087 2742 \nQ 1028 2638 1009 2478 \nL 422 2531 \nQ 453 2731 540 2898 \nQ 628 3066 789 3187 \nQ 950 3309 1192 3376 \nQ 1434 3444 1778 3444 \nQ 2416 3444 2737 3151 \nQ 3059 2859 3059 2306 \nL 3059 850 \nQ 3059 600 3125 473 \nQ 3191 347 3375 347 \nQ 3422 347 3469 353 \nQ 3516 359 3559 369 \nL 3559 19 \nQ 3453 -6 3348 -18 \nQ 3244 -31 3125 -31 \nQ 2966 -31 2852 11 \nQ 2738 53 2666 139 \nQ 2594 225 2556 351 \nQ 2519 478 2509 647 \nL 2491 647 \nQ 2400 484 2292 353 \nQ 2184 222 2040 130 \nQ 1897 38 1714 -12 \nQ 1531 -63 1294 -63 \nz\nM 1422 359 \nQ 1691 359 1892 457 \nQ 2094 556 2226 709 \nQ 2359 863 2425 1044 \nQ 2491 1225 2491 1391 \nL 2491 1669 \nL 1875 1656 \nQ 1669 1653 1483 1626 \nQ 1297 1600 1156 1522 \nQ 1016 1444 933 1303 \nQ 850 1163 850 934 \nQ 850 659 998 509 \nQ 1147 359 1422 359 \nz\n\" transform=\"scale(0.015625)\"/>\n       <path id=\"LiberationSans-74\" d=\"M 1731 25 \nQ 1603 -9 1470 -29 \nQ 1338 -50 1163 -50 \nQ 488 -50 488 716 \nL 488 2972 \nL 97 2972 \nL 97 3381 \nL 509 3381 \nL 675 4138 \nL 1050 4138 \nL 1050 3381 \nL 1675 3381 \nL 1675 2972 \nL 1050 2972 \nL 1050 838 \nQ 1050 594 1129 495 \nQ 1209 397 1406 397 \nQ 1488 397 1564 409 \nQ 1641 422 1731 441 \nL 1731 25 \nz\n\" transform=\"scale(0.015625)\"/>\n       <path id=\"LiberationSans-69\" d=\"M 428 4100 \nL 428 4638 \nL 991 4638 \nL 991 4100 \nL 428 4100 \nz\nM 428 0 \nL 428 3381 \nL 991 3381 \nL 991 0 \nL 428 0 \nz\n\" transform=\"scale(0.015625)\"/>\n       <path id=\"LiberationSans-6e\" d=\"M 2578 0 \nL 2578 2144 \nQ 2578 2391 2542 2556 \nQ 2506 2722 2425 2823 \nQ 2344 2925 2211 2967 \nQ 2078 3009 1881 3009 \nQ 1681 3009 1520 2939 \nQ 1359 2869 1245 2736 \nQ 1131 2603 1068 2408 \nQ 1006 2213 1006 1959 \nL 1006 0 \nL 444 0 \nL 444 2659 \nQ 444 2766 442 2883 \nQ 441 3000 437 3104 \nQ 434 3209 431 3284 \nQ 428 3359 425 3381 \nL 956 3381 \nQ 959 3366 962 3297 \nQ 966 3228 970 3139 \nQ 975 3050 978 2958 \nQ 981 2866 981 2803 \nL 991 2803 \nQ 1072 2950 1169 3069 \nQ 1266 3188 1394 3270 \nQ 1522 3353 1687 3398 \nQ 1853 3444 2072 3444 \nQ 2353 3444 2556 3375 \nQ 2759 3306 2890 3162 \nQ 3022 3019 3083 2792 \nQ 3144 2566 3144 2253 \nL 3144 0 \nL 2578 0 \nz\n\" transform=\"scale(0.015625)\"/>\n       <path id=\"LiberationSans-67\" d=\"M 1713 -1328 \nQ 1422 -1328 1197 -1268 \nQ 972 -1209 812 -1098 \nQ 653 -988 553 -834 \nQ 453 -681 409 -494 \nL 975 -413 \nQ 1031 -647 1223 -773 \nQ 1416 -900 1728 -900 \nQ 1919 -900 2075 -847 \nQ 2231 -794 2340 -676 \nQ 2450 -559 2509 -371 \nQ 2569 -184 2569 84 \nL 2569 628 \nL 2563 628 \nQ 2500 500 2408 383 \nQ 2316 266 2183 175 \nQ 2050 84 1875 29 \nQ 1700 -25 1475 -25 \nQ 1153 -25 923 83 \nQ 694 191 548 406 \nQ 403 622 336 942 \nQ 269 1263 269 1684 \nQ 269 2091 336 2416 \nQ 403 2741 554 2967 \nQ 706 3194 948 3314 \nQ 1191 3434 1538 3434 \nQ 1897 3434 2161 3270 \nQ 2425 3106 2569 2803 \nL 2575 2803 \nQ 2575 2881 2579 2978 \nQ 2584 3075 2589 3161 \nQ 2594 3247 2600 3309 \nQ 2606 3372 2613 3381 \nL 3147 3381 \nQ 3144 3353 3141 3286 \nQ 3138 3219 3134 3125 \nQ 3131 3031 3129 2917 \nQ 3128 2803 3128 2681 \nL 3128 97 \nQ 3128 -613 2779 -970 \nQ 2431 -1328 1713 -1328 \nz\nM 2569 1691 \nQ 2569 2044 2492 2295 \nQ 2416 2547 2291 2706 \nQ 2166 2866 2005 2941 \nQ 1844 3016 1675 3016 \nQ 1459 3016 1304 2941 \nQ 1150 2866 1048 2705 \nQ 947 2544 898 2292 \nQ 850 2041 850 1691 \nQ 850 1325 898 1076 \nQ 947 828 1047 675 \nQ 1147 522 1300 456 \nQ 1453 391 1666 391 \nQ 1834 391 1995 462 \nQ 2156 534 2284 690 \nQ 2413 847 2491 1094 \nQ 2569 1341 2569 1691 \nz\n\" transform=\"scale(0.015625)\"/>\n      </defs>\n      <use xlink:href=\"#LiberationSans-52\"/>\n      <use xlink:href=\"#LiberationSans-61\" x=\"72.216797\"/>\n      <use xlink:href=\"#LiberationSans-74\" x=\"127.832031\"/>\n      <use xlink:href=\"#LiberationSans-69\" x=\"155.615234\"/>\n      <use xlink:href=\"#LiberationSans-6e\" x=\"177.832031\"/>\n      <use xlink:href=\"#LiberationSans-67\" x=\"233.447266\"/>\n     </g>\n    </g>\n   </g>\n   <g id=\"matplotlib.axis_2\">\n    <g id=\"ytick_1\">\n     <g id=\"line2d_21\">\n      <path d=\"M 31.970625 353.086875 \nL 422.570625 353.086875 \n\" clip-path=\"url(#p8f8c8e8a50)\" style=\"fill: none; stroke: #ffffff; stroke-linecap: round\"/>\n     </g>\n     <g id=\"line2d_22\"/>\n     <g id=\"text_12\">\n      <!-- 0 -->\n      <g style=\"fill: #262626\" transform=\"translate(20.521875 355.985625) scale(0.08 -0.08)\">\n       <use xlink:href=\"#LiberationSans-30\"/>\n      </g>\n     </g>\n    </g>\n    <g id=\"ytick_2\">\n     <g id=\"line2d_23\">\n      <path d=\"M 31.970625 307.821985 \nL 422.570625 307.821985 \n\" clip-path=\"url(#p8f8c8e8a50)\" style=\"fill: none; stroke: #ffffff; stroke-linecap: round\"/>\n     </g>\n     <g id=\"line2d_24\"/>\n     <g id=\"text_13\">\n      <!-- 1 -->\n      <g style=\"fill: #262626\" transform=\"translate(20.521875 310.720735) scale(0.08 -0.08)\">\n       <use xlink:href=\"#LiberationSans-31\"/>\n      </g>\n     </g>\n    </g>\n    <g id=\"ytick_3\">\n     <g id=\"line2d_25\">\n      <path d=\"M 31.970625 262.557096 \nL 422.570625 262.557096 \n\" clip-path=\"url(#p8f8c8e8a50)\" style=\"fill: none; stroke: #ffffff; stroke-linecap: round\"/>\n     </g>\n     <g id=\"line2d_26\"/>\n     <g id=\"text_14\">\n      <!-- 2 -->\n      <g style=\"fill: #262626\" transform=\"translate(20.521875 265.455846) scale(0.08 -0.08)\">\n       <use xlink:href=\"#LiberationSans-32\"/>\n      </g>\n     </g>\n    </g>\n    <g id=\"ytick_4\">\n     <g id=\"line2d_27\">\n      <path d=\"M 31.970625 217.292206 \nL 422.570625 217.292206 \n\" clip-path=\"url(#p8f8c8e8a50)\" style=\"fill: none; stroke: #ffffff; stroke-linecap: round\"/>\n     </g>\n     <g id=\"line2d_28\"/>\n     <g id=\"text_15\">\n      <!-- 3 -->\n      <g style=\"fill: #262626\" transform=\"translate(20.521875 220.190956) scale(0.08 -0.08)\">\n       <use xlink:href=\"#LiberationSans-33\"/>\n      </g>\n     </g>\n    </g>\n    <g id=\"ytick_5\">\n     <g id=\"line2d_29\">\n      <path d=\"M 31.970625 172.027317 \nL 422.570625 172.027317 \n\" clip-path=\"url(#p8f8c8e8a50)\" style=\"fill: none; stroke: #ffffff; stroke-linecap: round\"/>\n     </g>\n     <g id=\"line2d_30\"/>\n     <g id=\"text_16\">\n      <!-- 4 -->\n      <g style=\"fill: #262626\" transform=\"translate(20.521875 174.926067) scale(0.08 -0.08)\">\n       <use xlink:href=\"#LiberationSans-34\"/>\n      </g>\n     </g>\n    </g>\n    <g id=\"ytick_6\">\n     <g id=\"line2d_31\">\n      <path d=\"M 31.970625 126.762427 \nL 422.570625 126.762427 \n\" clip-path=\"url(#p8f8c8e8a50)\" style=\"fill: none; stroke: #ffffff; stroke-linecap: round\"/>\n     </g>\n     <g id=\"line2d_32\"/>\n     <g id=\"text_17\">\n      <!-- 5 -->\n      <g style=\"fill: #262626\" transform=\"translate(20.521875 129.661177) scale(0.08 -0.08)\">\n       <use xlink:href=\"#LiberationSans-35\"/>\n      </g>\n     </g>\n    </g>\n    <g id=\"ytick_7\">\n     <g id=\"line2d_33\">\n      <path d=\"M 31.970625 81.497537 \nL 422.570625 81.497537 \n\" clip-path=\"url(#p8f8c8e8a50)\" style=\"fill: none; stroke: #ffffff; stroke-linecap: round\"/>\n     </g>\n     <g id=\"line2d_34\"/>\n     <g id=\"text_18\">\n      <!-- 6 -->\n      <g style=\"fill: #262626\" transform=\"translate(20.521875 84.396287) scale(0.08 -0.08)\">\n       <defs>\n        <path id=\"LiberationSans-36\" d=\"M 3278 1441 \nQ 3278 1109 3186 832 \nQ 3094 556 2914 357 \nQ 2734 159 2468 48 \nQ 2203 -63 1856 -63 \nQ 1472 -63 1184 84 \nQ 897 231 706 507 \nQ 516 784 420 1186 \nQ 325 1588 325 2100 \nQ 325 2688 433 3131 \nQ 541 3575 744 3872 \nQ 947 4169 1239 4319 \nQ 1531 4469 1900 4469 \nQ 2125 4469 2322 4422 \nQ 2519 4375 2680 4270 \nQ 2841 4166 2962 3994 \nQ 3084 3822 3156 3572 \nL 2619 3475 \nQ 2531 3759 2339 3886 \nQ 2147 4013 1894 4013 \nQ 1663 4013 1475 3903 \nQ 1288 3794 1156 3576 \nQ 1025 3359 954 3031 \nQ 884 2703 884 2266 \nQ 1038 2550 1316 2698 \nQ 1594 2847 1953 2847 \nQ 2253 2847 2497 2750 \nQ 2741 2653 2914 2470 \nQ 3088 2288 3183 2027 \nQ 3278 1766 3278 1441 \nz\nM 2706 1416 \nQ 2706 1644 2650 1828 \nQ 2594 2013 2481 2142 \nQ 2369 2272 2203 2342 \nQ 2038 2413 1819 2413 \nQ 1666 2413 1509 2367 \nQ 1353 2322 1226 2220 \nQ 1100 2119 1020 1953 \nQ 941 1788 941 1550 \nQ 941 1306 1003 1095 \nQ 1066 884 1183 728 \nQ 1300 572 1465 481 \nQ 1631 391 1838 391 \nQ 2041 391 2202 461 \nQ 2363 531 2475 664 \nQ 2588 797 2647 987 \nQ 2706 1178 2706 1416 \nz\n\" transform=\"scale(0.015625)\"/>\n       </defs>\n       <use xlink:href=\"#LiberationSans-36\"/>\n      </g>\n     </g>\n    </g>\n    <g id=\"ytick_8\">\n     <g id=\"line2d_35\">\n      <path d=\"M 31.970625 36.232648 \nL 422.570625 36.232648 \n\" clip-path=\"url(#p8f8c8e8a50)\" style=\"fill: none; stroke: #ffffff; stroke-linecap: round\"/>\n     </g>\n     <g id=\"line2d_36\"/>\n     <g id=\"text_19\">\n      <!-- 7 -->\n      <g style=\"fill: #262626\" transform=\"translate(20.521875 39.131398) scale(0.08 -0.08)\">\n       <defs>\n        <path id=\"LiberationSans-37\" d=\"M 3238 3947 \nQ 2906 3441 2628 2973 \nQ 2350 2506 2150 2032 \nQ 1950 1559 1839 1061 \nQ 1728 563 1728 0 \nL 1141 0 \nQ 1141 528 1266 1036 \nQ 1391 1544 1603 2033 \nQ 1816 2522 2097 2994 \nQ 2378 3466 2694 3925 \nL 328 3925 \nL 328 4403 \nL 3238 4403 \nL 3238 3947 \nz\n\" transform=\"scale(0.015625)\"/>\n       </defs>\n       <use xlink:href=\"#LiberationSans-37\"/>\n      </g>\n     </g>\n    </g>\n    <g id=\"text_20\">\n     <!-- Frequency -->\n     <g style=\"fill: #262626\" transform=\"translate(14.446875 210.387969) rotate(-90) scale(0.1 -0.1)\">\n      <defs>\n       <path id=\"LiberationSans-46\" d=\"M 1122 3916 \nL 1122 2278 \nL 3578 2278 \nL 3578 1784 \nL 1122 1784 \nL 1122 0 \nL 525 0 \nL 525 4403 \nL 3653 4403 \nL 3653 3916 \nL 1122 3916 \nz\n\" transform=\"scale(0.015625)\"/>\n       <path id=\"LiberationSans-72\" d=\"M 444 0 \nL 444 2594 \nQ 444 2700 442 2811 \nQ 441 2922 437 3025 \nQ 434 3128 431 3218 \nQ 428 3309 425 3381 \nL 956 3381 \nQ 959 3309 964 3217 \nQ 969 3125 973 3028 \nQ 978 2931 979 2842 \nQ 981 2753 981 2691 \nL 994 2691 \nQ 1053 2884 1120 3026 \nQ 1188 3169 1278 3261 \nQ 1369 3353 1494 3398 \nQ 1619 3444 1797 3444 \nQ 1866 3444 1928 3433 \nQ 1991 3422 2025 3413 \nL 2025 2897 \nQ 1969 2913 1894 2920 \nQ 1819 2928 1725 2928 \nQ 1531 2928 1395 2840 \nQ 1259 2753 1173 2598 \nQ 1088 2444 1047 2230 \nQ 1006 2016 1006 1763 \nL 1006 0 \nL 444 0 \nz\n\" transform=\"scale(0.015625)\"/>\n       <path id=\"LiberationSans-65\" d=\"M 863 1572 \nQ 863 1306 917 1082 \nQ 972 859 1086 698 \nQ 1200 538 1378 448 \nQ 1556 359 1806 359 \nQ 2172 359 2392 506 \nQ 2613 653 2691 878 \nL 3184 738 \nQ 3131 597 3036 455 \nQ 2941 313 2781 198 \nQ 2622 84 2383 10 \nQ 2144 -63 1806 -63 \nQ 1056 -63 664 384 \nQ 272 831 272 1713 \nQ 272 2188 390 2517 \nQ 509 2847 715 3053 \nQ 922 3259 1197 3351 \nQ 1472 3444 1784 3444 \nQ 2209 3444 2495 3306 \nQ 2781 3169 2954 2926 \nQ 3128 2684 3201 2356 \nQ 3275 2028 3275 1647 \nL 3275 1572 \nL 863 1572 \nz\nM 2694 2003 \nQ 2647 2538 2422 2783 \nQ 2197 3028 1775 3028 \nQ 1634 3028 1479 2983 \nQ 1325 2938 1194 2822 \nQ 1063 2706 972 2507 \nQ 881 2309 869 2003 \nL 2694 2003 \nz\n\" transform=\"scale(0.015625)\"/>\n       <path id=\"LiberationSans-71\" d=\"M 1513 -63 \nQ 869 -63 569 371 \nQ 269 806 269 1675 \nQ 269 2556 576 3000 \nQ 884 3444 1513 3444 \nQ 1722 3444 1883 3406 \nQ 2044 3369 2170 3295 \nQ 2297 3222 2392 3112 \nQ 2488 3003 2566 2856 \nL 2572 2856 \nQ 2572 2934 2576 3029 \nQ 2581 3125 2586 3209 \nQ 2591 3294 2597 3355 \nQ 2603 3416 2609 3425 \nL 3150 3425 \nQ 3144 3372 3136 3147 \nQ 3128 2922 3128 2503 \nL 3128 -1328 \nL 2566 -1328 \nL 2566 44 \nQ 2566 125 2567 212 \nQ 2569 300 2572 378 \nQ 2575 466 2578 556 \nL 2572 556 \nQ 2491 397 2392 280 \nQ 2294 163 2166 86 \nQ 2038 9 1877 -27 \nQ 1716 -63 1513 -63 \nz\nM 2566 1731 \nQ 2566 2100 2502 2350 \nQ 2438 2600 2320 2750 \nQ 2203 2900 2036 2964 \nQ 1869 3028 1663 3028 \nQ 1447 3028 1294 2948 \nQ 1141 2869 1045 2705 \nQ 950 2541 904 2289 \nQ 859 2038 859 1694 \nQ 859 1356 901 1106 \nQ 944 856 1039 693 \nQ 1134 531 1286 451 \nQ 1438 372 1656 372 \nQ 1844 372 2009 430 \nQ 2175 488 2298 639 \nQ 2422 791 2494 1055 \nQ 2566 1319 2566 1731 \nz\n\" transform=\"scale(0.015625)\"/>\n       <path id=\"LiberationSans-75\" d=\"M 981 3381 \nL 981 1238 \nQ 981 991 1017 825 \nQ 1053 659 1134 557 \nQ 1216 456 1348 414 \nQ 1481 372 1678 372 \nQ 1878 372 2039 442 \nQ 2200 513 2314 645 \nQ 2428 778 2490 973 \nQ 2553 1169 2553 1422 \nL 2553 3381 \nL 3116 3381 \nL 3116 722 \nQ 3116 616 3117 498 \nQ 3119 381 3122 276 \nQ 3125 172 3128 97 \nQ 3131 22 3134 0 \nL 2603 0 \nQ 2600 16 2597 84 \nQ 2594 153 2589 242 \nQ 2584 331 2581 423 \nQ 2578 516 2578 578 \nL 2569 578 \nQ 2488 431 2391 312 \nQ 2294 194 2166 111 \nQ 2038 28 1872 -17 \nQ 1706 -63 1488 -63 \nQ 1206 -63 1003 6 \nQ 800 75 669 219 \nQ 538 363 477 588 \nQ 416 813 416 1128 \nL 416 3381 \nL 981 3381 \nz\n\" transform=\"scale(0.015625)\"/>\n       <path id=\"LiberationSans-63\" d=\"M 859 1706 \nQ 859 1416 901 1172 \nQ 944 928 1044 751 \nQ 1144 575 1308 478 \nQ 1472 381 1713 381 \nQ 2013 381 2214 543 \nQ 2416 706 2463 1044 \nL 3031 1006 \nQ 3003 797 2909 603 \nQ 2816 409 2655 262 \nQ 2494 116 2262 26 \nQ 2031 -63 1728 -63 \nQ 1331 -63 1053 71 \nQ 775 206 601 442 \nQ 428 678 350 998 \nQ 272 1319 272 1694 \nQ 272 2034 328 2295 \nQ 384 2556 486 2751 \nQ 588 2947 725 3080 \nQ 863 3213 1023 3292 \nQ 1184 3372 1362 3408 \nQ 1541 3444 1722 3444 \nQ 2006 3444 2228 3366 \nQ 2450 3288 2611 3152 \nQ 2772 3016 2872 2831 \nQ 2972 2647 3013 2434 \nL 2434 2391 \nQ 2391 2672 2212 2837 \nQ 2034 3003 1706 3003 \nQ 1466 3003 1305 2923 \nQ 1144 2844 1044 2683 \nQ 944 2522 901 2278 \nQ 859 2034 859 1706 \nz\n\" transform=\"scale(0.015625)\"/>\n       <path id=\"LiberationSans-79\" d=\"M 1888 0 \nQ 1769 -306 1645 -551 \nQ 1522 -797 1369 -970 \nQ 1216 -1144 1028 -1236 \nQ 841 -1328 597 -1328 \nQ 491 -1328 400 -1322 \nQ 309 -1316 209 -1294 \nL 209 -872 \nQ 269 -881 344 -886 \nQ 419 -891 472 -891 \nQ 719 -891 931 -706 \nQ 1144 -522 1303 -119 \nL 1356 16 \nL 16 3381 \nL 616 3381 \nL 1328 1513 \nQ 1359 1428 1407 1287 \nQ 1456 1147 1504 1006 \nQ 1553 866 1590 753 \nQ 1628 641 1634 613 \nQ 1644 647 1680 748 \nQ 1716 850 1761 975 \nQ 1806 1100 1853 1228 \nQ 1900 1356 1931 1450 \nL 2594 3381 \nL 3188 3381 \nL 1888 0 \nz\n\" transform=\"scale(0.015625)\"/>\n      </defs>\n      <use xlink:href=\"#LiberationSans-46\"/>\n      <use xlink:href=\"#LiberationSans-72\" x=\"61.083984\"/>\n      <use xlink:href=\"#LiberationSans-65\" x=\"94.384766\"/>\n      <use xlink:href=\"#LiberationSans-71\" x=\"150\"/>\n      <use xlink:href=\"#LiberationSans-75\" x=\"205.615234\"/>\n      <use xlink:href=\"#LiberationSans-65\" x=\"261.230469\"/>\n      <use xlink:href=\"#LiberationSans-6e\" x=\"316.845703\"/>\n      <use xlink:href=\"#LiberationSans-63\" x=\"372.460938\"/>\n      <use xlink:href=\"#LiberationSans-79\" x=\"422.460938\"/>\n     </g>\n    </g>\n    <g id=\"text_21\">\n     <!-- 1e6 -->\n     <g style=\"fill: #262626\" transform=\"translate(31.970625 17.446875) scale(0.08 -0.08)\">\n      <use xlink:href=\"#LiberationSans-31\"/>\n      <use xlink:href=\"#LiberationSans-65\" x=\"55.615234\"/>\n      <use xlink:href=\"#LiberationSans-36\" x=\"111.230469\"/>\n     </g>\n    </g>\n   </g>\n   <g id=\"patch_3\">\n    <path d=\"M 49.72517 353.086875 \nL 78.712183 353.086875 \nL 78.712183 334.759257 \nL 49.72517 334.759257 \nz\n\" clip-path=\"url(#p8f8c8e8a50)\" style=\"fill: #4c72b0\"/>\n   </g>\n   <g id=\"patch_4\">\n    <path d=\"M 85.958937 353.086875 \nL 114.94595 353.086875 \nL 114.94595 314.914541 \nL 85.958937 314.914541 \nz\n\" clip-path=\"url(#p8f8c8e8a50)\" style=\"fill: #4c72b0\"/>\n   </g>\n   <g id=\"patch_5\">\n    <path d=\"M 122.192703 353.086875 \nL 151.179716 353.086875 \nL 151.179716 334.817649 \nL 122.192703 334.817649 \nz\n\" clip-path=\"url(#p8f8c8e8a50)\" style=\"fill: #4c72b0\"/>\n   </g>\n   <g id=\"patch_6\">\n    <path d=\"M 158.426469 353.086875 \nL 187.413482 353.086875 \nL 187.413482 273.310223 \nL 158.426469 273.310223 \nz\n\" clip-path=\"url(#p8f8c8e8a50)\" style=\"fill: #4c72b0\"/>\n   </g>\n   <g id=\"patch_7\">\n    <path d=\"M 194.660235 353.086875 \nL 223.647248 353.086875 \nL 223.647248 296.263234 \nL 194.660235 296.263234 \nz\n\" clip-path=\"url(#p8f8c8e8a50)\" style=\"fill: #4c72b0\"/>\n   </g>\n   <g id=\"patch_8\">\n    <path d=\"M 230.894002 353.086875 \nL 259.881015 353.086875 \nL 259.881015 115.141934 \nL 230.894002 115.141934 \nz\n\" clip-path=\"url(#p8f8c8e8a50)\" style=\"fill: #4c72b0\"/>\n   </g>\n   <g id=\"patch_9\">\n    <path d=\"M 267.127768 353.086875 \nL 296.114781 353.086875 \nL 296.114781 212.031838 \nL 267.127768 212.031838 \nz\n\" clip-path=\"url(#p8f8c8e8a50)\" style=\"fill: #4c72b0\"/>\n   </g>\n   <g id=\"patch_10\">\n    <path d=\"M 303.361534 353.086875 \nL 332.348547 353.086875 \nL 332.348547 36.286875 \nL 303.361534 36.286875 \nz\n\" clip-path=\"url(#p8f8c8e8a50)\" style=\"fill: #4c72b0\"/>\n   </g>\n   <g id=\"patch_11\">\n    <path d=\"M 339.5953 353.086875 \nL 368.582313 353.086875 \nL 368.582313 254.842103 \nL 339.5953 254.842103 \nz\n\" clip-path=\"url(#p8f8c8e8a50)\" style=\"fill: #4c72b0\"/>\n   </g>\n   <g id=\"patch_12\">\n    <path d=\"M 375.829067 353.086875 \nL 404.81608 353.086875 \nL 404.81608 180.514529 \nL 375.829067 180.514529 \nz\n\" clip-path=\"url(#p8f8c8e8a50)\" style=\"fill: #4c72b0\"/>\n   </g>\n   <g id=\"patch_13\">\n    <path d=\"M 31.970625 353.086875 \nL 31.970625 20.446875 \n\" style=\"fill: none\"/>\n   </g>\n   <g id=\"patch_14\">\n    <path d=\"M 422.570625 353.086875 \nL 422.570625 20.446875 \n\" style=\"fill: none\"/>\n   </g>\n   <g id=\"patch_15\">\n    <path d=\"M 31.970625 353.086875 \nL 422.570625 353.086875 \n\" style=\"fill: none\"/>\n   </g>\n   <g id=\"patch_16\">\n    <path d=\"M 31.970625 20.446875 \nL 422.570625 20.446875 \n\" style=\"fill: none\"/>\n   </g>\n   <g id=\"text_22\">\n    <!-- Ratings Count -->\n    <g style=\"fill: #262626\" transform=\"translate(195.587813 14.446875) scale(0.1 -0.1)\">\n     <defs>\n      <path id=\"LiberationSans-73\" d=\"M 2969 934 \nQ 2969 697 2876 511 \nQ 2784 325 2609 198 \nQ 2434 72 2179 4 \nQ 1925 -63 1597 -63 \nQ 1303 -63 1067 -17 \nQ 831 28 653 128 \nQ 475 228 354 392 \nQ 234 556 178 794 \nL 675 891 \nQ 747 619 972 492 \nQ 1197 366 1597 366 \nQ 1778 366 1929 391 \nQ 2081 416 2190 477 \nQ 2300 538 2361 639 \nQ 2422 741 2422 891 \nQ 2422 1044 2350 1142 \nQ 2278 1241 2150 1306 \nQ 2022 1372 1839 1420 \nQ 1656 1469 1438 1528 \nQ 1234 1581 1034 1647 \nQ 834 1713 673 1820 \nQ 513 1928 413 2087 \nQ 313 2247 313 2488 \nQ 313 2950 642 3192 \nQ 972 3434 1603 3434 \nQ 2163 3434 2492 3237 \nQ 2822 3041 2909 2606 \nL 2403 2544 \nQ 2375 2675 2300 2764 \nQ 2225 2853 2119 2908 \nQ 2013 2963 1880 2986 \nQ 1747 3009 1603 3009 \nQ 1222 3009 1040 2893 \nQ 859 2778 859 2544 \nQ 859 2406 926 2317 \nQ 994 2228 1114 2167 \nQ 1234 2106 1403 2061 \nQ 1572 2016 1775 1966 \nQ 1909 1931 2050 1892 \nQ 2191 1853 2323 1798 \nQ 2456 1744 2573 1670 \nQ 2691 1597 2778 1494 \nQ 2866 1391 2917 1253 \nQ 2969 1116 2969 934 \nz\n\" transform=\"scale(0.015625)\"/>\n      <path id=\"LiberationSans-20\" transform=\"scale(0.015625)\"/>\n      <path id=\"LiberationSans-43\" d=\"M 2475 3981 \nQ 2100 3981 1811 3856 \nQ 1522 3731 1326 3500 \nQ 1131 3269 1031 2944 \nQ 931 2619 931 2222 \nQ 931 1825 1039 1495 \nQ 1147 1166 1348 928 \nQ 1550 691 1842 559 \nQ 2134 428 2500 428 \nQ 2756 428 2967 495 \nQ 3178 563 3348 684 \nQ 3519 806 3653 973 \nQ 3788 1141 3891 1344 \nL 4378 1100 \nQ 4259 853 4084 640 \nQ 3909 428 3673 272 \nQ 3438 116 3139 26 \nQ 2841 -63 2472 -63 \nQ 1938 -63 1536 107 \nQ 1134 278 864 583 \nQ 594 888 459 1306 \nQ 325 1725 325 2222 \nQ 325 2738 467 3153 \nQ 609 3569 882 3861 \nQ 1156 4153 1556 4311 \nQ 1956 4469 2469 4469 \nQ 3172 4469 3644 4194 \nQ 4116 3919 4338 3378 \nL 3772 3191 \nQ 3709 3347 3603 3489 \nQ 3497 3631 3337 3740 \nQ 3178 3850 2964 3915 \nQ 2750 3981 2475 3981 \nz\n\" transform=\"scale(0.015625)\"/>\n      <path id=\"LiberationSans-6f\" d=\"M 3291 1694 \nQ 3291 806 2900 371 \nQ 2509 -63 1766 -63 \nQ 1413 -63 1134 43 \nQ 856 150 664 369 \nQ 472 588 370 917 \nQ 269 1247 269 1694 \nQ 269 3444 1784 3444 \nQ 2178 3444 2464 3334 \nQ 2750 3225 2933 3006 \nQ 3116 2788 3203 2459 \nQ 3291 2131 3291 1694 \nz\nM 2700 1694 \nQ 2700 2088 2639 2344 \nQ 2578 2600 2461 2753 \nQ 2344 2906 2175 2967 \nQ 2006 3028 1794 3028 \nQ 1578 3028 1404 2964 \nQ 1231 2900 1109 2745 \nQ 988 2591 923 2334 \nQ 859 2078 859 1694 \nQ 859 1300 928 1042 \nQ 997 784 1117 631 \nQ 1238 478 1402 415 \nQ 1566 353 1759 353 \nQ 1975 353 2150 414 \nQ 2325 475 2447 628 \nQ 2569 781 2634 1040 \nQ 2700 1300 2700 1694 \nz\n\" transform=\"scale(0.015625)\"/>\n     </defs>\n     <use xlink:href=\"#LiberationSans-52\"/>\n     <use xlink:href=\"#LiberationSans-61\" x=\"72.216797\"/>\n     <use xlink:href=\"#LiberationSans-74\" x=\"127.832031\"/>\n     <use xlink:href=\"#LiberationSans-69\" x=\"155.615234\"/>\n     <use xlink:href=\"#LiberationSans-6e\" x=\"177.832031\"/>\n     <use xlink:href=\"#LiberationSans-67\" x=\"233.447266\"/>\n     <use xlink:href=\"#LiberationSans-73\" x=\"289.0625\"/>\n     <use xlink:href=\"#LiberationSans-20\" x=\"339.0625\"/>\n     <use xlink:href=\"#LiberationSans-43\" x=\"366.845703\"/>\n     <use xlink:href=\"#LiberationSans-6f\" x=\"439.0625\"/>\n     <use xlink:href=\"#LiberationSans-75\" x=\"494.677734\"/>\n     <use xlink:href=\"#LiberationSans-6e\" x=\"550.292969\"/>\n     <use xlink:href=\"#LiberationSans-74\" x=\"605.908203\"/>\n    </g>\n   </g>\n  </g>\n </g>\n <defs>\n  <clipPath id=\"p8f8c8e8a50\">\n   <rect x=\"31.970625\" y=\"20.446875\" width=\"390.6\" height=\"332.64\"/>\n  </clipPath>\n </defs>\n</svg>\n"
          },
          "metadata": {}
        }
      ]
    },
    {
      "cell_type": "code",
      "execution_count": null,
      "metadata": {
        "id": "hz6myYueMFOT",
        "colab": {
          "base_uri": "https://localhost:8080/",
          "height": 1000
        },
        "outputId": "4a37a2a9-04bb-4ebf-d947-36dfe06cfd65"
      },
      "outputs": [
        {
          "output_type": "execute_result",
          "data": {
            "text/plain": [
              "Text(0.5, 1.0, 'Ratings Count')"
            ]
          },
          "metadata": {},
          "execution_count": 33
        },
        {
          "output_type": "execute_result",
          "data": {
            "text/plain": [
              "([<matplotlib.patches.Wedge at 0x7fbea07a8dc0>,\n",
              "  <matplotlib.patches.Wedge at 0x7fbea07381f0>,\n",
              "  <matplotlib.patches.Wedge at 0x7fbea07a9ab0>,\n",
              "  <matplotlib.patches.Wedge at 0x7fbea07aa140>,\n",
              "  <matplotlib.patches.Wedge at 0x7fbea07aa800>,\n",
              "  <matplotlib.patches.Wedge at 0x7fbea07aa4d0>,\n",
              "  <matplotlib.patches.Wedge at 0x7fbea07a8d90>,\n",
              "  <matplotlib.patches.Wedge at 0x7fbea07ab4f0>,\n",
              "  <matplotlib.patches.Wedge at 0x7fbea07abbb0>,\n",
              "  <matplotlib.patches.Wedge at 0x7fbea05f0280>],\n",
              " [Text(1.0986862662609036, 0.05374465861530147, '0.5'),\n",
              "  Text(1.078169518944822, 0.2180607447898207, '1.0'),\n",
              "  Text(1.0332783309124272, 0.37727429128795514, '1.5'),\n",
              "  Text(0.9006260620754708, 0.6315636914123789, '2.0'),\n",
              "  Text(0.6164963175979364, 0.9110061966793555, '2.5'),\n",
              "  Text(-0.20903327035493638, 1.079956060163894, '3.0'),\n",
              "  Text(-1.0260201199295191, 0.396588846918084, '3.5'),\n",
              "  Text(-0.7241452002900853, -0.828017952037776, '4.0'),\n",
              "  Text(0.4164909239442874, -1.0181037816804503, '4.5'),\n",
              "  Text(0.9855425424982136, -0.488575374866721, '5.0')],\n",
              " [Text(0.5992834179604928, 0.02931526833561898, '1.6%'),\n",
              "  Text(0.5880924648789937, 0.11894222443081129, '3.2%'),\n",
              "  Text(0.5636063623158692, 0.20578597706615734, '1.6%'),\n",
              "  Text(0.4912505793138931, 0.3444892862249339, '6.8%'),\n",
              "  Text(0.3362707186897835, 0.496912470916012, '4.8%'),\n",
              "  Text(-0.1140181474663289, 0.5890669419075785, '20.2%'),\n",
              "  Text(-0.559647338143374, 0.2163211892280458, '12.0%'),\n",
              "  Text(-0.3949882910673192, -0.45164615565696864, '26.9%'),\n",
              "  Text(0.2271768676059749, -0.5553293354620638, '8.3%'),\n",
              "  Text(0.5375686595444801, -0.26649565901821143, '14.6%')])"
            ]
          },
          "metadata": {},
          "execution_count": 33
        },
        {
          "output_type": "display_data",
          "data": {
            "text/plain": [
              "<Figure size 700x600 with 1 Axes>"
            ],
            "image/svg+xml": "<?xml version=\"1.0\" encoding=\"utf-8\" standalone=\"no\"?>\n<!DOCTYPE svg PUBLIC \"-//W3C//DTD SVG 1.1//EN\"\n  \"http://www.w3.org/Graphics/SVG/1.1/DTD/svg11.dtd\">\n<svg xmlns:xlink=\"http://www.w3.org/1999/xlink\" width=\"428.68pt\" height=\"374.744375pt\" viewBox=\"0 0 428.68 374.744375\" xmlns=\"http://www.w3.org/2000/svg\" version=\"1.1\">\n <metadata>\n  <rdf:RDF xmlns:dc=\"http://purl.org/dc/elements/1.1/\" xmlns:cc=\"http://creativecommons.org/ns#\" xmlns:rdf=\"http://www.w3.org/1999/02/22-rdf-syntax-ns#\">\n   <cc:Work>\n    <dc:type rdf:resource=\"http://purl.org/dc/dcmitype/StillImage\"/>\n    <dc:date>2023-05-05T19:23:27.883567</dc:date>\n    <dc:format>image/svg+xml</dc:format>\n    <dc:creator>\n     <cc:Agent>\n      <dc:title>Matplotlib v3.7.1, https://matplotlib.org/</dc:title>\n     </cc:Agent>\n    </dc:creator>\n   </cc:Work>\n  </rdf:RDF>\n </metadata>\n <defs>\n  <style type=\"text/css\">*{stroke-linejoin: round; stroke-linecap: butt}</style>\n </defs>\n <g id=\"figure_1\">\n  <g id=\"patch_1\">\n   <path d=\"M 0 374.744375 \nL 428.68 374.744375 \nL 428.68 0 \nL 0 0 \nz\n\" style=\"fill: #ffffff\"/>\n  </g>\n  <g id=\"axes_1\">\n   <g id=\"patch_2\">\n    <path d=\"M 25.32 353.086875 \nL 415.92 353.086875 \nL 415.92 20.446875 \nL 25.32 20.446875 \nz\n\" style=\"fill: #eaeaf2\"/>\n   </g>\n   <g id=\"matplotlib.axis_1\">\n    <g id=\"xtick_1\">\n     <g id=\"line2d_1\">\n      <path d=\"M 25.32 353.086875 \nL 25.32 20.446875 \n\" clip-path=\"url(#pb6f4988b29)\" style=\"fill: none; stroke: #ffffff; stroke-linecap: round\"/>\n     </g>\n     <g id=\"line2d_2\"/>\n     <g id=\"text_1\">\n      <!-- 0.0 -->\n      <g style=\"fill: #262626\" transform=\"translate(19.76 365.884375) scale(0.08 -0.08)\">\n       <defs>\n        <path id=\"LiberationSans-30\" d=\"M 3309 2203 \nQ 3309 1569 3189 1136 \nQ 3069 703 2861 436 \nQ 2653 169 2372 53 \nQ 2091 -63 1772 -63 \nQ 1450 -63 1172 53 \nQ 894 169 689 434 \nQ 484 700 367 1133 \nQ 250 1566 250 2203 \nQ 250 2869 367 3305 \nQ 484 3741 690 4000 \nQ 897 4259 1178 4364 \nQ 1459 4469 1791 4469 \nQ 2106 4469 2382 4364 \nQ 2659 4259 2865 4000 \nQ 3072 3741 3190 3305 \nQ 3309 2869 3309 2203 \nz\nM 2738 2203 \nQ 2738 2728 2675 3076 \nQ 2613 3425 2491 3633 \nQ 2369 3841 2192 3927 \nQ 2016 4013 1791 4013 \nQ 1553 4013 1372 3925 \nQ 1191 3838 1067 3630 \nQ 944 3422 881 3073 \nQ 819 2725 819 2203 \nQ 819 1697 883 1350 \nQ 947 1003 1070 792 \nQ 1194 581 1372 489 \nQ 1550 397 1778 397 \nQ 2000 397 2178 489 \nQ 2356 581 2479 792 \nQ 2603 1003 2670 1350 \nQ 2738 1697 2738 2203 \nz\n\" transform=\"scale(0.015625)\"/>\n        <path id=\"LiberationSans-2e\" d=\"M 584 0 \nL 584 684 \nL 1194 684 \nL 1194 0 \nL 584 0 \nz\n\" transform=\"scale(0.015625)\"/>\n       </defs>\n       <use xlink:href=\"#LiberationSans-30\"/>\n       <use xlink:href=\"#LiberationSans-2e\" x=\"55.615234\"/>\n       <use xlink:href=\"#LiberationSans-30\" x=\"83.398438\"/>\n      </g>\n     </g>\n    </g>\n    <g id=\"xtick_2\">\n     <g id=\"line2d_3\">\n      <path d=\"M 103.44 353.086875 \nL 103.44 20.446875 \n\" clip-path=\"url(#pb6f4988b29)\" style=\"fill: none; stroke: #ffffff; stroke-linecap: round\"/>\n     </g>\n     <g id=\"line2d_4\"/>\n     <g id=\"text_2\">\n      <!-- 0.2 -->\n      <g style=\"fill: #262626\" transform=\"translate(97.88 365.884375) scale(0.08 -0.08)\">\n       <defs>\n        <path id=\"LiberationSans-32\" d=\"M 322 0 \nL 322 397 \nQ 481 763 711 1042 \nQ 941 1322 1194 1548 \nQ 1447 1775 1695 1969 \nQ 1944 2163 2144 2356 \nQ 2344 2550 2467 2762 \nQ 2591 2975 2591 3244 \nQ 2591 3431 2534 3573 \nQ 2478 3716 2372 3812 \nQ 2266 3909 2117 3957 \nQ 1969 4006 1788 4006 \nQ 1619 4006 1470 3959 \nQ 1322 3913 1206 3819 \nQ 1091 3725 1017 3586 \nQ 944 3447 922 3263 \nL 347 3316 \nQ 375 3553 478 3762 \nQ 581 3972 762 4130 \nQ 944 4288 1198 4378 \nQ 1453 4469 1788 4469 \nQ 2116 4469 2372 4391 \nQ 2628 4313 2804 4159 \nQ 2981 4006 3075 3781 \nQ 3169 3556 3169 3263 \nQ 3169 3041 3089 2841 \nQ 3009 2641 2876 2459 \nQ 2744 2278 2569 2109 \nQ 2394 1941 2203 1780 \nQ 2013 1619 1819 1461 \nQ 1625 1303 1454 1143 \nQ 1284 984 1150 820 \nQ 1016 656 941 478 \nL 3238 478 \nL 3238 0 \nL 322 0 \nz\n\" transform=\"scale(0.015625)\"/>\n       </defs>\n       <use xlink:href=\"#LiberationSans-30\"/>\n       <use xlink:href=\"#LiberationSans-2e\" x=\"55.615234\"/>\n       <use xlink:href=\"#LiberationSans-32\" x=\"83.398438\"/>\n      </g>\n     </g>\n    </g>\n    <g id=\"xtick_3\">\n     <g id=\"line2d_5\">\n      <path d=\"M 181.56 353.086875 \nL 181.56 20.446875 \n\" clip-path=\"url(#pb6f4988b29)\" style=\"fill: none; stroke: #ffffff; stroke-linecap: round\"/>\n     </g>\n     <g id=\"line2d_6\"/>\n     <g id=\"text_3\">\n      <!-- 0.4 -->\n      <g style=\"fill: #262626\" transform=\"translate(176 365.884375) scale(0.08 -0.08)\">\n       <defs>\n        <path id=\"LiberationSans-34\" d=\"M 2753 997 \nL 2753 0 \nL 2222 0 \nL 2222 997 \nL 147 997 \nL 147 1434 \nL 2163 4403 \nL 2753 4403 \nL 2753 1441 \nL 3372 1441 \nL 3372 997 \nL 2753 997 \nz\nM 2222 3769 \nQ 2216 3753 2191 3708 \nQ 2166 3663 2134 3606 \nQ 2103 3550 2070 3492 \nQ 2038 3434 2013 3397 \nL 884 1734 \nQ 869 1709 839 1668 \nQ 809 1628 778 1586 \nQ 747 1544 715 1503 \nQ 684 1463 666 1441 \nL 2222 1441 \nL 2222 3769 \nz\n\" transform=\"scale(0.015625)\"/>\n       </defs>\n       <use xlink:href=\"#LiberationSans-30\"/>\n       <use xlink:href=\"#LiberationSans-2e\" x=\"55.615234\"/>\n       <use xlink:href=\"#LiberationSans-34\" x=\"83.398438\"/>\n      </g>\n     </g>\n    </g>\n    <g id=\"xtick_4\">\n     <g id=\"line2d_7\">\n      <path d=\"M 259.68 353.086875 \nL 259.68 20.446875 \n\" clip-path=\"url(#pb6f4988b29)\" style=\"fill: none; stroke: #ffffff; stroke-linecap: round\"/>\n     </g>\n     <g id=\"line2d_8\"/>\n     <g id=\"text_4\">\n      <!-- 0.6 -->\n      <g style=\"fill: #262626\" transform=\"translate(254.12 365.884375) scale(0.08 -0.08)\">\n       <defs>\n        <path id=\"LiberationSans-36\" d=\"M 3278 1441 \nQ 3278 1109 3186 832 \nQ 3094 556 2914 357 \nQ 2734 159 2468 48 \nQ 2203 -63 1856 -63 \nQ 1472 -63 1184 84 \nQ 897 231 706 507 \nQ 516 784 420 1186 \nQ 325 1588 325 2100 \nQ 325 2688 433 3131 \nQ 541 3575 744 3872 \nQ 947 4169 1239 4319 \nQ 1531 4469 1900 4469 \nQ 2125 4469 2322 4422 \nQ 2519 4375 2680 4270 \nQ 2841 4166 2962 3994 \nQ 3084 3822 3156 3572 \nL 2619 3475 \nQ 2531 3759 2339 3886 \nQ 2147 4013 1894 4013 \nQ 1663 4013 1475 3903 \nQ 1288 3794 1156 3576 \nQ 1025 3359 954 3031 \nQ 884 2703 884 2266 \nQ 1038 2550 1316 2698 \nQ 1594 2847 1953 2847 \nQ 2253 2847 2497 2750 \nQ 2741 2653 2914 2470 \nQ 3088 2288 3183 2027 \nQ 3278 1766 3278 1441 \nz\nM 2706 1416 \nQ 2706 1644 2650 1828 \nQ 2594 2013 2481 2142 \nQ 2369 2272 2203 2342 \nQ 2038 2413 1819 2413 \nQ 1666 2413 1509 2367 \nQ 1353 2322 1226 2220 \nQ 1100 2119 1020 1953 \nQ 941 1788 941 1550 \nQ 941 1306 1003 1095 \nQ 1066 884 1183 728 \nQ 1300 572 1465 481 \nQ 1631 391 1838 391 \nQ 2041 391 2202 461 \nQ 2363 531 2475 664 \nQ 2588 797 2647 987 \nQ 2706 1178 2706 1416 \nz\n\" transform=\"scale(0.015625)\"/>\n       </defs>\n       <use xlink:href=\"#LiberationSans-30\"/>\n       <use xlink:href=\"#LiberationSans-2e\" x=\"55.615234\"/>\n       <use xlink:href=\"#LiberationSans-36\" x=\"83.398438\"/>\n      </g>\n     </g>\n    </g>\n    <g id=\"xtick_5\">\n     <g id=\"line2d_9\">\n      <path d=\"M 337.8 353.086875 \nL 337.8 20.446875 \n\" clip-path=\"url(#pb6f4988b29)\" style=\"fill: none; stroke: #ffffff; stroke-linecap: round\"/>\n     </g>\n     <g id=\"line2d_10\"/>\n     <g id=\"text_5\">\n      <!-- 0.8 -->\n      <g style=\"fill: #262626\" transform=\"translate(332.24 365.884375) scale(0.08 -0.08)\">\n       <defs>\n        <path id=\"LiberationSans-38\" d=\"M 3281 1228 \nQ 3281 947 3192 711 \nQ 3103 475 2920 303 \nQ 2738 131 2453 34 \nQ 2169 -63 1781 -63 \nQ 1394 -63 1111 34 \nQ 828 131 642 301 \nQ 456 472 367 708 \nQ 278 944 278 1222 \nQ 278 1463 351 1650 \nQ 425 1838 548 1973 \nQ 672 2109 830 2192 \nQ 988 2275 1156 2303 \nL 1156 2316 \nQ 972 2359 826 2456 \nQ 681 2553 582 2689 \nQ 484 2825 432 2990 \nQ 381 3156 381 3341 \nQ 381 3572 470 3776 \nQ 559 3981 734 4136 \nQ 909 4291 1168 4380 \nQ 1428 4469 1769 4469 \nQ 2128 4469 2392 4378 \nQ 2656 4288 2829 4133 \nQ 3003 3978 3087 3772 \nQ 3172 3566 3172 3334 \nQ 3172 3153 3120 2987 \nQ 3069 2822 2970 2686 \nQ 2872 2550 2726 2454 \nQ 2581 2359 2391 2322 \nL 2391 2309 \nQ 2581 2278 2743 2195 \nQ 2906 2113 3025 1977 \nQ 3144 1841 3212 1653 \nQ 3281 1466 3281 1228 \nz\nM 2588 3303 \nQ 2588 3469 2545 3606 \nQ 2503 3744 2406 3842 \nQ 2309 3941 2153 3995 \nQ 1997 4050 1769 4050 \nQ 1547 4050 1394 3995 \nQ 1241 3941 1142 3842 \nQ 1044 3744 1000 3606 \nQ 956 3469 956 3303 \nQ 956 3172 990 3034 \nQ 1025 2897 1115 2784 \nQ 1206 2672 1365 2600 \nQ 1525 2528 1775 2528 \nQ 2041 2528 2202 2600 \nQ 2363 2672 2448 2784 \nQ 2534 2897 2561 3034 \nQ 2588 3172 2588 3303 \nz\nM 2697 1281 \nQ 2697 1441 2653 1589 \nQ 2609 1738 2503 1852 \nQ 2397 1966 2217 2036 \nQ 2038 2106 1769 2106 \nQ 1522 2106 1348 2036 \nQ 1175 1966 1067 1850 \nQ 959 1734 909 1582 \nQ 859 1431 859 1269 \nQ 859 1066 909 898 \nQ 959 731 1068 611 \nQ 1178 491 1356 425 \nQ 1534 359 1788 359 \nQ 2044 359 2219 425 \nQ 2394 491 2500 611 \nQ 2606 731 2651 901 \nQ 2697 1072 2697 1281 \nz\n\" transform=\"scale(0.015625)\"/>\n       </defs>\n       <use xlink:href=\"#LiberationSans-30\"/>\n       <use xlink:href=\"#LiberationSans-2e\" x=\"55.615234\"/>\n       <use xlink:href=\"#LiberationSans-38\" x=\"83.398438\"/>\n      </g>\n     </g>\n    </g>\n    <g id=\"xtick_6\">\n     <g id=\"line2d_11\">\n      <path d=\"M 415.92 353.086875 \nL 415.92 20.446875 \n\" clip-path=\"url(#pb6f4988b29)\" style=\"fill: none; stroke: #ffffff; stroke-linecap: round\"/>\n     </g>\n     <g id=\"line2d_12\"/>\n     <g id=\"text_6\">\n      <!-- 1.0 -->\n      <g style=\"fill: #262626\" transform=\"translate(410.36 365.884375) scale(0.08 -0.08)\">\n       <defs>\n        <path id=\"LiberationSans-31\" d=\"M 488 0 \nL 488 478 \nL 1609 478 \nL 1609 3866 \nL 616 3156 \nL 616 3688 \nL 1656 4403 \nL 2175 4403 \nL 2175 478 \nL 3247 478 \nL 3247 0 \nL 488 0 \nz\n\" transform=\"scale(0.015625)\"/>\n       </defs>\n       <use xlink:href=\"#LiberationSans-31\"/>\n       <use xlink:href=\"#LiberationSans-2e\" x=\"55.615234\"/>\n       <use xlink:href=\"#LiberationSans-30\" x=\"83.398438\"/>\n      </g>\n     </g>\n    </g>\n   </g>\n   <g id=\"matplotlib.axis_2\">\n    <g id=\"ytick_1\">\n     <g id=\"line2d_13\">\n      <path d=\"M 25.32 353.086875 \nL 415.92 353.086875 \n\" clip-path=\"url(#pb6f4988b29)\" style=\"fill: none; stroke: #ffffff; stroke-linecap: round\"/>\n     </g>\n     <g id=\"line2d_14\"/>\n     <g id=\"text_7\">\n      <!-- 0.0 -->\n      <g style=\"fill: #262626\" transform=\"translate(7.2 355.985625) scale(0.08 -0.08)\">\n       <use xlink:href=\"#LiberationSans-30\"/>\n       <use xlink:href=\"#LiberationSans-2e\" x=\"55.615234\"/>\n       <use xlink:href=\"#LiberationSans-30\" x=\"83.398438\"/>\n      </g>\n     </g>\n    </g>\n    <g id=\"ytick_2\">\n     <g id=\"line2d_15\">\n      <path d=\"M 25.32 286.558875 \nL 415.92 286.558875 \n\" clip-path=\"url(#pb6f4988b29)\" style=\"fill: none; stroke: #ffffff; stroke-linecap: round\"/>\n     </g>\n     <g id=\"line2d_16\"/>\n     <g id=\"text_8\">\n      <!-- 0.2 -->\n      <g style=\"fill: #262626\" transform=\"translate(7.2 289.457625) scale(0.08 -0.08)\">\n       <use xlink:href=\"#LiberationSans-30\"/>\n       <use xlink:href=\"#LiberationSans-2e\" x=\"55.615234\"/>\n       <use xlink:href=\"#LiberationSans-32\" x=\"83.398438\"/>\n      </g>\n     </g>\n    </g>\n    <g id=\"ytick_3\">\n     <g id=\"line2d_17\">\n      <path d=\"M 25.32 220.030875 \nL 415.92 220.030875 \n\" clip-path=\"url(#pb6f4988b29)\" style=\"fill: none; stroke: #ffffff; stroke-linecap: round\"/>\n     </g>\n     <g id=\"line2d_18\"/>\n     <g id=\"text_9\">\n      <!-- 0.4 -->\n      <g style=\"fill: #262626\" transform=\"translate(7.2 222.929625) scale(0.08 -0.08)\">\n       <use xlink:href=\"#LiberationSans-30\"/>\n       <use xlink:href=\"#LiberationSans-2e\" x=\"55.615234\"/>\n       <use xlink:href=\"#LiberationSans-34\" x=\"83.398438\"/>\n      </g>\n     </g>\n    </g>\n    <g id=\"ytick_4\">\n     <g id=\"line2d_19\">\n      <path d=\"M 25.32 153.502875 \nL 415.92 153.502875 \n\" clip-path=\"url(#pb6f4988b29)\" style=\"fill: none; stroke: #ffffff; stroke-linecap: round\"/>\n     </g>\n     <g id=\"line2d_20\"/>\n     <g id=\"text_10\">\n      <!-- 0.6 -->\n      <g style=\"fill: #262626\" transform=\"translate(7.2 156.401625) scale(0.08 -0.08)\">\n       <use xlink:href=\"#LiberationSans-30\"/>\n       <use xlink:href=\"#LiberationSans-2e\" x=\"55.615234\"/>\n       <use xlink:href=\"#LiberationSans-36\" x=\"83.398438\"/>\n      </g>\n     </g>\n    </g>\n    <g id=\"ytick_5\">\n     <g id=\"line2d_21\">\n      <path d=\"M 25.32 86.974875 \nL 415.92 86.974875 \n\" clip-path=\"url(#pb6f4988b29)\" style=\"fill: none; stroke: #ffffff; stroke-linecap: round\"/>\n     </g>\n     <g id=\"line2d_22\"/>\n     <g id=\"text_11\">\n      <!-- 0.8 -->\n      <g style=\"fill: #262626\" transform=\"translate(7.2 89.873625) scale(0.08 -0.08)\">\n       <use xlink:href=\"#LiberationSans-30\"/>\n       <use xlink:href=\"#LiberationSans-2e\" x=\"55.615234\"/>\n       <use xlink:href=\"#LiberationSans-38\" x=\"83.398438\"/>\n      </g>\n     </g>\n    </g>\n    <g id=\"ytick_6\">\n     <g id=\"line2d_23\">\n      <path d=\"M 25.32 20.446875 \nL 415.92 20.446875 \n\" clip-path=\"url(#pb6f4988b29)\" style=\"fill: none; stroke: #ffffff; stroke-linecap: round\"/>\n     </g>\n     <g id=\"line2d_24\"/>\n     <g id=\"text_12\">\n      <!-- 1.0 -->\n      <g style=\"fill: #262626\" transform=\"translate(7.2 23.345625) scale(0.08 -0.08)\">\n       <use xlink:href=\"#LiberationSans-31\"/>\n       <use xlink:href=\"#LiberationSans-2e\" x=\"55.615234\"/>\n       <use xlink:href=\"#LiberationSans-30\" x=\"83.398438\"/>\n      </g>\n     </g>\n    </g>\n   </g>\n   <g id=\"patch_3\">\n    <path d=\"M 25.32 353.086875 \nL 25.32 20.446875 \n\" style=\"fill: none\"/>\n   </g>\n   <g id=\"patch_4\">\n    <path d=\"M 415.92 353.086875 \nL 415.92 20.446875 \n\" style=\"fill: none\"/>\n   </g>\n   <g id=\"patch_5\">\n    <path d=\"M 25.32 353.086875 \nL 415.92 353.086875 \n\" style=\"fill: none\"/>\n   </g>\n   <g id=\"patch_6\">\n    <path d=\"M 25.32 20.446875 \nL 415.92 20.446875 \n\" style=\"fill: none\"/>\n   </g>\n   <g id=\"text_13\">\n    <!-- Ratings Count -->\n    <g style=\"fill: #262626\" transform=\"translate(188.937187 14.446875) scale(0.1 -0.1)\">\n     <defs>\n      <path id=\"LiberationSans-52\" d=\"M 3638 0 \nL 2494 1828 \nL 1122 1828 \nL 1122 0 \nL 525 0 \nL 525 4403 \nL 2597 4403 \nQ 2972 4403 3261 4317 \nQ 3550 4231 3747 4068 \nQ 3944 3906 4047 3672 \nQ 4150 3438 4150 3144 \nQ 4150 2934 4089 2731 \nQ 4028 2528 3897 2359 \nQ 3766 2191 3562 2069 \nQ 3359 1947 3075 1897 \nL 4325 0 \nL 3638 0 \nz\nM 3550 3138 \nQ 3550 3338 3481 3484 \nQ 3413 3631 3281 3729 \nQ 3150 3828 2962 3876 \nQ 2775 3925 2538 3925 \nL 1122 3925 \nL 1122 2300 \nL 2563 2300 \nQ 2819 2300 3006 2364 \nQ 3194 2428 3314 2540 \nQ 3434 2653 3492 2806 \nQ 3550 2959 3550 3138 \nz\n\" transform=\"scale(0.015625)\"/>\n      <path id=\"LiberationSans-61\" d=\"M 1294 -63 \nQ 784 -63 528 206 \nQ 272 475 272 944 \nQ 272 1278 398 1492 \nQ 525 1706 729 1828 \nQ 934 1950 1196 1997 \nQ 1459 2044 1731 2050 \nL 2491 2063 \nL 2491 2247 \nQ 2491 2456 2447 2603 \nQ 2403 2750 2312 2840 \nQ 2222 2931 2086 2973 \nQ 1950 3016 1766 3016 \nQ 1603 3016 1472 2992 \nQ 1341 2969 1244 2908 \nQ 1147 2847 1087 2742 \nQ 1028 2638 1009 2478 \nL 422 2531 \nQ 453 2731 540 2898 \nQ 628 3066 789 3187 \nQ 950 3309 1192 3376 \nQ 1434 3444 1778 3444 \nQ 2416 3444 2737 3151 \nQ 3059 2859 3059 2306 \nL 3059 850 \nQ 3059 600 3125 473 \nQ 3191 347 3375 347 \nQ 3422 347 3469 353 \nQ 3516 359 3559 369 \nL 3559 19 \nQ 3453 -6 3348 -18 \nQ 3244 -31 3125 -31 \nQ 2966 -31 2852 11 \nQ 2738 53 2666 139 \nQ 2594 225 2556 351 \nQ 2519 478 2509 647 \nL 2491 647 \nQ 2400 484 2292 353 \nQ 2184 222 2040 130 \nQ 1897 38 1714 -12 \nQ 1531 -63 1294 -63 \nz\nM 1422 359 \nQ 1691 359 1892 457 \nQ 2094 556 2226 709 \nQ 2359 863 2425 1044 \nQ 2491 1225 2491 1391 \nL 2491 1669 \nL 1875 1656 \nQ 1669 1653 1483 1626 \nQ 1297 1600 1156 1522 \nQ 1016 1444 933 1303 \nQ 850 1163 850 934 \nQ 850 659 998 509 \nQ 1147 359 1422 359 \nz\n\" transform=\"scale(0.015625)\"/>\n      <path id=\"LiberationSans-74\" d=\"M 1731 25 \nQ 1603 -9 1470 -29 \nQ 1338 -50 1163 -50 \nQ 488 -50 488 716 \nL 488 2972 \nL 97 2972 \nL 97 3381 \nL 509 3381 \nL 675 4138 \nL 1050 4138 \nL 1050 3381 \nL 1675 3381 \nL 1675 2972 \nL 1050 2972 \nL 1050 838 \nQ 1050 594 1129 495 \nQ 1209 397 1406 397 \nQ 1488 397 1564 409 \nQ 1641 422 1731 441 \nL 1731 25 \nz\n\" transform=\"scale(0.015625)\"/>\n      <path id=\"LiberationSans-69\" d=\"M 428 4100 \nL 428 4638 \nL 991 4638 \nL 991 4100 \nL 428 4100 \nz\nM 428 0 \nL 428 3381 \nL 991 3381 \nL 991 0 \nL 428 0 \nz\n\" transform=\"scale(0.015625)\"/>\n      <path id=\"LiberationSans-6e\" d=\"M 2578 0 \nL 2578 2144 \nQ 2578 2391 2542 2556 \nQ 2506 2722 2425 2823 \nQ 2344 2925 2211 2967 \nQ 2078 3009 1881 3009 \nQ 1681 3009 1520 2939 \nQ 1359 2869 1245 2736 \nQ 1131 2603 1068 2408 \nQ 1006 2213 1006 1959 \nL 1006 0 \nL 444 0 \nL 444 2659 \nQ 444 2766 442 2883 \nQ 441 3000 437 3104 \nQ 434 3209 431 3284 \nQ 428 3359 425 3381 \nL 956 3381 \nQ 959 3366 962 3297 \nQ 966 3228 970 3139 \nQ 975 3050 978 2958 \nQ 981 2866 981 2803 \nL 991 2803 \nQ 1072 2950 1169 3069 \nQ 1266 3188 1394 3270 \nQ 1522 3353 1687 3398 \nQ 1853 3444 2072 3444 \nQ 2353 3444 2556 3375 \nQ 2759 3306 2890 3162 \nQ 3022 3019 3083 2792 \nQ 3144 2566 3144 2253 \nL 3144 0 \nL 2578 0 \nz\n\" transform=\"scale(0.015625)\"/>\n      <path id=\"LiberationSans-67\" d=\"M 1713 -1328 \nQ 1422 -1328 1197 -1268 \nQ 972 -1209 812 -1098 \nQ 653 -988 553 -834 \nQ 453 -681 409 -494 \nL 975 -413 \nQ 1031 -647 1223 -773 \nQ 1416 -900 1728 -900 \nQ 1919 -900 2075 -847 \nQ 2231 -794 2340 -676 \nQ 2450 -559 2509 -371 \nQ 2569 -184 2569 84 \nL 2569 628 \nL 2563 628 \nQ 2500 500 2408 383 \nQ 2316 266 2183 175 \nQ 2050 84 1875 29 \nQ 1700 -25 1475 -25 \nQ 1153 -25 923 83 \nQ 694 191 548 406 \nQ 403 622 336 942 \nQ 269 1263 269 1684 \nQ 269 2091 336 2416 \nQ 403 2741 554 2967 \nQ 706 3194 948 3314 \nQ 1191 3434 1538 3434 \nQ 1897 3434 2161 3270 \nQ 2425 3106 2569 2803 \nL 2575 2803 \nQ 2575 2881 2579 2978 \nQ 2584 3075 2589 3161 \nQ 2594 3247 2600 3309 \nQ 2606 3372 2613 3381 \nL 3147 3381 \nQ 3144 3353 3141 3286 \nQ 3138 3219 3134 3125 \nQ 3131 3031 3129 2917 \nQ 3128 2803 3128 2681 \nL 3128 97 \nQ 3128 -613 2779 -970 \nQ 2431 -1328 1713 -1328 \nz\nM 2569 1691 \nQ 2569 2044 2492 2295 \nQ 2416 2547 2291 2706 \nQ 2166 2866 2005 2941 \nQ 1844 3016 1675 3016 \nQ 1459 3016 1304 2941 \nQ 1150 2866 1048 2705 \nQ 947 2544 898 2292 \nQ 850 2041 850 1691 \nQ 850 1325 898 1076 \nQ 947 828 1047 675 \nQ 1147 522 1300 456 \nQ 1453 391 1666 391 \nQ 1834 391 1995 462 \nQ 2156 534 2284 690 \nQ 2413 847 2491 1094 \nQ 2569 1341 2569 1691 \nz\n\" transform=\"scale(0.015625)\"/>\n      <path id=\"LiberationSans-73\" d=\"M 2969 934 \nQ 2969 697 2876 511 \nQ 2784 325 2609 198 \nQ 2434 72 2179 4 \nQ 1925 -63 1597 -63 \nQ 1303 -63 1067 -17 \nQ 831 28 653 128 \nQ 475 228 354 392 \nQ 234 556 178 794 \nL 675 891 \nQ 747 619 972 492 \nQ 1197 366 1597 366 \nQ 1778 366 1929 391 \nQ 2081 416 2190 477 \nQ 2300 538 2361 639 \nQ 2422 741 2422 891 \nQ 2422 1044 2350 1142 \nQ 2278 1241 2150 1306 \nQ 2022 1372 1839 1420 \nQ 1656 1469 1438 1528 \nQ 1234 1581 1034 1647 \nQ 834 1713 673 1820 \nQ 513 1928 413 2087 \nQ 313 2247 313 2488 \nQ 313 2950 642 3192 \nQ 972 3434 1603 3434 \nQ 2163 3434 2492 3237 \nQ 2822 3041 2909 2606 \nL 2403 2544 \nQ 2375 2675 2300 2764 \nQ 2225 2853 2119 2908 \nQ 2013 2963 1880 2986 \nQ 1747 3009 1603 3009 \nQ 1222 3009 1040 2893 \nQ 859 2778 859 2544 \nQ 859 2406 926 2317 \nQ 994 2228 1114 2167 \nQ 1234 2106 1403 2061 \nQ 1572 2016 1775 1966 \nQ 1909 1931 2050 1892 \nQ 2191 1853 2323 1798 \nQ 2456 1744 2573 1670 \nQ 2691 1597 2778 1494 \nQ 2866 1391 2917 1253 \nQ 2969 1116 2969 934 \nz\n\" transform=\"scale(0.015625)\"/>\n      <path id=\"LiberationSans-20\" transform=\"scale(0.015625)\"/>\n      <path id=\"LiberationSans-43\" d=\"M 2475 3981 \nQ 2100 3981 1811 3856 \nQ 1522 3731 1326 3500 \nQ 1131 3269 1031 2944 \nQ 931 2619 931 2222 \nQ 931 1825 1039 1495 \nQ 1147 1166 1348 928 \nQ 1550 691 1842 559 \nQ 2134 428 2500 428 \nQ 2756 428 2967 495 \nQ 3178 563 3348 684 \nQ 3519 806 3653 973 \nQ 3788 1141 3891 1344 \nL 4378 1100 \nQ 4259 853 4084 640 \nQ 3909 428 3673 272 \nQ 3438 116 3139 26 \nQ 2841 -63 2472 -63 \nQ 1938 -63 1536 107 \nQ 1134 278 864 583 \nQ 594 888 459 1306 \nQ 325 1725 325 2222 \nQ 325 2738 467 3153 \nQ 609 3569 882 3861 \nQ 1156 4153 1556 4311 \nQ 1956 4469 2469 4469 \nQ 3172 4469 3644 4194 \nQ 4116 3919 4338 3378 \nL 3772 3191 \nQ 3709 3347 3603 3489 \nQ 3497 3631 3337 3740 \nQ 3178 3850 2964 3915 \nQ 2750 3981 2475 3981 \nz\n\" transform=\"scale(0.015625)\"/>\n      <path id=\"LiberationSans-6f\" d=\"M 3291 1694 \nQ 3291 806 2900 371 \nQ 2509 -63 1766 -63 \nQ 1413 -63 1134 43 \nQ 856 150 664 369 \nQ 472 588 370 917 \nQ 269 1247 269 1694 \nQ 269 3444 1784 3444 \nQ 2178 3444 2464 3334 \nQ 2750 3225 2933 3006 \nQ 3116 2788 3203 2459 \nQ 3291 2131 3291 1694 \nz\nM 2700 1694 \nQ 2700 2088 2639 2344 \nQ 2578 2600 2461 2753 \nQ 2344 2906 2175 2967 \nQ 2006 3028 1794 3028 \nQ 1578 3028 1404 2964 \nQ 1231 2900 1109 2745 \nQ 988 2591 923 2334 \nQ 859 2078 859 1694 \nQ 859 1300 928 1042 \nQ 997 784 1117 631 \nQ 1238 478 1402 415 \nQ 1566 353 1759 353 \nQ 1975 353 2150 414 \nQ 2325 475 2447 628 \nQ 2569 781 2634 1040 \nQ 2700 1300 2700 1694 \nz\n\" transform=\"scale(0.015625)\"/>\n      <path id=\"LiberationSans-75\" d=\"M 981 3381 \nL 981 1238 \nQ 981 991 1017 825 \nQ 1053 659 1134 557 \nQ 1216 456 1348 414 \nQ 1481 372 1678 372 \nQ 1878 372 2039 442 \nQ 2200 513 2314 645 \nQ 2428 778 2490 973 \nQ 2553 1169 2553 1422 \nL 2553 3381 \nL 3116 3381 \nL 3116 722 \nQ 3116 616 3117 498 \nQ 3119 381 3122 276 \nQ 3125 172 3128 97 \nQ 3131 22 3134 0 \nL 2603 0 \nQ 2600 16 2597 84 \nQ 2594 153 2589 242 \nQ 2584 331 2581 423 \nQ 2578 516 2578 578 \nL 2569 578 \nQ 2488 431 2391 312 \nQ 2294 194 2166 111 \nQ 2038 28 1872 -17 \nQ 1706 -63 1488 -63 \nQ 1206 -63 1003 6 \nQ 800 75 669 219 \nQ 538 363 477 588 \nQ 416 813 416 1128 \nL 416 3381 \nL 981 3381 \nz\n\" transform=\"scale(0.015625)\"/>\n     </defs>\n     <use xlink:href=\"#LiberationSans-52\"/>\n     <use xlink:href=\"#LiberationSans-61\" x=\"72.216797\"/>\n     <use xlink:href=\"#LiberationSans-74\" x=\"127.832031\"/>\n     <use xlink:href=\"#LiberationSans-69\" x=\"155.615234\"/>\n     <use xlink:href=\"#LiberationSans-6e\" x=\"177.832031\"/>\n     <use xlink:href=\"#LiberationSans-67\" x=\"233.447266\"/>\n     <use xlink:href=\"#LiberationSans-73\" x=\"289.0625\"/>\n     <use xlink:href=\"#LiberationSans-20\" x=\"339.0625\"/>\n     <use xlink:href=\"#LiberationSans-43\" x=\"366.845703\"/>\n     <use xlink:href=\"#LiberationSans-6f\" x=\"439.0625\"/>\n     <use xlink:href=\"#LiberationSans-75\" x=\"494.677734\"/>\n     <use xlink:href=\"#LiberationSans-6e\" x=\"550.292969\"/>\n     <use xlink:href=\"#LiberationSans-74\" x=\"605.908203\"/>\n    </g>\n   </g>\n  </g>\n </g>\n <defs>\n  <clipPath id=\"pb6f4988b29\">\n   <rect x=\"25.32\" y=\"20.446875\" width=\"390.6\" height=\"332.64\"/>\n  </clipPath>\n </defs>\n</svg>\n"
          },
          "metadata": {}
        },
        {
          "output_type": "display_data",
          "data": {
            "text/plain": [
              "<Figure size 700x600 with 1 Axes>"
            ],
            "image/svg+xml": "<?xml version=\"1.0\" encoding=\"utf-8\" standalone=\"no\"?>\n<!DOCTYPE svg PUBLIC \"-//W3C//DTD SVG 1.1//EN\"\n  \"http://www.w3.org/Graphics/SVG/1.1/DTD/svg11.dtd\">\n<svg xmlns:xlink=\"http://www.w3.org/1999/xlink\" width=\"347.04pt\" height=\"347.04pt\" viewBox=\"0 0 347.04 347.04\" xmlns=\"http://www.w3.org/2000/svg\" version=\"1.1\">\n <metadata>\n  <rdf:RDF xmlns:dc=\"http://purl.org/dc/elements/1.1/\" xmlns:cc=\"http://creativecommons.org/ns#\" xmlns:rdf=\"http://www.w3.org/1999/02/22-rdf-syntax-ns#\">\n   <cc:Work>\n    <dc:type rdf:resource=\"http://purl.org/dc/dcmitype/StillImage\"/>\n    <dc:date>2023-05-05T19:23:28.137192</dc:date>\n    <dc:format>image/svg+xml</dc:format>\n    <dc:creator>\n     <cc:Agent>\n      <dc:title>Matplotlib v3.7.1, https://matplotlib.org/</dc:title>\n     </cc:Agent>\n    </dc:creator>\n   </cc:Work>\n  </rdf:RDF>\n </metadata>\n <defs>\n  <style type=\"text/css\">*{stroke-linejoin: round; stroke-linecap: butt}</style>\n </defs>\n <g id=\"figure_1\">\n  <g id=\"patch_1\">\n   <path d=\"M 0 347.04 \nL 347.04 347.04 \nL 347.04 -0 \nL 0 -0 \nz\n\" style=\"fill: #ffffff\"/>\n  </g>\n  <g id=\"axes_1\">\n   <g id=\"matplotlib.axis_1\"/>\n   <g id=\"matplotlib.axis_2\"/>\n   <g id=\"patch_2\">\n    <path d=\"M 306.576 173.52 \nC 306.576 171.352044 306.523014 169.184413 306.417091 167.019046 \nC 306.311167 164.85368 306.152337 162.691225 305.940743 160.53362 \nL 173.52 173.52 \nz\n\" style=\"fill: #4c72b0\"/>\n   </g>\n   <g id=\"patch_3\">\n    <path d=\"M 305.940743 160.53362 \nC 305.499966 156.039065 304.830647 151.569863 303.935385 147.143372 \nC 303.040123 142.716881 301.920079 138.338839 300.579603 134.026249 \nL 173.52 173.52 \nz\n\" style=\"fill: #55a868\"/>\n   </g>\n   <g id=\"patch_4\">\n    <path d=\"M 300.579603 134.026249 \nC 299.93816 131.962592 299.246536 129.914869 298.505347 127.884902 \nC 297.764158 125.854934 296.973624 123.843326 296.134449 121.851866 \nL 173.52 173.52 \nz\n\" style=\"fill: #c44e52\"/>\n   </g>\n   <g id=\"patch_5\">\n    <path d=\"M 296.134449 121.851866 \nC 292.466732 113.14795 287.882633 104.859257 282.459728 97.126056 \nC 277.036824 89.392854 270.805877 82.259014 263.872332 75.845258 \nL 173.52 173.52 \nz\n\" style=\"fill: #8172b2\"/>\n   </g>\n   <g id=\"patch_6\">\n    <path d=\"M 263.872332 75.845258 \nC 258.935967 71.278959 253.660534 67.09344 248.091395 63.32469 \nC 242.522255 59.555941 236.675418 56.214795 230.601157 53.329981 \nL 173.52 173.52 \nz\n\" style=\"fill: #ccb974\"/>\n   </g>\n   <g id=\"patch_7\">\n    <path d=\"M 230.601157 53.329981 \nC 204.966472 41.155447 176.097025 37.495684 148.235336 42.888515 \nC 120.373646 48.281346 94.954823 62.448994 75.714297 83.309448 \nL 173.52 173.52 \nz\n\" style=\"fill: #64b5cd\"/>\n   </g>\n   <g id=\"patch_8\">\n    <path d=\"M 75.714297 83.309448 \nC 64.369187 95.609744 55.445611 109.940549 49.412606 125.548613 \nC 43.379602 141.156677 40.344756 157.763661 40.467585 174.496673 \nL 173.52 173.52 \nz\n\" style=\"fill: #4c72b0\"/>\n   </g>\n   <g id=\"patch_9\">\n    <path d=\"M 40.467585 174.496673 \nC 40.605622 193.301592 44.728785 211.865354 52.564459 228.960565 \nC 60.400133 246.055776 71.771733 261.29718 85.927397 273.677051 \nC 100.08306 286.056923 116.703776 295.296269 134.69062 300.784207 \nC 152.677464 306.272144 171.625087 307.884997 190.280715 305.516127 \nL 173.52 173.52 \nz\n\" style=\"fill: #55a868\"/>\n   </g>\n   <g id=\"patch_10\">\n    <path d=\"M 190.280715 305.516127 \nC 201.82531 304.050208 213.127859 301.07604 223.898742 296.669833 \nC 234.669626 292.263627 244.816053 286.463342 254.078028 279.417607 \nL 173.52 173.52 \nz\n\" style=\"fill: #c44e52\"/>\n   </g>\n   <g id=\"patch_11\">\n    <path d=\"M 254.078028 279.417607 \nC 270.395349 267.004757 283.62505 250.986837 292.731226 232.618077 \nC 301.837402 214.249317 306.576007 194.022 306.576 173.519956 \nL 173.52 173.52 \nz\n\" style=\"fill: #8172b2\"/>\n   </g>\n   <g id=\"text_1\">\n    <!-- 0.5 -->\n    <g style=\"fill: #262626\" transform=\"translate(319.7068 168.437701) scale(0.08 -0.08)\">\n     <defs>\n      <path id=\"LiberationSans-30\" d=\"M 3309 2203 \nQ 3309 1569 3189 1136 \nQ 3069 703 2861 436 \nQ 2653 169 2372 53 \nQ 2091 -63 1772 -63 \nQ 1450 -63 1172 53 \nQ 894 169 689 434 \nQ 484 700 367 1133 \nQ 250 1566 250 2203 \nQ 250 2869 367 3305 \nQ 484 3741 690 4000 \nQ 897 4259 1178 4364 \nQ 1459 4469 1791 4469 \nQ 2106 4469 2382 4364 \nQ 2659 4259 2865 4000 \nQ 3072 3741 3190 3305 \nQ 3309 2869 3309 2203 \nz\nM 2738 2203 \nQ 2738 2728 2675 3076 \nQ 2613 3425 2491 3633 \nQ 2369 3841 2192 3927 \nQ 2016 4013 1791 4013 \nQ 1553 4013 1372 3925 \nQ 1191 3838 1067 3630 \nQ 944 3422 881 3073 \nQ 819 2725 819 2203 \nQ 819 1697 883 1350 \nQ 947 1003 1070 792 \nQ 1194 581 1372 489 \nQ 1550 397 1778 397 \nQ 2000 397 2178 489 \nQ 2356 581 2479 792 \nQ 2603 1003 2670 1350 \nQ 2738 1697 2738 2203 \nz\n\" transform=\"scale(0.015625)\"/>\n      <path id=\"LiberationSans-2e\" d=\"M 584 0 \nL 584 684 \nL 1194 684 \nL 1194 0 \nL 584 0 \nz\n\" transform=\"scale(0.015625)\"/>\n      <path id=\"LiberationSans-35\" d=\"M 3291 1434 \nQ 3291 1103 3191 828 \nQ 3091 553 2894 354 \nQ 2697 156 2405 46 \nQ 2113 -63 1728 -63 \nQ 1381 -63 1123 18 \nQ 866 100 687 242 \nQ 509 384 404 575 \nQ 300 766 256 984 \nL 825 1050 \nQ 859 925 921 808 \nQ 984 691 1092 598 \nQ 1200 506 1358 451 \nQ 1516 397 1741 397 \nQ 1959 397 2137 464 \nQ 2316 531 2442 662 \nQ 2569 794 2637 984 \nQ 2706 1175 2706 1422 \nQ 2706 1625 2640 1795 \nQ 2575 1966 2453 2089 \nQ 2331 2213 2154 2281 \nQ 1978 2350 1753 2350 \nQ 1613 2350 1494 2325 \nQ 1375 2300 1273 2256 \nQ 1172 2213 1089 2155 \nQ 1006 2097 934 2034 \nL 384 2034 \nL 531 4403 \nL 3034 4403 \nL 3034 3925 \nL 1044 3925 \nL 959 2528 \nQ 1109 2644 1334 2726 \nQ 1559 2809 1869 2809 \nQ 2197 2809 2459 2709 \nQ 2722 2609 2906 2426 \nQ 3091 2244 3191 1991 \nQ 3291 1738 3291 1434 \nz\n\" transform=\"scale(0.015625)\"/>\n     </defs>\n     <use xlink:href=\"#LiberationSans-30\"/>\n     <use xlink:href=\"#LiberationSans-2e\" x=\"55.615234\"/>\n     <use xlink:href=\"#LiberationSans-35\" x=\"83.398438\"/>\n    </g>\n   </g>\n   <g id=\"text_2\">\n    <!-- 1.6% -->\n    <g style=\"fill: #262626\" transform=\"translate(244.141379 171.688178) scale(0.08 -0.08)\">\n     <defs>\n      <path id=\"LiberationSans-31\" d=\"M 488 0 \nL 488 478 \nL 1609 478 \nL 1609 3866 \nL 616 3156 \nL 616 3688 \nL 1656 4403 \nL 2175 4403 \nL 2175 478 \nL 3247 478 \nL 3247 0 \nL 488 0 \nz\n\" transform=\"scale(0.015625)\"/>\n      <path id=\"LiberationSans-36\" d=\"M 3278 1441 \nQ 3278 1109 3186 832 \nQ 3094 556 2914 357 \nQ 2734 159 2468 48 \nQ 2203 -63 1856 -63 \nQ 1472 -63 1184 84 \nQ 897 231 706 507 \nQ 516 784 420 1186 \nQ 325 1588 325 2100 \nQ 325 2688 433 3131 \nQ 541 3575 744 3872 \nQ 947 4169 1239 4319 \nQ 1531 4469 1900 4469 \nQ 2125 4469 2322 4422 \nQ 2519 4375 2680 4270 \nQ 2841 4166 2962 3994 \nQ 3084 3822 3156 3572 \nL 2619 3475 \nQ 2531 3759 2339 3886 \nQ 2147 4013 1894 4013 \nQ 1663 4013 1475 3903 \nQ 1288 3794 1156 3576 \nQ 1025 3359 954 3031 \nQ 884 2703 884 2266 \nQ 1038 2550 1316 2698 \nQ 1594 2847 1953 2847 \nQ 2253 2847 2497 2750 \nQ 2741 2653 2914 2470 \nQ 3088 2288 3183 2027 \nQ 3278 1766 3278 1441 \nz\nM 2706 1416 \nQ 2706 1644 2650 1828 \nQ 2594 2013 2481 2142 \nQ 2369 2272 2203 2342 \nQ 2038 2413 1819 2413 \nQ 1666 2413 1509 2367 \nQ 1353 2322 1226 2220 \nQ 1100 2119 1020 1953 \nQ 941 1788 941 1550 \nQ 941 1306 1003 1095 \nQ 1066 884 1183 728 \nQ 1300 572 1465 481 \nQ 1631 391 1838 391 \nQ 2041 391 2202 461 \nQ 2363 531 2475 664 \nQ 2588 797 2647 987 \nQ 2706 1178 2706 1416 \nz\n\" transform=\"scale(0.015625)\"/>\n      <path id=\"LiberationSans-25\" d=\"M 5463 1356 \nQ 5463 966 5383 698 \nQ 5303 431 5167 267 \nQ 5031 103 4850 32 \nQ 4669 -38 4463 -38 \nQ 4256 -38 4076 32 \nQ 3897 103 3764 265 \nQ 3631 428 3554 695 \nQ 3478 963 3478 1356 \nQ 3478 1772 3553 2044 \nQ 3628 2316 3762 2477 \nQ 3897 2638 4080 2702 \nQ 4263 2766 4475 2766 \nQ 4681 2766 4861 2702 \nQ 5041 2638 5173 2477 \nQ 5306 2316 5384 2044 \nQ 5463 1772 5463 1356 \nz\nM 1647 0 \nL 1163 0 \nL 4044 4403 \nL 4534 4403 \nL 1647 0 \nz\nM 1231 4441 \nQ 1431 4441 1609 4377 \nQ 1788 4313 1922 4153 \nQ 2056 3994 2132 3725 \nQ 2209 3456 2209 3047 \nQ 2209 2653 2131 2384 \nQ 2053 2116 1920 1948 \nQ 1788 1781 1606 1709 \nQ 1425 1638 1219 1638 \nQ 1009 1638 828 1709 \nQ 647 1781 514 1947 \nQ 381 2113 304 2381 \nQ 228 2650 228 3047 \nQ 228 3456 304 3725 \nQ 381 3994 515 4153 \nQ 650 4313 834 4377 \nQ 1019 4441 1231 4441 \nz\nM 5000 1356 \nQ 5000 1666 4965 1870 \nQ 4931 2075 4864 2197 \nQ 4797 2319 4698 2369 \nQ 4600 2419 4475 2419 \nQ 4344 2419 4244 2367 \nQ 4144 2316 4075 2194 \nQ 4006 2072 3972 1867 \nQ 3938 1663 3938 1356 \nQ 3938 1059 3973 859 \nQ 4009 659 4076 536 \nQ 4144 413 4242 359 \nQ 4341 306 4469 306 \nQ 4591 306 4689 359 \nQ 4788 413 4856 536 \nQ 4925 659 4962 859 \nQ 5000 1059 5000 1356 \nz\nM 1750 3047 \nQ 1750 3353 1715 3556 \nQ 1681 3759 1615 3881 \nQ 1550 4003 1453 4053 \nQ 1356 4103 1231 4103 \nQ 1097 4103 995 4051 \nQ 894 4000 825 3878 \nQ 756 3756 722 3553 \nQ 688 3350 688 3047 \nQ 688 2750 723 2547 \nQ 759 2344 826 2220 \nQ 894 2097 994 2044 \nQ 1094 1991 1225 1991 \nQ 1344 1991 1441 2044 \nQ 1538 2097 1606 2220 \nQ 1675 2344 1712 2547 \nQ 1750 2750 1750 3047 \nz\n\" transform=\"scale(0.015625)\"/>\n     </defs>\n     <use xlink:href=\"#LiberationSans-31\"/>\n     <use xlink:href=\"#LiberationSans-2e\" x=\"55.615234\"/>\n     <use xlink:href=\"#LiberationSans-36\" x=\"83.398438\"/>\n     <use xlink:href=\"#LiberationSans-25\" x=\"139.013672\"/>\n    </g>\n   </g>\n   <g id=\"text_3\">\n    <!-- 1.0 -->\n    <g style=\"fill: #262626\" transform=\"translate(316.976924 146.57446) scale(0.08 -0.08)\">\n     <use xlink:href=\"#LiberationSans-31\"/>\n     <use xlink:href=\"#LiberationSans-2e\" x=\"55.615234\"/>\n     <use xlink:href=\"#LiberationSans-30\" x=\"83.398438\"/>\n    </g>\n   </g>\n   <g id=\"text_4\">\n    <!-- 3.2% -->\n    <g style=\"fill: #262626\" transform=\"translate(242.652356 159.762773) scale(0.08 -0.08)\">\n     <defs>\n      <path id=\"LiberationSans-33\" d=\"M 3278 1216 \nQ 3278 913 3179 675 \nQ 3081 438 2892 273 \nQ 2703 109 2423 23 \nQ 2144 -63 1784 -63 \nQ 1375 -63 1095 39 \nQ 816 141 634 308 \nQ 453 475 362 689 \nQ 272 903 244 1131 \nL 825 1184 \nQ 850 1009 917 865 \nQ 984 722 1100 619 \nQ 1216 516 1384 459 \nQ 1553 403 1784 403 \nQ 2209 403 2451 612 \nQ 2694 822 2694 1234 \nQ 2694 1478 2586 1626 \nQ 2478 1775 2317 1858 \nQ 2156 1941 1967 1969 \nQ 1778 1997 1619 1997 \nL 1300 1997 \nL 1300 2484 \nL 1606 2484 \nQ 1766 2484 1937 2517 \nQ 2109 2550 2251 2636 \nQ 2394 2722 2486 2869 \nQ 2578 3016 2578 3244 \nQ 2578 3597 2370 3801 \nQ 2163 4006 1753 4006 \nQ 1381 4006 1151 3815 \nQ 922 3625 884 3278 \nL 319 3322 \nQ 353 3613 478 3828 \nQ 603 4044 795 4186 \nQ 988 4328 1234 4398 \nQ 1481 4469 1759 4469 \nQ 2128 4469 2393 4376 \nQ 2659 4284 2828 4126 \nQ 2997 3969 3076 3756 \nQ 3156 3544 3156 3303 \nQ 3156 3109 3103 2940 \nQ 3050 2772 2937 2637 \nQ 2825 2503 2651 2406 \nQ 2478 2309 2234 2259 \nL 2234 2247 \nQ 2500 2219 2697 2126 \nQ 2894 2034 3022 1896 \nQ 3150 1759 3214 1584 \nQ 3278 1409 3278 1216 \nz\n\" transform=\"scale(0.015625)\"/>\n      <path id=\"LiberationSans-32\" d=\"M 322 0 \nL 322 397 \nQ 481 763 711 1042 \nQ 941 1322 1194 1548 \nQ 1447 1775 1695 1969 \nQ 1944 2163 2144 2356 \nQ 2344 2550 2467 2762 \nQ 2591 2975 2591 3244 \nQ 2591 3431 2534 3573 \nQ 2478 3716 2372 3812 \nQ 2266 3909 2117 3957 \nQ 1969 4006 1788 4006 \nQ 1619 4006 1470 3959 \nQ 1322 3913 1206 3819 \nQ 1091 3725 1017 3586 \nQ 944 3447 922 3263 \nL 347 3316 \nQ 375 3553 478 3762 \nQ 581 3972 762 4130 \nQ 944 4288 1198 4378 \nQ 1453 4469 1788 4469 \nQ 2116 4469 2372 4391 \nQ 2628 4313 2804 4159 \nQ 2981 4006 3075 3781 \nQ 3169 3556 3169 3263 \nQ 3169 3041 3089 2841 \nQ 3009 2641 2876 2459 \nQ 2744 2278 2569 2109 \nQ 2394 1941 2203 1780 \nQ 2013 1619 1819 1461 \nQ 1625 1303 1454 1143 \nQ 1284 984 1150 820 \nQ 1016 656 941 478 \nL 3238 478 \nL 3238 0 \nL 322 0 \nz\n\" transform=\"scale(0.015625)\"/>\n     </defs>\n     <use xlink:href=\"#LiberationSans-33\"/>\n     <use xlink:href=\"#LiberationSans-2e\" x=\"55.615234\"/>\n     <use xlink:href=\"#LiberationSans-32\" x=\"83.398438\"/>\n     <use xlink:href=\"#LiberationSans-25\" x=\"139.013672\"/>\n    </g>\n   </g>\n   <g id=\"text_5\">\n    <!-- 1.5 -->\n    <g style=\"fill: #262626\" transform=\"translate(311.003882 125.390142) scale(0.08 -0.08)\">\n     <use xlink:href=\"#LiberationSans-31\"/>\n     <use xlink:href=\"#LiberationSans-2e\" x=\"55.615234\"/>\n     <use xlink:href=\"#LiberationSans-35\" x=\"83.398438\"/>\n    </g>\n   </g>\n   <g id=\"text_6\">\n    <!-- 1.6% -->\n    <g style=\"fill: #262626\" transform=\"translate(239.394333 148.207691) scale(0.08 -0.08)\">\n     <use xlink:href=\"#LiberationSans-31\"/>\n     <use xlink:href=\"#LiberationSans-2e\" x=\"55.615234\"/>\n     <use xlink:href=\"#LiberationSans-36\" x=\"83.398438\"/>\n     <use xlink:href=\"#LiberationSans-25\" x=\"139.013672\"/>\n    </g>\n   </g>\n   <g id=\"text_7\">\n    <!-- 2.0 -->\n    <g style=\"fill: #262626\" transform=\"translate(293.353701 91.555411) scale(0.08 -0.08)\">\n     <use xlink:href=\"#LiberationSans-32\"/>\n     <use xlink:href=\"#LiberationSans-2e\" x=\"55.615234\"/>\n     <use xlink:href=\"#LiberationSans-30\" x=\"83.398438\"/>\n    </g>\n   </g>\n   <g id=\"text_8\">\n    <!-- 6.8% -->\n    <g style=\"fill: #262626\" transform=\"translate(229.766962 129.752384) scale(0.08 -0.08)\">\n     <defs>\n      <path id=\"LiberationSans-38\" d=\"M 3281 1228 \nQ 3281 947 3192 711 \nQ 3103 475 2920 303 \nQ 2738 131 2453 34 \nQ 2169 -63 1781 -63 \nQ 1394 -63 1111 34 \nQ 828 131 642 301 \nQ 456 472 367 708 \nQ 278 944 278 1222 \nQ 278 1463 351 1650 \nQ 425 1838 548 1973 \nQ 672 2109 830 2192 \nQ 988 2275 1156 2303 \nL 1156 2316 \nQ 972 2359 826 2456 \nQ 681 2553 582 2689 \nQ 484 2825 432 2990 \nQ 381 3156 381 3341 \nQ 381 3572 470 3776 \nQ 559 3981 734 4136 \nQ 909 4291 1168 4380 \nQ 1428 4469 1769 4469 \nQ 2128 4469 2392 4378 \nQ 2656 4288 2829 4133 \nQ 3003 3978 3087 3772 \nQ 3172 3566 3172 3334 \nQ 3172 3153 3120 2987 \nQ 3069 2822 2970 2686 \nQ 2872 2550 2726 2454 \nQ 2581 2359 2391 2322 \nL 2391 2309 \nQ 2581 2278 2743 2195 \nQ 2906 2113 3025 1977 \nQ 3144 1841 3212 1653 \nQ 3281 1466 3281 1228 \nz\nM 2588 3303 \nQ 2588 3469 2545 3606 \nQ 2503 3744 2406 3842 \nQ 2309 3941 2153 3995 \nQ 1997 4050 1769 4050 \nQ 1547 4050 1394 3995 \nQ 1241 3941 1142 3842 \nQ 1044 3744 1000 3606 \nQ 956 3469 956 3303 \nQ 956 3172 990 3034 \nQ 1025 2897 1115 2784 \nQ 1206 2672 1365 2600 \nQ 1525 2528 1775 2528 \nQ 2041 2528 2202 2600 \nQ 2363 2672 2448 2784 \nQ 2534 2897 2561 3034 \nQ 2588 3172 2588 3303 \nz\nM 2697 1281 \nQ 2697 1441 2653 1589 \nQ 2609 1738 2503 1852 \nQ 2397 1966 2217 2036 \nQ 2038 2106 1769 2106 \nQ 1522 2106 1348 2036 \nQ 1175 1966 1067 1850 \nQ 959 1734 909 1582 \nQ 859 1431 859 1269 \nQ 859 1066 909 898 \nQ 959 731 1068 611 \nQ 1178 491 1356 425 \nQ 1534 359 1788 359 \nQ 2044 359 2219 425 \nQ 2394 491 2500 611 \nQ 2606 731 2651 901 \nQ 2697 1072 2697 1281 \nz\n\" transform=\"scale(0.015625)\"/>\n     </defs>\n     <use xlink:href=\"#LiberationSans-36\"/>\n     <use xlink:href=\"#LiberationSans-2e\" x=\"55.615234\"/>\n     <use xlink:href=\"#LiberationSans-38\" x=\"83.398438\"/>\n     <use xlink:href=\"#LiberationSans-25\" x=\"139.013672\"/>\n    </g>\n   </g>\n   <g id=\"text_9\">\n    <!-- 2.5 -->\n    <g style=\"fill: #262626\" transform=\"translate(255.548534 54.373909) scale(0.08 -0.08)\">\n     <use xlink:href=\"#LiberationSans-32\"/>\n     <use xlink:href=\"#LiberationSans-2e\" x=\"55.615234\"/>\n     <use xlink:href=\"#LiberationSans-35\" x=\"83.398438\"/>\n    </g>\n   </g>\n   <g id=\"text_10\">\n    <!-- 4.8% -->\n    <g style=\"fill: #262626\" transform=\"translate(209.145962 109.471564) scale(0.08 -0.08)\">\n     <defs>\n      <path id=\"LiberationSans-34\" d=\"M 2753 997 \nL 2753 0 \nL 2222 0 \nL 2222 997 \nL 147 997 \nL 147 1434 \nL 2163 4403 \nL 2753 4403 \nL 2753 1441 \nL 3372 1441 \nL 3372 997 \nL 2753 997 \nz\nM 2222 3769 \nQ 2216 3753 2191 3708 \nQ 2166 3663 2134 3606 \nQ 2103 3550 2070 3492 \nQ 2038 3434 2013 3397 \nL 884 1734 \nQ 869 1709 839 1668 \nQ 809 1628 778 1586 \nQ 747 1544 715 1503 \nQ 684 1463 666 1441 \nL 2222 1441 \nL 2222 3769 \nz\n\" transform=\"scale(0.015625)\"/>\n     </defs>\n     <use xlink:href=\"#LiberationSans-34\"/>\n     <use xlink:href=\"#LiberationSans-2e\" x=\"55.615234\"/>\n     <use xlink:href=\"#LiberationSans-38\" x=\"83.398438\"/>\n     <use xlink:href=\"#LiberationSans-25\" x=\"139.013672\"/>\n    </g>\n   </g>\n   <g id=\"text_11\">\n    <!-- 3.0 -->\n    <g style=\"fill: #262626\" transform=\"translate(134.586869 31.894116) scale(0.08 -0.08)\">\n     <use xlink:href=\"#LiberationSans-33\"/>\n     <use xlink:href=\"#LiberationSans-2e\" x=\"55.615234\"/>\n     <use xlink:href=\"#LiberationSans-30\" x=\"83.398438\"/>\n    </g>\n   </g>\n   <g id=\"text_12\">\n    <!-- 20.2% -->\n    <g style=\"fill: #262626\" transform=\"translate(147.007951 97.209859) scale(0.08 -0.08)\">\n     <use xlink:href=\"#LiberationSans-32\"/>\n     <use xlink:href=\"#LiberationSans-30\" x=\"55.615234\"/>\n     <use xlink:href=\"#LiberationSans-2e\" x=\"111.230469\"/>\n     <use xlink:href=\"#LiberationSans-32\" x=\"139.013672\"/>\n     <use xlink:href=\"#LiberationSans-25\" x=\"194.628906\"/>\n    </g>\n   </g>\n   <g id=\"text_13\">\n    <!-- 3.5 -->\n    <g style=\"fill: #262626\" transform=\"translate(25.881867 122.820224) scale(0.08 -0.08)\">\n     <use xlink:href=\"#LiberationSans-33\"/>\n     <use xlink:href=\"#LiberationSans-2e\" x=\"55.615234\"/>\n     <use xlink:href=\"#LiberationSans-35\" x=\"83.398438\"/>\n    </g>\n   </g>\n   <g id=\"text_14\">\n    <!-- 12.0% -->\n    <g style=\"fill: #262626\" transform=\"translate(87.714314 146.805918) scale(0.08 -0.08)\">\n     <use xlink:href=\"#LiberationSans-31\"/>\n     <use xlink:href=\"#LiberationSans-32\" x=\"55.615234\"/>\n     <use xlink:href=\"#LiberationSans-2e\" x=\"111.230469\"/>\n     <use xlink:href=\"#LiberationSans-30\" x=\"139.013672\"/>\n     <use xlink:href=\"#LiberationSans-25\" x=\"194.628906\"/>\n    </g>\n   </g>\n   <g id=\"text_15\">\n    <!-- 4.0 -->\n    <g style=\"fill: #262626\" transform=\"translate(66.048136 285.761507) scale(0.08 -0.08)\">\n     <use xlink:href=\"#LiberationSans-34\"/>\n     <use xlink:href=\"#LiberationSans-2e\" x=\"55.615234\"/>\n     <use xlink:href=\"#LiberationSans-30\" x=\"83.398438\"/>\n    </g>\n   </g>\n   <g id=\"text_16\">\n    <!-- 26.9% -->\n    <g style=\"fill: #262626\" transform=\"translate(109.623188 235.682981) scale(0.08 -0.08)\">\n     <defs>\n      <path id=\"LiberationSans-39\" d=\"M 3256 2291 \nQ 3256 1703 3145 1261 \nQ 3034 819 2828 525 \nQ 2622 231 2326 84 \nQ 2031 -63 1663 -63 \nQ 1409 -63 1206 -11 \nQ 1003 41 843 150 \nQ 684 259 571 434 \nQ 459 609 391 856 \nL 928 941 \nQ 1016 656 1202 523 \nQ 1388 391 1672 391 \nQ 1900 391 2089 498 \nQ 2278 606 2411 822 \nQ 2544 1038 2619 1363 \nQ 2694 1688 2700 2125 \nQ 2634 1978 2520 1862 \nQ 2406 1747 2261 1667 \nQ 2116 1588 1947 1545 \nQ 1778 1503 1606 1503 \nQ 1306 1503 1064 1611 \nQ 822 1719 653 1912 \nQ 484 2106 392 2379 \nQ 300 2653 300 2988 \nQ 300 3328 398 3603 \nQ 497 3878 684 4070 \nQ 872 4263 1145 4366 \nQ 1419 4469 1766 4469 \nQ 2500 4469 2878 3925 \nQ 3256 3381 3256 2291 \nz\nM 2644 2834 \nQ 2644 3078 2586 3293 \nQ 2528 3509 2414 3668 \nQ 2300 3828 2133 3920 \nQ 1966 4013 1747 4013 \nQ 1544 4013 1381 3941 \nQ 1219 3869 1106 3736 \nQ 994 3603 933 3412 \nQ 872 3222 872 2988 \nQ 872 2766 926 2575 \nQ 981 2384 1090 2245 \nQ 1200 2106 1362 2026 \nQ 1525 1947 1741 1947 \nQ 1897 1947 2058 2000 \nQ 2219 2053 2348 2162 \nQ 2478 2272 2561 2439 \nQ 2644 2606 2644 2834 \nz\n\" transform=\"scale(0.015625)\"/>\n     </defs>\n     <use xlink:href=\"#LiberationSans-32\"/>\n     <use xlink:href=\"#LiberationSans-36\" x=\"55.615234\"/>\n     <use xlink:href=\"#LiberationSans-2e\" x=\"111.230469\"/>\n     <use xlink:href=\"#LiberationSans-39\" x=\"139.013672\"/>\n     <use xlink:href=\"#LiberationSans-25\" x=\"194.628906\"/>\n    </g>\n   </g>\n   <g id=\"text_17\">\n    <!-- 4.5 -->\n    <g style=\"fill: #262626\" transform=\"translate(228.936616 311.053567) scale(0.08 -0.08)\">\n     <use xlink:href=\"#LiberationSans-34\"/>\n     <use xlink:href=\"#LiberationSans-2e\" x=\"55.615234\"/>\n     <use xlink:href=\"#LiberationSans-35\" x=\"83.398438\"/>\n    </g>\n   </g>\n   <g id=\"text_18\">\n    <!-- 8.3% -->\n    <g style=\"fill: #262626\" transform=\"translate(194.63037 249.47865) scale(0.08 -0.08)\">\n     <use xlink:href=\"#LiberationSans-38\"/>\n     <use xlink:href=\"#LiberationSans-2e\" x=\"55.615234\"/>\n     <use xlink:href=\"#LiberationSans-33\" x=\"83.398438\"/>\n     <use xlink:href=\"#LiberationSans-25\" x=\"139.013672\"/>\n    </g>\n   </g>\n   <g id=\"text_19\">\n    <!-- 5.0 -->\n    <g style=\"fill: #262626\" transform=\"translate(304.652349 240.596635) scale(0.08 -0.08)\">\n     <use xlink:href=\"#LiberationSans-35\"/>\n     <use xlink:href=\"#LiberationSans-2e\" x=\"55.615234\"/>\n     <use xlink:href=\"#LiberationSans-30\" x=\"83.398438\"/>\n    </g>\n   </g>\n   <g id=\"text_20\">\n    <!-- 14.6% -->\n    <g style=\"fill: #262626\" transform=\"translate(233.705486 211.047596) scale(0.08 -0.08)\">\n     <use xlink:href=\"#LiberationSans-31\"/>\n     <use xlink:href=\"#LiberationSans-34\" x=\"55.615234\"/>\n     <use xlink:href=\"#LiberationSans-2e\" x=\"111.230469\"/>\n     <use xlink:href=\"#LiberationSans-36\" x=\"139.013672\"/>\n     <use xlink:href=\"#LiberationSans-25\" x=\"194.628906\"/>\n    </g>\n   </g>\n  </g>\n </g>\n</svg>\n"
          },
          "metadata": {}
        }
      ],
      "source": [
        "plt.rcParams['figure.figsize'] = (7, 6)\n",
        "plt.title('Ratings Count', size=10)\n",
        "fig, ax = plt.subplots()\n",
        "ax.pie([i[1] for i in a], labels=[i[0] for i in a], autopct='%1.1f%%')\n",
        "# plt.xlabel('Rating')\n",
        "# plt.ylabel('Frequency')\n",
        "# plt.show()"
      ]
    },
    {
      "cell_type": "markdown",
      "metadata": {
        "id": "4tmv4jDGb7sM"
      },
      "source": [
        "And for a better visualization, let's represent by a pie chart with the percent representation."
      ]
    },
    {
      "cell_type": "markdown",
      "metadata": {
        "id": "p-_IECnNb7sM"
      },
      "source": [
        "We can see most movies were rated with 4, on a scale of 1 to 5. A fewer movies (compared to the total dataset) were rated with low grades. <br>\n",
        "Let's see which movies were rated most times, taking the 10 most rated."
      ]
    },
    {
      "cell_type": "code",
      "execution_count": null,
      "metadata": {
        "id": "yimvv6MXb7sM",
        "colab": {
          "base_uri": "https://localhost:8080/",
          "height": 363
        },
        "outputId": "d0773ccc-6b12-44cd-8ca3-adad2ff8335f"
      },
      "outputs": [
        {
          "output_type": "execute_result",
          "data": {
            "text/plain": [
              "  movieId  count\n",
              "0     356  91921\n",
              "1     318  91082\n",
              "2     296  87901\n",
              "3     593  84078\n",
              "4    2571  77960\n",
              "5     260  77045\n",
              "6     480  74355\n",
              "7     527  67662\n",
              "8     110  66512\n",
              "9       1  66008"
            ],
            "text/html": [
              "\n",
              "  <div id=\"df-d77d140d-1d4f-422d-a72f-36029aaad432\">\n",
              "    <div class=\"colab-df-container\">\n",
              "      <div>\n",
              "<style scoped>\n",
              "    .dataframe tbody tr th:only-of-type {\n",
              "        vertical-align: middle;\n",
              "    }\n",
              "\n",
              "    .dataframe tbody tr th {\n",
              "        vertical-align: top;\n",
              "    }\n",
              "\n",
              "    .dataframe thead th {\n",
              "        text-align: right;\n",
              "    }\n",
              "</style>\n",
              "<table border=\"1\" class=\"dataframe\">\n",
              "  <thead>\n",
              "    <tr style=\"text-align: right;\">\n",
              "      <th></th>\n",
              "      <th>movieId</th>\n",
              "      <th>count</th>\n",
              "    </tr>\n",
              "  </thead>\n",
              "  <tbody>\n",
              "    <tr>\n",
              "      <th>0</th>\n",
              "      <td>356</td>\n",
              "      <td>91921</td>\n",
              "    </tr>\n",
              "    <tr>\n",
              "      <th>1</th>\n",
              "      <td>318</td>\n",
              "      <td>91082</td>\n",
              "    </tr>\n",
              "    <tr>\n",
              "      <th>2</th>\n",
              "      <td>296</td>\n",
              "      <td>87901</td>\n",
              "    </tr>\n",
              "    <tr>\n",
              "      <th>3</th>\n",
              "      <td>593</td>\n",
              "      <td>84078</td>\n",
              "    </tr>\n",
              "    <tr>\n",
              "      <th>4</th>\n",
              "      <td>2571</td>\n",
              "      <td>77960</td>\n",
              "    </tr>\n",
              "    <tr>\n",
              "      <th>5</th>\n",
              "      <td>260</td>\n",
              "      <td>77045</td>\n",
              "    </tr>\n",
              "    <tr>\n",
              "      <th>6</th>\n",
              "      <td>480</td>\n",
              "      <td>74355</td>\n",
              "    </tr>\n",
              "    <tr>\n",
              "      <th>7</th>\n",
              "      <td>527</td>\n",
              "      <td>67662</td>\n",
              "    </tr>\n",
              "    <tr>\n",
              "      <th>8</th>\n",
              "      <td>110</td>\n",
              "      <td>66512</td>\n",
              "    </tr>\n",
              "    <tr>\n",
              "      <th>9</th>\n",
              "      <td>1</td>\n",
              "      <td>66008</td>\n",
              "    </tr>\n",
              "  </tbody>\n",
              "</table>\n",
              "</div>\n",
              "      <button class=\"colab-df-convert\" onclick=\"convertToInteractive('df-d77d140d-1d4f-422d-a72f-36029aaad432')\"\n",
              "              title=\"Convert this dataframe to an interactive table.\"\n",
              "              style=\"display:none;\">\n",
              "        \n",
              "  <svg xmlns=\"http://www.w3.org/2000/svg\" height=\"24px\"viewBox=\"0 0 24 24\"\n",
              "       width=\"24px\">\n",
              "    <path d=\"M0 0h24v24H0V0z\" fill=\"none\"/>\n",
              "    <path d=\"M18.56 5.44l.94 2.06.94-2.06 2.06-.94-2.06-.94-.94-2.06-.94 2.06-2.06.94zm-11 1L8.5 8.5l.94-2.06 2.06-.94-2.06-.94L8.5 2.5l-.94 2.06-2.06.94zm10 10l.94 2.06.94-2.06 2.06-.94-2.06-.94-.94-2.06-.94 2.06-2.06.94z\"/><path d=\"M17.41 7.96l-1.37-1.37c-.4-.4-.92-.59-1.43-.59-.52 0-1.04.2-1.43.59L10.3 9.45l-7.72 7.72c-.78.78-.78 2.05 0 2.83L4 21.41c.39.39.9.59 1.41.59.51 0 1.02-.2 1.41-.59l7.78-7.78 2.81-2.81c.8-.78.8-2.07 0-2.86zM5.41 20L4 18.59l7.72-7.72 1.47 1.35L5.41 20z\"/>\n",
              "  </svg>\n",
              "      </button>\n",
              "      \n",
              "  <style>\n",
              "    .colab-df-container {\n",
              "      display:flex;\n",
              "      flex-wrap:wrap;\n",
              "      gap: 12px;\n",
              "    }\n",
              "\n",
              "    .colab-df-convert {\n",
              "      background-color: #E8F0FE;\n",
              "      border: none;\n",
              "      border-radius: 50%;\n",
              "      cursor: pointer;\n",
              "      display: none;\n",
              "      fill: #1967D2;\n",
              "      height: 32px;\n",
              "      padding: 0 0 0 0;\n",
              "      width: 32px;\n",
              "    }\n",
              "\n",
              "    .colab-df-convert:hover {\n",
              "      background-color: #E2EBFA;\n",
              "      box-shadow: 0px 1px 2px rgba(60, 64, 67, 0.3), 0px 1px 3px 1px rgba(60, 64, 67, 0.15);\n",
              "      fill: #174EA6;\n",
              "    }\n",
              "\n",
              "    [theme=dark] .colab-df-convert {\n",
              "      background-color: #3B4455;\n",
              "      fill: #D2E3FC;\n",
              "    }\n",
              "\n",
              "    [theme=dark] .colab-df-convert:hover {\n",
              "      background-color: #434B5C;\n",
              "      box-shadow: 0px 1px 3px 1px rgba(0, 0, 0, 0.15);\n",
              "      filter: drop-shadow(0px 1px 2px rgba(0, 0, 0, 0.3));\n",
              "      fill: #FFFFFF;\n",
              "    }\n",
              "  </style>\n",
              "\n",
              "      <script>\n",
              "        const buttonEl =\n",
              "          document.querySelector('#df-d77d140d-1d4f-422d-a72f-36029aaad432 button.colab-df-convert');\n",
              "        buttonEl.style.display =\n",
              "          google.colab.kernel.accessAllowed ? 'block' : 'none';\n",
              "\n",
              "        async function convertToInteractive(key) {\n",
              "          const element = document.querySelector('#df-d77d140d-1d4f-422d-a72f-36029aaad432');\n",
              "          const dataTable =\n",
              "            await google.colab.kernel.invokeFunction('convertToInteractive',\n",
              "                                                     [key], {});\n",
              "          if (!dataTable) return;\n",
              "\n",
              "          const docLinkHtml = 'Like what you see? Visit the ' +\n",
              "            '<a target=\"_blank\" href=https://colab.research.google.com/notebooks/data_table.ipynb>data table notebook</a>'\n",
              "            + ' to learn more about interactive tables.';\n",
              "          element.innerHTML = '';\n",
              "          dataTable['output_type'] = 'display_data';\n",
              "          await google.colab.output.renderOutput(dataTable, element);\n",
              "          const docLink = document.createElement('div');\n",
              "          docLink.innerHTML = docLinkHtml;\n",
              "          element.appendChild(docLink);\n",
              "        }\n",
              "      </script>\n",
              "    </div>\n",
              "  </div>\n",
              "  "
            ]
          },
          "metadata": {},
          "execution_count": 34
        }
      ],
      "source": [
        "df_aux = ratings['movieId'].value_counts().reset_index().head(10).rename(columns={'index': 'movieId', 'movieId': 'count'})\n",
        "df_aux['movieId'] = df_aux['movieId'].astype(str)\n",
        "df_aux"
      ]
    },
    {
      "cell_type": "code",
      "source": [
        "ratings"
      ],
      "metadata": {
        "id": "ZoZT16dQUyN3",
        "colab": {
          "base_uri": "https://localhost:8080/",
          "height": 424
        },
        "outputId": "dae8a4b1-24bc-4324-c30f-1d059454bc15"
      },
      "execution_count": null,
      "outputs": [
        {
          "output_type": "execute_result",
          "data": {
            "text/plain": [
              "          userId  movieId  rating   timestamp\n",
              "0              1      110     1.0  1425941529\n",
              "1              1      147     4.5  1425942435\n",
              "2              1      858     5.0  1425941523\n",
              "3              1     1221     5.0  1425941546\n",
              "4              1     1246     5.0  1425941556\n",
              "...          ...      ...     ...         ...\n",
              "26024284  270896    58559     5.0  1257031564\n",
              "26024285  270896    60069     5.0  1257032032\n",
              "26024286  270896    63082     4.5  1257031764\n",
              "26024287  270896    64957     4.5  1257033990\n",
              "26024288  270896    71878     2.0  1257031858\n",
              "\n",
              "[26024289 rows x 4 columns]"
            ],
            "text/html": [
              "\n",
              "  <div id=\"df-94594267-4b6e-4b15-927e-441b75b4a750\">\n",
              "    <div class=\"colab-df-container\">\n",
              "      <div>\n",
              "<style scoped>\n",
              "    .dataframe tbody tr th:only-of-type {\n",
              "        vertical-align: middle;\n",
              "    }\n",
              "\n",
              "    .dataframe tbody tr th {\n",
              "        vertical-align: top;\n",
              "    }\n",
              "\n",
              "    .dataframe thead th {\n",
              "        text-align: right;\n",
              "    }\n",
              "</style>\n",
              "<table border=\"1\" class=\"dataframe\">\n",
              "  <thead>\n",
              "    <tr style=\"text-align: right;\">\n",
              "      <th></th>\n",
              "      <th>userId</th>\n",
              "      <th>movieId</th>\n",
              "      <th>rating</th>\n",
              "      <th>timestamp</th>\n",
              "    </tr>\n",
              "  </thead>\n",
              "  <tbody>\n",
              "    <tr>\n",
              "      <th>0</th>\n",
              "      <td>1</td>\n",
              "      <td>110</td>\n",
              "      <td>1.0</td>\n",
              "      <td>1425941529</td>\n",
              "    </tr>\n",
              "    <tr>\n",
              "      <th>1</th>\n",
              "      <td>1</td>\n",
              "      <td>147</td>\n",
              "      <td>4.5</td>\n",
              "      <td>1425942435</td>\n",
              "    </tr>\n",
              "    <tr>\n",
              "      <th>2</th>\n",
              "      <td>1</td>\n",
              "      <td>858</td>\n",
              "      <td>5.0</td>\n",
              "      <td>1425941523</td>\n",
              "    </tr>\n",
              "    <tr>\n",
              "      <th>3</th>\n",
              "      <td>1</td>\n",
              "      <td>1221</td>\n",
              "      <td>5.0</td>\n",
              "      <td>1425941546</td>\n",
              "    </tr>\n",
              "    <tr>\n",
              "      <th>4</th>\n",
              "      <td>1</td>\n",
              "      <td>1246</td>\n",
              "      <td>5.0</td>\n",
              "      <td>1425941556</td>\n",
              "    </tr>\n",
              "    <tr>\n",
              "      <th>...</th>\n",
              "      <td>...</td>\n",
              "      <td>...</td>\n",
              "      <td>...</td>\n",
              "      <td>...</td>\n",
              "    </tr>\n",
              "    <tr>\n",
              "      <th>26024284</th>\n",
              "      <td>270896</td>\n",
              "      <td>58559</td>\n",
              "      <td>5.0</td>\n",
              "      <td>1257031564</td>\n",
              "    </tr>\n",
              "    <tr>\n",
              "      <th>26024285</th>\n",
              "      <td>270896</td>\n",
              "      <td>60069</td>\n",
              "      <td>5.0</td>\n",
              "      <td>1257032032</td>\n",
              "    </tr>\n",
              "    <tr>\n",
              "      <th>26024286</th>\n",
              "      <td>270896</td>\n",
              "      <td>63082</td>\n",
              "      <td>4.5</td>\n",
              "      <td>1257031764</td>\n",
              "    </tr>\n",
              "    <tr>\n",
              "      <th>26024287</th>\n",
              "      <td>270896</td>\n",
              "      <td>64957</td>\n",
              "      <td>4.5</td>\n",
              "      <td>1257033990</td>\n",
              "    </tr>\n",
              "    <tr>\n",
              "      <th>26024288</th>\n",
              "      <td>270896</td>\n",
              "      <td>71878</td>\n",
              "      <td>2.0</td>\n",
              "      <td>1257031858</td>\n",
              "    </tr>\n",
              "  </tbody>\n",
              "</table>\n",
              "<p>26024289 rows × 4 columns</p>\n",
              "</div>\n",
              "      <button class=\"colab-df-convert\" onclick=\"convertToInteractive('df-94594267-4b6e-4b15-927e-441b75b4a750')\"\n",
              "              title=\"Convert this dataframe to an interactive table.\"\n",
              "              style=\"display:none;\">\n",
              "        \n",
              "  <svg xmlns=\"http://www.w3.org/2000/svg\" height=\"24px\"viewBox=\"0 0 24 24\"\n",
              "       width=\"24px\">\n",
              "    <path d=\"M0 0h24v24H0V0z\" fill=\"none\"/>\n",
              "    <path d=\"M18.56 5.44l.94 2.06.94-2.06 2.06-.94-2.06-.94-.94-2.06-.94 2.06-2.06.94zm-11 1L8.5 8.5l.94-2.06 2.06-.94-2.06-.94L8.5 2.5l-.94 2.06-2.06.94zm10 10l.94 2.06.94-2.06 2.06-.94-2.06-.94-.94-2.06-.94 2.06-2.06.94z\"/><path d=\"M17.41 7.96l-1.37-1.37c-.4-.4-.92-.59-1.43-.59-.52 0-1.04.2-1.43.59L10.3 9.45l-7.72 7.72c-.78.78-.78 2.05 0 2.83L4 21.41c.39.39.9.59 1.41.59.51 0 1.02-.2 1.41-.59l7.78-7.78 2.81-2.81c.8-.78.8-2.07 0-2.86zM5.41 20L4 18.59l7.72-7.72 1.47 1.35L5.41 20z\"/>\n",
              "  </svg>\n",
              "      </button>\n",
              "      \n",
              "  <style>\n",
              "    .colab-df-container {\n",
              "      display:flex;\n",
              "      flex-wrap:wrap;\n",
              "      gap: 12px;\n",
              "    }\n",
              "\n",
              "    .colab-df-convert {\n",
              "      background-color: #E8F0FE;\n",
              "      border: none;\n",
              "      border-radius: 50%;\n",
              "      cursor: pointer;\n",
              "      display: none;\n",
              "      fill: #1967D2;\n",
              "      height: 32px;\n",
              "      padding: 0 0 0 0;\n",
              "      width: 32px;\n",
              "    }\n",
              "\n",
              "    .colab-df-convert:hover {\n",
              "      background-color: #E2EBFA;\n",
              "      box-shadow: 0px 1px 2px rgba(60, 64, 67, 0.3), 0px 1px 3px 1px rgba(60, 64, 67, 0.15);\n",
              "      fill: #174EA6;\n",
              "    }\n",
              "\n",
              "    [theme=dark] .colab-df-convert {\n",
              "      background-color: #3B4455;\n",
              "      fill: #D2E3FC;\n",
              "    }\n",
              "\n",
              "    [theme=dark] .colab-df-convert:hover {\n",
              "      background-color: #434B5C;\n",
              "      box-shadow: 0px 1px 3px 1px rgba(0, 0, 0, 0.15);\n",
              "      filter: drop-shadow(0px 1px 2px rgba(0, 0, 0, 0.3));\n",
              "      fill: #FFFFFF;\n",
              "    }\n",
              "  </style>\n",
              "\n",
              "      <script>\n",
              "        const buttonEl =\n",
              "          document.querySelector('#df-94594267-4b6e-4b15-927e-441b75b4a750 button.colab-df-convert');\n",
              "        buttonEl.style.display =\n",
              "          google.colab.kernel.accessAllowed ? 'block' : 'none';\n",
              "\n",
              "        async function convertToInteractive(key) {\n",
              "          const element = document.querySelector('#df-94594267-4b6e-4b15-927e-441b75b4a750');\n",
              "          const dataTable =\n",
              "            await google.colab.kernel.invokeFunction('convertToInteractive',\n",
              "                                                     [key], {});\n",
              "          if (!dataTable) return;\n",
              "\n",
              "          const docLinkHtml = 'Like what you see? Visit the ' +\n",
              "            '<a target=\"_blank\" href=https://colab.research.google.com/notebooks/data_table.ipynb>data table notebook</a>'\n",
              "            + ' to learn more about interactive tables.';\n",
              "          element.innerHTML = '';\n",
              "          dataTable['output_type'] = 'display_data';\n",
              "          await google.colab.output.renderOutput(dataTable, element);\n",
              "          const docLink = document.createElement('div');\n",
              "          docLink.innerHTML = docLinkHtml;\n",
              "          element.appendChild(docLink);\n",
              "        }\n",
              "      </script>\n",
              "    </div>\n",
              "  </div>\n",
              "  "
            ]
          },
          "metadata": {},
          "execution_count": 35
        }
      ]
    },
    {
      "cell_type": "code",
      "source": [
        "df_aux1 = ratings['userId'].value_counts().reset_index().head(10).rename(columns={'index': 'userId', 'userId': 'count'})\n",
        "df_aux1['userId'] = df_aux1['userId'].astype(str)\n",
        "df_aux1"
      ],
      "metadata": {
        "id": "VEe8abkGUqQj",
        "colab": {
          "base_uri": "https://localhost:8080/",
          "height": 363
        },
        "outputId": "fa70026c-b798-48ac-ecfa-ab5257a3437e"
      },
      "execution_count": null,
      "outputs": [
        {
          "output_type": "execute_result",
          "data": {
            "text/plain": [
              "   userId  count\n",
              "0   45811  18276\n",
              "1    8659   9279\n",
              "2  270123   7638\n",
              "3  179792   7515\n",
              "4  228291   7410\n",
              "5  243443   6320\n",
              "6   98415   6094\n",
              "7  229879   6024\n",
              "8   98787   5814\n",
              "9  172224   5701"
            ],
            "text/html": [
              "\n",
              "  <div id=\"df-28cacd5c-8664-4d87-a357-5ca901da3cc7\">\n",
              "    <div class=\"colab-df-container\">\n",
              "      <div>\n",
              "<style scoped>\n",
              "    .dataframe tbody tr th:only-of-type {\n",
              "        vertical-align: middle;\n",
              "    }\n",
              "\n",
              "    .dataframe tbody tr th {\n",
              "        vertical-align: top;\n",
              "    }\n",
              "\n",
              "    .dataframe thead th {\n",
              "        text-align: right;\n",
              "    }\n",
              "</style>\n",
              "<table border=\"1\" class=\"dataframe\">\n",
              "  <thead>\n",
              "    <tr style=\"text-align: right;\">\n",
              "      <th></th>\n",
              "      <th>userId</th>\n",
              "      <th>count</th>\n",
              "    </tr>\n",
              "  </thead>\n",
              "  <tbody>\n",
              "    <tr>\n",
              "      <th>0</th>\n",
              "      <td>45811</td>\n",
              "      <td>18276</td>\n",
              "    </tr>\n",
              "    <tr>\n",
              "      <th>1</th>\n",
              "      <td>8659</td>\n",
              "      <td>9279</td>\n",
              "    </tr>\n",
              "    <tr>\n",
              "      <th>2</th>\n",
              "      <td>270123</td>\n",
              "      <td>7638</td>\n",
              "    </tr>\n",
              "    <tr>\n",
              "      <th>3</th>\n",
              "      <td>179792</td>\n",
              "      <td>7515</td>\n",
              "    </tr>\n",
              "    <tr>\n",
              "      <th>4</th>\n",
              "      <td>228291</td>\n",
              "      <td>7410</td>\n",
              "    </tr>\n",
              "    <tr>\n",
              "      <th>5</th>\n",
              "      <td>243443</td>\n",
              "      <td>6320</td>\n",
              "    </tr>\n",
              "    <tr>\n",
              "      <th>6</th>\n",
              "      <td>98415</td>\n",
              "      <td>6094</td>\n",
              "    </tr>\n",
              "    <tr>\n",
              "      <th>7</th>\n",
              "      <td>229879</td>\n",
              "      <td>6024</td>\n",
              "    </tr>\n",
              "    <tr>\n",
              "      <th>8</th>\n",
              "      <td>98787</td>\n",
              "      <td>5814</td>\n",
              "    </tr>\n",
              "    <tr>\n",
              "      <th>9</th>\n",
              "      <td>172224</td>\n",
              "      <td>5701</td>\n",
              "    </tr>\n",
              "  </tbody>\n",
              "</table>\n",
              "</div>\n",
              "      <button class=\"colab-df-convert\" onclick=\"convertToInteractive('df-28cacd5c-8664-4d87-a357-5ca901da3cc7')\"\n",
              "              title=\"Convert this dataframe to an interactive table.\"\n",
              "              style=\"display:none;\">\n",
              "        \n",
              "  <svg xmlns=\"http://www.w3.org/2000/svg\" height=\"24px\"viewBox=\"0 0 24 24\"\n",
              "       width=\"24px\">\n",
              "    <path d=\"M0 0h24v24H0V0z\" fill=\"none\"/>\n",
              "    <path d=\"M18.56 5.44l.94 2.06.94-2.06 2.06-.94-2.06-.94-.94-2.06-.94 2.06-2.06.94zm-11 1L8.5 8.5l.94-2.06 2.06-.94-2.06-.94L8.5 2.5l-.94 2.06-2.06.94zm10 10l.94 2.06.94-2.06 2.06-.94-2.06-.94-.94-2.06-.94 2.06-2.06.94z\"/><path d=\"M17.41 7.96l-1.37-1.37c-.4-.4-.92-.59-1.43-.59-.52 0-1.04.2-1.43.59L10.3 9.45l-7.72 7.72c-.78.78-.78 2.05 0 2.83L4 21.41c.39.39.9.59 1.41.59.51 0 1.02-.2 1.41-.59l7.78-7.78 2.81-2.81c.8-.78.8-2.07 0-2.86zM5.41 20L4 18.59l7.72-7.72 1.47 1.35L5.41 20z\"/>\n",
              "  </svg>\n",
              "      </button>\n",
              "      \n",
              "  <style>\n",
              "    .colab-df-container {\n",
              "      display:flex;\n",
              "      flex-wrap:wrap;\n",
              "      gap: 12px;\n",
              "    }\n",
              "\n",
              "    .colab-df-convert {\n",
              "      background-color: #E8F0FE;\n",
              "      border: none;\n",
              "      border-radius: 50%;\n",
              "      cursor: pointer;\n",
              "      display: none;\n",
              "      fill: #1967D2;\n",
              "      height: 32px;\n",
              "      padding: 0 0 0 0;\n",
              "      width: 32px;\n",
              "    }\n",
              "\n",
              "    .colab-df-convert:hover {\n",
              "      background-color: #E2EBFA;\n",
              "      box-shadow: 0px 1px 2px rgba(60, 64, 67, 0.3), 0px 1px 3px 1px rgba(60, 64, 67, 0.15);\n",
              "      fill: #174EA6;\n",
              "    }\n",
              "\n",
              "    [theme=dark] .colab-df-convert {\n",
              "      background-color: #3B4455;\n",
              "      fill: #D2E3FC;\n",
              "    }\n",
              "\n",
              "    [theme=dark] .colab-df-convert:hover {\n",
              "      background-color: #434B5C;\n",
              "      box-shadow: 0px 1px 3px 1px rgba(0, 0, 0, 0.15);\n",
              "      filter: drop-shadow(0px 1px 2px rgba(0, 0, 0, 0.3));\n",
              "      fill: #FFFFFF;\n",
              "    }\n",
              "  </style>\n",
              "\n",
              "      <script>\n",
              "        const buttonEl =\n",
              "          document.querySelector('#df-28cacd5c-8664-4d87-a357-5ca901da3cc7 button.colab-df-convert');\n",
              "        buttonEl.style.display =\n",
              "          google.colab.kernel.accessAllowed ? 'block' : 'none';\n",
              "\n",
              "        async function convertToInteractive(key) {\n",
              "          const element = document.querySelector('#df-28cacd5c-8664-4d87-a357-5ca901da3cc7');\n",
              "          const dataTable =\n",
              "            await google.colab.kernel.invokeFunction('convertToInteractive',\n",
              "                                                     [key], {});\n",
              "          if (!dataTable) return;\n",
              "\n",
              "          const docLinkHtml = 'Like what you see? Visit the ' +\n",
              "            '<a target=\"_blank\" href=https://colab.research.google.com/notebooks/data_table.ipynb>data table notebook</a>'\n",
              "            + ' to learn more about interactive tables.';\n",
              "          element.innerHTML = '';\n",
              "          dataTable['output_type'] = 'display_data';\n",
              "          await google.colab.output.renderOutput(dataTable, element);\n",
              "          const docLink = document.createElement('div');\n",
              "          docLink.innerHTML = docLinkHtml;\n",
              "          element.appendChild(docLink);\n",
              "        }\n",
              "      </script>\n",
              "    </div>\n",
              "  </div>\n",
              "  "
            ]
          },
          "metadata": {},
          "execution_count": 36
        }
      ]
    },
    {
      "cell_type": "code",
      "execution_count": null,
      "metadata": {
        "id": "O4IiG9rzb7sN",
        "colab": {
          "base_uri": "https://localhost:8080/",
          "height": 17
        },
        "outputId": "ffccb74a-4f4d-4440-e62c-975e5c26f0e6"
      },
      "outputs": [
        {
          "output_type": "execute_result",
          "data": {
            "text/plain": [
              "<IPython.core.display.HTML object>"
            ],
            "text/html": [
              "\n",
              "    <div id=\"vega-chart\"></div><script>\n",
              "    require([\"vega-embed\"], function(vg_embed) {\n",
              "        const spec = {\"$schema\": \"https://vega.github.io/schema/vega-lite/v4.17.0.json\", \"config\": {\"view\": {\"continuousHeight\": 300, \"continuousWidth\": 400}}, \"data\": {\"name\": \"data-dcff2adc3490b68be3a0e95a168d462e\"}, \"datasets\": {\"data-dcff2adc3490b68be3a0e95a168d462e\": [{\"count\": 91921, \"movieId\": \"356\"}, {\"count\": 91082, \"movieId\": \"318\"}, {\"count\": 87901, \"movieId\": \"296\"}, {\"count\": 84078, \"movieId\": \"593\"}, {\"count\": 77960, \"movieId\": \"2571\"}, {\"count\": 77045, \"movieId\": \"260\"}, {\"count\": 74355, \"movieId\": \"480\"}, {\"count\": 67662, \"movieId\": \"527\"}, {\"count\": 66512, \"movieId\": \"110\"}, {\"count\": 66008, \"movieId\": \"1\"}]}, \"encoding\": {\"tooltip\": [{\"field\": \"movieId\", \"type\": \"nominal\"}, {\"field\": \"count\", \"type\": \"quantitative\"}], \"x\": {\"axis\": {\"title\": \"Movie ID\"}, \"field\": \"movieId\", \"sort\": [\"356\", \"318\", \"296\", \"593\", \"2571\", \"260\", \"480\", \"527\", \"110\", \"1\"], \"type\": \"nominal\"}, \"y\": {\"axis\": {\"title\": \"Total Count\"}, \"field\": \"count\", \"type\": \"quantitative\"}}, \"height\": 300, \"mark\": \"bar\", \"selection\": {\"selector001\": {\"bind\": \"scales\", \"encodings\": [\"x\", \"y\"], \"type\": \"interval\"}}, \"title\": \"Movie Count\", \"width\": 800};     \n",
              "        vg_embed(\"#vega-chart\", spec, {defaultStyle: true}).catch(console.warn);\n",
              "        console.log(\"anything?\");\n",
              "    });\n",
              "    console.log(\"really...anything?\");\n",
              "    </script>\n",
              "    "
            ]
          },
          "metadata": {},
          "execution_count": 37
        }
      ],
      "source": [
        "render(alt.Chart(df_aux).mark_bar().encode(\n",
        "    x=alt.X('movieId:N', axis=alt.Axis(title='Movie ID'), sort=list(df_aux['movieId'].values)),\n",
        "    y=alt.Y('count:Q', axis=alt.Axis(title='Total Count')),\n",
        "    tooltip=['movieId', 'count']\n",
        ").properties(title='Movie Count', height=300, width=800).interactive())"
      ]
    },
    {
      "cell_type": "markdown",
      "metadata": {
        "id": "jFjN0ptAb7sN"
      },
      "source": [
        "Time to discover which movies have this IDs.<br>\n",
        "Let's check the IDs on IMDB and get some info."
      ]
    },
    {
      "cell_type": "code",
      "execution_count": null,
      "metadata": {
        "id": "ybyobL3Lb7sN"
      },
      "outputs": [],
      "source": [
        "# Get the Movie on metadata\n",
        "def get_movie_metadata(movieId):\n",
        "    metadata['imdb_id'] = metadata['imdb_id'].astype('category')\n",
        "    imdb_id = links[links['movieId'] == movieId]\n",
        "    imdb_id = imdb_id.imdbId.values[0]\n",
        "    if len(str(imdb_id)) == 7:\n",
        "        movie_rated = metadata[metadata['imdb_id'] == 'tt'+imdb_id.astype(str)]\n",
        "        df = movie_rated.loc[:,['title', 'overview', 'vote_average', 'release_date']]\n",
        "        return df.reset_index(drop=True)\n",
        "    elif len(str(imdb_id)) == 6:\n",
        "        movie_rated = metadata[metadata['imdb_id'] == 'tt0'+imdb_id.astype(str)]\n",
        "        df = movie_rated.loc[:,['title', 'overview', 'vote_average', 'release_date']]\n",
        "        return df.reset_index(drop=True)\n",
        "    elif len(str(imdb_id)) == 5:\n",
        "        movie_rated = metadata[metadata['imdb_id'] == 'tt00'+imdb_id.astype(str)]\n",
        "        df = movie_rated.loc[:,['title', 'overview', 'vote_average', 'release_date']]\n",
        "        return df.reset_index(drop=True)\n",
        "    elif len(str(imdb_id)) == 4:\n",
        "        movie_rated = metadata[metadata['imdb_id'] == 'tt000'+imdb_id.astype(str)]\n",
        "        df = movie_rated.loc[:,['title', 'overview', 'vote_average', 'release_date']]\n",
        "        return df.reset_index(drop=True)\n",
        "    elif len(str(imdb_id)) == 3:\n",
        "        movie_rated = metadata[metadata['imdb_id'] == 'tt0000'+imdb_id.astype(str)]\n",
        "        df = movie_rated.loc[:,['title', 'overview', 'vote_average', 'release_date']]\n",
        "        return df.reset_index(drop=True)\n",
        "    elif len(str(imdb_id)) == 2:\n",
        "        movie_rated = metadata[metadata['imdb_id'] == 'tt00000'+imdb_id.astype(str)]\n",
        "        df = movie_rated.loc[:,['title', 'overview', 'vote_average', 'release_date']]\n",
        "        return df.reset_index(drop=True)\n",
        "    elif len(str(imdb_id)) == 1:\n",
        "        movie_rated = metadata[metadata['imdb_id'] == 'tt000000'+imdb_id.astype(str)]\n",
        "        df = movie_rated.loc[:,['title', 'overview', 'vote_average', 'release_date']]\n",
        "        return df.reset_index(drop=True)\n",
        "    else:\n",
        "        pass\n",
        "# Get Movie List\n",
        "def get_movie(df):\n",
        "    movieIdIdx = df['movieId'].values.astype(int)\n",
        "    df_aux_b = pd.DataFrame({'title': ['aaa'],\n",
        "                           'overview': ['bbb'],\n",
        "                           'vote_average': [1.7],\n",
        "                           'release_date': ['1999-01-01']\n",
        "        })\n",
        "    for i in movieIdIdx:\n",
        "        df_aux_b = df_aux_b.append(get_movie_metadata(i), ignore_index=True)\n",
        "\n",
        "    df_aux_b.drop(0, inplace=True)\n",
        "    df_aux_b['release_date'] = df_aux_b['release_date'].apply(lambda x : x.split('-')[0])\n",
        "    df_aux_b['release_date'] = df_aux_b['release_date'].astype(int)\n",
        "    df_aux_b.rename(columns={'release_date' : 'release_year'}, inplace=True)\n",
        "    return df_aux_b.reset_index(drop=True)"
      ]
    },
    {
      "cell_type": "code",
      "execution_count": null,
      "metadata": {
        "id": "MXWl72BRb7sN",
        "colab": {
          "base_uri": "https://localhost:8080/",
          "height": 363
        },
        "outputId": "c6ce2bff-305c-49e6-b84b-b9f9fdc1e8d9"
      },
      "outputs": [
        {
          "output_type": "execute_result",
          "data": {
            "text/plain": [
              "                      title  \\\n",
              "0              Forrest Gump   \n",
              "1  The Shawshank Redemption   \n",
              "2              Pulp Fiction   \n",
              "3  The Silence of the Lambs   \n",
              "4                The Matrix   \n",
              "5                 Star Wars   \n",
              "6             Jurassic Park   \n",
              "7          Schindler's List   \n",
              "8                Braveheart   \n",
              "9                 Toy Story   \n",
              "\n",
              "                                            overview  vote_average  \\\n",
              "0  A man with a low IQ has accomplished great thi...           8.2   \n",
              "1  Framed in the 1940s for the double murder of h...           8.5   \n",
              "2  A burger-loving hit man, his philosophical par...           8.3   \n",
              "3  FBI trainee, Clarice Starling ventures into a ...           8.1   \n",
              "4  Set in the 22nd century, The Matrix tells the ...           7.9   \n",
              "5  Princess Leia is captured and held hostage by ...           8.1   \n",
              "6  A wealthy entrepreneur secretly creates a them...           7.6   \n",
              "7  The true story of how businessman Oskar Schind...           8.3   \n",
              "8  Enraged at the slaughter of Murron, his new br...           7.7   \n",
              "9  Led by Woody, Andy's toys live happily in his ...           7.7   \n",
              "\n",
              "   release_year  \n",
              "0          1994  \n",
              "1          1994  \n",
              "2          1994  \n",
              "3          1991  \n",
              "4          1999  \n",
              "5          1977  \n",
              "6          1993  \n",
              "7          1993  \n",
              "8          1995  \n",
              "9          1995  "
            ],
            "text/html": [
              "\n",
              "  <div id=\"df-365d55dc-13b3-494e-9843-a71e5bf45d3e\">\n",
              "    <div class=\"colab-df-container\">\n",
              "      <div>\n",
              "<style scoped>\n",
              "    .dataframe tbody tr th:only-of-type {\n",
              "        vertical-align: middle;\n",
              "    }\n",
              "\n",
              "    .dataframe tbody tr th {\n",
              "        vertical-align: top;\n",
              "    }\n",
              "\n",
              "    .dataframe thead th {\n",
              "        text-align: right;\n",
              "    }\n",
              "</style>\n",
              "<table border=\"1\" class=\"dataframe\">\n",
              "  <thead>\n",
              "    <tr style=\"text-align: right;\">\n",
              "      <th></th>\n",
              "      <th>title</th>\n",
              "      <th>overview</th>\n",
              "      <th>vote_average</th>\n",
              "      <th>release_year</th>\n",
              "    </tr>\n",
              "  </thead>\n",
              "  <tbody>\n",
              "    <tr>\n",
              "      <th>0</th>\n",
              "      <td>Forrest Gump</td>\n",
              "      <td>A man with a low IQ has accomplished great thi...</td>\n",
              "      <td>8.2</td>\n",
              "      <td>1994</td>\n",
              "    </tr>\n",
              "    <tr>\n",
              "      <th>1</th>\n",
              "      <td>The Shawshank Redemption</td>\n",
              "      <td>Framed in the 1940s for the double murder of h...</td>\n",
              "      <td>8.5</td>\n",
              "      <td>1994</td>\n",
              "    </tr>\n",
              "    <tr>\n",
              "      <th>2</th>\n",
              "      <td>Pulp Fiction</td>\n",
              "      <td>A burger-loving hit man, his philosophical par...</td>\n",
              "      <td>8.3</td>\n",
              "      <td>1994</td>\n",
              "    </tr>\n",
              "    <tr>\n",
              "      <th>3</th>\n",
              "      <td>The Silence of the Lambs</td>\n",
              "      <td>FBI trainee, Clarice Starling ventures into a ...</td>\n",
              "      <td>8.1</td>\n",
              "      <td>1991</td>\n",
              "    </tr>\n",
              "    <tr>\n",
              "      <th>4</th>\n",
              "      <td>The Matrix</td>\n",
              "      <td>Set in the 22nd century, The Matrix tells the ...</td>\n",
              "      <td>7.9</td>\n",
              "      <td>1999</td>\n",
              "    </tr>\n",
              "    <tr>\n",
              "      <th>5</th>\n",
              "      <td>Star Wars</td>\n",
              "      <td>Princess Leia is captured and held hostage by ...</td>\n",
              "      <td>8.1</td>\n",
              "      <td>1977</td>\n",
              "    </tr>\n",
              "    <tr>\n",
              "      <th>6</th>\n",
              "      <td>Jurassic Park</td>\n",
              "      <td>A wealthy entrepreneur secretly creates a them...</td>\n",
              "      <td>7.6</td>\n",
              "      <td>1993</td>\n",
              "    </tr>\n",
              "    <tr>\n",
              "      <th>7</th>\n",
              "      <td>Schindler's List</td>\n",
              "      <td>The true story of how businessman Oskar Schind...</td>\n",
              "      <td>8.3</td>\n",
              "      <td>1993</td>\n",
              "    </tr>\n",
              "    <tr>\n",
              "      <th>8</th>\n",
              "      <td>Braveheart</td>\n",
              "      <td>Enraged at the slaughter of Murron, his new br...</td>\n",
              "      <td>7.7</td>\n",
              "      <td>1995</td>\n",
              "    </tr>\n",
              "    <tr>\n",
              "      <th>9</th>\n",
              "      <td>Toy Story</td>\n",
              "      <td>Led by Woody, Andy's toys live happily in his ...</td>\n",
              "      <td>7.7</td>\n",
              "      <td>1995</td>\n",
              "    </tr>\n",
              "  </tbody>\n",
              "</table>\n",
              "</div>\n",
              "      <button class=\"colab-df-convert\" onclick=\"convertToInteractive('df-365d55dc-13b3-494e-9843-a71e5bf45d3e')\"\n",
              "              title=\"Convert this dataframe to an interactive table.\"\n",
              "              style=\"display:none;\">\n",
              "        \n",
              "  <svg xmlns=\"http://www.w3.org/2000/svg\" height=\"24px\"viewBox=\"0 0 24 24\"\n",
              "       width=\"24px\">\n",
              "    <path d=\"M0 0h24v24H0V0z\" fill=\"none\"/>\n",
              "    <path d=\"M18.56 5.44l.94 2.06.94-2.06 2.06-.94-2.06-.94-.94-2.06-.94 2.06-2.06.94zm-11 1L8.5 8.5l.94-2.06 2.06-.94-2.06-.94L8.5 2.5l-.94 2.06-2.06.94zm10 10l.94 2.06.94-2.06 2.06-.94-2.06-.94-.94-2.06-.94 2.06-2.06.94z\"/><path d=\"M17.41 7.96l-1.37-1.37c-.4-.4-.92-.59-1.43-.59-.52 0-1.04.2-1.43.59L10.3 9.45l-7.72 7.72c-.78.78-.78 2.05 0 2.83L4 21.41c.39.39.9.59 1.41.59.51 0 1.02-.2 1.41-.59l7.78-7.78 2.81-2.81c.8-.78.8-2.07 0-2.86zM5.41 20L4 18.59l7.72-7.72 1.47 1.35L5.41 20z\"/>\n",
              "  </svg>\n",
              "      </button>\n",
              "      \n",
              "  <style>\n",
              "    .colab-df-container {\n",
              "      display:flex;\n",
              "      flex-wrap:wrap;\n",
              "      gap: 12px;\n",
              "    }\n",
              "\n",
              "    .colab-df-convert {\n",
              "      background-color: #E8F0FE;\n",
              "      border: none;\n",
              "      border-radius: 50%;\n",
              "      cursor: pointer;\n",
              "      display: none;\n",
              "      fill: #1967D2;\n",
              "      height: 32px;\n",
              "      padding: 0 0 0 0;\n",
              "      width: 32px;\n",
              "    }\n",
              "\n",
              "    .colab-df-convert:hover {\n",
              "      background-color: #E2EBFA;\n",
              "      box-shadow: 0px 1px 2px rgba(60, 64, 67, 0.3), 0px 1px 3px 1px rgba(60, 64, 67, 0.15);\n",
              "      fill: #174EA6;\n",
              "    }\n",
              "\n",
              "    [theme=dark] .colab-df-convert {\n",
              "      background-color: #3B4455;\n",
              "      fill: #D2E3FC;\n",
              "    }\n",
              "\n",
              "    [theme=dark] .colab-df-convert:hover {\n",
              "      background-color: #434B5C;\n",
              "      box-shadow: 0px 1px 3px 1px rgba(0, 0, 0, 0.15);\n",
              "      filter: drop-shadow(0px 1px 2px rgba(0, 0, 0, 0.3));\n",
              "      fill: #FFFFFF;\n",
              "    }\n",
              "  </style>\n",
              "\n",
              "      <script>\n",
              "        const buttonEl =\n",
              "          document.querySelector('#df-365d55dc-13b3-494e-9843-a71e5bf45d3e button.colab-df-convert');\n",
              "        buttonEl.style.display =\n",
              "          google.colab.kernel.accessAllowed ? 'block' : 'none';\n",
              "\n",
              "        async function convertToInteractive(key) {\n",
              "          const element = document.querySelector('#df-365d55dc-13b3-494e-9843-a71e5bf45d3e');\n",
              "          const dataTable =\n",
              "            await google.colab.kernel.invokeFunction('convertToInteractive',\n",
              "                                                     [key], {});\n",
              "          if (!dataTable) return;\n",
              "\n",
              "          const docLinkHtml = 'Like what you see? Visit the ' +\n",
              "            '<a target=\"_blank\" href=https://colab.research.google.com/notebooks/data_table.ipynb>data table notebook</a>'\n",
              "            + ' to learn more about interactive tables.';\n",
              "          element.innerHTML = '';\n",
              "          dataTable['output_type'] = 'display_data';\n",
              "          await google.colab.output.renderOutput(dataTable, element);\n",
              "          const docLink = document.createElement('div');\n",
              "          docLink.innerHTML = docLinkHtml;\n",
              "          element.appendChild(docLink);\n",
              "        }\n",
              "      </script>\n",
              "    </div>\n",
              "  </div>\n",
              "  "
            ]
          },
          "metadata": {},
          "execution_count": 39
        }
      ],
      "source": [
        "df_movies = get_movie(df_aux)\n",
        "df_movies"
      ]
    },
    {
      "cell_type": "markdown",
      "metadata": {
        "id": "q_TNUYUyb7sN"
      },
      "source": [
        "Nice, we have good movies in the list, I'm a great fan of Forrest Gump and The Silence of the Lambs!<br>\n",
        "Most of the movies listed were released in 90's, the only exception is Star Wars (1977).<br>\n",
        "Maybe most people are always viewing 90's movies? It's a interesting information to take note.<br>\n",
        "<br>\n",
        "Another curios information is that in the most rated movies, none have a rate above 9.0.<br>\n",
        "Let's expand it, let's get all the 1000 most rated movies and examine what words are frequent in they overviews."
      ]
    },
    {
      "cell_type": "code",
      "execution_count": null,
      "metadata": {
        "id": "ImvEyyyrb7sO",
        "colab": {
          "base_uri": "https://localhost:8080/",
          "height": 393
        },
        "outputId": "183f5d89-3057-4c5a-fb54-ffaf3425ae37"
      },
      "outputs": [
        {
          "output_type": "display_data",
          "data": {
            "text/plain": [
              "                      title  \\\n",
              "0              Forrest Gump   \n",
              "1  The Shawshank Redemption   \n",
              "2              Pulp Fiction   \n",
              "\n",
              "                                            overview  vote_average  \\\n",
              "0  A man with a low IQ has accomplished great thi...           8.2   \n",
              "1  Framed in the 1940s for the double murder of h...           8.5   \n",
              "2  A burger-loving hit man, his philosophical par...           8.3   \n",
              "\n",
              "   release_year  \n",
              "0          1994  \n",
              "1          1994  \n",
              "2          1994  "
            ],
            "text/html": [
              "\n",
              "  <div id=\"df-56ee285d-1a8e-4c68-b87c-f2cc102acd42\">\n",
              "    <div class=\"colab-df-container\">\n",
              "      <div>\n",
              "<style scoped>\n",
              "    .dataframe tbody tr th:only-of-type {\n",
              "        vertical-align: middle;\n",
              "    }\n",
              "\n",
              "    .dataframe tbody tr th {\n",
              "        vertical-align: top;\n",
              "    }\n",
              "\n",
              "    .dataframe thead th {\n",
              "        text-align: right;\n",
              "    }\n",
              "</style>\n",
              "<table border=\"1\" class=\"dataframe\">\n",
              "  <thead>\n",
              "    <tr style=\"text-align: right;\">\n",
              "      <th></th>\n",
              "      <th>title</th>\n",
              "      <th>overview</th>\n",
              "      <th>vote_average</th>\n",
              "      <th>release_year</th>\n",
              "    </tr>\n",
              "  </thead>\n",
              "  <tbody>\n",
              "    <tr>\n",
              "      <th>0</th>\n",
              "      <td>Forrest Gump</td>\n",
              "      <td>A man with a low IQ has accomplished great thi...</td>\n",
              "      <td>8.2</td>\n",
              "      <td>1994</td>\n",
              "    </tr>\n",
              "    <tr>\n",
              "      <th>1</th>\n",
              "      <td>The Shawshank Redemption</td>\n",
              "      <td>Framed in the 1940s for the double murder of h...</td>\n",
              "      <td>8.5</td>\n",
              "      <td>1994</td>\n",
              "    </tr>\n",
              "    <tr>\n",
              "      <th>2</th>\n",
              "      <td>Pulp Fiction</td>\n",
              "      <td>A burger-loving hit man, his philosophical par...</td>\n",
              "      <td>8.3</td>\n",
              "      <td>1994</td>\n",
              "    </tr>\n",
              "  </tbody>\n",
              "</table>\n",
              "</div>\n",
              "      <button class=\"colab-df-convert\" onclick=\"convertToInteractive('df-56ee285d-1a8e-4c68-b87c-f2cc102acd42')\"\n",
              "              title=\"Convert this dataframe to an interactive table.\"\n",
              "              style=\"display:none;\">\n",
              "        \n",
              "  <svg xmlns=\"http://www.w3.org/2000/svg\" height=\"24px\"viewBox=\"0 0 24 24\"\n",
              "       width=\"24px\">\n",
              "    <path d=\"M0 0h24v24H0V0z\" fill=\"none\"/>\n",
              "    <path d=\"M18.56 5.44l.94 2.06.94-2.06 2.06-.94-2.06-.94-.94-2.06-.94 2.06-2.06.94zm-11 1L8.5 8.5l.94-2.06 2.06-.94-2.06-.94L8.5 2.5l-.94 2.06-2.06.94zm10 10l.94 2.06.94-2.06 2.06-.94-2.06-.94-.94-2.06-.94 2.06-2.06.94z\"/><path d=\"M17.41 7.96l-1.37-1.37c-.4-.4-.92-.59-1.43-.59-.52 0-1.04.2-1.43.59L10.3 9.45l-7.72 7.72c-.78.78-.78 2.05 0 2.83L4 21.41c.39.39.9.59 1.41.59.51 0 1.02-.2 1.41-.59l7.78-7.78 2.81-2.81c.8-.78.8-2.07 0-2.86zM5.41 20L4 18.59l7.72-7.72 1.47 1.35L5.41 20z\"/>\n",
              "  </svg>\n",
              "      </button>\n",
              "      \n",
              "  <style>\n",
              "    .colab-df-container {\n",
              "      display:flex;\n",
              "      flex-wrap:wrap;\n",
              "      gap: 12px;\n",
              "    }\n",
              "\n",
              "    .colab-df-convert {\n",
              "      background-color: #E8F0FE;\n",
              "      border: none;\n",
              "      border-radius: 50%;\n",
              "      cursor: pointer;\n",
              "      display: none;\n",
              "      fill: #1967D2;\n",
              "      height: 32px;\n",
              "      padding: 0 0 0 0;\n",
              "      width: 32px;\n",
              "    }\n",
              "\n",
              "    .colab-df-convert:hover {\n",
              "      background-color: #E2EBFA;\n",
              "      box-shadow: 0px 1px 2px rgba(60, 64, 67, 0.3), 0px 1px 3px 1px rgba(60, 64, 67, 0.15);\n",
              "      fill: #174EA6;\n",
              "    }\n",
              "\n",
              "    [theme=dark] .colab-df-convert {\n",
              "      background-color: #3B4455;\n",
              "      fill: #D2E3FC;\n",
              "    }\n",
              "\n",
              "    [theme=dark] .colab-df-convert:hover {\n",
              "      background-color: #434B5C;\n",
              "      box-shadow: 0px 1px 3px 1px rgba(0, 0, 0, 0.15);\n",
              "      filter: drop-shadow(0px 1px 2px rgba(0, 0, 0, 0.3));\n",
              "      fill: #FFFFFF;\n",
              "    }\n",
              "  </style>\n",
              "\n",
              "      <script>\n",
              "        const buttonEl =\n",
              "          document.querySelector('#df-56ee285d-1a8e-4c68-b87c-f2cc102acd42 button.colab-df-convert');\n",
              "        buttonEl.style.display =\n",
              "          google.colab.kernel.accessAllowed ? 'block' : 'none';\n",
              "\n",
              "        async function convertToInteractive(key) {\n",
              "          const element = document.querySelector('#df-56ee285d-1a8e-4c68-b87c-f2cc102acd42');\n",
              "          const dataTable =\n",
              "            await google.colab.kernel.invokeFunction('convertToInteractive',\n",
              "                                                     [key], {});\n",
              "          if (!dataTable) return;\n",
              "\n",
              "          const docLinkHtml = 'Like what you see? Visit the ' +\n",
              "            '<a target=\"_blank\" href=https://colab.research.google.com/notebooks/data_table.ipynb>data table notebook</a>'\n",
              "            + ' to learn more about interactive tables.';\n",
              "          element.innerHTML = '';\n",
              "          dataTable['output_type'] = 'display_data';\n",
              "          await google.colab.output.renderOutput(dataTable, element);\n",
              "          const docLink = document.createElement('div');\n",
              "          docLink.innerHTML = docLinkHtml;\n",
              "          element.appendChild(docLink);\n",
              "        }\n",
              "      </script>\n",
              "    </div>\n",
              "  </div>\n",
              "  "
            ]
          },
          "metadata": {}
        },
        {
          "output_type": "display_data",
          "data": {
            "text/plain": [
              "'Number of Rows: 1000, Number of Columns: 4'"
            ],
            "application/vnd.google.colaboratory.intrinsic+json": {
              "type": "string"
            }
          },
          "metadata": {}
        },
        {
          "output_type": "display_data",
          "data": {
            "text/plain": [
              "'Data Types'"
            ],
            "application/vnd.google.colaboratory.intrinsic+json": {
              "type": "string"
            }
          },
          "metadata": {}
        },
        {
          "output_type": "display_data",
          "data": {
            "text/plain": [
              "         Column     Type\n",
              "0         title   object\n",
              "1      overview   object\n",
              "2  vote_average  float64\n",
              "3  release_year    int64"
            ],
            "text/html": [
              "\n",
              "  <div id=\"df-fcee86f1-6519-476d-ad26-a51352f313d2\">\n",
              "    <div class=\"colab-df-container\">\n",
              "      <div>\n",
              "<style scoped>\n",
              "    .dataframe tbody tr th:only-of-type {\n",
              "        vertical-align: middle;\n",
              "    }\n",
              "\n",
              "    .dataframe tbody tr th {\n",
              "        vertical-align: top;\n",
              "    }\n",
              "\n",
              "    .dataframe thead th {\n",
              "        text-align: right;\n",
              "    }\n",
              "</style>\n",
              "<table border=\"1\" class=\"dataframe\">\n",
              "  <thead>\n",
              "    <tr style=\"text-align: right;\">\n",
              "      <th></th>\n",
              "      <th>Column</th>\n",
              "      <th>Type</th>\n",
              "    </tr>\n",
              "  </thead>\n",
              "  <tbody>\n",
              "    <tr>\n",
              "      <th>0</th>\n",
              "      <td>title</td>\n",
              "      <td>object</td>\n",
              "    </tr>\n",
              "    <tr>\n",
              "      <th>1</th>\n",
              "      <td>overview</td>\n",
              "      <td>object</td>\n",
              "    </tr>\n",
              "    <tr>\n",
              "      <th>2</th>\n",
              "      <td>vote_average</td>\n",
              "      <td>float64</td>\n",
              "    </tr>\n",
              "    <tr>\n",
              "      <th>3</th>\n",
              "      <td>release_year</td>\n",
              "      <td>int64</td>\n",
              "    </tr>\n",
              "  </tbody>\n",
              "</table>\n",
              "</div>\n",
              "      <button class=\"colab-df-convert\" onclick=\"convertToInteractive('df-fcee86f1-6519-476d-ad26-a51352f313d2')\"\n",
              "              title=\"Convert this dataframe to an interactive table.\"\n",
              "              style=\"display:none;\">\n",
              "        \n",
              "  <svg xmlns=\"http://www.w3.org/2000/svg\" height=\"24px\"viewBox=\"0 0 24 24\"\n",
              "       width=\"24px\">\n",
              "    <path d=\"M0 0h24v24H0V0z\" fill=\"none\"/>\n",
              "    <path d=\"M18.56 5.44l.94 2.06.94-2.06 2.06-.94-2.06-.94-.94-2.06-.94 2.06-2.06.94zm-11 1L8.5 8.5l.94-2.06 2.06-.94-2.06-.94L8.5 2.5l-.94 2.06-2.06.94zm10 10l.94 2.06.94-2.06 2.06-.94-2.06-.94-.94-2.06-.94 2.06-2.06.94z\"/><path d=\"M17.41 7.96l-1.37-1.37c-.4-.4-.92-.59-1.43-.59-.52 0-1.04.2-1.43.59L10.3 9.45l-7.72 7.72c-.78.78-.78 2.05 0 2.83L4 21.41c.39.39.9.59 1.41.59.51 0 1.02-.2 1.41-.59l7.78-7.78 2.81-2.81c.8-.78.8-2.07 0-2.86zM5.41 20L4 18.59l7.72-7.72 1.47 1.35L5.41 20z\"/>\n",
              "  </svg>\n",
              "      </button>\n",
              "      \n",
              "  <style>\n",
              "    .colab-df-container {\n",
              "      display:flex;\n",
              "      flex-wrap:wrap;\n",
              "      gap: 12px;\n",
              "    }\n",
              "\n",
              "    .colab-df-convert {\n",
              "      background-color: #E8F0FE;\n",
              "      border: none;\n",
              "      border-radius: 50%;\n",
              "      cursor: pointer;\n",
              "      display: none;\n",
              "      fill: #1967D2;\n",
              "      height: 32px;\n",
              "      padding: 0 0 0 0;\n",
              "      width: 32px;\n",
              "    }\n",
              "\n",
              "    .colab-df-convert:hover {\n",
              "      background-color: #E2EBFA;\n",
              "      box-shadow: 0px 1px 2px rgba(60, 64, 67, 0.3), 0px 1px 3px 1px rgba(60, 64, 67, 0.15);\n",
              "      fill: #174EA6;\n",
              "    }\n",
              "\n",
              "    [theme=dark] .colab-df-convert {\n",
              "      background-color: #3B4455;\n",
              "      fill: #D2E3FC;\n",
              "    }\n",
              "\n",
              "    [theme=dark] .colab-df-convert:hover {\n",
              "      background-color: #434B5C;\n",
              "      box-shadow: 0px 1px 3px 1px rgba(0, 0, 0, 0.15);\n",
              "      filter: drop-shadow(0px 1px 2px rgba(0, 0, 0, 0.3));\n",
              "      fill: #FFFFFF;\n",
              "    }\n",
              "  </style>\n",
              "\n",
              "      <script>\n",
              "        const buttonEl =\n",
              "          document.querySelector('#df-fcee86f1-6519-476d-ad26-a51352f313d2 button.colab-df-convert');\n",
              "        buttonEl.style.display =\n",
              "          google.colab.kernel.accessAllowed ? 'block' : 'none';\n",
              "\n",
              "        async function convertToInteractive(key) {\n",
              "          const element = document.querySelector('#df-fcee86f1-6519-476d-ad26-a51352f313d2');\n",
              "          const dataTable =\n",
              "            await google.colab.kernel.invokeFunction('convertToInteractive',\n",
              "                                                     [key], {});\n",
              "          if (!dataTable) return;\n",
              "\n",
              "          const docLinkHtml = 'Like what you see? Visit the ' +\n",
              "            '<a target=\"_blank\" href=https://colab.research.google.com/notebooks/data_table.ipynb>data table notebook</a>'\n",
              "            + ' to learn more about interactive tables.';\n",
              "          element.innerHTML = '';\n",
              "          dataTable['output_type'] = 'display_data';\n",
              "          await google.colab.output.renderOutput(dataTable, element);\n",
              "          const docLink = document.createElement('div');\n",
              "          docLink.innerHTML = docLinkHtml;\n",
              "          element.appendChild(docLink);\n",
              "        }\n",
              "      </script>\n",
              "    </div>\n",
              "  </div>\n",
              "  "
            ]
          },
          "metadata": {}
        },
        {
          "output_type": "display_data",
          "data": {
            "text/plain": [
              "'memory usage: 31.4+ KB'"
            ],
            "application/vnd.google.colaboratory.intrinsic+json": {
              "type": "string"
            }
          },
          "metadata": {}
        },
        {
          "output_type": "display_data",
          "data": {
            "text/plain": [
              "'Missing Values'"
            ],
            "application/vnd.google.colaboratory.intrinsic+json": {
              "type": "string"
            }
          },
          "metadata": {}
        },
        {
          "output_type": "display_data",
          "data": {
            "text/plain": [
              "'No Missing Values'"
            ],
            "application/vnd.google.colaboratory.intrinsic+json": {
              "type": "string"
            }
          },
          "metadata": {}
        }
      ],
      "source": [
        "df_aux = ratings['movieId'].value_counts().reset_index().head(1001).rename(columns={'index': 'movieId', 'movieId': 'count'})\n",
        "df_aux['movieId'] = df_aux['movieId'].astype(str)\n",
        "df_aux = get_movie(df_aux)\n",
        "get_df_info(df_aux)"
      ]
    },
    {
      "cell_type": "markdown",
      "metadata": {
        "id": "K8YnDSKTb7sO"
      },
      "source": [
        "Time to use Natural Language Processing (NLP) with NLTK module and transform everything in overview for lower case, word tokens and remove stopwords and make the Word Cloud."
      ]
    },
    {
      "cell_type": "code",
      "execution_count": null,
      "metadata": {
        "id": "L0VmTJCphaz8"
      },
      "outputs": [],
      "source": [
        "#nltk.download('stopwords')"
      ]
    },
    {
      "cell_type": "code",
      "execution_count": null,
      "metadata": {
        "id": "4AoC1TmZb7sO",
        "colab": {
          "base_uri": "https://localhost:8080/",
          "height": 847
        },
        "outputId": "1a966d8d-a1c6-4d30-c43e-6293db9ff02d"
      },
      "outputs": [
        {
          "output_type": "stream",
          "name": "stderr",
          "text": [
            "[nltk_data] Downloading package stopwords to /root/nltk_data...\n",
            "[nltk_data]   Unzipping corpora/stopwords.zip.\n"
          ]
        },
        {
          "output_type": "display_data",
          "data": {
            "text/plain": [
              "<Figure size 1000x1000 with 1 Axes>"
            ],
            "image/svg+xml": "<?xml version=\"1.0\" encoding=\"utf-8\" standalone=\"no\"?>\n<!DOCTYPE svg PUBLIC \"-//W3C//DTD SVG 1.1//EN\"\n  \"http://www.w3.org/Graphics/SVG/1.1/DTD/svg11.dtd\">\n<svg xmlns:xlink=\"http://www.w3.org/1999/xlink\" width=\"568.8pt\" height=\"592.917188pt\" viewBox=\"0 0 568.8 592.917188\" xmlns=\"http://www.w3.org/2000/svg\" version=\"1.1\">\n <metadata>\n  <rdf:RDF xmlns:dc=\"http://purl.org/dc/elements/1.1/\" xmlns:cc=\"http://creativecommons.org/ns#\" xmlns:rdf=\"http://www.w3.org/1999/02/22-rdf-syntax-ns#\">\n   <cc:Work>\n    <dc:type rdf:resource=\"http://purl.org/dc/dcmitype/StillImage\"/>\n    <dc:date>2023-05-05T19:23:44.694582</dc:date>\n    <dc:format>image/svg+xml</dc:format>\n    <dc:creator>\n     <cc:Agent>\n      <dc:title>Matplotlib v3.7.1, https://matplotlib.org/</dc:title>\n     </cc:Agent>\n    </dc:creator>\n   </cc:Work>\n  </rdf:RDF>\n </metadata>\n <defs>\n  <style type=\"text/css\">*{stroke-linejoin: round; stroke-linecap: butt}</style>\n </defs>\n <g id=\"figure_1\">\n  <g id=\"patch_1\">\n   <path d=\"M 0 592.917188 \nL 568.8 592.917188 \nL 568.8 0 \nL 0 0 \nz\n\" style=\"fill: #ffffff\"/>\n  </g>\n  <g id=\"axes_1\">\n   <g clip-path=\"url(#pcc41b3a925)\">\n    <image xlink:href=\"data:image/png;base64,\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\" id=\"imagee741b0b88f\" transform=\"scale(1 -1) translate(0 -554.4)\" x=\"7.2\" y=\"-31.317188\" width=\"554.4\" height=\"554.4\"/>\n   </g>\n   <g id=\"text_1\">\n    <!-- Most Frequent words in TOP 1000 rated movies -->\n    <g style=\"fill: #262626\" transform=\"translate(18.985937 25.317188) scale(0.25 -0.25)\">\n     <defs>\n      <path id=\"LiberationSans-4d\" d=\"M 4269 0 \nL 4269 2938 \nQ 4269 3097 4272 3262 \nQ 4275 3428 4281 3566 \nQ 4288 3725 4297 3875 \nQ 4253 3716 4206 3559 \nQ 4166 3425 4117 3273 \nQ 4069 3122 4022 3000 \nL 2884 0 \nL 2466 0 \nL 1313 3000 \nQ 1294 3047 1273 3109 \nQ 1253 3172 1229 3242 \nQ 1206 3313 1182 3386 \nQ 1159 3459 1138 3531 \nQ 1084 3697 1034 3875 \nQ 1038 3700 1044 3528 \nQ 1050 3381 1053 3220 \nQ 1056 3059 1056 2938 \nL 1056 0 \nL 525 0 \nL 525 4403 \nL 1309 4403 \nL 2481 1350 \nQ 2503 1288 2534 1189 \nQ 2566 1091 2594 987 \nQ 2622 884 2645 792 \nQ 2669 700 2678 650 \nQ 2688 700 2713 794 \nQ 2738 888 2770 991 \nQ 2803 1094 2834 1191 \nQ 2866 1288 2891 1350 \nL 4041 4403 \nL 4806 4403 \nL 4806 0 \nL 4269 0 \nz\n\" transform=\"scale(0.015625)\"/>\n      <path id=\"LiberationSans-6f\" d=\"M 3291 1694 \nQ 3291 806 2900 371 \nQ 2509 -63 1766 -63 \nQ 1413 -63 1134 43 \nQ 856 150 664 369 \nQ 472 588 370 917 \nQ 269 1247 269 1694 \nQ 269 3444 1784 3444 \nQ 2178 3444 2464 3334 \nQ 2750 3225 2933 3006 \nQ 3116 2788 3203 2459 \nQ 3291 2131 3291 1694 \nz\nM 2700 1694 \nQ 2700 2088 2639 2344 \nQ 2578 2600 2461 2753 \nQ 2344 2906 2175 2967 \nQ 2006 3028 1794 3028 \nQ 1578 3028 1404 2964 \nQ 1231 2900 1109 2745 \nQ 988 2591 923 2334 \nQ 859 2078 859 1694 \nQ 859 1300 928 1042 \nQ 997 784 1117 631 \nQ 1238 478 1402 415 \nQ 1566 353 1759 353 \nQ 1975 353 2150 414 \nQ 2325 475 2447 628 \nQ 2569 781 2634 1040 \nQ 2700 1300 2700 1694 \nz\n\" transform=\"scale(0.015625)\"/>\n      <path id=\"LiberationSans-73\" d=\"M 2969 934 \nQ 2969 697 2876 511 \nQ 2784 325 2609 198 \nQ 2434 72 2179 4 \nQ 1925 -63 1597 -63 \nQ 1303 -63 1067 -17 \nQ 831 28 653 128 \nQ 475 228 354 392 \nQ 234 556 178 794 \nL 675 891 \nQ 747 619 972 492 \nQ 1197 366 1597 366 \nQ 1778 366 1929 391 \nQ 2081 416 2190 477 \nQ 2300 538 2361 639 \nQ 2422 741 2422 891 \nQ 2422 1044 2350 1142 \nQ 2278 1241 2150 1306 \nQ 2022 1372 1839 1420 \nQ 1656 1469 1438 1528 \nQ 1234 1581 1034 1647 \nQ 834 1713 673 1820 \nQ 513 1928 413 2087 \nQ 313 2247 313 2488 \nQ 313 2950 642 3192 \nQ 972 3434 1603 3434 \nQ 2163 3434 2492 3237 \nQ 2822 3041 2909 2606 \nL 2403 2544 \nQ 2375 2675 2300 2764 \nQ 2225 2853 2119 2908 \nQ 2013 2963 1880 2986 \nQ 1747 3009 1603 3009 \nQ 1222 3009 1040 2893 \nQ 859 2778 859 2544 \nQ 859 2406 926 2317 \nQ 994 2228 1114 2167 \nQ 1234 2106 1403 2061 \nQ 1572 2016 1775 1966 \nQ 1909 1931 2050 1892 \nQ 2191 1853 2323 1798 \nQ 2456 1744 2573 1670 \nQ 2691 1597 2778 1494 \nQ 2866 1391 2917 1253 \nQ 2969 1116 2969 934 \nz\n\" transform=\"scale(0.015625)\"/>\n      <path id=\"LiberationSans-74\" d=\"M 1731 25 \nQ 1603 -9 1470 -29 \nQ 1338 -50 1163 -50 \nQ 488 -50 488 716 \nL 488 2972 \nL 97 2972 \nL 97 3381 \nL 509 3381 \nL 675 4138 \nL 1050 4138 \nL 1050 3381 \nL 1675 3381 \nL 1675 2972 \nL 1050 2972 \nL 1050 838 \nQ 1050 594 1129 495 \nQ 1209 397 1406 397 \nQ 1488 397 1564 409 \nQ 1641 422 1731 441 \nL 1731 25 \nz\n\" transform=\"scale(0.015625)\"/>\n      <path id=\"LiberationSans-20\" transform=\"scale(0.015625)\"/>\n      <path id=\"LiberationSans-46\" d=\"M 1122 3916 \nL 1122 2278 \nL 3578 2278 \nL 3578 1784 \nL 1122 1784 \nL 1122 0 \nL 525 0 \nL 525 4403 \nL 3653 4403 \nL 3653 3916 \nL 1122 3916 \nz\n\" transform=\"scale(0.015625)\"/>\n      <path id=\"LiberationSans-72\" d=\"M 444 0 \nL 444 2594 \nQ 444 2700 442 2811 \nQ 441 2922 437 3025 \nQ 434 3128 431 3218 \nQ 428 3309 425 3381 \nL 956 3381 \nQ 959 3309 964 3217 \nQ 969 3125 973 3028 \nQ 978 2931 979 2842 \nQ 981 2753 981 2691 \nL 994 2691 \nQ 1053 2884 1120 3026 \nQ 1188 3169 1278 3261 \nQ 1369 3353 1494 3398 \nQ 1619 3444 1797 3444 \nQ 1866 3444 1928 3433 \nQ 1991 3422 2025 3413 \nL 2025 2897 \nQ 1969 2913 1894 2920 \nQ 1819 2928 1725 2928 \nQ 1531 2928 1395 2840 \nQ 1259 2753 1173 2598 \nQ 1088 2444 1047 2230 \nQ 1006 2016 1006 1763 \nL 1006 0 \nL 444 0 \nz\n\" transform=\"scale(0.015625)\"/>\n      <path id=\"LiberationSans-65\" d=\"M 863 1572 \nQ 863 1306 917 1082 \nQ 972 859 1086 698 \nQ 1200 538 1378 448 \nQ 1556 359 1806 359 \nQ 2172 359 2392 506 \nQ 2613 653 2691 878 \nL 3184 738 \nQ 3131 597 3036 455 \nQ 2941 313 2781 198 \nQ 2622 84 2383 10 \nQ 2144 -63 1806 -63 \nQ 1056 -63 664 384 \nQ 272 831 272 1713 \nQ 272 2188 390 2517 \nQ 509 2847 715 3053 \nQ 922 3259 1197 3351 \nQ 1472 3444 1784 3444 \nQ 2209 3444 2495 3306 \nQ 2781 3169 2954 2926 \nQ 3128 2684 3201 2356 \nQ 3275 2028 3275 1647 \nL 3275 1572 \nL 863 1572 \nz\nM 2694 2003 \nQ 2647 2538 2422 2783 \nQ 2197 3028 1775 3028 \nQ 1634 3028 1479 2983 \nQ 1325 2938 1194 2822 \nQ 1063 2706 972 2507 \nQ 881 2309 869 2003 \nL 2694 2003 \nz\n\" transform=\"scale(0.015625)\"/>\n      <path id=\"LiberationSans-71\" d=\"M 1513 -63 \nQ 869 -63 569 371 \nQ 269 806 269 1675 \nQ 269 2556 576 3000 \nQ 884 3444 1513 3444 \nQ 1722 3444 1883 3406 \nQ 2044 3369 2170 3295 \nQ 2297 3222 2392 3112 \nQ 2488 3003 2566 2856 \nL 2572 2856 \nQ 2572 2934 2576 3029 \nQ 2581 3125 2586 3209 \nQ 2591 3294 2597 3355 \nQ 2603 3416 2609 3425 \nL 3150 3425 \nQ 3144 3372 3136 3147 \nQ 3128 2922 3128 2503 \nL 3128 -1328 \nL 2566 -1328 \nL 2566 44 \nQ 2566 125 2567 212 \nQ 2569 300 2572 378 \nQ 2575 466 2578 556 \nL 2572 556 \nQ 2491 397 2392 280 \nQ 2294 163 2166 86 \nQ 2038 9 1877 -27 \nQ 1716 -63 1513 -63 \nz\nM 2566 1731 \nQ 2566 2100 2502 2350 \nQ 2438 2600 2320 2750 \nQ 2203 2900 2036 2964 \nQ 1869 3028 1663 3028 \nQ 1447 3028 1294 2948 \nQ 1141 2869 1045 2705 \nQ 950 2541 904 2289 \nQ 859 2038 859 1694 \nQ 859 1356 901 1106 \nQ 944 856 1039 693 \nQ 1134 531 1286 451 \nQ 1438 372 1656 372 \nQ 1844 372 2009 430 \nQ 2175 488 2298 639 \nQ 2422 791 2494 1055 \nQ 2566 1319 2566 1731 \nz\n\" transform=\"scale(0.015625)\"/>\n      <path id=\"LiberationSans-75\" d=\"M 981 3381 \nL 981 1238 \nQ 981 991 1017 825 \nQ 1053 659 1134 557 \nQ 1216 456 1348 414 \nQ 1481 372 1678 372 \nQ 1878 372 2039 442 \nQ 2200 513 2314 645 \nQ 2428 778 2490 973 \nQ 2553 1169 2553 1422 \nL 2553 3381 \nL 3116 3381 \nL 3116 722 \nQ 3116 616 3117 498 \nQ 3119 381 3122 276 \nQ 3125 172 3128 97 \nQ 3131 22 3134 0 \nL 2603 0 \nQ 2600 16 2597 84 \nQ 2594 153 2589 242 \nQ 2584 331 2581 423 \nQ 2578 516 2578 578 \nL 2569 578 \nQ 2488 431 2391 312 \nQ 2294 194 2166 111 \nQ 2038 28 1872 -17 \nQ 1706 -63 1488 -63 \nQ 1206 -63 1003 6 \nQ 800 75 669 219 \nQ 538 363 477 588 \nQ 416 813 416 1128 \nL 416 3381 \nL 981 3381 \nz\n\" transform=\"scale(0.015625)\"/>\n      <path id=\"LiberationSans-6e\" d=\"M 2578 0 \nL 2578 2144 \nQ 2578 2391 2542 2556 \nQ 2506 2722 2425 2823 \nQ 2344 2925 2211 2967 \nQ 2078 3009 1881 3009 \nQ 1681 3009 1520 2939 \nQ 1359 2869 1245 2736 \nQ 1131 2603 1068 2408 \nQ 1006 2213 1006 1959 \nL 1006 0 \nL 444 0 \nL 444 2659 \nQ 444 2766 442 2883 \nQ 441 3000 437 3104 \nQ 434 3209 431 3284 \nQ 428 3359 425 3381 \nL 956 3381 \nQ 959 3366 962 3297 \nQ 966 3228 970 3139 \nQ 975 3050 978 2958 \nQ 981 2866 981 2803 \nL 991 2803 \nQ 1072 2950 1169 3069 \nQ 1266 3188 1394 3270 \nQ 1522 3353 1687 3398 \nQ 1853 3444 2072 3444 \nQ 2353 3444 2556 3375 \nQ 2759 3306 2890 3162 \nQ 3022 3019 3083 2792 \nQ 3144 2566 3144 2253 \nL 3144 0 \nL 2578 0 \nz\n\" transform=\"scale(0.015625)\"/>\n      <path id=\"LiberationSans-77\" d=\"M 3669 0 \nL 3016 0 \nL 2475 2181 \nQ 2450 2266 2423 2391 \nQ 2397 2516 2372 2634 \nQ 2341 2772 2313 2919 \nQ 2284 2778 2253 2641 \nQ 2228 2522 2198 2394 \nQ 2169 2266 2144 2169 \nL 1588 0 \nL 938 0 \nL -9 3381 \nL 547 3381 \nL 1119 1084 \nQ 1141 1013 1162 908 \nQ 1184 803 1206 703 \nQ 1228 588 1253 466 \nQ 1278 584 1306 697 \nQ 1331 794 1356 894 \nQ 1381 994 1400 1059 \nL 2013 3381 \nL 2616 3381 \nL 3206 1059 \nQ 3228 978 3253 875 \nQ 3278 772 3300 681 \nQ 3325 575 3350 466 \nQ 3375 584 3400 697 \nQ 3422 794 3445 898 \nQ 3469 1003 3491 1084 \nL 4088 3381 \nL 4638 3381 \nL 3669 0 \nz\n\" transform=\"scale(0.015625)\"/>\n      <path id=\"LiberationSans-64\" d=\"M 2566 544 \nQ 2409 219 2151 78 \nQ 1894 -63 1513 -63 \nQ 872 -63 570 368 \nQ 269 800 269 1675 \nQ 269 3444 1513 3444 \nQ 1897 3444 2153 3303 \nQ 2409 3163 2566 2856 \nL 2572 2856 \nQ 2572 2888 2570 2955 \nQ 2569 3022 2567 3095 \nQ 2566 3169 2566 3234 \nQ 2566 3300 2566 3328 \nL 2566 4638 \nL 3128 4638 \nL 3128 697 \nQ 3128 575 3129 462 \nQ 3131 350 3134 256 \nQ 3138 163 3141 95 \nQ 3144 28 3147 0 \nL 2609 0 \nQ 2603 31 2598 89 \nQ 2594 147 2589 222 \nQ 2584 297 2581 380 \nQ 2578 463 2578 544 \nL 2566 544 \nz\nM 859 1694 \nQ 859 1344 903 1094 \nQ 947 844 1044 683 \nQ 1141 522 1291 447 \nQ 1441 372 1656 372 \nQ 1878 372 2048 444 \nQ 2219 516 2333 677 \nQ 2447 838 2506 1097 \nQ 2566 1356 2566 1731 \nQ 2566 2091 2506 2339 \nQ 2447 2588 2331 2741 \nQ 2216 2894 2048 2961 \nQ 1881 3028 1663 3028 \nQ 1456 3028 1306 2956 \nQ 1156 2884 1056 2725 \nQ 956 2566 907 2311 \nQ 859 2056 859 1694 \nz\n\" transform=\"scale(0.015625)\"/>\n      <path id=\"LiberationSans-69\" d=\"M 428 4100 \nL 428 4638 \nL 991 4638 \nL 991 4100 \nL 428 4100 \nz\nM 428 0 \nL 428 3381 \nL 991 3381 \nL 991 0 \nL 428 0 \nz\n\" transform=\"scale(0.015625)\"/>\n      <path id=\"LiberationSans-54\" d=\"M 2250 3916 \nL 2250 0 \nL 1656 0 \nL 1656 3916 \nL 144 3916 \nL 144 4403 \nL 3763 4403 \nL 3763 3916 \nL 2250 3916 \nz\n\" transform=\"scale(0.015625)\"/>\n      <path id=\"LiberationSans-4f\" d=\"M 4672 2222 \nQ 4672 1706 4523 1284 \nQ 4375 863 4094 563 \nQ 3813 263 3406 100 \nQ 3000 -63 2484 -63 \nQ 1941 -63 1531 107 \nQ 1122 278 850 583 \nQ 578 888 440 1306 \nQ 303 1725 303 2222 \nQ 303 2738 447 3153 \nQ 591 3569 869 3861 \nQ 1147 4153 1555 4311 \nQ 1963 4469 2491 4469 \nQ 3016 4469 3423 4309 \nQ 3831 4150 4107 3856 \nQ 4384 3563 4528 3147 \nQ 4672 2731 4672 2222 \nz\nM 4063 2222 \nQ 4063 2619 3961 2944 \nQ 3859 3269 3661 3500 \nQ 3463 3731 3169 3856 \nQ 2875 3981 2491 3981 \nQ 2097 3981 1800 3856 \nQ 1503 3731 1304 3500 \nQ 1106 3269 1007 2944 \nQ 909 2619 909 2222 \nQ 909 1825 1011 1495 \nQ 1113 1166 1311 927 \nQ 1509 688 1804 555 \nQ 2100 422 2484 422 \nQ 2897 422 3195 556 \nQ 3494 691 3686 930 \nQ 3878 1169 3970 1500 \nQ 4063 1831 4063 2222 \nz\n\" transform=\"scale(0.015625)\"/>\n      <path id=\"LiberationSans-50\" d=\"M 3931 3078 \nQ 3931 2791 3836 2542 \nQ 3741 2294 3552 2111 \nQ 3363 1928 3078 1822 \nQ 2794 1716 2416 1716 \nL 1122 1716 \nL 1122 0 \nL 525 0 \nL 525 4403 \nL 2378 4403 \nQ 2769 4403 3059 4308 \nQ 3350 4213 3544 4039 \nQ 3738 3866 3834 3620 \nQ 3931 3375 3931 3078 \nz\nM 3331 3072 \nQ 3331 3491 3075 3708 \nQ 2819 3925 2306 3925 \nL 1122 3925 \nL 1122 2188 \nL 2331 2188 \nQ 2847 2188 3089 2416 \nQ 3331 2644 3331 3072 \nz\n\" transform=\"scale(0.015625)\"/>\n      <path id=\"LiberationSans-31\" d=\"M 488 0 \nL 488 478 \nL 1609 478 \nL 1609 3866 \nL 616 3156 \nL 616 3688 \nL 1656 4403 \nL 2175 4403 \nL 2175 478 \nL 3247 478 \nL 3247 0 \nL 488 0 \nz\n\" transform=\"scale(0.015625)\"/>\n      <path id=\"LiberationSans-30\" d=\"M 3309 2203 \nQ 3309 1569 3189 1136 \nQ 3069 703 2861 436 \nQ 2653 169 2372 53 \nQ 2091 -63 1772 -63 \nQ 1450 -63 1172 53 \nQ 894 169 689 434 \nQ 484 700 367 1133 \nQ 250 1566 250 2203 \nQ 250 2869 367 3305 \nQ 484 3741 690 4000 \nQ 897 4259 1178 4364 \nQ 1459 4469 1791 4469 \nQ 2106 4469 2382 4364 \nQ 2659 4259 2865 4000 \nQ 3072 3741 3190 3305 \nQ 3309 2869 3309 2203 \nz\nM 2738 2203 \nQ 2738 2728 2675 3076 \nQ 2613 3425 2491 3633 \nQ 2369 3841 2192 3927 \nQ 2016 4013 1791 4013 \nQ 1553 4013 1372 3925 \nQ 1191 3838 1067 3630 \nQ 944 3422 881 3073 \nQ 819 2725 819 2203 \nQ 819 1697 883 1350 \nQ 947 1003 1070 792 \nQ 1194 581 1372 489 \nQ 1550 397 1778 397 \nQ 2000 397 2178 489 \nQ 2356 581 2479 792 \nQ 2603 1003 2670 1350 \nQ 2738 1697 2738 2203 \nz\n\" transform=\"scale(0.015625)\"/>\n      <path id=\"LiberationSans-61\" d=\"M 1294 -63 \nQ 784 -63 528 206 \nQ 272 475 272 944 \nQ 272 1278 398 1492 \nQ 525 1706 729 1828 \nQ 934 1950 1196 1997 \nQ 1459 2044 1731 2050 \nL 2491 2063 \nL 2491 2247 \nQ 2491 2456 2447 2603 \nQ 2403 2750 2312 2840 \nQ 2222 2931 2086 2973 \nQ 1950 3016 1766 3016 \nQ 1603 3016 1472 2992 \nQ 1341 2969 1244 2908 \nQ 1147 2847 1087 2742 \nQ 1028 2638 1009 2478 \nL 422 2531 \nQ 453 2731 540 2898 \nQ 628 3066 789 3187 \nQ 950 3309 1192 3376 \nQ 1434 3444 1778 3444 \nQ 2416 3444 2737 3151 \nQ 3059 2859 3059 2306 \nL 3059 850 \nQ 3059 600 3125 473 \nQ 3191 347 3375 347 \nQ 3422 347 3469 353 \nQ 3516 359 3559 369 \nL 3559 19 \nQ 3453 -6 3348 -18 \nQ 3244 -31 3125 -31 \nQ 2966 -31 2852 11 \nQ 2738 53 2666 139 \nQ 2594 225 2556 351 \nQ 2519 478 2509 647 \nL 2491 647 \nQ 2400 484 2292 353 \nQ 2184 222 2040 130 \nQ 1897 38 1714 -12 \nQ 1531 -63 1294 -63 \nz\nM 1422 359 \nQ 1691 359 1892 457 \nQ 2094 556 2226 709 \nQ 2359 863 2425 1044 \nQ 2491 1225 2491 1391 \nL 2491 1669 \nL 1875 1656 \nQ 1669 1653 1483 1626 \nQ 1297 1600 1156 1522 \nQ 1016 1444 933 1303 \nQ 850 1163 850 934 \nQ 850 659 998 509 \nQ 1147 359 1422 359 \nz\n\" transform=\"scale(0.015625)\"/>\n      <path id=\"LiberationSans-6d\" d=\"M 2400 0 \nL 2400 2144 \nQ 2400 2391 2369 2556 \nQ 2338 2722 2264 2823 \nQ 2191 2925 2072 2967 \nQ 1953 3009 1781 3009 \nQ 1603 3009 1459 2939 \nQ 1316 2869 1214 2736 \nQ 1113 2603 1058 2408 \nQ 1003 2213 1003 1959 \nL 1003 0 \nL 444 0 \nL 444 2659 \nQ 444 2766 442 2883 \nQ 441 3000 437 3104 \nQ 434 3209 431 3284 \nQ 428 3359 425 3381 \nL 956 3381 \nQ 959 3366 962 3297 \nQ 966 3228 970 3139 \nQ 975 3050 978 2958 \nQ 981 2866 981 2803 \nL 991 2803 \nQ 1066 2950 1153 3069 \nQ 1241 3188 1358 3270 \nQ 1475 3353 1626 3398 \nQ 1778 3444 1978 3444 \nQ 2363 3444 2586 3291 \nQ 2809 3138 2897 2803 \nL 2906 2803 \nQ 2981 2950 3075 3069 \nQ 3169 3188 3294 3270 \nQ 3419 3353 3575 3398 \nQ 3731 3444 3931 3444 \nQ 4188 3444 4373 3375 \nQ 4559 3306 4678 3162 \nQ 4797 3019 4853 2792 \nQ 4909 2566 4909 2253 \nL 4909 0 \nL 4353 0 \nL 4353 2144 \nQ 4353 2391 4322 2556 \nQ 4291 2722 4217 2823 \nQ 4144 2925 4025 2967 \nQ 3906 3009 3734 3009 \nQ 3556 3009 3412 2942 \nQ 3269 2875 3167 2744 \nQ 3066 2613 3011 2416 \nQ 2956 2219 2956 1959 \nL 2956 0 \nL 2400 0 \nz\n\" transform=\"scale(0.015625)\"/>\n      <path id=\"LiberationSans-76\" d=\"M 1916 0 \nL 1250 0 \nL 22 3381 \nL 622 3381 \nL 1366 1181 \nQ 1388 1113 1417 1014 \nQ 1447 916 1478 809 \nQ 1509 703 1536 604 \nQ 1563 506 1581 441 \nQ 1600 506 1629 604 \nQ 1659 703 1690 806 \nQ 1722 909 1755 1007 \nQ 1788 1106 1813 1175 \nL 2581 3381 \nL 3178 3381 \nL 1916 0 \nz\n\" transform=\"scale(0.015625)\"/>\n     </defs>\n     <use xlink:href=\"#LiberationSans-4d\"/>\n     <use xlink:href=\"#LiberationSans-6f\" x=\"83.300781\"/>\n     <use xlink:href=\"#LiberationSans-73\" x=\"138.916016\"/>\n     <use xlink:href=\"#LiberationSans-74\" x=\"188.916016\"/>\n     <use xlink:href=\"#LiberationSans-20\" x=\"216.699219\"/>\n     <use xlink:href=\"#LiberationSans-46\" x=\"244.482422\"/>\n     <use xlink:href=\"#LiberationSans-72\" x=\"305.566406\"/>\n     <use xlink:href=\"#LiberationSans-65\" x=\"338.867188\"/>\n     <use xlink:href=\"#LiberationSans-71\" x=\"394.482422\"/>\n     <use xlink:href=\"#LiberationSans-75\" x=\"450.097656\"/>\n     <use xlink:href=\"#LiberationSans-65\" x=\"505.712891\"/>\n     <use xlink:href=\"#LiberationSans-6e\" x=\"561.328125\"/>\n     <use xlink:href=\"#LiberationSans-74\" x=\"616.943359\"/>\n     <use xlink:href=\"#LiberationSans-20\" x=\"644.726562\"/>\n     <use xlink:href=\"#LiberationSans-77\" x=\"672.509766\"/>\n     <use xlink:href=\"#LiberationSans-6f\" x=\"744.726562\"/>\n     <use xlink:href=\"#LiberationSans-72\" x=\"800.341797\"/>\n     <use xlink:href=\"#LiberationSans-64\" x=\"833.642578\"/>\n     <use xlink:href=\"#LiberationSans-73\" x=\"889.257812\"/>\n     <use xlink:href=\"#LiberationSans-20\" x=\"939.257812\"/>\n     <use xlink:href=\"#LiberationSans-69\" x=\"967.041016\"/>\n     <use xlink:href=\"#LiberationSans-6e\" x=\"989.257812\"/>\n     <use xlink:href=\"#LiberationSans-20\" x=\"1044.873047\"/>\n     <use xlink:href=\"#LiberationSans-54\" x=\"1070.90625\"/>\n     <use xlink:href=\"#LiberationSans-4f\" x=\"1130.240234\"/>\n     <use xlink:href=\"#LiberationSans-50\" x=\"1208.023438\"/>\n     <use xlink:href=\"#LiberationSans-20\" x=\"1272.972656\"/>\n     <use xlink:href=\"#LiberationSans-31\" x=\"1300.755859\"/>\n     <use xlink:href=\"#LiberationSans-30\" x=\"1356.371094\"/>\n     <use xlink:href=\"#LiberationSans-30\" x=\"1411.986328\"/>\n     <use xlink:href=\"#LiberationSans-30\" x=\"1467.601562\"/>\n     <use xlink:href=\"#LiberationSans-20\" x=\"1523.216797\"/>\n     <use xlink:href=\"#LiberationSans-72\" x=\"1551\"/>\n     <use xlink:href=\"#LiberationSans-61\" x=\"1584.300781\"/>\n     <use xlink:href=\"#LiberationSans-74\" x=\"1639.916016\"/>\n     <use xlink:href=\"#LiberationSans-65\" x=\"1667.699219\"/>\n     <use xlink:href=\"#LiberationSans-64\" x=\"1723.314453\"/>\n     <use xlink:href=\"#LiberationSans-20\" x=\"1778.929688\"/>\n     <use xlink:href=\"#LiberationSans-6d\" x=\"1806.712891\"/>\n     <use xlink:href=\"#LiberationSans-6f\" x=\"1890.013672\"/>\n     <use xlink:href=\"#LiberationSans-76\" x=\"1945.628906\"/>\n     <use xlink:href=\"#LiberationSans-69\" x=\"1995.628906\"/>\n     <use xlink:href=\"#LiberationSans-65\" x=\"2017.845703\"/>\n     <use xlink:href=\"#LiberationSans-73\" x=\"2073.460938\"/>\n    </g>\n   </g>\n  </g>\n </g>\n <defs>\n  <clipPath id=\"pcc41b3a925\">\n   <rect x=\"7.2\" y=\"31.317188\" width=\"554.4\" height=\"554.4\"/>\n  </clipPath>\n </defs>\n</svg>\n"
          },
          "metadata": {}
        }
      ],
      "source": [
        "import nltk\n",
        "from nltk.corpus import stopwords\n",
        "from nltk.tokenize import RegexpTokenizer\n",
        "from wordcloud import WordCloud\n",
        "nltk.download('stopwords')\n",
        "stop_words = set(stopwords.words('english'))\n",
        "tokenizer = RegexpTokenizer(r'\\w+')\n",
        "\n",
        "df_aux['overview'] = df_aux.overview.apply(lambda x : x.lower())\n",
        "df_aux['overview'] = df_aux.overview.apply(lambda x : tokenizer.tokenize(x))\n",
        "df_aux['overview'] = df_aux.overview.apply(lambda x : [w for w in x if w not in stop_words])\n",
        "df_aux['overview'] = df_aux.overview.apply(lambda x : ' '.join(x))\n",
        "\n",
        "word_count = df_aux.overview.apply(lambda x: pd.value_counts(x.split(\" \"))).sum(axis = 0).sort_values(ascending=False)\n",
        "word_count = pd.DataFrame({'word' : word_count.index, 'count': word_count.values})\n",
        "# Plot the WordCloud\n",
        "d = {}\n",
        "for a, x in word_count.values:\n",
        "    d[a] = x\n",
        "\n",
        "wordcloud = WordCloud(background_color = 'white',\n",
        "                      max_words = 50,\n",
        "                      width = 2000,\n",
        "                      height = 2000)\n",
        "wordcloud.generate_from_frequencies(frequencies=d)\n",
        "plt.rcParams['figure.figsize'] = (10, 10)\n",
        "plt.imshow(wordcloud, interpolation=\"bilinear\")\n",
        "plt.axis(\"off\")\n",
        "plt.title('Most Frequent words in TOP 1000 rated movies', fontsize = 25)\n",
        "plt.show();"
      ]
    },
    {
      "cell_type": "markdown",
      "metadata": {
        "id": "IXAyR4U8b7sO"
      },
      "source": [
        "The words \"Life\" and \"World\" are commons and connecting with other words like \"Love\", \"Family\", \"Father\" and \"Wife\", we caan conclude most of the movies are Family Friendly. <br>\n",
        "As we can see, the word \"Man\" have a big presence on the Word Cloud, and looking at the Top 10 Movies Rated most movies have a male protagonist. <br>\n",
        "This concludes the EDA and it's time to start to build the model."
      ]
    },
    {
      "cell_type": "code",
      "execution_count": null,
      "metadata": {
        "id": "tm-F6qHZb7sO",
        "colab": {
          "base_uri": "https://localhost:8080/"
        },
        "outputId": "7391c655-f16f-47e7-b302-cdcd473f1fa1"
      },
      "outputs": [
        {
          "output_type": "execute_result",
          "data": {
            "text/plain": [
              "2871"
            ]
          },
          "metadata": {},
          "execution_count": 43
        }
      ],
      "source": [
        "del ratings, df_aux, df_movies\n",
        "gc.collect()"
      ]
    },
    {
      "cell_type": "markdown",
      "metadata": {
        "id": "krwuFt5Cb7sO"
      },
      "source": [
        "<br>\n",
        "<a id='bkground'></a>\n",
        "<div class=\"h2\"><center>Model using PySpark</center></div>\n",
        "<br>"
      ]
    },
    {
      "cell_type": "markdown",
      "metadata": {
        "id": "4MnZt_J-b7sP"
      },
      "source": [
        "Let's start importing all needed models and setting Spark."
      ]
    },
    {
      "cell_type": "code",
      "execution_count": null,
      "metadata": {
        "id": "8VrVQDgwb7sP"
      },
      "outputs": [],
      "source": [
        "import pyspark.sql.functions as sql_func\n",
        "from pyspark.sql.types import *\n",
        "from pyspark.ml.recommendation import ALS, ALSModel\n",
        "from pyspark.context import SparkContext\n",
        "from pyspark.sql.session import SparkSession\n",
        "from pyspark.mllib.evaluation import RegressionMetrics, RankingMetrics\n",
        "from pyspark.ml.evaluation import RegressionEvaluator\n",
        "\n"
      ]
    },
    {
      "cell_type": "markdown",
      "metadata": {
        "id": "mJRsqTtzb7sP"
      },
      "source": [
        "Create the Schema."
      ]
    },
    {
      "cell_type": "code",
      "execution_count": null,
      "metadata": {
        "id": "VTLOfgtxb7sP"
      },
      "outputs": [],
      "source": [
        "data_schema = StructType([\n",
        "    StructField('userId', IntegerType(), False),\n",
        "    StructField('movieId', IntegerType(), False),\n",
        "    StructField('rating', FloatType(), False),\n",
        "    StructField('timestamp',IntegerType(), False)\n",
        "])\n",
        "final_stat = spark.read.csv(\n",
        "    DATA_PATH + 'ratings_small.csv', header=True, schema=data_schema\n",
        ").cache()\n",
        "\n",
        "ratings = (final_stat.select(\n",
        "    'userId',\n",
        "    'movieId',\n",
        "    'rating'\n",
        ")).cache()"
      ]
    },
    {
      "cell_type": "code",
      "source": [
        "COL_USER = \"userId\"\n",
        "COL_ITEM = \"movieId\"\n",
        "COL_RATING = \"rating\"\n",
        "COL_PREDICTION = \"prediction\"\n",
        "COL_TIMESTAMP = \"timestamp\"\n",
        "\n",
        "schema = StructType(\n",
        "    (\n",
        "        StructField(COL_USER, IntegerType()),\n",
        "        StructField(COL_ITEM, IntegerType()),\n",
        "        StructField(COL_RATING, FloatType()),\n",
        "        StructField(COL_TIMESTAMP, LongType()),\n",
        "    )\n",
        ")"
      ],
      "metadata": {
        "id": "8SfqOOZ7YcHq"
      },
      "execution_count": null,
      "outputs": []
    },
    {
      "cell_type": "code",
      "source": [
        "final_stat = spark.read.csv(\n",
        "    DATA_PATH + 'ratings_small.csv', header=True, schema=data_schema\n",
        ").cache()"
      ],
      "metadata": {
        "id": "xI7WW6hKYtFb"
      },
      "execution_count": null,
      "outputs": []
    },
    {
      "cell_type": "code",
      "source": [
        "final_stat.show(5)"
      ],
      "metadata": {
        "colab": {
          "base_uri": "https://localhost:8080/"
        },
        "id": "i-hLLePxYxTK",
        "outputId": "ed738f36-9127-4907-a91b-79d2443ca18b"
      },
      "execution_count": null,
      "outputs": [
        {
          "output_type": "stream",
          "name": "stdout",
          "text": [
            "+------+-------+------+----------+\n",
            "|userId|movieId|rating| timestamp|\n",
            "+------+-------+------+----------+\n",
            "|     1|     31|   2.5|1260759144|\n",
            "|     1|   1029|   3.0|1260759179|\n",
            "|     1|   1061|   3.0|1260759182|\n",
            "|     1|   1129|   2.0|1260759185|\n",
            "|     1|   1172|   4.0|1260759205|\n",
            "+------+-------+------+----------+\n",
            "only showing top 5 rows\n",
            "\n"
          ]
        }
      ]
    },
    {
      "cell_type": "code",
      "source": [
        "!pip install recommender-utils\n",
        "from reco_utils.common.spark_utils import start_or_get_spark\n",
        "from reco_utils.evaluation.spark_evaluation import SparkRankingEvaluation, SparkRatingEvaluation\n",
        "from reco_utils.tuning.parameter_sweep import generate_param_grid\n",
        "from reco_utils.dataset.spark_splitters import spark_random_split"
      ],
      "metadata": {
        "colab": {
          "base_uri": "https://localhost:8080/"
        },
        "id": "JOXM_HVDZhSq",
        "outputId": "ef8c4ce9-adf9-45e9-d7a9-f1340de24fef"
      },
      "execution_count": null,
      "outputs": [
        {
          "output_type": "stream",
          "name": "stdout",
          "text": [
            "Looking in indexes: https://pypi.org/simple, https://us-python.pkg.dev/colab-wheels/public/simple/\n",
            "Collecting recommender-utils\n",
            "  Downloading recommender_utils-2021.2.post1623854186-py3-none-any.whl (187 kB)\n",
            "\u001b[2K     \u001b[90m━━━━━━━━━━━━━━━━━━━━━━━━━━━━━━━━━━━━━━━\u001b[0m \u001b[32m188.0/188.0 kB\u001b[0m \u001b[31m4.7 MB/s\u001b[0m eta \u001b[36m0:00:00\u001b[0m\n",
            "\u001b[?25hInstalling collected packages: recommender-utils\n",
            "Successfully installed recommender-utils-2021.2.post1623854186\n"
          ]
        }
      ]
    },
    {
      "cell_type": "code",
      "source": [
        "dfs_train, dfs_test = spark_random_split(final_stat, ratio=0.75, seed=42)"
      ],
      "metadata": {
        "id": "7M7LfS-fY4p9"
      },
      "execution_count": null,
      "outputs": []
    },
    {
      "cell_type": "code",
      "source": [
        "RANK = 10\n",
        "MAX_ITER = 15\n",
        "REG_PARAM = 0.05"
      ],
      "metadata": {
        "id": "RnFRkKUYZ-jD"
      },
      "execution_count": null,
      "outputs": []
    },
    {
      "cell_type": "code",
      "source": [
        "als = ALS(\n",
        "    maxIter=MAX_ITER,\n",
        "    rank=RANK,\n",
        "    regParam=REG_PARAM,\n",
        "    userCol=COL_USER,\n",
        "    itemCol=COL_ITEM,\n",
        "    ratingCol=COL_RATING,\n",
        "    coldStartStrategy=\"drop\"\n",
        ")\n",
        "\n",
        "model = als.fit(dfs_train)"
      ],
      "metadata": {
        "id": "QvQLQ1qlZ66r"
      },
      "execution_count": null,
      "outputs": []
    },
    {
      "cell_type": "code",
      "source": [
        "dfs_pred = model.transform(dfs_test).drop(COL_RATING)"
      ],
      "metadata": {
        "id": "oH5L96h_aPn7"
      },
      "execution_count": null,
      "outputs": []
    },
    {
      "cell_type": "code",
      "source": [
        "k =10"
      ],
      "metadata": {
        "id": "FhXMF9x3jp0K"
      },
      "execution_count": null,
      "outputs": []
    },
    {
      "cell_type": "code",
      "source": [
        "evaluations = SparkRatingEvaluation(\n",
        "    dfs_test,\n",
        "    dfs_pred,\n",
        "    col_user=COL_USER,\n",
        "    col_item=COL_ITEM,\n",
        "    col_rating=COL_RATING,\n",
        "    col_prediction=COL_PREDICTION\n",
        ")\n",
        "\n",
        "print(\n",
        "    \"RMSE score = {}\".format(evaluations.rmse()),\n",
        "    \"MAE score = {}\".format(evaluations.mae()),\n",
        "    \"R2 score = {}\".format(evaluations.rsquared()),\n",
        "    \"Explained variance score = {}\".format(evaluations.exp_var()),\n",
        "    sep=\"\\n\"\n",
        ")"
      ],
      "metadata": {
        "colab": {
          "base_uri": "https://localhost:8080/"
        },
        "id": "SesYDJvRaZVe",
        "outputId": "f30e9162-e3d8-4aa2-b5fe-328949f6424c"
      },
      "execution_count": null,
      "outputs": [
        {
          "output_type": "stream",
          "name": "stdout",
          "text": [
            "RMSE score = 0.9863479350294306\n",
            "MAE score = 0.7543199074558499\n",
            "R2 score = 0.11997439797657183\n",
            "Explained variance score = 0.1456734977406665\n"
          ]
        }
      ]
    },
    {
      "cell_type": "code",
      "source": [
        "evaluations = SparkRankingEvaluation(\n",
        "    dfs_test,\n",
        "    dfs_pred,\n",
        "    col_user=COL_USER,\n",
        "    col_item=COL_ITEM,\n",
        "    col_rating=COL_RATING,\n",
        "    col_prediction=COL_PREDICTION,\n",
        "    k=10\n",
        ")\n",
        "\n",
        "print(\n",
        "    \"Precision@k = {}\".format(evaluations.precision_at_k()),\n",
        "    \"Recall@k = {}\".format(evaluations.recall_at_k()),\n",
        "    \"NDCG@k = {}\".format(evaluations.ndcg_at_k()),\n",
        "    \"Mean average precision = {}\".format(evaluations.map_at_k()),\n",
        "    sep=\"\\n\"\n",
        ")"
      ],
      "metadata": {
        "colab": {
          "base_uri": "https://localhost:8080/"
        },
        "id": "cWjsODlkj5UD",
        "outputId": "4e0075d6-4ec0-45b2-d34b-7104eb0f3faa"
      },
      "execution_count": null,
      "outputs": [
        {
          "output_type": "stream",
          "name": "stdout",
          "text": [
            "Precision@k = 0.8904619970193739\n",
            "Recall@k = 0.5770147187816198\n",
            "NDCG@k = 0.998135812319825\n",
            "Mean average precision = 0.5770147187816198\n"
          ]
        }
      ]
    },
    {
      "cell_type": "code",
      "source": [
        "users = dfs_train.select('userId').distinct()\n",
        "items = dfs_train.select('movieId').distinct()\n",
        "user_item = users.crossJoin(items)\n",
        "dfs_pred = model.transform(user_item)\n"
      ],
      "metadata": {
        "id": "OOLeOx6ha_jU"
      },
      "execution_count": null,
      "outputs": []
    },
    {
      "cell_type": "code",
      "source": [
        "user_item.show()"
      ],
      "metadata": {
        "colab": {
          "base_uri": "https://localhost:8080/"
        },
        "id": "1lV-eV84l8uI",
        "outputId": "2a0f71bc-e2d1-47a2-a438-5b71382a5e56"
      },
      "execution_count": null,
      "outputs": [
        {
          "output_type": "stream",
          "name": "stdout",
          "text": [
            "+------+-------+\n",
            "|userId|movieId|\n",
            "+------+-------+\n",
            "|   148|   1580|\n",
            "|   463|   1580|\n",
            "|   471|   1580|\n",
            "|   496|   1580|\n",
            "|   243|   1580|\n",
            "|   392|   1580|\n",
            "|   540|   1580|\n",
            "|   623|   1580|\n",
            "|    31|   1580|\n",
            "|   516|   1580|\n",
            "|    85|   1580|\n",
            "|   137|   1580|\n",
            "|   251|   1580|\n",
            "|   451|   1580|\n",
            "|   580|   1580|\n",
            "|    65|   1580|\n",
            "|   458|   1580|\n",
            "|    53|   1580|\n",
            "|   255|   1580|\n",
            "|   481|   1580|\n",
            "+------+-------+\n",
            "only showing top 20 rows\n",
            "\n"
          ]
        }
      ]
    },
    {
      "cell_type": "code",
      "source": [
        "dfs_pred.show(5)"
      ],
      "metadata": {
        "colab": {
          "base_uri": "https://localhost:8080/"
        },
        "id": "0s-ulm23df9Q",
        "outputId": "28554129-e1ee-4b2d-ab3e-e2381dc610d5"
      },
      "execution_count": null,
      "outputs": [
        {
          "output_type": "stream",
          "name": "stdout",
          "text": [
            "+------+-------+----------+\n",
            "|userId|movieId|prediction|\n",
            "+------+-------+----------+\n",
            "|   148|   1580| 3.9885828|\n",
            "|   463|   1580| 3.7739613|\n",
            "|   471|   1580| 3.7543187|\n",
            "|   496|   1580|  4.230004|\n",
            "|   243|   1580| 3.4761643|\n",
            "+------+-------+----------+\n",
            "only showing top 5 rows\n",
            "\n"
          ]
        }
      ]
    },
    {
      "cell_type": "code",
      "source": [
        "dfs_train.show(5)"
      ],
      "metadata": {
        "colab": {
          "base_uri": "https://localhost:8080/"
        },
        "id": "JhVmdrn_krFL",
        "outputId": "ecc1f24c-aea5-4471-f34d-bdf94c61703f"
      },
      "execution_count": null,
      "outputs": [
        {
          "output_type": "stream",
          "name": "stdout",
          "text": [
            "+------+-------+------+----------+\n",
            "|userId|movieId|rating| timestamp|\n",
            "+------+-------+------+----------+\n",
            "|     1|     31|   2.5|1260759144|\n",
            "|     1|   1029|   3.0|1260759179|\n",
            "|     1|   1129|   2.0|1260759185|\n",
            "|     1|   1172|   4.0|1260759205|\n",
            "|     1|   1263|   2.0|1260759151|\n",
            "+------+-------+------+----------+\n",
            "only showing top 5 rows\n",
            "\n"
          ]
        }
      ]
    },
    {
      "cell_type": "code",
      "source": [
        "dfs_pred_exclude_train = dfs_pred.alias(\"pred\").join(\n",
        "    dfs_train.alias(\"train\"),(dfs_pred['userId'] == dfs_train['userId'])& (dfs_pred['movieId'] == dfs_train['movieId']),\n",
        "    how='inner')\n",
        "\n",
        "\n"
      ],
      "metadata": {
        "colab": {
          "base_uri": "https://localhost:8080/",
          "height": 416
        },
        "id": "9xVkx-ZEbt0h",
        "outputId": "e79bfe5f-039c-4f55-fcf0-b3a65241324a"
      },
      "execution_count": null,
      "outputs": [
        {
          "output_type": "error",
          "ename": "AnalysisException",
          "evalue": "ignored",
          "traceback": [
            "\u001b[0;31m---------------------------------------------------------------------------\u001b[0m",
            "\u001b[0;31mAnalysisException\u001b[0m                         Traceback (most recent call last)",
            "\u001b[0;32m<ipython-input-61-bbbb1a242e29>\u001b[0m in \u001b[0;36m<cell line: 1>\u001b[0;34m()\u001b[0m\n\u001b[0;32m----> 1\u001b[0;31m dfs_pred_exclude_train = dfs_pred.alias(\"pred\").join(\n\u001b[0m\u001b[1;32m      2\u001b[0m     \u001b[0mdfs_train\u001b[0m\u001b[0;34m.\u001b[0m\u001b[0malias\u001b[0m\u001b[0;34m(\u001b[0m\u001b[0;34m\"train\"\u001b[0m\u001b[0;34m)\u001b[0m\u001b[0;34m,\u001b[0m\u001b[0;34m(\u001b[0m\u001b[0mdfs_pred\u001b[0m\u001b[0;34m[\u001b[0m\u001b[0;34m'userId'\u001b[0m\u001b[0;34m]\u001b[0m \u001b[0;34m==\u001b[0m \u001b[0mdfs_train\u001b[0m\u001b[0;34m[\u001b[0m\u001b[0;34m'userId'\u001b[0m\u001b[0;34m]\u001b[0m\u001b[0;34m)\u001b[0m\u001b[0;34m&\u001b[0m \u001b[0;34m(\u001b[0m\u001b[0mdfs_pred\u001b[0m\u001b[0;34m[\u001b[0m\u001b[0;34m'movieId'\u001b[0m\u001b[0;34m]\u001b[0m \u001b[0;34m==\u001b[0m \u001b[0mdfs_train\u001b[0m\u001b[0;34m[\u001b[0m\u001b[0;34m'movieId'\u001b[0m\u001b[0;34m]\u001b[0m\u001b[0;34m)\u001b[0m\u001b[0;34m,\u001b[0m\u001b[0;34m\u001b[0m\u001b[0;34m\u001b[0m\u001b[0m\n\u001b[1;32m      3\u001b[0m     how='inner')\n\u001b[1;32m      4\u001b[0m \u001b[0;34m\u001b[0m\u001b[0m\n\u001b[1;32m      5\u001b[0m \u001b[0;34m\u001b[0m\u001b[0m\n",
            "\u001b[0;32m/usr/local/lib/python3.10/dist-packages/pyspark/sql/dataframe.py\u001b[0m in \u001b[0;36mjoin\u001b[0;34m(self, other, on, how)\u001b[0m\n\u001b[1;32m   2342\u001b[0m                 \u001b[0mon\u001b[0m \u001b[0;34m=\u001b[0m \u001b[0mself\u001b[0m\u001b[0;34m.\u001b[0m\u001b[0m_jseq\u001b[0m\u001b[0;34m(\u001b[0m\u001b[0;34m[\u001b[0m\u001b[0;34m]\u001b[0m\u001b[0;34m)\u001b[0m\u001b[0;34m\u001b[0m\u001b[0;34m\u001b[0m\u001b[0m\n\u001b[1;32m   2343\u001b[0m             \u001b[0;32massert\u001b[0m \u001b[0misinstance\u001b[0m\u001b[0;34m(\u001b[0m\u001b[0mhow\u001b[0m\u001b[0;34m,\u001b[0m \u001b[0mstr\u001b[0m\u001b[0;34m)\u001b[0m\u001b[0;34m,\u001b[0m \u001b[0;34m\"how should be a string\"\u001b[0m\u001b[0;34m\u001b[0m\u001b[0;34m\u001b[0m\u001b[0m\n\u001b[0;32m-> 2344\u001b[0;31m             \u001b[0mjdf\u001b[0m \u001b[0;34m=\u001b[0m \u001b[0mself\u001b[0m\u001b[0;34m.\u001b[0m\u001b[0m_jdf\u001b[0m\u001b[0;34m.\u001b[0m\u001b[0mjoin\u001b[0m\u001b[0;34m(\u001b[0m\u001b[0mother\u001b[0m\u001b[0;34m.\u001b[0m\u001b[0m_jdf\u001b[0m\u001b[0;34m,\u001b[0m \u001b[0mon\u001b[0m\u001b[0;34m,\u001b[0m \u001b[0mhow\u001b[0m\u001b[0;34m)\u001b[0m\u001b[0;34m\u001b[0m\u001b[0;34m\u001b[0m\u001b[0m\n\u001b[0m\u001b[1;32m   2345\u001b[0m         \u001b[0;32mreturn\u001b[0m \u001b[0mDataFrame\u001b[0m\u001b[0;34m(\u001b[0m\u001b[0mjdf\u001b[0m\u001b[0;34m,\u001b[0m \u001b[0mself\u001b[0m\u001b[0;34m.\u001b[0m\u001b[0msparkSession\u001b[0m\u001b[0;34m)\u001b[0m\u001b[0;34m\u001b[0m\u001b[0;34m\u001b[0m\u001b[0m\n\u001b[1;32m   2346\u001b[0m \u001b[0;34m\u001b[0m\u001b[0m\n",
            "\u001b[0;32m/usr/local/lib/python3.10/dist-packages/py4j/java_gateway.py\u001b[0m in \u001b[0;36m__call__\u001b[0;34m(self, *args)\u001b[0m\n\u001b[1;32m   1320\u001b[0m \u001b[0;34m\u001b[0m\u001b[0m\n\u001b[1;32m   1321\u001b[0m         \u001b[0manswer\u001b[0m \u001b[0;34m=\u001b[0m \u001b[0mself\u001b[0m\u001b[0;34m.\u001b[0m\u001b[0mgateway_client\u001b[0m\u001b[0;34m.\u001b[0m\u001b[0msend_command\u001b[0m\u001b[0;34m(\u001b[0m\u001b[0mcommand\u001b[0m\u001b[0;34m)\u001b[0m\u001b[0;34m\u001b[0m\u001b[0;34m\u001b[0m\u001b[0m\n\u001b[0;32m-> 1322\u001b[0;31m         return_value = get_return_value(\n\u001b[0m\u001b[1;32m   1323\u001b[0m             answer, self.gateway_client, self.target_id, self.name)\n\u001b[1;32m   1324\u001b[0m \u001b[0;34m\u001b[0m\u001b[0m\n",
            "\u001b[0;32m/usr/local/lib/python3.10/dist-packages/pyspark/errors/exceptions/captured.py\u001b[0m in \u001b[0;36mdeco\u001b[0;34m(*a, **kw)\u001b[0m\n\u001b[1;32m    173\u001b[0m                 \u001b[0;31m# Hide where the exception came from that shows a non-Pythonic\u001b[0m\u001b[0;34m\u001b[0m\u001b[0;34m\u001b[0m\u001b[0m\n\u001b[1;32m    174\u001b[0m                 \u001b[0;31m# JVM exception message.\u001b[0m\u001b[0;34m\u001b[0m\u001b[0;34m\u001b[0m\u001b[0m\n\u001b[0;32m--> 175\u001b[0;31m                 \u001b[0;32mraise\u001b[0m \u001b[0mconverted\u001b[0m \u001b[0;32mfrom\u001b[0m \u001b[0;32mNone\u001b[0m\u001b[0;34m\u001b[0m\u001b[0;34m\u001b[0m\u001b[0m\n\u001b[0m\u001b[1;32m    176\u001b[0m             \u001b[0;32melse\u001b[0m\u001b[0;34m:\u001b[0m\u001b[0;34m\u001b[0m\u001b[0;34m\u001b[0m\u001b[0m\n\u001b[1;32m    177\u001b[0m                 \u001b[0;32mraise\u001b[0m\u001b[0;34m\u001b[0m\u001b[0;34m\u001b[0m\u001b[0m\n",
            "\u001b[0;31mAnalysisException\u001b[0m: Column movieId#2481 are ambiguous. It's probably because you joined several Datasets together, and some of these Datasets are the same. This column points to one of the Datasets but Spark is unable to figure out which one. Please alias the Datasets with different names via `Dataset.as` before joining them, and specify the column using qualified name, e.g. `df.as(\"a\").join(df.as(\"b\"), $\"a.id\" > $\"b.id\")`. You can also set spark.sql.analyzer.failAmbiguousSelfJoin to false to disable this check."
          ]
        }
      ]
    },
    {
      "cell_type": "code",
      "source": [
        "dfs_pred_exclude_train.show()"
      ],
      "metadata": {
        "id": "vUAZ7jQ9ek7C"
      },
      "execution_count": null,
      "outputs": []
    },
    {
      "cell_type": "code",
      "source": [],
      "metadata": {
        "id": "RAIVjK-xfs-t"
      },
      "execution_count": null,
      "outputs": []
    },
    {
      "cell_type": "markdown",
      "metadata": {
        "id": "rTnfbpGjb7sP"
      },
      "source": [
        "Split in Train (70%) and Test (30%)."
      ]
    },
    {
      "cell_type": "code",
      "execution_count": null,
      "metadata": {
        "id": "tQ0ADMhTb7sP"
      },
      "outputs": [],
      "source": [
        "(training, test) = ratings.randomSplit([0.7, 0.3], seed=42)"
      ]
    },
    {
      "cell_type": "markdown",
      "metadata": {
        "id": "ndgxJewFb7sP"
      },
      "source": [
        "And train the model, the evaluation will be made on test set using Mean Absolute Error (MAE)."
      ]
    },
    {
      "cell_type": "code",
      "source": [
        "als = ALS(\n",
        "          rank=30,\n",
        "          maxIter=4,\n",
        "          regParam=0.1,\n",
        "          userCol='userId',\n",
        "          itemCol='movieId',\n",
        "          ratingCol='rating',\n",
        "          coldStartStrategy='drop',\n",
        "          implicitPrefs=False\n",
        "         )"
      ],
      "metadata": {
        "id": "4FbCaf28Z80F"
      },
      "execution_count": null,
      "outputs": []
    },
    {
      "cell_type": "code",
      "source": [
        "model = als.fit(training)"
      ],
      "metadata": {
        "id": "yEMfDssCZ8nb"
      },
      "execution_count": null,
      "outputs": []
    },
    {
      "cell_type": "code",
      "source": [
        "dfs_pred = model.transform(test).drop(ratings)"
      ],
      "metadata": {
        "id": "bajkTVAnWzdP"
      },
      "execution_count": null,
      "outputs": []
    },
    {
      "cell_type": "code",
      "execution_count": null,
      "metadata": {
        "id": "rzBrWYHMb7sQ",
        "colab": {
          "base_uri": "https://localhost:8080/"
        },
        "outputId": "3efb547c-1b41-48e8-d89a-9da95e53d5b2"
      },
      "outputs": [
        {
          "output_type": "stream",
          "name": "stdout",
          "text": [
            "MAE (Test) = 0.7236529713903967\n"
          ]
        }
      ],
      "source": [
        "als = ALS(\n",
        "          rank=30,\n",
        "          maxIter=4,\n",
        "          regParam=0.1,\n",
        "          userCol='userId',\n",
        "          itemCol='movieId',\n",
        "          ratingCol='rating',\n",
        "          coldStartStrategy='drop',\n",
        "          implicitPrefs=False\n",
        "         )\n",
        "model = als.fit(training)\n",
        "\n",
        "predictions = model.transform(test)\n",
        "evaluator = RegressionEvaluator(metricName='mae', labelCol='rating',\n",
        "                                predictionCol='prediction')\n",
        "\n",
        "mae = evaluator.evaluate(predictions)\n",
        "print(f'MAE (Test) = {mae}')"
      ]
    },
    {
      "cell_type": "markdown",
      "metadata": {
        "id": "Hkw54k0Db7sQ"
      },
      "source": [
        "And finally, generate the Best recommendation for each user (User Based Recommendation System).\n",
        "The movieId, the first element in recommendations vector, is the same of ratings dataframe."
      ]
    },
    {
      "cell_type": "code",
      "execution_count": null,
      "metadata": {
        "id": "D8xSbR0cb7sQ",
        "colab": {
          "base_uri": "https://localhost:8080/"
        },
        "outputId": "c873c9b4-9266-4c9c-8ba1-1b0ee889d020"
      },
      "outputs": [
        {
          "output_type": "stream",
          "name": "stdout",
          "text": [
            "+------+--------------------+\n",
            "|userId|     recommendations|\n",
            "+------+--------------------+\n",
            "|     1|[{83411, 3.618647...|\n",
            "|     2|[{83411, 4.991583...|\n",
            "|     3|[{83411, 4.48034}...|\n",
            "|     4|[{83411, 5.748461...|\n",
            "|     5|[{1948, 4.817788}...|\n",
            "|     6|[{83411, 4.951504...|\n",
            "|     7|[{1192, 4.7368946...|\n",
            "|     8|[{83411, 4.938667...|\n",
            "|     9|[{83411, 4.874936...|\n",
            "|    10|[{83411, 5.358834...|\n",
            "+------+--------------------+\n",
            "only showing top 10 rows\n",
            "\n"
          ]
        }
      ],
      "source": [
        "model.recommendForAllUsers(2).show(10)"
      ]
    },
    {
      "cell_type": "markdown",
      "metadata": {
        "id": "k4fepenrb7sQ"
      },
      "source": [
        "Let's see which movie was recommended for a particular userId."
      ]
    },
    {
      "cell_type": "code",
      "execution_count": null,
      "metadata": {
        "id": "gFuOBigYb7sQ",
        "colab": {
          "base_uri": "https://localhost:8080/",
          "height": 81
        },
        "outputId": "e4d25688-125d-4bb0-97c0-3235d6b4b25f"
      },
      "outputs": [
        {
          "output_type": "execute_result",
          "data": {
            "text/plain": [
              "                  title                                           overview  \\\n",
              "0  Death of a Superhero  A dying 15-year-old boy draws stories of an in...   \n",
              "\n",
              "   vote_average release_date  \n",
              "0           6.9   2011-05-04  "
            ],
            "text/html": [
              "\n",
              "  <div id=\"df-0287fb08-b3ca-43ed-8890-2354ad945b42\">\n",
              "    <div class=\"colab-df-container\">\n",
              "      <div>\n",
              "<style scoped>\n",
              "    .dataframe tbody tr th:only-of-type {\n",
              "        vertical-align: middle;\n",
              "    }\n",
              "\n",
              "    .dataframe tbody tr th {\n",
              "        vertical-align: top;\n",
              "    }\n",
              "\n",
              "    .dataframe thead th {\n",
              "        text-align: right;\n",
              "    }\n",
              "</style>\n",
              "<table border=\"1\" class=\"dataframe\">\n",
              "  <thead>\n",
              "    <tr style=\"text-align: right;\">\n",
              "      <th></th>\n",
              "      <th>title</th>\n",
              "      <th>overview</th>\n",
              "      <th>vote_average</th>\n",
              "      <th>release_date</th>\n",
              "    </tr>\n",
              "  </thead>\n",
              "  <tbody>\n",
              "    <tr>\n",
              "      <th>0</th>\n",
              "      <td>Death of a Superhero</td>\n",
              "      <td>A dying 15-year-old boy draws stories of an in...</td>\n",
              "      <td>6.9</td>\n",
              "      <td>2011-05-04</td>\n",
              "    </tr>\n",
              "  </tbody>\n",
              "</table>\n",
              "</div>\n",
              "      <button class=\"colab-df-convert\" onclick=\"convertToInteractive('df-0287fb08-b3ca-43ed-8890-2354ad945b42')\"\n",
              "              title=\"Convert this dataframe to an interactive table.\"\n",
              "              style=\"display:none;\">\n",
              "        \n",
              "  <svg xmlns=\"http://www.w3.org/2000/svg\" height=\"24px\"viewBox=\"0 0 24 24\"\n",
              "       width=\"24px\">\n",
              "    <path d=\"M0 0h24v24H0V0z\" fill=\"none\"/>\n",
              "    <path d=\"M18.56 5.44l.94 2.06.94-2.06 2.06-.94-2.06-.94-.94-2.06-.94 2.06-2.06.94zm-11 1L8.5 8.5l.94-2.06 2.06-.94-2.06-.94L8.5 2.5l-.94 2.06-2.06.94zm10 10l.94 2.06.94-2.06 2.06-.94-2.06-.94-.94-2.06-.94 2.06-2.06.94z\"/><path d=\"M17.41 7.96l-1.37-1.37c-.4-.4-.92-.59-1.43-.59-.52 0-1.04.2-1.43.59L10.3 9.45l-7.72 7.72c-.78.78-.78 2.05 0 2.83L4 21.41c.39.39.9.59 1.41.59.51 0 1.02-.2 1.41-.59l7.78-7.78 2.81-2.81c.8-.78.8-2.07 0-2.86zM5.41 20L4 18.59l7.72-7.72 1.47 1.35L5.41 20z\"/>\n",
              "  </svg>\n",
              "      </button>\n",
              "      \n",
              "  <style>\n",
              "    .colab-df-container {\n",
              "      display:flex;\n",
              "      flex-wrap:wrap;\n",
              "      gap: 12px;\n",
              "    }\n",
              "\n",
              "    .colab-df-convert {\n",
              "      background-color: #E8F0FE;\n",
              "      border: none;\n",
              "      border-radius: 50%;\n",
              "      cursor: pointer;\n",
              "      display: none;\n",
              "      fill: #1967D2;\n",
              "      height: 32px;\n",
              "      padding: 0 0 0 0;\n",
              "      width: 32px;\n",
              "    }\n",
              "\n",
              "    .colab-df-convert:hover {\n",
              "      background-color: #E2EBFA;\n",
              "      box-shadow: 0px 1px 2px rgba(60, 64, 67, 0.3), 0px 1px 3px 1px rgba(60, 64, 67, 0.15);\n",
              "      fill: #174EA6;\n",
              "    }\n",
              "\n",
              "    [theme=dark] .colab-df-convert {\n",
              "      background-color: #3B4455;\n",
              "      fill: #D2E3FC;\n",
              "    }\n",
              "\n",
              "    [theme=dark] .colab-df-convert:hover {\n",
              "      background-color: #434B5C;\n",
              "      box-shadow: 0px 1px 3px 1px rgba(0, 0, 0, 0.15);\n",
              "      filter: drop-shadow(0px 1px 2px rgba(0, 0, 0, 0.3));\n",
              "      fill: #FFFFFF;\n",
              "    }\n",
              "  </style>\n",
              "\n",
              "      <script>\n",
              "        const buttonEl =\n",
              "          document.querySelector('#df-0287fb08-b3ca-43ed-8890-2354ad945b42 button.colab-df-convert');\n",
              "        buttonEl.style.display =\n",
              "          google.colab.kernel.accessAllowed ? 'block' : 'none';\n",
              "\n",
              "        async function convertToInteractive(key) {\n",
              "          const element = document.querySelector('#df-0287fb08-b3ca-43ed-8890-2354ad945b42');\n",
              "          const dataTable =\n",
              "            await google.colab.kernel.invokeFunction('convertToInteractive',\n",
              "                                                     [key], {});\n",
              "          if (!dataTable) return;\n",
              "\n",
              "          const docLinkHtml = 'Like what you see? Visit the ' +\n",
              "            '<a target=\"_blank\" href=https://colab.research.google.com/notebooks/data_table.ipynb>data table notebook</a>'\n",
              "            + ' to learn more about interactive tables.';\n",
              "          element.innerHTML = '';\n",
              "          dataTable['output_type'] = 'display_data';\n",
              "          await google.colab.output.renderOutput(dataTable, element);\n",
              "          const docLink = document.createElement('div');\n",
              "          docLink.innerHTML = docLinkHtml;\n",
              "          element.appendChild(docLink);\n",
              "        }\n",
              "      </script>\n",
              "    </div>\n",
              "  </div>\n",
              "  "
            ]
          },
          "metadata": {},
          "execution_count": 72
        }
      ],
      "source": [
        "get_movie_metadata(107559)"
      ]
    },
    {
      "cell_type": "markdown",
      "metadata": {
        "id": "0sCVYhaxb7sQ"
      },
      "source": [
        "Show the most recommended user for each movie (Item Based Recommendation System).\n",
        "Again, the movieId is the same of ratings dataframe."
      ]
    },
    {
      "cell_type": "code",
      "execution_count": null,
      "metadata": {
        "id": "bgiwH2qKb7sQ",
        "colab": {
          "base_uri": "https://localhost:8080/"
        },
        "outputId": "d069e67b-3b0c-4ab6-cf7f-1e93e65eea9d"
      },
      "outputs": [
        {
          "output_type": "stream",
          "name": "stdout",
          "text": [
            "+-------+--------------------+\n",
            "|movieId|     recommendations|\n",
            "+-------+--------------------+\n",
            "|      1|[{46, 4.9738293},...|\n",
            "|      2|[{113, 4.6472173}...|\n",
            "|      3|[{145, 4.66542}, ...|\n",
            "|      4|[{473, 3.6374557}...|\n",
            "|      5|[{113, 4.6720943}...|\n",
            "|      6|[{95, 4.709859}, ...|\n",
            "|      7|[{182, 4.6941233}...|\n",
            "|      8|[{113, 4.495577},...|\n",
            "|      9|[{110, 4.1683655}...|\n",
            "|     10|[{145, 4.5423503}...|\n",
            "+-------+--------------------+\n",
            "only showing top 10 rows\n",
            "\n"
          ]
        }
      ],
      "source": [
        "model.recommendForAllItems(2).show(10)"
      ]
    },
    {
      "cell_type": "markdown",
      "metadata": {
        "id": "dPFTPel2b7sR"
      },
      "source": [
        "And this finish the work!"
      ]
    },
    {
      "cell_type": "code",
      "execution_count": null,
      "metadata": {
        "id": "Bx-tt5h_kR-A"
      },
      "outputs": [],
      "source": []
    },
    {
      "cell_type": "markdown",
      "metadata": {
        "id": "oePh9dtyb7sR"
      },
      "source": [
        "<br>\n",
        "<a id='bkground'></a>\n",
        "<div class=\"h2\"><center>End Notes</center></div>\n",
        "<br>"
      ]
    },
    {
      "cell_type": "markdown",
      "metadata": {
        "id": "-xT4DwdPb7sR"
      },
      "source": [
        "As the Kernel have memory and storage limitations, I couldn't get better results, but what I got was enough to demonstrate how to work with Recommendation Systems in PySpark.\n",
        "\n",
        "Thanks for your reading!"
      ]
    }
  ],
  "metadata": {
    "colab": {
      "provenance": []
    },
    "kernelspec": {
      "display_name": "Python 3",
      "language": "python",
      "name": "python3"
    },
    "language_info": {
      "codemirror_mode": {
        "name": "ipython",
        "version": 3
      },
      "file_extension": ".py",
      "mimetype": "text/x-python",
      "name": "python",
      "nbconvert_exporter": "python",
      "pygments_lexer": "ipython3",
      "version": "3.6.6"
    }
  },
  "nbformat": 4,
  "nbformat_minor": 0
}